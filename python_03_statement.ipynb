{
  "nbformat": 4,
  "nbformat_minor": 0,
  "metadata": {
    "colab": {
      "provenance": [],
      "authorship_tag": "ABX9TyPmDKs+XXGoG0GbS/KDMUNS",
      "include_colab_link": true
    },
    "kernelspec": {
      "name": "python3",
      "display_name": "Python 3"
    },
    "language_info": {
      "name": "python"
    }
  },
  "cells": [
    {
      "cell_type": "markdown",
      "metadata": {
        "id": "view-in-github",
        "colab_type": "text"
      },
      "source": [
        "<a href=\"https://colab.research.google.com/github/eoooomji/python_demo_colab/blob/master/python_03_statement.ipynb\" target=\"_parent\"><img src=\"https://colab.research.google.com/assets/colab-badge.svg\" alt=\"Open In Colab\"/></a>"
      ]
    },
    {
      "cell_type": "markdown",
      "source": [
        "## Python 제어문\n",
        "\n",
        "1. 조건문 (if 문)\n",
        "\n",
        "2. 반복문 (for 문)\n",
        "  - for ~ in 을 사용한다."
      ],
      "metadata": {
        "id": "bwoYx-W732YL"
      }
    },
    {
      "cell_type": "markdown",
      "source": [
        "### if 문\n",
        "\n",
        "else는 세가지 경우에서 사용된다. (조건문, 반복문, 예외처리)"
      ],
      "metadata": {
        "id": "79D3jt2O4JGZ"
      }
    },
    {
      "cell_type": "code",
      "execution_count": null,
      "metadata": {
        "colab": {
          "base_uri": "https://localhost:8080/"
        },
        "id": "1m83gme-rxGM",
        "outputId": "8d42daaf-0aa0-45ea-876c-bf67c3f8ca43"
      },
      "outputs": [
        {
          "output_type": "stream",
          "name": "stdout",
          "text": [
            "No\n"
          ]
        }
      ],
      "source": [
        "a=1\n",
        "if a>3 :\n",
        "  print('Yes')\n",
        "else : \n",
        "  print('No')"
      ]
    },
    {
      "cell_type": "code",
      "source": [
        "if a>0:\n",
        "  print('Yes')\n",
        "  print('OK')\n",
        "else :\n",
        "  print('No')"
      ],
      "metadata": {
        "colab": {
          "base_uri": "https://localhost:8080/"
        },
        "id": "nbml0JlfsjNG",
        "outputId": "fed02bc3-4572-46c4-cafb-5cdf7f215010"
      },
      "execution_count": null,
      "outputs": [
        {
          "output_type": "stream",
          "name": "stdout",
          "text": [
            "Yes\n",
            "OK\n"
          ]
        }
      ]
    },
    {
      "cell_type": "code",
      "source": [
        "# jumsu가 80이상 '상', 80미만 ~ 60이상 '중', 60미만 '하'\n",
        "jumsu=55\n",
        "if jumsu >= 80 :\n",
        "  print('상')\n",
        "elif jumsu >= 60 :\n",
        "  print('중')\n",
        "else :\n",
        "  print('하')\n"
      ],
      "metadata": {
        "colab": {
          "base_uri": "https://localhost:8080/"
        },
        "id": "QhSwmltusqc_",
        "outputId": "48920948-b735-4c5e-add3-a9cb3156e449"
      },
      "execution_count": null,
      "outputs": [
        {
          "output_type": "stream",
          "name": "stdout",
          "text": [
            "하\n"
          ]
        }
      ]
    },
    {
      "cell_type": "markdown",
      "source": [
        "### existance\n",
        "\n",
        "- python에서 조건은 존재론(existance)적이다. > truthy, falsy"
      ],
      "metadata": {
        "id": "5_MhzZBitluN"
      }
    },
    {
      "cell_type": "code",
      "source": [
        "# 0은 숫자가 없는 것과 같음 > falsy\n",
        "a = 0.0\n",
        "if a :\n",
        "  print('Yes')\n",
        "else :\n",
        "  print('No')"
      ],
      "metadata": {
        "colab": {
          "base_uri": "https://localhost:8080/"
        },
        "id": "yOjCmeqKttQG",
        "outputId": "9a8c944b-584b-4692-bbe7-13ceff23ec66"
      },
      "execution_count": null,
      "outputs": [
        {
          "output_type": "stream",
          "name": "stdout",
          "text": [
            "No\n"
          ]
        }
      ]
    },
    {
      "cell_type": "code",
      "source": [
        "# None은 객체가 없는 것과 같음 > falsy\n",
        "a = None\n",
        "if a :\n",
        "  print('yes')\n",
        "else :\n",
        "  print('no')"
      ],
      "metadata": {
        "colab": {
          "base_uri": "https://localhost:8080/"
        },
        "id": "dIv9Q1o-uGJm",
        "outputId": "23f99c82-8a68-47bf-f3b0-f1c934520a03"
      },
      "execution_count": null,
      "outputs": [
        {
          "output_type": "stream",
          "name": "stdout",
          "text": [
            "no\n"
          ]
        }
      ]
    },
    {
      "cell_type": "code",
      "source": [
        "# 비어있는 dict는 없는 것과 같음 > falsy\n",
        "a = {}\n",
        "if a :\n",
        "  print('yes')\n",
        "else :\n",
        "  print('no')"
      ],
      "metadata": {
        "colab": {
          "base_uri": "https://localhost:8080/"
        },
        "id": "C9qLaUazvJ1e",
        "outputId": "b705a006-fd6a-49f2-af5d-2e16bd1bb64c"
      },
      "execution_count": null,
      "outputs": [
        {
          "output_type": "stream",
          "name": "stdout",
          "text": [
            "no\n"
          ]
        }
      ]
    },
    {
      "cell_type": "code",
      "source": [
        "# 인스턴스 방식으로 값을 만들 때 괄호 안이 비어있으면 비어있는 값을 만든다.\n",
        "# if에서 모두 false이다.\n",
        "a = int()\n",
        "b = float()\n",
        "c = complex()\n",
        "d = list()\n",
        "\n",
        "if a :\n",
        "  print('yes')\n",
        "else :\n",
        "  print('no')\n",
        "\n",
        "if b :\n",
        "  print('yes')\n",
        "else :\n",
        "  print('no')\n",
        "\n",
        "if c :\n",
        "  print('yes')\n",
        "else :\n",
        "  print('no')\n",
        "\n",
        "if d :\n",
        "  print('yes')\n",
        "else :\n",
        "  print('no')"
      ],
      "metadata": {
        "colab": {
          "base_uri": "https://localhost:8080/"
        },
        "id": "WtQq2Kckvi75",
        "outputId": "a1fa8dc2-2264-47fe-a37c-564a911f6f74"
      },
      "execution_count": null,
      "outputs": [
        {
          "output_type": "stream",
          "name": "stdout",
          "text": [
            "no\n",
            "no\n",
            "no\n",
            "no\n"
          ]
        }
      ]
    },
    {
      "cell_type": "code",
      "source": [
        "# and는 앞이 True이면 뒤에 값을 반환한다.\n",
        "# 3은 존재론적으로 True\n",
        "print(3 and 4)\n",
        "\n",
        "# and는 앞이 False이면 앞에 값을 반환한다.\n",
        "# 비어있는 문자열은 없는 것과 같다 > falsy\n",
        "print(\"\" and 4)\n",
        "print(\" \" and 4)"
      ],
      "metadata": {
        "colab": {
          "base_uri": "https://localhost:8080/"
        },
        "id": "YxMPfoZexqtO",
        "outputId": "9501a704-56b0-4e87-cdb3-886037799b71"
      },
      "execution_count": null,
      "outputs": [
        {
          "output_type": "stream",
          "name": "stdout",
          "text": [
            "4\n",
            "\n",
            "4\n"
          ]
        }
      ]
    },
    {
      "cell_type": "code",
      "source": [
        "# or은 and의 반대\n",
        "# or은 앞이 True이면 앞에 값을, False이면 뒤의 값을 반환한다.\n",
        "print(3 or 4)\n",
        "print(2<4 or 3<1)\n",
        "print(3<2 or 4<5)\n",
        "print(\"\" or 4)\n",
        "print(\" \" or 2)"
      ],
      "metadata": {
        "colab": {
          "base_uri": "https://localhost:8080/"
        },
        "id": "oX-qLqTXyaoi",
        "outputId": "07d06a56-c72d-460e-a28d-353c5585afbb"
      },
      "execution_count": null,
      "outputs": [
        {
          "output_type": "stream",
          "name": "stdout",
          "text": [
            "3\n",
            "True\n",
            "True\n",
            "4\n",
            " \n"
          ]
        }
      ]
    },
    {
      "cell_type": "code",
      "source": [
        "# if 조건에 문장을 사용할 수 없다.\n",
        "if a = 4:\n",
        "  print('yes')"
      ],
      "metadata": {
        "colab": {
          "base_uri": "https://localhost:8080/",
          "height": 137
        },
        "id": "OgyUN4Z63Th1",
        "outputId": "94285e96-4e8a-43ae-ef81-a45281c54108"
      },
      "execution_count": null,
      "outputs": [
        {
          "output_type": "error",
          "ename": "SyntaxError",
          "evalue": "ignored",
          "traceback": [
            "\u001b[0;36m  File \u001b[0;32m\"<ipython-input-28-c5fafb151041>\"\u001b[0;36m, line \u001b[0;32m2\u001b[0m\n\u001b[0;31m    if a = 4:\u001b[0m\n\u001b[0m         ^\u001b[0m\n\u001b[0;31mSyntaxError\u001b[0m\u001b[0;31m:\u001b[0m invalid syntax\n"
          ]
        }
      ]
    },
    {
      "cell_type": "markdown",
      "source": [
        "### for 문"
      ],
      "metadata": {
        "id": "NFAG6kPR4Gf6"
      }
    },
    {
      "cell_type": "code",
      "source": [
        "# 범위를 지정하는 방법에는 두가지가 있다.\n",
        "\n",
        "# 첫 번째 방법은 순서형 또는 딕셔너리를 사용하는 것이다.\n",
        "\n",
        "for v in[1,2,3,4,5] :\n",
        "  print(v)\n",
        "\n",
        "t=[('one',1), ('two',2)]\n",
        "for k, v in t:\n",
        "  print('{0} : {1}'.format(k, v))\n",
        "\n",
        "dic={'a':1, 'b':2}\n",
        "for k in dic :\n",
        "  print('{0} : {1}'.format(k, dic[k]))\n"
      ],
      "metadata": {
        "colab": {
          "base_uri": "https://localhost:8080/"
        },
        "id": "BLEAqepV3y6p",
        "outputId": "c5962387-f3cd-45f1-8cdd-6547a3c417c3"
      },
      "execution_count": null,
      "outputs": [
        {
          "output_type": "stream",
          "name": "stdout",
          "text": [
            "1\n",
            "2\n",
            "3\n",
            "4\n",
            "5\n",
            "one : 1\n",
            "two : 2\n",
            "a : 1\n",
            "b : 2\n"
          ]
        }
      ]
    },
    {
      "cell_type": "code",
      "source": [
        "print(dic)\n",
        "print(type(dic))\n",
        "print(len(dir(dict)), len(dir(dic)))\n",
        "dic.__doc__\n",
        "dict.__doc__"
      ],
      "metadata": {
        "colab": {
          "base_uri": "https://localhost:8080/",
          "height": 109
        },
        "id": "9hN2MajaKJvx",
        "outputId": "73c244e0-ac40-4abd-e189-3bfd34ac0ef4"
      },
      "execution_count": null,
      "outputs": [
        {
          "output_type": "stream",
          "name": "stdout",
          "text": [
            "{'a': 1, 'b': 2}\n",
            "<class 'dict'>\n",
            "41 41\n"
          ]
        },
        {
          "output_type": "execute_result",
          "data": {
            "text/plain": [
              "\"dict() -> new empty dictionary\\ndict(mapping) -> new dictionary initialized from a mapping object's\\n    (key, value) pairs\\ndict(iterable) -> new dictionary initialized as if via:\\n    d = {}\\n    for k, v in iterable:\\n        d[k] = v\\ndict(**kwargs) -> new dictionary initialized with the name=value pairs\\n    in the keyword argument list.  For example:  dict(one=1, two=2)\""
            ],
            "application/vnd.google.colaboratory.intrinsic+json": {
              "type": "string"
            }
          },
          "metadata": {},
          "execution_count": 60
        }
      ]
    },
    {
      "cell_type": "code",
      "source": [
        "# 두번째 방법은 변수 자체를 출력하는 방법이다.\n",
        "# for 변수 in range(시작번호, 마지막번호, 증가값)\n",
        "# iterable : list처럼 순회 가능한 객체\n",
        "\n",
        "# range 함수\n",
        "# range(start, stop, step) 함수는 주로 for 문과 같이 사용된다.\n",
        "# range 함수는 숫자 범위에 대하여 반복을 하거나 특정한 범위의 숫자를 나열하도록 해주는 특별한 함수이다.\n",
        "\n",
        "for v in range(0, 10, 2) :\n",
        "  print(v)\n",
        "\n",
        "for i in range(1, 6) :\n",
        "  print(i)"
      ],
      "metadata": {
        "colab": {
          "base_uri": "https://localhost:8080/"
        },
        "id": "foQomTD3JuNq",
        "outputId": "94142824-b435-4775-c980-28910234e608"
      },
      "execution_count": null,
      "outputs": [
        {
          "output_type": "stream",
          "name": "stdout",
          "text": [
            "0\n",
            "2\n",
            "4\n",
            "6\n",
            "8\n",
            "1\n",
            "2\n",
            "3\n",
            "4\n",
            "5\n"
          ]
        }
      ]
    },
    {
      "cell_type": "code",
      "source": [
        "# enumerate 함수\n",
        "# 인덱스와 객체를 동시에 저장할 수 있는 특징을 가진 for문을 좀 더 효율적으로 사용하기 위한 함수\n",
        "# 순서 자료형(리스트, 튜플, 문자열)을 입력으로 받아 인덱스를 포함하는 객체를 리턴한다.\n",
        "# enumerate([순서자료형], [시작값=0])의 형식을 가지며 순서자료형은 반복자가 가능한 객체가 입력되고 시작값은 입력시 해당 수 부터 증가하며, 생략했을 경우 기본값은 0이다.\n",
        "\n",
        "# k = 인덱스, v = 요소\n",
        "for k, v in enumerate(['apple','python','microsoft']) :\n",
        "  print('{0} : {1}'.format(k,v))\n",
        "\n",
        "for j in enumerate(['apple','python','microsoft'], 1) :\n",
        "  print('{0}'.format(j))"
      ],
      "metadata": {
        "colab": {
          "base_uri": "https://localhost:8080/"
        },
        "id": "zz8RgIAVJyXv",
        "outputId": "bb642a39-876b-4eda-8181-c898391ee6cb"
      },
      "execution_count": null,
      "outputs": [
        {
          "output_type": "stream",
          "name": "stdout",
          "text": [
            "0 : apple\n",
            "1 : python\n",
            "2 : microsoft\n",
            "(1, 'apple')\n",
            "(2, 'python')\n",
            "(3, 'microsoft')\n"
          ]
        }
      ]
    },
    {
      "cell_type": "code",
      "source": [
        "# zip 함수\n",
        "# 매개 인자로 여러 목록을 받아 각 목록의 요소를 튜플에 담아 목록에 저장한다.\n",
        "\n",
        "a = [1,2,3,4,5]\n",
        "b = ['a','b','c','d','e']\n",
        "\n",
        "for x, y in zip(a,b) :\n",
        "  print(x, y)\n",
        "  t = x, y\n",
        "  print(t)\n",
        "print(type(t))"
      ],
      "metadata": {
        "colab": {
          "base_uri": "https://localhost:8080/"
        },
        "id": "6JGwgmdSLfpQ",
        "outputId": "32bb78e5-b20a-410a-bc24-83ba182fc42b"
      },
      "execution_count": null,
      "outputs": [
        {
          "output_type": "stream",
          "name": "stdout",
          "text": [
            "1 a\n",
            "(1, 'a')\n",
            "2 b\n",
            "(2, 'b')\n",
            "3 c\n",
            "(3, 'c')\n",
            "4 d\n",
            "(4, 'd')\n",
            "5 e\n",
            "(5, 'e')\n",
            "<class 'tuple'>\n"
          ]
        }
      ]
    },
    {
      "cell_type": "code",
      "source": [
        "# items 함수\n",
        "# dict의 내장함수로 키와 값을 동시에 검색한다.\n",
        "dic = {'애플':'www.apple.com', '파이썬':'www.python.org'}\n",
        "for k, v in dic.items() :\n",
        "  print('{0} : {1}'.format(k, v))\n",
        "  m = k, v\n",
        "  print(m)\n",
        "print(type(m))"
      ],
      "metadata": {
        "colab": {
          "base_uri": "https://localhost:8080/"
        },
        "id": "E-iRBTGeMInA",
        "outputId": "a54950ff-48b7-41bd-e646-fbc2fe3fad5e"
      },
      "execution_count": null,
      "outputs": [
        {
          "output_type": "stream",
          "name": "stdout",
          "text": [
            "애플 : www.apple.com\n",
            "('애플', 'www.apple.com')\n",
            "파이썬 : www.python.org\n",
            "('파이썬', 'www.python.org')\n",
            "<class 'tuple'>\n"
          ]
        }
      ]
    },
    {
      "cell_type": "markdown",
      "source": [
        "### while반복문\n",
        "\n",
        "- 반복문에서 else는 반복문이 완벽하게 끝났을 때 실행된다.   \n",
        "\n",
        "- 대부분의 프로그래밍 언어는 while과 for을 지원한다."
      ],
      "metadata": {
        "id": "UnU_lS4G-nKQ"
      }
    },
    {
      "cell_type": "code",
      "source": [
        "# else 반복문 사용 경우 (while과 함께 사용된다.)\n",
        "# 아래는 while문이 완벽이 실행되었으므로 end가 출력된다.\n",
        "a = 15;\n",
        "\n",
        "while a > 10 :\n",
        "  a -= 1\n",
        "  print(a)\n",
        "else :\n",
        "  print('end')"
      ],
      "metadata": {
        "colab": {
          "base_uri": "https://localhost:8080/"
        },
        "id": "dJ--zYZC9u9m",
        "outputId": "7596a631-8178-480d-ebde-94ecf760ca54"
      },
      "execution_count": null,
      "outputs": [
        {
          "output_type": "stream",
          "name": "stdout",
          "text": [
            "14\n",
            "13\n",
            "12\n",
            "11\n",
            "10\n",
            "end\n"
          ]
        }
      ]
    },
    {
      "cell_type": "code",
      "source": [
        "# break는 반복문을 중단시킨다.\n",
        "# break가 실행되면 반복문이 완벽하게 실행된 것이 아니므로 else가 실행되지 않는다.\n",
        "a = 10\n",
        "while a > 1 :\n",
        "  a -= 1\n",
        "  if a== 5 :\n",
        "   break #중단\n",
        "  print(a)\n",
        "else :\n",
        "  print('end')"
      ],
      "metadata": {
        "colab": {
          "base_uri": "https://localhost:8080/"
        },
        "id": "aJqlIXKp_KAr",
        "outputId": "b04445f0-3695-421e-b2b2-7de63a0feea6"
      },
      "execution_count": null,
      "outputs": [
        {
          "output_type": "stream",
          "name": "stdout",
          "text": [
            "9\n",
            "8\n",
            "7\n",
            "6\n"
          ]
        }
      ]
    },
    {
      "cell_type": "code",
      "source": [
        "# continue는 다음 루프로 바로 넘어간다.\n",
        "# 반복문을 중단하지는 않으므로 else문이 실행된다.\n",
        "a = 10\n",
        "while a > 1 :\n",
        "  a -= 1\n",
        "  if a == 5 :\n",
        "    continue\n",
        "  print(a)\n",
        "else :\n",
        "  print('end')"
      ],
      "metadata": {
        "colab": {
          "base_uri": "https://localhost:8080/"
        },
        "id": "578NdcEY_7i-",
        "outputId": "e9bfdeb0-13d8-4c92-b475-cd5c4a546797"
      },
      "execution_count": null,
      "outputs": [
        {
          "output_type": "stream",
          "name": "stdout",
          "text": [
            "9\n",
            "8\n",
            "7\n",
            "6\n",
            "4\n",
            "3\n",
            "2\n",
            "1\n",
            "end\n"
          ]
        }
      ]
    },
    {
      "cell_type": "markdown",
      "source": [
        "### 예외(Exception)\n",
        "\n",
        "- 프로그램을 수행하다 보면 문법적으로 문제가 없는 코드를 실행하는 중에 더 이상 진행할 수 없는 상황이 발생하는 경우를 의미한다.\n",
        "\n",
        "- 모든 예외 클래스로 표현되며 최상위 클래스는 BaseExceotion클래스이다.\n",
        "\n",
        "- 예외 상황 :   \n",
        "  0 으로 숫자 나누기   \n",
        "  문자열과 숫자 더하기   \n",
        "  참조 범위를 넘어서 인덱스 참조하기   \n",
        "  등록되어 있지 않은 키로 사전 검색하기\n",
        "\n",
        "[exception](https://python.bakyeono.net/chapter-9-4.html)   \n",
        "![exception](https://python.bakyeono.net/img/img-9-4.png)\n"
      ],
      "metadata": {
        "id": "4kXeP2htONJU"
      }
    },
    {
      "cell_type": "code",
      "source": [
        "# 예외 상황 \n",
        "# 나누기 연산에서 ZeroDivisionError 에러 발생\n",
        "a, b = 5, 0\n",
        "c = a / b\n",
        "print(c)\n",
        "# ZeroDivisionError: division by zero"
      ],
      "metadata": {
        "colab": {
          "base_uri": "https://localhost:8080/",
          "height": 229
        },
        "id": "KKz0xBvaOL65",
        "outputId": "dd474e55-acd6-4d2b-97ce-cf541153a802"
      },
      "execution_count": null,
      "outputs": [
        {
          "output_type": "error",
          "ename": "ZeroDivisionError",
          "evalue": "ignored",
          "traceback": [
            "\u001b[0;31m---------------------------------------------------------------------------\u001b[0m",
            "\u001b[0;31mZeroDivisionError\u001b[0m                         Traceback (most recent call last)",
            "\u001b[0;32m<ipython-input-76-48c838766caf>\u001b[0m in \u001b[0;36m<module>\u001b[0;34m\u001b[0m\n\u001b[1;32m      2\u001b[0m \u001b[0;31m# 나누기 연산에서 ZeroDivisionError 에러 발생\u001b[0m\u001b[0;34m\u001b[0m\u001b[0;34m\u001b[0m\u001b[0;34m\u001b[0m\u001b[0m\n\u001b[1;32m      3\u001b[0m \u001b[0ma\u001b[0m\u001b[0;34m,\u001b[0m \u001b[0mb\u001b[0m \u001b[0;34m=\u001b[0m \u001b[0;36m5\u001b[0m\u001b[0;34m,\u001b[0m \u001b[0;36m0\u001b[0m\u001b[0;34m\u001b[0m\u001b[0;34m\u001b[0m\u001b[0m\n\u001b[0;32m----> 4\u001b[0;31m \u001b[0mc\u001b[0m \u001b[0;34m=\u001b[0m \u001b[0ma\u001b[0m \u001b[0;34m/\u001b[0m \u001b[0mb\u001b[0m\u001b[0;34m\u001b[0m\u001b[0;34m\u001b[0m\u001b[0m\n\u001b[0m\u001b[1;32m      5\u001b[0m \u001b[0mprint\u001b[0m\u001b[0;34m(\u001b[0m\u001b[0mc\u001b[0m\u001b[0;34m)\u001b[0m\u001b[0;34m\u001b[0m\u001b[0;34m\u001b[0m\u001b[0m\n",
            "\u001b[0;31mZeroDivisionError\u001b[0m: division by zero"
          ]
        }
      ]
    },
    {
      "cell_type": "code",
      "source": [
        "# 정의 되지 않은 변수를 사용하면 NameError 에러 발생\n",
        "4 + spam * 3\n",
        "# NameError: name 'spam' is not defined"
      ],
      "metadata": {
        "colab": {
          "base_uri": "https://localhost:8080/",
          "height": 193
        },
        "id": "SoIdXeo1Pdwn",
        "outputId": "52527d25-fdc4-42f1-d9b4-f1adfc971066"
      },
      "execution_count": null,
      "outputs": [
        {
          "output_type": "error",
          "ename": "NameError",
          "evalue": "ignored",
          "traceback": [
            "\u001b[0;31m---------------------------------------------------------------------------\u001b[0m",
            "\u001b[0;31mNameError\u001b[0m                                 Traceback (most recent call last)",
            "\u001b[0;32m<ipython-input-77-d451183dfc9c>\u001b[0m in \u001b[0;36m<module>\u001b[0;34m\u001b[0m\n\u001b[1;32m      1\u001b[0m \u001b[0;31m# 정의 되지 않은 변수를 사용하면 NameError 에러 발생\u001b[0m\u001b[0;34m\u001b[0m\u001b[0;34m\u001b[0m\u001b[0;34m\u001b[0m\u001b[0m\n\u001b[0;32m----> 2\u001b[0;31m \u001b[0;36m4\u001b[0m \u001b[0;34m+\u001b[0m \u001b[0mspam\u001b[0m \u001b[0;34m*\u001b[0m \u001b[0;36m3\u001b[0m\u001b[0;34m\u001b[0m\u001b[0;34m\u001b[0m\u001b[0m\n\u001b[0m",
            "\u001b[0;31mNameError\u001b[0m: name 'spam' is not defined"
          ]
        }
      ]
    },
    {
      "cell_type": "code",
      "source": [
        "# 숫자가 아닌 데이터를 int로 변형할 때 valueError 에러 발생\n",
        "int(3)**int('abc')\n",
        "# ValueError: invalid literal for int() with base 10: 'abc'"
      ],
      "metadata": {
        "colab": {
          "base_uri": "https://localhost:8080/",
          "height": 193
        },
        "id": "vJhQCU0KPvlu",
        "outputId": "76852145-5835-49da-e990-080e4cb35ef9"
      },
      "execution_count": null,
      "outputs": [
        {
          "output_type": "error",
          "ename": "ValueError",
          "evalue": "ignored",
          "traceback": [
            "\u001b[0;31m---------------------------------------------------------------------------\u001b[0m",
            "\u001b[0;31mValueError\u001b[0m                                Traceback (most recent call last)",
            "\u001b[0;32m<ipython-input-78-b6315bb3f8c1>\u001b[0m in \u001b[0;36m<module>\u001b[0;34m\u001b[0m\n\u001b[1;32m      1\u001b[0m \u001b[0;31m# 숫자가 아닌 데이터를 int로 변형할 때 valueError 에러 발생\u001b[0m\u001b[0;34m\u001b[0m\u001b[0;34m\u001b[0m\u001b[0;34m\u001b[0m\u001b[0m\n\u001b[0;32m----> 2\u001b[0;31m \u001b[0mint\u001b[0m\u001b[0;34m(\u001b[0m\u001b[0;36m3\u001b[0m\u001b[0;34m)\u001b[0m\u001b[0;34m**\u001b[0m\u001b[0mint\u001b[0m\u001b[0;34m(\u001b[0m\u001b[0;34m'abc'\u001b[0m\u001b[0;34m)\u001b[0m\u001b[0;34m\u001b[0m\u001b[0;34m\u001b[0m\u001b[0m\n\u001b[0m",
            "\u001b[0;31mValueError\u001b[0m: invalid literal for int() with base 10: 'abc'"
          ]
        }
      ]
    },
    {
      "cell_type": "code",
      "source": [
        "# 연산 중에 인수의 타입이 맞지 않으면 TypeError 에러 발생\n",
        "'2' + 2\n",
        "# TypeError: can only concatenate str (not \"int\") to str"
      ],
      "metadata": {
        "colab": {
          "base_uri": "https://localhost:8080/",
          "height": 193
        },
        "id": "Oiz8ymc6QG73",
        "outputId": "981123a9-6798-4315-f85a-067f2c1b7982"
      },
      "execution_count": null,
      "outputs": [
        {
          "output_type": "error",
          "ename": "TypeError",
          "evalue": "ignored",
          "traceback": [
            "\u001b[0;31m---------------------------------------------------------------------------\u001b[0m",
            "\u001b[0;31mTypeError\u001b[0m                                 Traceback (most recent call last)",
            "\u001b[0;32m<ipython-input-79-262d6b46672d>\u001b[0m in \u001b[0;36m<module>\u001b[0;34m\u001b[0m\n\u001b[1;32m      1\u001b[0m \u001b[0;31m# 연산 중에 인수의 타입이 맞지 않으면 TypeError 에러 발생\u001b[0m\u001b[0;34m\u001b[0m\u001b[0;34m\u001b[0m\u001b[0;34m\u001b[0m\u001b[0m\n\u001b[0;32m----> 2\u001b[0;31m \u001b[0;34m'2'\u001b[0m \u001b[0;34m+\u001b[0m \u001b[0;36m2\u001b[0m\u001b[0;34m\u001b[0m\u001b[0;34m\u001b[0m\u001b[0m\n\u001b[0m",
            "\u001b[0;31mTypeError\u001b[0m: can only concatenate str (not \"int\") to str"
          ]
        }
      ]
    },
    {
      "cell_type": "markdown",
      "source": [
        "### 예외처리\n",
        "- 예외처리란 예외가 발생했을 때 프로그램이 정상적으로 종료될 수 있도록 예외가 발생되는 곳에서 해주는 기능이다.\n",
        "\n",
        "- try :  \n",
        "    <예외가 발생될 가능성이 있는 문장>  \n",
        "  except[발생 오류[as 오류 메세지 변수] ] :  \n",
        "    <예외가 발생했을 때 실행되는 문장>  \n",
        "  else :  \n",
        "    <예외가 발생하지 않았을 때 실행되는 문장>  \n",
        "  finally :  \n",
        "    <예외 발생 여부에 상관없이 무조건 실행되는 문장>  \n",
        "\n",
        "\n",
        "- try ~ except  \n",
        "  - try 절 안에 문제가 발생할 가능성이 있는 코드를 배치하고,   \n",
        "except 절에는 문제가 생겼을 때 뒤처리를 하는 코드 블록 배치  \n",
        "  - try :   \n",
        "   문제가 발생할 가능성이 있는 코드  \n",
        "except :  \n",
        "   문제가 생겼을 때 실행할 코드\n",
        "\n",
        "- 복수개의 except  \n",
        "  - try블록 안에서 여러 종류의 예외가 발생하는 경우에 사용  \n",
        "  - try :  \n",
        "    문제가 없을 경우 실행할 코드\n",
        "  except 예외형식 :  \n",
        "    문제가 생겼을 때 실행할 코드  \n",
        "  except 예외형식 :  \n",
        "    문제가 생겼을 때 실행할 코드\n",
        "\n",
        "- 복수개의 except - 예외의 인스턴스를 활용하는 방법 : as 문 사용  \n",
        " -  try :   \n",
        "    문제가 없을 경우 실행할 코드  \n",
        "  except 예외형식 1 as err :  \n",
        "    문제가 생겼을 때 실행할 코드  \n",
        "  except 예외형식 2 as err :  \n",
        "    문제가 생겼을 때 실행할 코드  \n",
        "\n",
        "- try ~ except ~ else  \n",
        "  - try와 함께 사용하는 else절은 try절에 있는 코드 블록 실행 중에 아무런 예외가 일어나지 않으면 실행 된다.  \n",
        "  - try :  \n",
        "    실행할 코드 블록  \n",
        "  except :  \n",
        "    예외 처리 코드 블록  \n",
        "  else :  \n",
        "    except절을 만나지 않았을 경우 실행하는 코드 블록\n",
        "\n",
        "- raise\n",
        "  - 프로그래머가 의도적으로 예외를 발생시켜야 하는 경우에 사용한다.\n",
        "  - raise 구문은 해당 예외를 단순히 발생시키거나 예외 발생시 필요한 정보를 같이 전달하기 위하여 인자로 넘겨줄 수 있다.\n",
        "  - 또한 예외를 상위에서 처리하도록 그대로 전달할 수도 있다.\n",
        "  - raise 구문의 예외로 올 수 있는 것으로 내장예외와 사용자 정의 예외가 있다.  \n",
        "    raise [Exception] : 해당 예외를 발생함  \n",
        "    raise [Exception] : 예외를 발생 시 관련 데이터를 전달함  \n",
        "    raise : 발생된 예외를 상위로 전달함  "
      ],
      "metadata": {
        "id": "K56kEjUxYi_y"
      }
    },
    {
      "cell_type": "code",
      "source": [
        "def divide(x, y) :\n",
        "  return x / y\n",
        "\n",
        "try :\n",
        "  result = divide(1, 0)\n",
        "except ZeroDivisionError :\n",
        "  print('분모는 1 이상이여야 합니다.')\n",
        "  # divide함수에서 0으로 나누려는 시도임을 파악하고 예외를 일으킨다.\n",
        "  # 발생한 예외를 처리할 곳을 찾다가 except절을 만나 프로그램 흐름을 변경한다.\n",
        "else :\n",
        "  print(result)\n",
        "finally :\n",
        "  print('문제 풀이 끝')"
      ],
      "metadata": {
        "colab": {
          "base_uri": "https://localhost:8080/"
        },
        "id": "lX7WMR7ySPH2",
        "outputId": "28829483-96a6-4eba-eb42-2953ca156d1d"
      },
      "execution_count": null,
      "outputs": [
        {
          "output_type": "stream",
          "name": "stdout",
          "text": [
            "분모는 1 이상이여야 합니다.\n",
            "문제 풀이 끝\n"
          ]
        }
      ]
    },
    {
      "cell_type": "code",
      "source": [
        "my_list = [1, 2, 3]\n",
        "\n",
        "try :\n",
        "  print(\"첨자를 입력하세요 : \")\n",
        "  index = int(input())\n",
        "  print(my_list[index] / 0)\n",
        "except ZeroDivisionError: # index가 0~2사이로 입력된다면 ZeroDivisionError가 일어난다.\n",
        "  print(\"0으로 나눌 수 없습니다.\")\n",
        "except IndexError: # index가 0~2를 벗어나면 my_lis[index]에서 IndexError가 발생한다.\n",
        "  print(\"잘못된 첨자입니다.\")"
      ],
      "metadata": {
        "colab": {
          "base_uri": "https://localhost:8080/"
        },
        "id": "lZgvdcuEZBj6",
        "outputId": "bf227bbf-2e00-404f-dac4-ead9f865a6ca"
      },
      "execution_count": null,
      "outputs": [
        {
          "output_type": "stream",
          "name": "stdout",
          "text": [
            "첨자를 입력하세요 : \n",
            "2\n",
            "0으로 나눌 수 없습니다.\n"
          ]
        }
      ]
    },
    {
      "cell_type": "code",
      "source": [
        "my_list = [1, 2, 3]\n",
        "\n",
        "try :\n",
        "  print('첨자를 입력하세요 : ')\n",
        "  index = int(input())\n",
        "  print(my_list[index] / 0)\n",
        "except ZeroDivisionError as err : # ZeroDivisionError 예외만을 처리하는 except절이다.\n",
        "  print('0으로 나눌 수 없습니다. ({0})'.format(err))\n",
        "except IndexError as err : # IndexError 예외만을 처리하는 except절이다.\n",
        "  print('잘못된 첨자입니다. ({0})'.format(err))"
      ],
      "metadata": {
        "colab": {
          "base_uri": "https://localhost:8080/"
        },
        "id": "oEojbcIObFnV",
        "outputId": "8d874ab6-d445-4929-c0af-92e4ca871201"
      },
      "execution_count": null,
      "outputs": [
        {
          "output_type": "stream",
          "name": "stdout",
          "text": [
            "첨자를 입력하세요 : \n",
            "12314\n",
            "잘못된 첨자입니다. (list index out of range)\n"
          ]
        }
      ]
    },
    {
      "cell_type": "code",
      "source": [
        "my_list = [1, 2, 3]\n",
        "\n",
        "try :\n",
        "  print('첨자를 입력하세요.')\n",
        "  index = int(input())\n",
        "  print('my_list[{0}] : {1}'.format(index, my_list[index]))\n",
        "  # try절에서 예외가 발생하면 프로그램 흐름을 이 except절로 보낸다.\n",
        "except IndexError :\n",
        "  print('잘못된 첨자입니다.')\n",
        "else :\n",
        "  print('리스트의 요소 출력에 성공했습니다.')\n",
        "  # try절에서 예외가 발생하지 않으면 프로그램 흐름을 else절로 보낸다."
      ],
      "metadata": {
        "colab": {
          "base_uri": "https://localhost:8080/"
        },
        "id": "oBJ97Utucrkw",
        "outputId": "71531244-ee7c-4032-cbe6-a93f84b52217"
      },
      "execution_count": null,
      "outputs": [
        {
          "output_type": "stream",
          "name": "stdout",
          "text": [
            "첨자를 입력하세요.\n",
            "123\n",
            "잘못된 첨자입니다.\n"
          ]
        }
      ]
    },
    {
      "cell_type": "code",
      "source": [
        "def RaiseErrorFunc() :\n",
        "  raise NameError('NameError의 인자')\n",
        "  # 다짜고짜 raise문을 통해 예외를 일으킵니다.\n",
        "\n",
        "def PropagateError() :\n",
        "  try :\n",
        "    RaiseErrorFunc()\n",
        "  except :\n",
        "    print('에러전달 이전에 먼저 이 메세지가 출력됨')\n",
        "    # RaiseErrorFunc()함수에 의해서 NameError에러가 발생하며, \n",
        "    # 처리하는 부분이 없기 때문에 발생하는 에러는 PropagateError()함수로 전달된다.\n",
        "\n",
        "PropagateError()"
      ],
      "metadata": {
        "colab": {
          "base_uri": "https://localhost:8080/"
        },
        "id": "VYCWjDTkdsn8",
        "outputId": "2ee86302-49da-4108-e860-b272fa934420"
      },
      "execution_count": null,
      "outputs": [
        {
          "output_type": "stream",
          "name": "stdout",
          "text": [
            "에러전달 이전에 먼저 이 메세지가 출력됨\n"
          ]
        }
      ]
    },
    {
      "cell_type": "code",
      "source": [
        "def RaiseErrorFunc() :\n",
        "  raise NameError(\"NameError의 인자\")\n",
        "  # raise 문을 통해 예외를 일으킨다.\n",
        "\n",
        "def PropagateError() :\n",
        "  try :\n",
        "    RaiseErrorFunc()\n",
        "  except :\n",
        "    print(\"에러전달 이전에 먼저 이 메세지가  출력됨\")\n",
        "    # RaiseErrorFunc()함수에 의해서 NameError에러가 발생하며, \n",
        "    # 처리하는 부분이 없기 때문에 발생하는 에러는 PropagateError()함수로 전달된다.\n",
        "  raise\n",
        "  # 예외를 받은 PropagateError()함수에서는 화면에 메세지를 출력하고 받은 예외를 그대로 상위로 전달함\n",
        "  # 전달된 예외는 처리하는 부분이 없기 때문에 출력결과에서 확인할 수 있듯이, 에러를 출력한다.\n",
        "\n",
        "PropagateError()"
      ],
      "metadata": {
        "colab": {
          "base_uri": "https://localhost:8080/",
          "height": 358
        },
        "id": "6DJmkuvOfvwe",
        "outputId": "8fdce258-b713-4c38-ceca-bbf49fc2c6a9"
      },
      "execution_count": null,
      "outputs": [
        {
          "output_type": "stream",
          "name": "stdout",
          "text": [
            "에러전달 이전에 먼저 이 메세지가  출력됨\n"
          ]
        },
        {
          "output_type": "error",
          "ename": "RuntimeError",
          "evalue": "ignored",
          "traceback": [
            "\u001b[0;31m---------------------------------------------------------------------------\u001b[0m",
            "\u001b[0;31mRuntimeError\u001b[0m                              Traceback (most recent call last)",
            "\u001b[0;32m<ipython-input-105-6de9252a236c>\u001b[0m in \u001b[0;36m<module>\u001b[0;34m\u001b[0m\n\u001b[1;32m      9\u001b[0m   \u001b[0;32mraise\u001b[0m\u001b[0;34m\u001b[0m\u001b[0;34m\u001b[0m\u001b[0m\n\u001b[1;32m     10\u001b[0m \u001b[0;34m\u001b[0m\u001b[0m\n\u001b[0;32m---> 11\u001b[0;31m \u001b[0mPropagateError\u001b[0m\u001b[0;34m(\u001b[0m\u001b[0;34m)\u001b[0m\u001b[0;34m\u001b[0m\u001b[0;34m\u001b[0m\u001b[0m\n\u001b[0m",
            "\u001b[0;32m<ipython-input-105-6de9252a236c>\u001b[0m in \u001b[0;36mPropagateError\u001b[0;34m()\u001b[0m\n\u001b[1;32m      7\u001b[0m   \u001b[0;32mexcept\u001b[0m \u001b[0;34m:\u001b[0m\u001b[0;34m\u001b[0m\u001b[0;34m\u001b[0m\u001b[0m\n\u001b[1;32m      8\u001b[0m     \u001b[0mprint\u001b[0m\u001b[0;34m(\u001b[0m\u001b[0;34m\"에러전달 이전에 먼저 이 메세지가  출력됨\"\u001b[0m\u001b[0;34m)\u001b[0m\u001b[0;34m\u001b[0m\u001b[0;34m\u001b[0m\u001b[0m\n\u001b[0;32m----> 9\u001b[0;31m   \u001b[0;32mraise\u001b[0m\u001b[0;34m\u001b[0m\u001b[0;34m\u001b[0m\u001b[0m\n\u001b[0m\u001b[1;32m     10\u001b[0m \u001b[0;34m\u001b[0m\u001b[0m\n\u001b[1;32m     11\u001b[0m \u001b[0mPropagateError\u001b[0m\u001b[0;34m(\u001b[0m\u001b[0;34m)\u001b[0m\u001b[0;34m\u001b[0m\u001b[0;34m\u001b[0m\u001b[0m\n",
            "\u001b[0;31mRuntimeError\u001b[0m: No active exception to reraise"
          ]
        }
      ]
    },
    {
      "cell_type": "code",
      "source": [
        "def RaiseErrorFunc() :\n",
        "  raise NameError(\"NameError의 인자\")\n",
        "  # raise 문을 통해 예외를 일으킨다.\n",
        "\n",
        "def PropagateError() :\n",
        "  try :\n",
        "    RaiseErrorFunc()\n",
        "  except :\n",
        "    print(\"에러전달 이전에 먼저 이 메세지가  출력됨\")\n",
        "    # RaiseErrorFunc()함수에 의해서 NameError에러가 발생하며, \n",
        "    # 처리하는 부분이 없기 때문에 발생하는 에러는 PropagateError()함수로 전달된다.\n",
        "  raise\n",
        "try :\n",
        "   PropagateError()\n",
        "   # 예외를 받은 PropagateError()함수에서는 화면에 메세지를 출력하고 받은 예외를 그대로 상위로 전달함\n",
        "except Exception as err :\n",
        "   print('{0} 예외가 발생했습니다.'.format(err))"
      ],
      "metadata": {
        "colab": {
          "base_uri": "https://localhost:8080/"
        },
        "id": "fVouaEu5g4fD",
        "outputId": "3ae4b945-d4b9-4711-8056-e02687de25a2"
      },
      "execution_count": null,
      "outputs": [
        {
          "output_type": "stream",
          "name": "stdout",
          "text": [
            "에러전달 이전에 먼저 이 메세지가  출력됨\n",
            "No active exception to reraise 예외가 발생했습니다.\n"
          ]
        }
      ]
    }
  ]
}