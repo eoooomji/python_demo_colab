{
  "nbformat": 4,
  "nbformat_minor": 0,
  "metadata": {
    "colab": {
      "provenance": [],
      "authorship_tag": "ABX9TyOa/lZ9mJkAr2tX0qLf5LG/",
      "include_colab_link": true
    },
    "kernelspec": {
      "name": "python3",
      "display_name": "Python 3"
    },
    "language_info": {
      "name": "python"
    }
  },
  "cells": [
    {
      "cell_type": "markdown",
      "metadata": {
        "id": "view-in-github",
        "colab_type": "text"
      },
      "source": [
        "<a href=\"https://colab.research.google.com/github/eoooomji/python_demo_colab/blob/master/python_02_basic.ipynb\" target=\"_parent\"><img src=\"https://colab.research.google.com/assets/colab-badge.svg\" alt=\"Open In Colab\"/></a>"
      ]
    },
    {
      "cell_type": "code",
      "execution_count": 1,
      "metadata": {
        "colab": {
          "base_uri": "https://localhost:8080/"
        },
        "id": "uaLiXWBTax8B",
        "outputId": "d9956208-7a7b-4e4a-d95d-1fc9f9caf331"
      },
      "outputs": [
        {
          "output_type": "stream",
          "name": "stdout",
          "text": [
            "The Zen of Python, by Tim Peters\n",
            "\n",
            "Beautiful is better than ugly.\n",
            "Explicit is better than implicit.\n",
            "Simple is better than complex.\n",
            "Complex is better than complicated.\n",
            "Flat is better than nested.\n",
            "Sparse is better than dense.\n",
            "Readability counts.\n",
            "Special cases aren't special enough to break the rules.\n",
            "Although practicality beats purity.\n",
            "Errors should never pass silently.\n",
            "Unless explicitly silenced.\n",
            "In the face of ambiguity, refuse the temptation to guess.\n",
            "There should be one-- and preferably only one --obvious way to do it.\n",
            "Although that way may not be obvious at first unless you're Dutch.\n",
            "Now is better than never.\n",
            "Although never is often better than *right* now.\n",
            "If the implementation is hard to explain, it's a bad idea.\n",
            "If the implementation is easy to explain, it may be a good idea.\n",
            "Namespaces are one honking great idea -- let's do more of those!\n"
          ]
        }
      ],
      "source": [
        "import this"
      ]
    },
    {
      "cell_type": "code",
      "source": [
        "import antigravity"
      ],
      "metadata": {
        "id": "h0lus49Ua3YM"
      },
      "execution_count": 2,
      "outputs": []
    },
    {
      "cell_type": "code",
      "source": [
        "antigravity"
      ],
      "metadata": {
        "colab": {
          "base_uri": "https://localhost:8080/"
        },
        "id": "QuMwRy0ya6Pr",
        "outputId": "d9b3749f-26fb-40f3-f28c-cbae64e089de"
      },
      "execution_count": 3,
      "outputs": [
        {
          "output_type": "execute_result",
          "data": {
            "text/plain": [
              "<module 'antigravity' from '/usr/lib/python3.7/antigravity.py'>"
            ]
          },
          "metadata": {},
          "execution_count": 3
        }
      ]
    },
    {
      "cell_type": "code",
      "source": [
        "import keyword\n",
        "keyword.kwlist"
      ],
      "metadata": {
        "colab": {
          "base_uri": "https://localhost:8080/"
        },
        "id": "K84NA4d-bART",
        "outputId": "bec3022b-5a9d-4cdb-8243-a2ec43a4aeec"
      },
      "execution_count": 6,
      "outputs": [
        {
          "output_type": "execute_result",
          "data": {
            "text/plain": [
              "['False',\n",
              " 'None',\n",
              " 'True',\n",
              " 'and',\n",
              " 'as',\n",
              " 'assert',\n",
              " 'async',\n",
              " 'await',\n",
              " 'break',\n",
              " 'class',\n",
              " 'continue',\n",
              " 'def',\n",
              " 'del',\n",
              " 'elif',\n",
              " 'else',\n",
              " 'except',\n",
              " 'finally',\n",
              " 'for',\n",
              " 'from',\n",
              " 'global',\n",
              " 'if',\n",
              " 'import',\n",
              " 'in',\n",
              " 'is',\n",
              " 'lambda',\n",
              " 'nonlocal',\n",
              " 'not',\n",
              " 'or',\n",
              " 'pass',\n",
              " 'raise',\n",
              " 'return',\n",
              " 'try',\n",
              " 'while',\n",
              " 'with',\n",
              " 'yield']"
            ]
          },
          "metadata": {},
          "execution_count": 6
        }
      ]
    },
    {
      "cell_type": "code",
      "source": [
        "len(keyword.kwlist)"
      ],
      "metadata": {
        "colab": {
          "base_uri": "https://localhost:8080/"
        },
        "id": "s-XrEdeDbUXz",
        "outputId": "e791bdfa-61c4-42df-815a-491554fc9ced"
      },
      "execution_count": 7,
      "outputs": [
        {
          "output_type": "execute_result",
          "data": {
            "text/plain": [
              "35"
            ]
          },
          "metadata": {},
          "execution_count": 7
        }
      ]
    },
    {
      "cell_type": "code",
      "source": [
        "print(\"Hello World\")"
      ],
      "metadata": {
        "colab": {
          "base_uri": "https://localhost:8080/"
        },
        "id": "0GhFKJ-sbas0",
        "outputId": "67d3c524-a034-4b0a-8b88-1de2f7a4e978"
      },
      "execution_count": 8,
      "outputs": [
        {
          "output_type": "stream",
          "name": "stdout",
          "text": [
            "Hello World\n"
          ]
        }
      ]
    },
    {
      "cell_type": "code",
      "source": [
        "print('Hello World')"
      ],
      "metadata": {
        "colab": {
          "base_uri": "https://localhost:8080/"
        },
        "id": "n6cBrL-Pb5KL",
        "outputId": "20febd61-83ae-4cd1-f687-e4fa62dc4b98"
      },
      "execution_count": 9,
      "outputs": [
        {
          "output_type": "stream",
          "name": "stdout",
          "text": [
            "Hello World\n"
          ]
        }
      ]
    },
    {
      "cell_type": "code",
      "source": [
        "print(\"Hello\"); print(\"python\")"
      ],
      "metadata": {
        "colab": {
          "base_uri": "https://localhost:8080/"
        },
        "id": "MQdCsDKSgBHY",
        "outputId": "83a43286-5e64-4a40-bfa1-3a44bc2a1f66"
      },
      "execution_count": 14,
      "outputs": [
        {
          "output_type": "stream",
          "name": "stdout",
          "text": [
            "Hello\n",
            "python\n"
          ]
        }
      ]
    },
    {
      "cell_type": "code",
      "source": [
        "a=10; b=20\n",
        "if(a==10) and \\\n",
        " (b==20):\n",
        "    print(\"OK\")"
      ],
      "metadata": {
        "colab": {
          "base_uri": "https://localhost:8080/"
        },
        "id": "3yiZCISGiI3B",
        "outputId": "4b6ddf2c-627f-47a1-89e2-eb98b68f16c8"
      },
      "execution_count": 20,
      "outputs": [
        {
          "output_type": "stream",
          "name": "stdout",
          "text": [
            "OK\n"
          ]
        }
      ]
    },
    {
      "cell_type": "code",
      "source": [
        "pen=ko=100\n",
        "print(pen)\n",
        "print(ko)"
      ],
      "metadata": {
        "colab": {
          "base_uri": "https://localhost:8080/"
        },
        "id": "yizJSwFJjJCZ",
        "outputId": "3b0e37ab-a080-4c73-938f-cb31385b9600"
      },
      "execution_count": 19,
      "outputs": [
        {
          "output_type": "stream",
          "name": "stdout",
          "text": [
            "100\n",
            "100\n"
          ]
        }
      ]
    },
    {
      "cell_type": "code",
      "source": [
        "language='korea'\n",
        "body=\"tag\"\n",
        "print(language)\n",
        "print(body)"
      ],
      "metadata": {
        "colab": {
          "base_uri": "https://localhost:8080/"
        },
        "id": "QicBdOoVjQQi",
        "outputId": "13a38974-aeac-4fef-d176-21c263ad0770"
      },
      "execution_count": 22,
      "outputs": [
        {
          "output_type": "stream",
          "name": "stdout",
          "text": [
            "korea\n",
            "tag\n"
          ]
        }
      ]
    },
    {
      "cell_type": "code",
      "source": [
        "a = 1\n",
        "a = eval('a + 4')\n",
        "print(a)"
      ],
      "metadata": {
        "colab": {
          "base_uri": "https://localhost:8080/"
        },
        "id": "ayIZhmoljlnm",
        "outputId": "dbbab023-172d-42fd-88fb-c769ffbed84a"
      },
      "execution_count": 24,
      "outputs": [
        {
          "output_type": "stream",
          "name": "stdout",
          "text": [
            "5\n"
          ]
        }
      ]
    },
    {
      "cell_type": "code",
      "source": [
        "type(5)"
      ],
      "metadata": {
        "colab": {
          "base_uri": "https://localhost:8080/"
        },
        "id": "ow58yfmkjuPx",
        "outputId": "67b9abda-fdd7-4488-a572-2bfe0f0e28e0"
      },
      "execution_count": 32,
      "outputs": [
        {
          "output_type": "execute_result",
          "data": {
            "text/plain": [
              "int"
            ]
          },
          "metadata": {},
          "execution_count": 32
        }
      ]
    },
    {
      "cell_type": "code",
      "source": [
        "type(85.3)"
      ],
      "metadata": {
        "colab": {
          "base_uri": "https://localhost:8080/"
        },
        "id": "VuvmusILl2Rw",
        "outputId": "27faf513-9397-41b4-e16c-171c7ebde1e8"
      },
      "execution_count": 33,
      "outputs": [
        {
          "output_type": "execute_result",
          "data": {
            "text/plain": [
              "float"
            ]
          },
          "metadata": {},
          "execution_count": 33
        }
      ]
    },
    {
      "cell_type": "code",
      "source": [
        "type([1, 5, 8])"
      ],
      "metadata": {
        "colab": {
          "base_uri": "https://localhost:8080/"
        },
        "id": "ViyrWp4Nl4KR",
        "outputId": "5779e484-5fb0-47a6-9693-34572871a2ac"
      },
      "execution_count": 34,
      "outputs": [
        {
          "output_type": "execute_result",
          "data": {
            "text/plain": [
              "list"
            ]
          },
          "metadata": {},
          "execution_count": 34
        }
      ]
    },
    {
      "cell_type": "code",
      "source": [
        "type((2, 6, 7))"
      ],
      "metadata": {
        "colab": {
          "base_uri": "https://localhost:8080/"
        },
        "id": "1ARsKNAxmQwA",
        "outputId": "efe20e19-e7f5-4cd8-82d7-984d6e552da4"
      },
      "execution_count": 35,
      "outputs": [
        {
          "output_type": "execute_result",
          "data": {
            "text/plain": [
              "tuple"
            ]
          },
          "metadata": {},
          "execution_count": 35
        }
      ]
    },
    {
      "cell_type": "code",
      "source": [
        "dir(str)"
      ],
      "metadata": {
        "colab": {
          "base_uri": "https://localhost:8080/"
        },
        "id": "r4IO6R9DmuWK",
        "outputId": "350ced63-8746-48bf-a6ff-07b0391b93f0"
      },
      "execution_count": 36,
      "outputs": [
        {
          "output_type": "execute_result",
          "data": {
            "text/plain": [
              "['__add__',\n",
              " '__class__',\n",
              " '__contains__',\n",
              " '__delattr__',\n",
              " '__dir__',\n",
              " '__doc__',\n",
              " '__eq__',\n",
              " '__format__',\n",
              " '__ge__',\n",
              " '__getattribute__',\n",
              " '__getitem__',\n",
              " '__getnewargs__',\n",
              " '__gt__',\n",
              " '__hash__',\n",
              " '__init__',\n",
              " '__init_subclass__',\n",
              " '__iter__',\n",
              " '__le__',\n",
              " '__len__',\n",
              " '__lt__',\n",
              " '__mod__',\n",
              " '__mul__',\n",
              " '__ne__',\n",
              " '__new__',\n",
              " '__reduce__',\n",
              " '__reduce_ex__',\n",
              " '__repr__',\n",
              " '__rmod__',\n",
              " '__rmul__',\n",
              " '__setattr__',\n",
              " '__sizeof__',\n",
              " '__str__',\n",
              " '__subclasshook__',\n",
              " 'capitalize',\n",
              " 'casefold',\n",
              " 'center',\n",
              " 'count',\n",
              " 'encode',\n",
              " 'endswith',\n",
              " 'expandtabs',\n",
              " 'find',\n",
              " 'format',\n",
              " 'format_map',\n",
              " 'index',\n",
              " 'isalnum',\n",
              " 'isalpha',\n",
              " 'isascii',\n",
              " 'isdecimal',\n",
              " 'isdigit',\n",
              " 'isidentifier',\n",
              " 'islower',\n",
              " 'isnumeric',\n",
              " 'isprintable',\n",
              " 'isspace',\n",
              " 'istitle',\n",
              " 'isupper',\n",
              " 'join',\n",
              " 'ljust',\n",
              " 'lower',\n",
              " 'lstrip',\n",
              " 'maketrans',\n",
              " 'partition',\n",
              " 'replace',\n",
              " 'rfind',\n",
              " 'rindex',\n",
              " 'rjust',\n",
              " 'rpartition',\n",
              " 'rsplit',\n",
              " 'rstrip',\n",
              " 'split',\n",
              " 'splitlines',\n",
              " 'startswith',\n",
              " 'strip',\n",
              " 'swapcase',\n",
              " 'title',\n",
              " 'translate',\n",
              " 'upper',\n",
              " 'zfill']"
            ]
          },
          "metadata": {},
          "execution_count": 36
        }
      ]
    },
    {
      "cell_type": "code",
      "source": [
        "dir(int)"
      ],
      "metadata": {
        "colab": {
          "base_uri": "https://localhost:8080/"
        },
        "id": "oNA8yjF6nDMD",
        "outputId": "3796c02c-862c-463f-9b48-460d8d725c0e"
      },
      "execution_count": 37,
      "outputs": [
        {
          "output_type": "execute_result",
          "data": {
            "text/plain": [
              "['__abs__',\n",
              " '__add__',\n",
              " '__and__',\n",
              " '__bool__',\n",
              " '__ceil__',\n",
              " '__class__',\n",
              " '__delattr__',\n",
              " '__dir__',\n",
              " '__divmod__',\n",
              " '__doc__',\n",
              " '__eq__',\n",
              " '__float__',\n",
              " '__floor__',\n",
              " '__floordiv__',\n",
              " '__format__',\n",
              " '__ge__',\n",
              " '__getattribute__',\n",
              " '__getnewargs__',\n",
              " '__gt__',\n",
              " '__hash__',\n",
              " '__index__',\n",
              " '__init__',\n",
              " '__init_subclass__',\n",
              " '__int__',\n",
              " '__invert__',\n",
              " '__le__',\n",
              " '__lshift__',\n",
              " '__lt__',\n",
              " '__mod__',\n",
              " '__mul__',\n",
              " '__ne__',\n",
              " '__neg__',\n",
              " '__new__',\n",
              " '__or__',\n",
              " '__pos__',\n",
              " '__pow__',\n",
              " '__radd__',\n",
              " '__rand__',\n",
              " '__rdivmod__',\n",
              " '__reduce__',\n",
              " '__reduce_ex__',\n",
              " '__repr__',\n",
              " '__rfloordiv__',\n",
              " '__rlshift__',\n",
              " '__rmod__',\n",
              " '__rmul__',\n",
              " '__ror__',\n",
              " '__round__',\n",
              " '__rpow__',\n",
              " '__rrshift__',\n",
              " '__rshift__',\n",
              " '__rsub__',\n",
              " '__rtruediv__',\n",
              " '__rxor__',\n",
              " '__setattr__',\n",
              " '__sizeof__',\n",
              " '__str__',\n",
              " '__sub__',\n",
              " '__subclasshook__',\n",
              " '__truediv__',\n",
              " '__trunc__',\n",
              " '__xor__',\n",
              " 'bit_length',\n",
              " 'conjugate',\n",
              " 'denominator',\n",
              " 'from_bytes',\n",
              " 'imag',\n",
              " 'numerator',\n",
              " 'real',\n",
              " 'to_bytes']"
            ]
          },
          "metadata": {},
          "execution_count": 37
        }
      ]
    },
    {
      "cell_type": "code",
      "source": [
        "help(str.index)"
      ],
      "metadata": {
        "colab": {
          "base_uri": "https://localhost:8080/"
        },
        "id": "j9jmEMeknIug",
        "outputId": "5326ab5b-38c4-4f3b-c42d-068d54de45a6"
      },
      "execution_count": 38,
      "outputs": [
        {
          "output_type": "stream",
          "name": "stdout",
          "text": [
            "Help on method_descriptor:\n",
            "\n",
            "index(...)\n",
            "    S.index(sub[, start[, end]]) -> int\n",
            "    \n",
            "    Return the lowest index in S where substring sub is found, \n",
            "    such that sub is contained within S[start:end].  Optional\n",
            "    arguments start and end are interpreted as in slice notation.\n",
            "    \n",
            "    Raises ValueError when the substring is not found.\n",
            "\n"
          ]
        }
      ]
    },
    {
      "cell_type": "code",
      "source": [
        "data=1+2j\n",
        "data.real\n",
        "data.imag"
      ],
      "metadata": {
        "colab": {
          "base_uri": "https://localhost:8080/"
        },
        "id": "FuFRJzg8nzLo",
        "outputId": "cdfe86a9-42b3-40a2-c2d4-6739417acd67"
      },
      "execution_count": 49,
      "outputs": [
        {
          "output_type": "execute_result",
          "data": {
            "text/plain": [
              "2.0"
            ]
          },
          "metadata": {},
          "execution_count": 49
        }
      ]
    },
    {
      "cell_type": "code",
      "source": [
        "import sys\n",
        "sys.maxsize"
      ],
      "metadata": {
        "colab": {
          "base_uri": "https://localhost:8080/"
        },
        "id": "K7O5gf-pukD2",
        "outputId": "1edbeaa3-20c2-45b3-aed9-15842428fad1"
      },
      "execution_count": 53,
      "outputs": [
        {
          "output_type": "execute_result",
          "data": {
            "text/plain": [
              "9223372036854775807"
            ]
          },
          "metadata": {},
          "execution_count": 53
        }
      ]
    },
    {
      "cell_type": "code",
      "source": [
        "9223372036854775807 + 1\n",
        "# 최대값의 정수에 1을 더해주게 되면 최대치를 넘게 된다. 하지만 파이썬은 내부적으로 자동 확장해주므로 오버플로우 에러가 없다. 단, 실행속도가 느려진다."
      ],
      "metadata": {
        "colab": {
          "base_uri": "https://localhost:8080/"
        },
        "id": "EYbXUZySu3JG",
        "outputId": "4cdaccf7-6b1c-4922-f608-76e1febe250a"
      },
      "execution_count": 52,
      "outputs": [
        {
          "output_type": "execute_result",
          "data": {
            "text/plain": [
              "9223372036854775808"
            ]
          },
          "metadata": {},
          "execution_count": 52
        }
      ]
    },
    {
      "cell_type": "code",
      "source": [
        "# sequence\n",
        "s_val='Hello python!'\n",
        "s_val[0:3:1]"
      ],
      "metadata": {
        "colab": {
          "base_uri": "https://localhost:8080/",
          "height": 35
        },
        "id": "6oT75D_JvmXv",
        "outputId": "da228f55-4519-4664-c996-846e39b8000c"
      },
      "execution_count": 72,
      "outputs": [
        {
          "output_type": "execute_result",
          "data": {
            "text/plain": [
              "'Hel'"
            ],
            "application/vnd.google.colaboratory.intrinsic+json": {
              "type": "string"
            }
          },
          "metadata": {},
          "execution_count": 72
        }
      ]
    },
    {
      "cell_type": "code",
      "source": [
        "s_val[1]"
      ],
      "metadata": {
        "colab": {
          "base_uri": "https://localhost:8080/",
          "height": 35
        },
        "id": "p4Bz44ZGwTGG",
        "outputId": "18c98fe1-eb8c-412b-80f3-1eaefcf0d015"
      },
      "execution_count": 66,
      "outputs": [
        {
          "output_type": "execute_result",
          "data": {
            "text/plain": [
              "'e'"
            ],
            "application/vnd.google.colaboratory.intrinsic+json": {
              "type": "string"
            }
          },
          "metadata": {},
          "execution_count": 66
        }
      ]
    },
    {
      "cell_type": "code",
      "source": [
        "s_val[1:]"
      ],
      "metadata": {
        "colab": {
          "base_uri": "https://localhost:8080/",
          "height": 35
        },
        "id": "8BCLNuXCv5vm",
        "outputId": "dd6425bc-6862-4124-e728-f1faa430f87b"
      },
      "execution_count": 55,
      "outputs": [
        {
          "output_type": "execute_result",
          "data": {
            "text/plain": [
              "'ello python!'"
            ],
            "application/vnd.google.colaboratory.intrinsic+json": {
              "type": "string"
            }
          },
          "metadata": {},
          "execution_count": 55
        }
      ]
    },
    {
      "cell_type": "code",
      "source": [
        "s_val[:3]"
      ],
      "metadata": {
        "colab": {
          "base_uri": "https://localhost:8080/",
          "height": 35
        },
        "id": "hW3spOLOw9Yu",
        "outputId": "d50e4f51-d0a1-47ee-881c-dd02a7f97806"
      },
      "execution_count": 67,
      "outputs": [
        {
          "output_type": "execute_result",
          "data": {
            "text/plain": [
              "'Hel'"
            ],
            "application/vnd.google.colaboratory.intrinsic+json": {
              "type": "string"
            }
          },
          "metadata": {},
          "execution_count": 67
        }
      ]
    },
    {
      "cell_type": "code",
      "source": [
        "s_val"
      ],
      "metadata": {
        "colab": {
          "base_uri": "https://localhost:8080/",
          "height": 35
        },
        "id": "NBUo_p5exEke",
        "outputId": "9d14f7d9-5bd4-404f-ad94-be60b2df9f3c"
      },
      "execution_count": 70,
      "outputs": [
        {
          "output_type": "execute_result",
          "data": {
            "text/plain": [
              "'Hello python!'"
            ],
            "application/vnd.google.colaboratory.intrinsic+json": {
              "type": "string"
            }
          },
          "metadata": {},
          "execution_count": 70
        }
      ]
    },
    {
      "cell_type": "code",
      "source": [
        "s_val[:]"
      ],
      "metadata": {
        "colab": {
          "base_uri": "https://localhost:8080/",
          "height": 35
        },
        "id": "BTAGs4_mw_z-",
        "outputId": "57b43879-fdf3-427f-e2a4-480fae83033d"
      },
      "execution_count": 68,
      "outputs": [
        {
          "output_type": "execute_result",
          "data": {
            "text/plain": [
              "'Hello python!'"
            ],
            "application/vnd.google.colaboratory.intrinsic+json": {
              "type": "string"
            }
          },
          "metadata": {},
          "execution_count": 68
        }
      ]
    },
    {
      "cell_type": "code",
      "source": [
        "s_val[-1]"
      ],
      "metadata": {
        "colab": {
          "base_uri": "https://localhost:8080/",
          "height": 35
        },
        "id": "C7WjPBW5xBd-",
        "outputId": "bca141f4-cd0b-4265-d59b-d23aaed4566c"
      },
      "execution_count": 69,
      "outputs": [
        {
          "output_type": "execute_result",
          "data": {
            "text/plain": [
              "'!'"
            ],
            "application/vnd.google.colaboratory.intrinsic+json": {
              "type": "string"
            }
          },
          "metadata": {},
          "execution_count": 69
        }
      ]
    },
    {
      "cell_type": "code",
      "source": [
        "s_val[::2]"
      ],
      "metadata": {
        "colab": {
          "base_uri": "https://localhost:8080/",
          "height": 35
        },
        "id": "Ji8Nae84xTZm",
        "outputId": "b41bad72-a1f0-420a-86e0-069a5acc22ee"
      },
      "execution_count": 74,
      "outputs": [
        {
          "output_type": "execute_result",
          "data": {
            "text/plain": [
              "'Hlopto!'"
            ],
            "application/vnd.google.colaboratory.intrinsic+json": {
              "type": "string"
            }
          },
          "metadata": {},
          "execution_count": 74
        }
      ]
    },
    {
      "cell_type": "code",
      "source": [
        "s_val[::-2]"
      ],
      "metadata": {
        "colab": {
          "base_uri": "https://localhost:8080/",
          "height": 35
        },
        "id": "7M2TreHZxcMm",
        "outputId": "998004f3-5151-427a-d549-1c86e3aca11a"
      },
      "execution_count": 75,
      "outputs": [
        {
          "output_type": "execute_result",
          "data": {
            "text/plain": [
              "'!otpolH'"
            ],
            "application/vnd.google.colaboratory.intrinsic+json": {
              "type": "string"
            }
          },
          "metadata": {},
          "execution_count": 75
        }
      ]
    },
    {
      "cell_type": "code",
      "source": [
        "s_val[::-1]"
      ],
      "metadata": {
        "colab": {
          "base_uri": "https://localhost:8080/",
          "height": 35
        },
        "id": "c_sWUo_AxeaV",
        "outputId": "04d487b3-1309-4505-986d-892e0558afd7"
      },
      "execution_count": 76,
      "outputs": [
        {
          "output_type": "execute_result",
          "data": {
            "text/plain": [
              "'!nohtyp olleH'"
            ],
            "application/vnd.google.colaboratory.intrinsic+json": {
              "type": "string"
            }
          },
          "metadata": {},
          "execution_count": 76
        }
      ]
    },
    {
      "cell_type": "code",
      "source": [
        "s_val2='hello' + ' ' + 'python!'\n",
        "s_val2"
      ],
      "metadata": {
        "colab": {
          "base_uri": "https://localhost:8080/",
          "height": 35
        },
        "id": "G82AM9x0x4zO",
        "outputId": "a372ff53-9f94-4652-e086-691b69630142"
      },
      "execution_count": 77,
      "outputs": [
        {
          "output_type": "execute_result",
          "data": {
            "text/plain": [
              "'hello python!'"
            ],
            "application/vnd.google.colaboratory.intrinsic+json": {
              "type": "string"
            }
          },
          "metadata": {},
          "execution_count": 77
        }
      ]
    },
    {
      "cell_type": "code",
      "source": [
        "s_val3='win' * 3\n",
        "s_val3"
      ],
      "metadata": {
        "colab": {
          "base_uri": "https://localhost:8080/",
          "height": 35
        },
        "id": "kfRhPcrPyAGl",
        "outputId": "06523949-06f0-46e6-af8e-36401dadb080"
      },
      "execution_count": 79,
      "outputs": [
        {
          "output_type": "execute_result",
          "data": {
            "text/plain": [
              "'winwinwin'"
            ],
            "application/vnd.google.colaboratory.intrinsic+json": {
              "type": "string"
            }
          },
          "metadata": {},
          "execution_count": 79
        }
      ]
    },
    {
      "cell_type": "code",
      "source": [
        "s_val3='hello python!'\n",
        "s_val4='H' + s_val3[1:]\n",
        "s_val4"
      ],
      "metadata": {
        "colab": {
          "base_uri": "https://localhost:8080/",
          "height": 35
        },
        "id": "0dByQ8cIyqL1",
        "outputId": "33ee4bff-3dbd-402f-eadf-db19a8756ef1"
      },
      "execution_count": 81,
      "outputs": [
        {
          "output_type": "execute_result",
          "data": {
            "text/plain": [
              "'Hello python!'"
            ],
            "application/vnd.google.colaboratory.intrinsic+json": {
              "type": "string"
            }
          },
          "metadata": {},
          "execution_count": 81
        }
      ]
    },
    {
      "cell_type": "code",
      "source": [
        "len(s_val4)"
      ],
      "metadata": {
        "colab": {
          "base_uri": "https://localhost:8080/"
        },
        "id": "jP9IBbdgy4HW",
        "outputId": "6997a20f-2d99-496b-eb16-76e0cd811d75"
      },
      "execution_count": 82,
      "outputs": [
        {
          "output_type": "execute_result",
          "data": {
            "text/plain": [
              "13"
            ]
          },
          "metadata": {},
          "execution_count": 82
        }
      ]
    },
    {
      "cell_type": "code",
      "source": [
        "#'python'가 문자열 s_val4안에 있는가?\n",
        "'python' in s_val4"
      ],
      "metadata": {
        "colab": {
          "base_uri": "https://localhost:8080/"
        },
        "id": "4vCqV5eRzidd",
        "outputId": "0a199734-ae36-401b-fd80-a235f37c166c"
      },
      "execution_count": 86,
      "outputs": [
        {
          "output_type": "execute_result",
          "data": {
            "text/plain": [
              "True"
            ]
          },
          "metadata": {},
          "execution_count": 86
        }
      ]
    },
    {
      "cell_type": "code",
      "source": [
        "# 'python'가 문자열 s_val4안에 없는가?\n",
        "'python' not in s_val4"
      ],
      "metadata": {
        "colab": {
          "base_uri": "https://localhost:8080/"
        },
        "id": "XdSkG8B8z9fd",
        "outputId": "e7e0f2ff-87a8-45c6-c85e-afe0484bd2a1"
      },
      "execution_count": 87,
      "outputs": [
        {
          "output_type": "execute_result",
          "data": {
            "text/plain": [
              "False"
            ]
          },
          "metadata": {},
          "execution_count": 87
        }
      ]
    },
    {
      "cell_type": "code",
      "source": [
        "# 여러 줄 문자열은 작은 따옴표나 큰 따옴표를 세번 연속해서 입력\n",
        "s_val5=\"\"\"돈이 다 무슨 소용인가? 사람이 아침에 일어나고 밤에 잠자리에 \n",
        "들며 그사이에 하고 싶은 일을 한다면 \n",
        "그사람은 성공한 \n",
        "것이다.\"\"\"\n",
        "s_val5"
      ],
      "metadata": {
        "colab": {
          "base_uri": "https://localhost:8080/",
          "height": 35
        },
        "id": "vJuxRdkc0Ljl",
        "outputId": "2a78c4b4-abe7-4bc0-c06e-201a483d0ba5"
      },
      "execution_count": 95,
      "outputs": [
        {
          "output_type": "execute_result",
          "data": {
            "text/plain": [
              "'돈이 다 무슨 소용인가? 사람이 아침에 일어나고 밤에 잠자리에 \\n들며 그사이에 하고 싶은 일을 한다면 \\n그사람은 성공한 \\n것이다.'"
            ],
            "application/vnd.google.colaboratory.intrinsic+json": {
              "type": "string"
            }
          },
          "metadata": {},
          "execution_count": 95
        }
      ]
    },
    {
      "cell_type": "code",
      "source": [
        "# 사용자로부터 데이터를 받아올 수 있다.\n",
        "input(\"3+2?\")"
      ],
      "metadata": {
        "colab": {
          "base_uri": "https://localhost:8080/",
          "height": 54
        },
        "id": "AfQwza_q1JTd",
        "outputId": "490aaf94-f778-4749-81de-455421434a1c"
      },
      "execution_count": 96,
      "outputs": [
        {
          "name": "stdout",
          "output_type": "stream",
          "text": [
            "3+2?5\n"
          ]
        },
        {
          "output_type": "execute_result",
          "data": {
            "text/plain": [
              "'5'"
            ],
            "application/vnd.google.colaboratory.intrinsic+json": {
              "type": "string"
            }
          },
          "metadata": {},
          "execution_count": 96
        }
      ]
    },
    {
      "cell_type": "code",
      "source": [
        "a=input('첫번째 정수 입력:')"
      ],
      "metadata": {
        "colab": {
          "base_uri": "https://localhost:8080/"
        },
        "id": "AG0adiAZ1Vs8",
        "outputId": "0b70bd92-4600-4b35-efb9-f2f479749a24"
      },
      "execution_count": 99,
      "outputs": [
        {
          "name": "stdout",
          "output_type": "stream",
          "text": [
            "첫번째 정수 입력:10\n"
          ]
        }
      ]
    },
    {
      "cell_type": "code",
      "source": [
        "type(a)"
      ],
      "metadata": {
        "colab": {
          "base_uri": "https://localhost:8080/"
        },
        "id": "we2YxuSJ1i2U",
        "outputId": "d03a64cd-d91d-443c-f888-239332d97e6b"
      },
      "execution_count": 100,
      "outputs": [
        {
          "output_type": "execute_result",
          "data": {
            "text/plain": [
              "str"
            ]
          },
          "metadata": {},
          "execution_count": 100
        }
      ]
    },
    {
      "cell_type": "code",
      "source": [
        "int(a)"
      ],
      "metadata": {
        "colab": {
          "base_uri": "https://localhost:8080/"
        },
        "id": "oXlAKkFp1qFU",
        "outputId": "7b744f42-8a16-4fb3-c450-e74b176813a8"
      },
      "execution_count": 101,
      "outputs": [
        {
          "output_type": "execute_result",
          "data": {
            "text/plain": [
              "10"
            ]
          },
          "metadata": {},
          "execution_count": 101
        }
      ]
    },
    {
      "cell_type": "code",
      "source": [
        "b=input('두번째 정수 입력:')"
      ],
      "metadata": {
        "colab": {
          "base_uri": "https://localhost:8080/"
        },
        "id": "moz1HnXK1sC8",
        "outputId": "cd4e893d-bbdb-4fac-93cb-8143ceb97b14"
      },
      "execution_count": 102,
      "outputs": [
        {
          "name": "stdout",
          "output_type": "stream",
          "text": [
            "두번째 정수 입력:6\n"
          ]
        }
      ]
    },
    {
      "cell_type": "code",
      "source": [
        "type(b)"
      ],
      "metadata": {
        "colab": {
          "base_uri": "https://localhost:8080/"
        },
        "id": "Rxn-6EYU1wNE",
        "outputId": "4a77633f-81db-475e-a2ed-7336b2282f73"
      },
      "execution_count": 103,
      "outputs": [
        {
          "output_type": "execute_result",
          "data": {
            "text/plain": [
              "str"
            ]
          },
          "metadata": {},
          "execution_count": 103
        }
      ]
    },
    {
      "cell_type": "code",
      "source": [
        "int(b)"
      ],
      "metadata": {
        "colab": {
          "base_uri": "https://localhost:8080/"
        },
        "id": "K_4lCCVv1yFM",
        "outputId": "9ad26d0d-63dc-417d-dabb-511b811ff435"
      },
      "execution_count": 104,
      "outputs": [
        {
          "output_type": "execute_result",
          "data": {
            "text/plain": [
              "6"
            ]
          },
          "metadata": {},
          "execution_count": 104
        }
      ]
    },
    {
      "cell_type": "code",
      "source": [
        "c=int(a) + int(b)\n",
        "print(c)"
      ],
      "metadata": {
        "colab": {
          "base_uri": "https://localhost:8080/"
        },
        "id": "Naxh4xdS15mN",
        "outputId": "987b62ab-d572-42fc-8052-69c20fff9608"
      },
      "execution_count": 107,
      "outputs": [
        {
          "output_type": "stream",
          "name": "stdout",
          "text": [
            "16\n"
          ]
        }
      ]
    },
    {
      "cell_type": "code",
      "source": [
        "s_val6='python'\n",
        "s_val7=83.5\n",
        "print('%s의 점수는 %.2f입니다.' %(s_val6, s_val7)) # python 1, 2 방식"
      ],
      "metadata": {
        "colab": {
          "base_uri": "https://localhost:8080/"
        },
        "id": "Tso2IXcw2OR1",
        "outputId": "b1ec2ac7-f458-4e78-f9c9-b772f0858a4d"
      },
      "execution_count": 109,
      "outputs": [
        {
          "output_type": "stream",
          "name": "stdout",
          "text": [
            "python의 점수는 83.50입니다.\n"
          ]
        }
      ]
    },
    {
      "cell_type": "code",
      "source": [
        "'Hello, {0} {2} {1}'.format('Python', 'Script', 3.6) # '(인덱스)'.format(값)"
      ],
      "metadata": {
        "colab": {
          "base_uri": "https://localhost:8080/",
          "height": 35
        },
        "id": "ii4m8uuJ2rUN",
        "outputId": "c9783e80-0e83-4631-8d38-375d25a9e742"
      },
      "execution_count": 114,
      "outputs": [
        {
          "output_type": "execute_result",
          "data": {
            "text/plain": [
              "'Hello, Python 3.6 Script'"
            ],
            "application/vnd.google.colaboratory.intrinsic+json": {
              "type": "string"
            }
          },
          "metadata": {},
          "execution_count": 114
        }
      ]
    },
    {
      "cell_type": "code",
      "source": [
        "'Hello, {} {}'.format('Python', 3.6) # 인덱스를 생략하면 format에 지정한 순서대로"
      ],
      "metadata": {
        "colab": {
          "base_uri": "https://localhost:8080/",
          "height": 35
        },
        "id": "W3nc9lBl3UCk",
        "outputId": "752b57b6-c24c-4e69-8422-89ad71db51d0"
      },
      "execution_count": 115,
      "outputs": [
        {
          "output_type": "execute_result",
          "data": {
            "text/plain": [
              "'Hello, Python 3.6'"
            ],
            "application/vnd.google.colaboratory.intrinsic+json": {
              "type": "string"
            }
          },
          "metadata": {},
          "execution_count": 115
        }
      ]
    },
    {
      "cell_type": "code",
      "source": [
        "'Hello, {language} {version}'.format(language='Python', version=3.6) # 인덱스 대신 이름으로 지정하기"
      ],
      "metadata": {
        "colab": {
          "base_uri": "https://localhost:8080/",
          "height": 35
        },
        "id": "_gphFoCC3avk",
        "outputId": "3ac0da1a-1dae-4955-b13f-5cb25b96cf3d"
      },
      "execution_count": 117,
      "outputs": [
        {
          "output_type": "execute_result",
          "data": {
            "text/plain": [
              "'Hello, 3.6 Python'"
            ],
            "application/vnd.google.colaboratory.intrinsic+json": {
              "type": "string"
            }
          },
          "metadata": {},
          "execution_count": 117
        }
      ]
    },
    {
      "cell_type": "code",
      "source": [
        "hp1='010'\n",
        "hp2='2531'\n",
        "hp3='9234'\n",
        "print(hp1, hp2, hp3, sep='-')"
      ],
      "metadata": {
        "colab": {
          "base_uri": "https://localhost:8080/"
        },
        "id": "OBv82AtPBSRC",
        "outputId": "392c9234-b465-4238-994e-ca04621d123c"
      },
      "execution_count": 130,
      "outputs": [
        {
          "output_type": "stream",
          "name": "stdout",
          "text": [
            "010-2531-9234\n"
          ]
        }
      ]
    },
    {
      "cell_type": "code",
      "source": [
        "print('korea'.lower())\n",
        "print('korea'.upper())\n",
        "print('korea'.swapcase())\n",
        "print('KOREA'.swapcase())\n",
        "print('we are the world'.title())\n",
        "print('we are the world'.capitalize())"
      ],
      "metadata": {
        "colab": {
          "base_uri": "https://localhost:8080/"
        },
        "id": "TFPxi-MQDSZO",
        "outputId": "c054d627-5810-40f7-958a-77fa5d9b8458"
      },
      "execution_count": 136,
      "outputs": [
        {
          "output_type": "stream",
          "name": "stdout",
          "text": [
            "korea\n",
            "KOREA\n",
            "KOREA\n",
            "korea\n",
            "We Are The World\n",
            "We are the world\n"
          ]
        }
      ]
    },
    {
      "cell_type": "code",
      "source": [
        "print('KORea'.islower())\n",
        "print('korea'.islower())\n",
        "print('KORea'.isupper())\n",
        "print('KOREA'.isupper())"
      ],
      "metadata": {
        "colab": {
          "base_uri": "https://localhost:8080/"
        },
        "id": "lx8ijK3BECsq",
        "outputId": "4ff6c78f-96e4-45d2-c1cb-b551c7bcc7e7"
      },
      "execution_count": 140,
      "outputs": [
        {
          "output_type": "stream",
          "name": "stdout",
          "text": [
            "False\n",
            "True\n",
            "False\n",
            "True\n"
          ]
        }
      ]
    },
    {
      "cell_type": "code",
      "source": [
        "print('we are the world'.find('are'))\n",
        "print('we are the world'.find('WORLD'))\n",
        "print('we are the world'.index('are'))\n",
        "print('we are the world'.index('WORLD'))"
      ],
      "metadata": {
        "colab": {
          "base_uri": "https://localhost:8080/",
          "height": 266
        },
        "id": "Ywq4n89LELXh",
        "outputId": "a0ba6534-2411-4cc0-fe0c-9c101c6fb4c3"
      },
      "execution_count": 146,
      "outputs": [
        {
          "output_type": "stream",
          "name": "stdout",
          "text": [
            "3\n",
            "-1\n",
            "3\n"
          ]
        },
        {
          "output_type": "error",
          "ename": "ValueError",
          "evalue": "ignored",
          "traceback": [
            "\u001b[0;31m---------------------------------------------------------------------------\u001b[0m",
            "\u001b[0;31mValueError\u001b[0m                                Traceback (most recent call last)",
            "\u001b[0;32m<ipython-input-146-ec8e29757fed>\u001b[0m in \u001b[0;36m<module>\u001b[0;34m\u001b[0m\n\u001b[1;32m      2\u001b[0m \u001b[0mprint\u001b[0m\u001b[0;34m(\u001b[0m\u001b[0;34m'we are the world'\u001b[0m\u001b[0;34m.\u001b[0m\u001b[0mfind\u001b[0m\u001b[0;34m(\u001b[0m\u001b[0;34m'WORLD'\u001b[0m\u001b[0;34m)\u001b[0m\u001b[0;34m)\u001b[0m\u001b[0;34m\u001b[0m\u001b[0;34m\u001b[0m\u001b[0m\n\u001b[1;32m      3\u001b[0m \u001b[0mprint\u001b[0m\u001b[0;34m(\u001b[0m\u001b[0;34m'we are the world'\u001b[0m\u001b[0;34m.\u001b[0m\u001b[0mindex\u001b[0m\u001b[0;34m(\u001b[0m\u001b[0;34m'are'\u001b[0m\u001b[0;34m)\u001b[0m\u001b[0;34m)\u001b[0m\u001b[0;34m\u001b[0m\u001b[0;34m\u001b[0m\u001b[0m\n\u001b[0;32m----> 4\u001b[0;31m \u001b[0mprint\u001b[0m\u001b[0;34m(\u001b[0m\u001b[0;34m'we are the world'\u001b[0m\u001b[0;34m.\u001b[0m\u001b[0mindex\u001b[0m\u001b[0;34m(\u001b[0m\u001b[0;34m'WORLD'\u001b[0m\u001b[0;34m)\u001b[0m\u001b[0;34m)\u001b[0m\u001b[0;34m\u001b[0m\u001b[0;34m\u001b[0m\u001b[0m\n\u001b[0m",
            "\u001b[0;31mValueError\u001b[0m: substring not found"
          ]
        }
      ]
    },
    {
      "cell_type": "code",
      "source": [
        "print('we are the world'.join('**'))"
      ],
      "metadata": {
        "colab": {
          "base_uri": "https://localhost:8080/"
        },
        "id": "zSzD53NWFbPw",
        "outputId": "2914e329-296c-4e94-defb-a27283e319df"
      },
      "execution_count": 147,
      "outputs": [
        {
          "output_type": "stream",
          "name": "stdout",
          "text": [
            "*we are the world*\n"
          ]
        }
      ]
    },
    {
      "cell_type": "code",
      "source": [
        "print('.'.join(['ab', 'pq', 'rs']))"
      ],
      "metadata": {
        "colab": {
          "base_uri": "https://localhost:8080/"
        },
        "id": "ev_WiX3KFkQq",
        "outputId": "5eed9091-dc93-4553-beb8-8cc74ae8d449"
      },
      "execution_count": 149,
      "outputs": [
        {
          "output_type": "stream",
          "name": "stdout",
          "text": [
            "ab.pq.rs\n"
          ]
        }
      ]
    },
    {
      "cell_type": "code",
      "source": [
        "help(str.join)"
      ],
      "metadata": {
        "colab": {
          "base_uri": "https://localhost:8080/"
        },
        "id": "5KMAgZW2F475",
        "outputId": "a0fbf181-fe41-4cac-c135-c8f5c2293c15"
      },
      "execution_count": 150,
      "outputs": [
        {
          "output_type": "stream",
          "name": "stdout",
          "text": [
            "Help on method_descriptor:\n",
            "\n",
            "join(self, iterable, /)\n",
            "    Concatenate any number of strings.\n",
            "    \n",
            "    The string whose method is called is inserted in between each given string.\n",
            "    The result is returned as a new string.\n",
            "    \n",
            "    Example: '.'.join(['ab', 'pq', 'rs']) -> 'ab.pq.rs'\n",
            "\n"
          ]
        }
      ]
    },
    {
      "cell_type": "code",
      "source": [
        "print('we are'.isalnum())\n",
        "print('weare'.isalnum())\n",
        "print('we123'.isalnum())\n",
        "print('we123'.isdecimal())\n",
        "print('123'.isdecimal())\n",
        "print('123.4'.isdecimal())\n",
        "print('123.4'.isdigit())"
      ],
      "metadata": {
        "colab": {
          "base_uri": "https://localhost:8080/"
        },
        "id": "adGxpSbCF3S5",
        "outputId": "984a7792-2593-4085-e7a0-3dcb87735fe6"
      },
      "execution_count": 158,
      "outputs": [
        {
          "output_type": "stream",
          "name": "stdout",
          "text": [
            "False\n",
            "True\n",
            "True\n",
            "False\n",
            "True\n",
            "False\n",
            "False\n"
          ]
        }
      ]
    },
    {
      "cell_type": "code",
      "source": [
        "print('we are the world'.split())"
      ],
      "metadata": {
        "colab": {
          "base_uri": "https://localhost:8080/"
        },
        "id": "X1nFAzICGkyx",
        "outputId": "2928fac6-9157-4f8c-8a8d-1bfc6c8260ba"
      },
      "execution_count": 157,
      "outputs": [
        {
          "output_type": "stream",
          "name": "stdout",
          "text": [
            "['we', 'are', 'the', 'world']\n"
          ]
        }
      ]
    },
    {
      "cell_type": "code",
      "source": [
        "l_val=[10,20,30]\n",
        "l_val"
      ],
      "metadata": {
        "colab": {
          "base_uri": "https://localhost:8080/"
        },
        "id": "JwTZ7nyOG_jJ",
        "outputId": "2324d7bb-034b-43d2-f016-d52020f80cb8"
      },
      "execution_count": 159,
      "outputs": [
        {
          "output_type": "execute_result",
          "data": {
            "text/plain": [
              "[10, 20, 30]"
            ]
          },
          "metadata": {},
          "execution_count": 159
        }
      ]
    },
    {
      "cell_type": "code",
      "source": [
        "type(l_val)"
      ],
      "metadata": {
        "colab": {
          "base_uri": "https://localhost:8080/"
        },
        "id": "QnEKEDMtHC7B",
        "outputId": "b5ec7a76-f042-47e6-f4a7-453c1abb43cc"
      },
      "execution_count": 160,
      "outputs": [
        {
          "output_type": "execute_result",
          "data": {
            "text/plain": [
              "list"
            ]
          },
          "metadata": {},
          "execution_count": 160
        }
      ]
    },
    {
      "cell_type": "code",
      "source": [
        "l_val3=[5,10,15,20,20,25]\n",
        "l_val3[0]\n",
        "l_val3[-1]"
      ],
      "metadata": {
        "colab": {
          "base_uri": "https://localhost:8080/"
        },
        "id": "-utZms6IHed5",
        "outputId": "d0419dc4-f2af-4fea-cdc0-953ab501c838"
      },
      "execution_count": 171,
      "outputs": [
        {
          "output_type": "execute_result",
          "data": {
            "text/plain": [
              "25"
            ]
          },
          "metadata": {},
          "execution_count": 171
        }
      ]
    },
    {
      "cell_type": "code",
      "source": [
        "l_val3[0:2] # 슬라이싱"
      ],
      "metadata": {
        "colab": {
          "base_uri": "https://localhost:8080/"
        },
        "id": "KwwHkwWbH-U5",
        "outputId": "57008566-9f2d-41cb-c229-be6e5344d8ee"
      },
      "execution_count": 166,
      "outputs": [
        {
          "output_type": "execute_result",
          "data": {
            "text/plain": [
              "[5, 10]"
            ]
          },
          "metadata": {},
          "execution_count": 166
        }
      ]
    },
    {
      "cell_type": "code",
      "source": [
        "l_val3[::2] # 확장 슬라이싱 (파이썬 2, 3 이상)"
      ],
      "metadata": {
        "colab": {
          "base_uri": "https://localhost:8080/"
        },
        "id": "3dLOFFNtIDUw",
        "outputId": "df5edc52-e25e-4812-be55-0b320cba484b"
      },
      "execution_count": 172,
      "outputs": [
        {
          "output_type": "execute_result",
          "data": {
            "text/plain": [
              "[5, 15, 20]"
            ]
          },
          "metadata": {},
          "execution_count": 172
        }
      ]
    },
    {
      "cell_type": "code",
      "source": [
        "l_val3 + l_val3 + l_val3"
      ],
      "metadata": {
        "colab": {
          "base_uri": "https://localhost:8080/"
        },
        "id": "mC9Wp_d6IYoZ",
        "outputId": "552b82a3-c2c3-4694-ddda-ed2846d0b042"
      },
      "execution_count": 173,
      "outputs": [
        {
          "output_type": "execute_result",
          "data": {
            "text/plain": [
              "[5, 10, 15, 20, 20, 25, 5, 10, 15, 20, 20, 25, 5, 10, 15, 20, 20, 25]"
            ]
          },
          "metadata": {},
          "execution_count": 173
        }
      ]
    },
    {
      "cell_type": "code",
      "source": [
        "l_val3 + [30, 35]"
      ],
      "metadata": {
        "colab": {
          "base_uri": "https://localhost:8080/"
        },
        "id": "ItishU7YIguw",
        "outputId": "0894efb8-da8e-40c4-97e9-1f951bf581c9"
      },
      "execution_count": 174,
      "outputs": [
        {
          "output_type": "execute_result",
          "data": {
            "text/plain": [
              "[5, 10, 15, 20, 20, 25, 30, 35]"
            ]
          },
          "metadata": {},
          "execution_count": 174
        }
      ]
    },
    {
      "cell_type": "code",
      "source": [
        "l_val3*3"
      ],
      "metadata": {
        "colab": {
          "base_uri": "https://localhost:8080/"
        },
        "id": "FO0o-WGpIjQh",
        "outputId": "4a00bd59-eff8-4515-df92-bf2a89e79a4e"
      },
      "execution_count": 175,
      "outputs": [
        {
          "output_type": "execute_result",
          "data": {
            "text/plain": [
              "[5, 10, 15, 20, 20, 25, 5, 10, 15, 20, 20, 25, 5, 10, 15, 20, 20, 25]"
            ]
          },
          "metadata": {},
          "execution_count": 175
        }
      ]
    },
    {
      "cell_type": "code",
      "source": [
        "l_val4=['apple','banana',100,200]\n",
        "l_val4[2] = 300\n",
        "l_val4"
      ],
      "metadata": {
        "colab": {
          "base_uri": "https://localhost:8080/"
        },
        "id": "i2jKurkyIwnI",
        "outputId": "d71d2c42-1863-40a4-9db4-b3fa69629e57"
      },
      "execution_count": 176,
      "outputs": [
        {
          "output_type": "execute_result",
          "data": {
            "text/plain": [
              "['apple', 'banana', 300, 200]"
            ]
          },
          "metadata": {},
          "execution_count": 176
        }
      ]
    },
    {
      "cell_type": "code",
      "source": [
        "l_val5=['apple', 'banana', 100, 200]\n",
        "l_val5[0:2]=[1,2] # 지정한 인덱스[0:2] 범위의 요소를 [1,2]로 변경한다.\n",
        "l_val5"
      ],
      "metadata": {
        "colab": {
          "base_uri": "https://localhost:8080/"
        },
        "id": "3EFxBMPIJhJF",
        "outputId": "e9baff12-3d60-4b39-8594-fbb57ccb08a6"
      },
      "execution_count": 178,
      "outputs": [
        {
          "output_type": "execute_result",
          "data": {
            "text/plain": [
              "[1, 2, 100, 200]"
            ]
          },
          "metadata": {},
          "execution_count": 178
        }
      ]
    },
    {
      "cell_type": "code",
      "source": [
        "l_val5[0:2]=[100] # 크기가 달라도 된다.\n",
        "l_val5"
      ],
      "metadata": {
        "colab": {
          "base_uri": "https://localhost:8080/"
        },
        "id": "Jijhopc7JuWQ",
        "outputId": "3f1d8d79-0fdc-4e90-e8d4-47c651937713"
      },
      "execution_count": 179,
      "outputs": [
        {
          "output_type": "execute_result",
          "data": {
            "text/plain": [
              "[100, 100, 200]"
            ]
          },
          "metadata": {},
          "execution_count": 179
        }
      ]
    },
    {
      "cell_type": "code",
      "source": [
        "l_val6=['appel','vanana',100,200]\n",
        "l_val6[0:2]=[] # 요소 2개를 삭제한다.\n",
        "l_val6"
      ],
      "metadata": {
        "colab": {
          "base_uri": "https://localhost:8080/"
        },
        "id": "-ALOKHwUNhtl",
        "outputId": "a0df95b8-b6ce-4d30-a223-fd8387501bd6"
      },
      "execution_count": 180,
      "outputs": [
        {
          "output_type": "execute_result",
          "data": {
            "text/plain": [
              "[100, 200]"
            ]
          },
          "metadata": {},
          "execution_count": 180
        }
      ]
    },
    {
      "cell_type": "code",
      "source": [
        "# 리스트에 요소를 삭제한다.\n",
        "l_val7=[2, 4, 6, 8]\n",
        "del l_val7[0]\n",
        "l_val7"
      ],
      "metadata": {
        "colab": {
          "base_uri": "https://localhost:8080/"
        },
        "id": "fbDXvyYVN9P_",
        "outputId": "08b62e6c-337d-4ee9-902d-c6eb997ba192"
      },
      "execution_count": 181,
      "outputs": [
        {
          "output_type": "execute_result",
          "data": {
            "text/plain": [
              "[4, 6, 8]"
            ]
          },
          "metadata": {},
          "execution_count": 181
        }
      ]
    },
    {
      "cell_type": "code",
      "source": [
        "# 리스트에 요소를 추가한다.\n",
        "l_val8=[3, 6, 9]\n",
        "l_val8[1]=['red','green'] \n",
        "l_val8"
      ],
      "metadata": {
        "colab": {
          "base_uri": "https://localhost:8080/"
        },
        "id": "Zt0Iz4u7OK1X",
        "outputId": "7b548536-c5f8-44b3-df69-b573b1c3b4a2"
      },
      "execution_count": 192,
      "outputs": [
        {
          "output_type": "execute_result",
          "data": {
            "text/plain": [
              "[3, ['red', 'green'], 9]"
            ]
          },
          "metadata": {},
          "execution_count": 192
        }
      ]
    },
    {
      "cell_type": "code",
      "source": [
        "# 확장 슬라이싱을 사용할 때는 왼쪽과 오른쪽 요소 개수가 같아야 한다.\n",
        "l_val9=[2,4,6,8]\n",
        "l_val9[::2]=[-1,-2,-3,-4] # l_val9[::2] rufrhksms [2,6]\n",
        "l_val9"
      ],
      "metadata": {
        "colab": {
          "base_uri": "https://localhost:8080/",
          "height": 229
        },
        "id": "9frL2nq-PMvv",
        "outputId": "1c48eb8b-8391-4d2f-a5f7-fabccfc6cdeb"
      },
      "execution_count": 196,
      "outputs": [
        {
          "output_type": "error",
          "ename": "ValueError",
          "evalue": "ignored",
          "traceback": [
            "\u001b[0;31m---------------------------------------------------------------------------\u001b[0m",
            "\u001b[0;31mValueError\u001b[0m                                Traceback (most recent call last)",
            "\u001b[0;32m<ipython-input-196-5fe87cf902d1>\u001b[0m in \u001b[0;36m<module>\u001b[0;34m\u001b[0m\n\u001b[1;32m      1\u001b[0m \u001b[0;31m# 확장 슬라이싱을 사용할 때는 왼쪽과 오른쪽 요소 개수가 같아야 한다.\u001b[0m\u001b[0;34m\u001b[0m\u001b[0;34m\u001b[0m\u001b[0;34m\u001b[0m\u001b[0m\n\u001b[1;32m      2\u001b[0m \u001b[0ml_val9\u001b[0m\u001b[0;34m=\u001b[0m\u001b[0;34m[\u001b[0m\u001b[0;36m2\u001b[0m\u001b[0;34m,\u001b[0m\u001b[0;36m4\u001b[0m\u001b[0;34m,\u001b[0m\u001b[0;36m6\u001b[0m\u001b[0;34m,\u001b[0m\u001b[0;36m8\u001b[0m\u001b[0;34m]\u001b[0m\u001b[0;34m\u001b[0m\u001b[0;34m\u001b[0m\u001b[0m\n\u001b[0;32m----> 3\u001b[0;31m \u001b[0ml_val9\u001b[0m\u001b[0;34m[\u001b[0m\u001b[0;34m:\u001b[0m\u001b[0;34m:\u001b[0m\u001b[0;36m2\u001b[0m\u001b[0;34m]\u001b[0m\u001b[0;34m=\u001b[0m\u001b[0;34m[\u001b[0m\u001b[0;34m-\u001b[0m\u001b[0;36m1\u001b[0m\u001b[0;34m,\u001b[0m\u001b[0;34m-\u001b[0m\u001b[0;36m2\u001b[0m\u001b[0;34m,\u001b[0m\u001b[0;34m-\u001b[0m\u001b[0;36m3\u001b[0m\u001b[0;34m,\u001b[0m\u001b[0;34m-\u001b[0m\u001b[0;36m4\u001b[0m\u001b[0;34m]\u001b[0m \u001b[0;31m# l_val9[::2] rufrhksms [2,6]\u001b[0m\u001b[0;34m\u001b[0m\u001b[0;34m\u001b[0m\u001b[0m\n\u001b[0m\u001b[1;32m      4\u001b[0m \u001b[0ml_val9\u001b[0m\u001b[0;34m\u001b[0m\u001b[0;34m\u001b[0m\u001b[0m\n",
            "\u001b[0;31mValueError\u001b[0m: attempt to assign sequence of size 4 to extended slice of size 2"
          ]
        }
      ]
    },
    {
      "cell_type": "code",
      "source": [
        "# 중첨 배열\n",
        "l_val10=[10,20,30]\n",
        "l_val10=['start', l_val10, 'end']\n",
        "l_val10"
      ],
      "metadata": {
        "colab": {
          "base_uri": "https://localhost:8080/"
        },
        "id": "sSk-zuNOP0h3",
        "outputId": "7d526f65-ff17-48f3-e27a-d52eb812ebdb"
      },
      "execution_count": 197,
      "outputs": [
        {
          "output_type": "execute_result",
          "data": {
            "text/plain": [
              "['start', [10, 20, 30], 'end']"
            ]
          },
          "metadata": {},
          "execution_count": 197
        }
      ]
    },
    {
      "cell_type": "code",
      "source": [
        "# 한 변수에서 데이터를 각각 꺼내오는 것을 언패킹(unpacking)이라고 한다.\n",
        "a=['foo','bar',4,5]\n",
        "x,y,z,w=a\n",
        "print(x,y,z,w)"
      ],
      "metadata": {
        "colab": {
          "base_uri": "https://localhost:8080/"
        },
        "id": "fRghPGxAQIhX",
        "outputId": "5bb788ed-62d7-4015-bb90-2817c70d7246"
      },
      "execution_count": 200,
      "outputs": [
        {
          "output_type": "stream",
          "name": "stdout",
          "text": [
            "foo bar 4 5\n"
          ]
        }
      ]
    },
    {
      "cell_type": "code",
      "source": [
        "# 리스트 메소드\n",
        "dir(list)"
      ],
      "metadata": {
        "colab": {
          "base_uri": "https://localhost:8080/"
        },
        "id": "nXexLTDoQ5he",
        "outputId": "c924e73a-8cd4-4019-9563-68a866a69c79"
      },
      "execution_count": 201,
      "outputs": [
        {
          "output_type": "execute_result",
          "data": {
            "text/plain": [
              "['__add__',\n",
              " '__class__',\n",
              " '__contains__',\n",
              " '__delattr__',\n",
              " '__delitem__',\n",
              " '__dir__',\n",
              " '__doc__',\n",
              " '__eq__',\n",
              " '__format__',\n",
              " '__ge__',\n",
              " '__getattribute__',\n",
              " '__getitem__',\n",
              " '__gt__',\n",
              " '__hash__',\n",
              " '__iadd__',\n",
              " '__imul__',\n",
              " '__init__',\n",
              " '__init_subclass__',\n",
              " '__iter__',\n",
              " '__le__',\n",
              " '__len__',\n",
              " '__lt__',\n",
              " '__mul__',\n",
              " '__ne__',\n",
              " '__new__',\n",
              " '__reduce__',\n",
              " '__reduce_ex__',\n",
              " '__repr__',\n",
              " '__reversed__',\n",
              " '__rmul__',\n",
              " '__setattr__',\n",
              " '__setitem__',\n",
              " '__sizeof__',\n",
              " '__str__',\n",
              " '__subclasshook__',\n",
              " 'append',\n",
              " 'clear',\n",
              " 'copy',\n",
              " 'count',\n",
              " 'extend',\n",
              " 'index',\n",
              " 'insert',\n",
              " 'pop',\n",
              " 'remove',\n",
              " 'reverse',\n",
              " 'sort']"
            ]
          },
          "metadata": {},
          "execution_count": 201
        }
      ]
    },
    {
      "cell_type": "code",
      "source": [
        "# list 메소드\n",
        "# append(x) : x를 리스트의 마지막 요소로 추가\n",
        "# extend(list) : list의 요소로 원 리스트를 확장한다.\n",
        "# insert(i, x) : x를 i번째 위치로 끼워 넣는다.\n",
        "# remove(x) : x와 같은 첫 번째 요소를 삭제한다.\n",
        "# pop(), pop(i) : 마지막 요소를 삭제하고 반환한다, i번째 요소를 삭제하고 반환한다.\n",
        "# clear() : 모든 요소를 삭제한다.\n",
        "# index(x) : x와 같은 값의 인덱스를 리턴한다.\n",
        "# count(x) : x와 같은 값의 갯수를 리턴한다.\n",
        "# sort() : 작은 값부터 정렬한다.\n",
        "# revers() : 리스트를 반대로 정렬한다.\n",
        "# copy() : 얕은 복사를 한다.\n",
        "list=[10,20]\n",
        "list.append(30)\n",
        "list\n",
        "list.insert(1, 40)\n",
        "list\n",
        "list.remove(40)\n",
        "list\n",
        "list.pop()\n",
        "list\n",
        "list.pop(0)\n",
        "list\n",
        "list.clear()\n",
        "list"
      ],
      "metadata": {
        "colab": {
          "base_uri": "https://localhost:8080/"
        },
        "id": "xo0HLuBNR7K_",
        "outputId": "04f2bab0-3942-4893-fd14-03dc42ccdad8"
      },
      "execution_count": 214,
      "outputs": [
        {
          "output_type": "execute_result",
          "data": {
            "text/plain": [
              "[]"
            ]
          },
          "metadata": {},
          "execution_count": 214
        }
      ]
    },
    {
      "cell_type": "code",
      "source": [
        "list2=[5,10,15,10,20,10]\n",
        "list2.index(20)\n",
        "list2.count(10)\n",
        "list2.sort()\n",
        "list2\n",
        "list2.reverse()\n",
        "list2\n",
        "list2.copy()"
      ],
      "metadata": {
        "colab": {
          "base_uri": "https://localhost:8080/"
        },
        "id": "z3_KLwGUShkG",
        "outputId": "93009b48-ebde-41e4-dd01-8c7a60d53558"
      },
      "execution_count": 234,
      "outputs": [
        {
          "output_type": "execute_result",
          "data": {
            "text/plain": [
              "[20, 15, 10, 10, 10, 5]"
            ]
          },
          "metadata": {},
          "execution_count": 234
        }
      ]
    },
    {
      "cell_type": "code",
      "source": [
        "l_val11 = ['red', 'green', 'blue', 'white', 'black']\n",
        "print(l_val11.append(\"orange\"))\n",
        "print(l_val11)\n",
        "print(l_val11.extend(['yellow','aqua']))\n",
        "print(l_val11)\n",
        "l_val11.extend('purple')\n",
        "print(l_val11)\n",
        "l_val11.insert(0,\"gray\")\n",
        "print(l_val11)\n",
        "#l_val11.remove(\"b\") # ValueError: list.remove(x): x not in list\n",
        "l_val11.remove('p')\n",
        "print(l_val11)\n",
        "l_val11.pop()\n",
        "print(l_val11)\n",
        "l_val11.pop(0)\n",
        "print(l_val11)\n",
        "print(l_val11.index('blue'))\n",
        "print(l_val11.count('white'))\n",
        "print(l_val11.sort())\n",
        "print(l_val11)\n",
        "print(l_val11.reverse())\n",
        "print(l_val11)\n",
        "l_val12 = l_val11.copy()\n",
        "print(l_val11)\n",
        "print(l_val12)\n",
        "l_val12[0]=\"gray\";\n",
        "print(l_val11)\n",
        "print(l_val12)\n",
        "l_val12.clear()\n",
        "print(l_val12)"
      ],
      "metadata": {
        "colab": {
          "base_uri": "https://localhost:8080/"
        },
        "id": "xllba0tKUHf1",
        "outputId": "28f24d0a-6233-4b39-82aa-e632f4129477"
      },
      "execution_count": 265,
      "outputs": [
        {
          "output_type": "stream",
          "name": "stdout",
          "text": [
            "None\n",
            "['red', 'green', 'blue', 'white', 'black', 'orange']\n",
            "None\n",
            "['red', 'green', 'blue', 'white', 'black', 'orange', 'yellow', 'aqua']\n",
            "['red', 'green', 'blue', 'white', 'black', 'orange', 'yellow', 'aqua', 'p', 'u', 'r', 'p', 'l', 'e']\n",
            "['gray', 'red', 'green', 'blue', 'white', 'black', 'orange', 'yellow', 'aqua', 'p', 'u', 'r', 'p', 'l', 'e']\n",
            "['gray', 'red', 'green', 'blue', 'white', 'black', 'orange', 'yellow', 'aqua', 'u', 'r', 'p', 'l', 'e']\n",
            "['gray', 'red', 'green', 'blue', 'white', 'black', 'orange', 'yellow', 'aqua', 'u', 'r', 'p', 'l']\n",
            "['red', 'green', 'blue', 'white', 'black', 'orange', 'yellow', 'aqua', 'u', 'r', 'p', 'l']\n",
            "2\n",
            "1\n",
            "None\n",
            "['aqua', 'black', 'blue', 'green', 'l', 'orange', 'p', 'r', 'red', 'u', 'white', 'yellow']\n",
            "None\n",
            "['yellow', 'white', 'u', 'red', 'r', 'p', 'orange', 'l', 'green', 'blue', 'black', 'aqua']\n",
            "['yellow', 'white', 'u', 'red', 'r', 'p', 'orange', 'l', 'green', 'blue', 'black', 'aqua']\n",
            "['yellow', 'white', 'u', 'red', 'r', 'p', 'orange', 'l', 'green', 'blue', 'black', 'aqua']\n",
            "['yellow', 'white', 'u', 'red', 'r', 'p', 'orange', 'l', 'green', 'blue', 'black', 'aqua']\n",
            "['gray', 'white', 'u', 'red', 'r', 'p', 'orange', 'l', 'green', 'blue', 'black', 'aqua']\n",
            "None\n",
            "[]\n"
          ]
        }
      ]
    },
    {
      "cell_type": "code",
      "source": [
        "# a값을 b에 할당\n",
        "a=['red', 'blue']\n",
        "b=a\n",
        "print(a,b)\n",
        "b[0]='white'\n",
        "print(a,b)"
      ],
      "metadata": {
        "colab": {
          "base_uri": "https://localhost:8080/"
        },
        "id": "f7984_YyXBvl",
        "outputId": "3fb092c7-8477-4e9f-fdce-43885588bb90"
      },
      "execution_count": 267,
      "outputs": [
        {
          "output_type": "stream",
          "name": "stdout",
          "text": [
            "['red', 'blue'] ['red', 'blue']\n",
            "['white', 'blue'] ['white', 'blue']\n"
          ]
        }
      ]
    },
    {
      "cell_type": "code",
      "source": [
        "a=['red', 'green']\n",
        "b = []\n",
        "print(a,b)\n",
        "b.extend(a)\n",
        "print(a,b)\n",
        "b[0]='black'\n",
        "print(a,b)"
      ],
      "metadata": {
        "colab": {
          "base_uri": "https://localhost:8080/"
        },
        "id": "HFbTLsbGXTq9",
        "outputId": "ddb66dfd-beeb-4f74-a473-c34b46a3e1df"
      },
      "execution_count": 271,
      "outputs": [
        {
          "output_type": "stream",
          "name": "stdout",
          "text": [
            "['red', 'green'] []\n",
            "['red', 'green'] ['red', 'green']\n",
            "['red', 'green'] ['black', 'green']\n"
          ]
        }
      ]
    },
    {
      "cell_type": "code",
      "source": [
        "# 일차원에서는 깊은 카피가 발생\n",
        "a=['red', 'green']\n",
        "b=a.copy()\n",
        "print(a,b)\n",
        "b[0]='black'\n",
        "print(a,b)"
      ],
      "metadata": {
        "colab": {
          "base_uri": "https://localhost:8080/"
        },
        "id": "11A9OZyvX1Wk",
        "outputId": "1c5afd9c-a4ce-495f-d002-75f4a4880464"
      },
      "execution_count": 275,
      "outputs": [
        {
          "output_type": "stream",
          "name": "stdout",
          "text": [
            "['red', 'green'] ['red', 'green']\n",
            "['red', 'green'] ['black', 'green']\n"
          ]
        }
      ]
    },
    {
      "cell_type": "code",
      "source": [
        "# 이차원 배열에서는 값이 같이 바뀐다. 이차원에서는 얕은 카피가 발생\n",
        "a=[['red', 'green']]\n",
        "b=a.copy()\n",
        "print(a,b)\n",
        "b[0][0]='black'\n",
        "print(a,b)"
      ],
      "metadata": {
        "colab": {
          "base_uri": "https://localhost:8080/"
        },
        "id": "IQxwKXsdasTs",
        "outputId": "b9dec7ba-c382-4085-de54-b3fc32aa89e5"
      },
      "execution_count": 276,
      "outputs": [
        {
          "output_type": "stream",
          "name": "stdout",
          "text": [
            "[['red', 'green']] [['red', 'green']]\n",
            "[['black', 'green']] [['black', 'green']]\n"
          ]
        }
      ]
    },
    {
      "cell_type": "code",
      "source": [
        "import copy\n",
        "\n",
        "a=[['red', 'green']]\n",
        "b=copy.deepcopy(a)\n",
        "print(a,b)\n",
        "b[0][0]='black'\n",
        "print(a,b)"
      ],
      "metadata": {
        "colab": {
          "base_uri": "https://localhost:8080/"
        },
        "id": "gC4rhKUea_Dm",
        "outputId": "68ce0b97-9c3d-4f98-fba1-e683ce8a8d28"
      },
      "execution_count": 280,
      "outputs": [
        {
          "output_type": "stream",
          "name": "stdout",
          "text": [
            "[['red', 'green']] [['red', 'green']]\n",
            "[['red', 'green']] [['black', 'green']]\n"
          ]
        }
      ]
    },
    {
      "cell_type": "code",
      "source": [
        "# 튜플(Tuple)\n",
        "# 변경이 불가능한 순서(sequence)가 있는 자료형이다.\n",
        "# 튜플은 ()소괄호로 표현한다.\n",
        "def test():\n",
        "  return 2,3\n",
        "\n",
        "print(test())\n",
        "# 넘기는 값을 2, 3 으로 2개로 작성했지만 결과값은 ()소괄호로 묶여 하나의 값을 리턴한다. 이것이 튜플(Tuple)이다."
      ],
      "metadata": {
        "colab": {
          "base_uri": "https://localhost:8080/"
        },
        "id": "h4_o2IX3b9n7",
        "outputId": "46104998-338a-4940-b158-d15dc363761f"
      },
      "execution_count": 281,
      "outputs": [
        {
          "output_type": "stream",
          "name": "stdout",
          "text": [
            "(2, 3)\n"
          ]
        }
      ]
    },
    {
      "cell_type": "code",
      "source": [
        "# 값 사이에 콤마(,)를 구분하여 사용한다.\n",
        "t_val=(10,20,30) # t_val=10,20,30 괄호 없이도 표현 가능하다.\n",
        "print(t_val)\n",
        "print(type(t_val))"
      ],
      "metadata": {
        "colab": {
          "base_uri": "https://localhost:8080/"
        },
        "id": "_7usKwNwcjdj",
        "outputId": "5c950418-6edb-4aef-d427-24cd574cc193"
      },
      "execution_count": 284,
      "outputs": [
        {
          "output_type": "stream",
          "name": "stdout",
          "text": [
            "(10, 20, 30)\n",
            "<class 'tuple'>\n"
          ]
        }
      ]
    },
    {
      "cell_type": "code",
      "source": [
        "# 괄호()는 수식에서의 ()와 혼동될 가능성이 있기 때문에 주의해야 한다.\n",
        "t_val2=(1)\n",
        "print(type(t_val2))\n",
        "t_val2=(1,)\n",
        "print(type(t_val2))\n",
        "t_val2=1,\n",
        "print(type(t_val2))\n",
        "# 데이터가 한 개 일때는 반드시 쉼표(,)가 있어야 한다. 괄호는 없어도 쉼표(,)는 있어야 한다."
      ],
      "metadata": {
        "colab": {
          "base_uri": "https://localhost:8080/"
        },
        "id": "qFDEqZwnc4fD",
        "outputId": "8f789507-a3bc-4b0d-e4e0-9bedbbb98571"
      },
      "execution_count": 287,
      "outputs": [
        {
          "output_type": "stream",
          "name": "stdout",
          "text": [
            "<class 'int'>\n",
            "<class 'tuple'>\n",
            "<class 'tuple'>\n"
          ]
        }
      ]
    },
    {
      "cell_type": "code",
      "source": [
        "t_val3=(1,2,3)\n",
        "t_val3[0]=100\n",
        "# 튜플은 불변이기 때문에 값을 변경할 수 없다."
      ],
      "metadata": {
        "colab": {
          "base_uri": "https://localhost:8080/",
          "height": 193
        },
        "id": "np9AcWSOdyYr",
        "outputId": "a296f1be-1af9-41a4-e316-54a14ddf9222"
      },
      "execution_count": 288,
      "outputs": [
        {
          "output_type": "error",
          "ename": "TypeError",
          "evalue": "ignored",
          "traceback": [
            "\u001b[0;31m---------------------------------------------------------------------------\u001b[0m",
            "\u001b[0;31mTypeError\u001b[0m                                 Traceback (most recent call last)",
            "\u001b[0;32m<ipython-input-288-e9aff1e778a7>\u001b[0m in \u001b[0;36m<module>\u001b[0;34m\u001b[0m\n\u001b[1;32m      1\u001b[0m \u001b[0mt_val3\u001b[0m\u001b[0;34m=\u001b[0m\u001b[0;34m(\u001b[0m\u001b[0;36m1\u001b[0m\u001b[0;34m,\u001b[0m\u001b[0;36m2\u001b[0m\u001b[0;34m,\u001b[0m\u001b[0;36m3\u001b[0m\u001b[0;34m)\u001b[0m\u001b[0;34m\u001b[0m\u001b[0;34m\u001b[0m\u001b[0m\n\u001b[0;32m----> 2\u001b[0;31m \u001b[0mt_val3\u001b[0m\u001b[0;34m[\u001b[0m\u001b[0;36m0\u001b[0m\u001b[0;34m]\u001b[0m\u001b[0;34m=\u001b[0m\u001b[0;36m100\u001b[0m\u001b[0;34m\u001b[0m\u001b[0;34m\u001b[0m\u001b[0m\n\u001b[0m",
            "\u001b[0;31mTypeError\u001b[0m: 'tuple' object does not support item assignment"
          ]
        }
      ]
    },
    {
      "cell_type": "code",
      "source": [
        "t_val4=(10,'python',80.5,True)\n",
        "t_val4"
      ],
      "metadata": {
        "colab": {
          "base_uri": "https://localhost:8080/"
        },
        "id": "PgzlHywFeDUP",
        "outputId": "fb6c86b5-df3a-40fa-ed91-096cd6a416b0"
      },
      "execution_count": 289,
      "outputs": [
        {
          "output_type": "execute_result",
          "data": {
            "text/plain": [
              "(10, 'python', 80.5, True)"
            ]
          },
          "metadata": {},
          "execution_count": 289
        }
      ]
    },
    {
      "cell_type": "code",
      "source": [
        "# 인덱스를 이용해서 튜플의 각 원소에 접근할 수 있다.\n",
        "t_val5=(5,10,15,20,25,30)\n",
        "print(len(t_val5)) # 데이터의 개수를 리턴\n",
        "print(t_val5[1]) # 1인덱스 요소를 리턴\n",
        "\n",
        "print(t_val5[-1]) # 음수를 사용하면 요소 마지막부터 찾음\n",
        "print(t_val5[0:2]) # 슬라이싱\n",
        "print(t_val5[::2]) # 확장 슬라이싱(파이썬 2,3 이상)\n",
        "\n",
        "# +, * 연산자를 사용하여 이어붙일 수도 반복할 수도 있다\n",
        "print(t_val5 + t_val5 + t_val5) # 연결하기\n",
        "print(t_val5 + (35, 40)) # 연결하기\n",
        "print(t_val5 * 3) # 반복하기\n",
        "\n",
        "# 튜플에 특정값이 있는지 검사할 수 있다\n",
        "print(5 in t_val5) # 멤버 검사\n"
      ],
      "metadata": {
        "colab": {
          "base_uri": "https://localhost:8080/"
        },
        "id": "8yiTN-q9eRyz",
        "outputId": "76792f83-d185-4812-971c-566363992fee"
      },
      "execution_count": 303,
      "outputs": [
        {
          "output_type": "stream",
          "name": "stdout",
          "text": [
            "6\n",
            "10\n",
            "30\n",
            "(5, 10)\n",
            "(5, 15, 25)\n",
            "(5, 10, 15, 20, 25, 30, 5, 10, 15, 20, 25, 30, 5, 10, 15, 20, 25, 30)\n",
            "(5, 10, 15, 20, 25, 30, 35, 40)\n",
            "(5, 10, 15, 20, 25, 30, 5, 10, 15, 20, 25, 30, 5, 10, 15, 20, 25, 30)\n",
            "True\n"
          ]
        }
      ]
    },
    {
      "cell_type": "code",
      "source": [
        "dir(tuple)"
      ],
      "metadata": {
        "colab": {
          "base_uri": "https://localhost:8080/"
        },
        "id": "i71lLG2uftfo",
        "outputId": "0bffb416-6d75-4aa5-961f-11817baaedac"
      },
      "execution_count": 304,
      "outputs": [
        {
          "output_type": "execute_result",
          "data": {
            "text/plain": [
              "['__add__',\n",
              " '__class__',\n",
              " '__contains__',\n",
              " '__delattr__',\n",
              " '__dir__',\n",
              " '__doc__',\n",
              " '__eq__',\n",
              " '__format__',\n",
              " '__ge__',\n",
              " '__getattribute__',\n",
              " '__getitem__',\n",
              " '__getnewargs__',\n",
              " '__gt__',\n",
              " '__hash__',\n",
              " '__init__',\n",
              " '__init_subclass__',\n",
              " '__iter__',\n",
              " '__le__',\n",
              " '__len__',\n",
              " '__lt__',\n",
              " '__mul__',\n",
              " '__ne__',\n",
              " '__new__',\n",
              " '__reduce__',\n",
              " '__reduce_ex__',\n",
              " '__repr__',\n",
              " '__rmul__',\n",
              " '__setattr__',\n",
              " '__sizeof__',\n",
              " '__str__',\n",
              " '__subclasshook__',\n",
              " 'count',\n",
              " 'index']"
            ]
          },
          "metadata": {},
          "execution_count": 304
        }
      ]
    },
    {
      "cell_type": "code",
      "source": [
        "# 튜플은 검색에 관련된 메서드 2개(count, index)를 갖는다.\n",
        "t_val6=(1,2,3,2,2,3)\n",
        "print(t_val6.count(2)) # 2가 몇개 있는가?\n",
        "print(t_val6.index(2)) # 첫 번째 2의 인덱스는?\n",
        "print(t_val6.index(2,2)) # 첫 번째 2의 인덱스를 2위치부터 검색해 나간다."
      ],
      "metadata": {
        "colab": {
          "base_uri": "https://localhost:8080/"
        },
        "id": "FlR_luqJf5Tz",
        "outputId": "cd71f553-69af-4296-b634-d9a3cd725215"
      },
      "execution_count": 320,
      "outputs": [
        {
          "output_type": "stream",
          "name": "stdout",
          "text": [
            "3\n",
            "1\n",
            "3\n"
          ]
        }
      ]
    },
    {
      "cell_type": "code",
      "source": [
        "# 튜플은 중첩해서 사용할 수 있다.\n",
        "t_val7=('python','hello!')\n",
        "t_val8=(t_val7,(1,2,3)) # t_val8=tval7,(1,2,3)\n",
        "print(t_val8)"
      ],
      "metadata": {
        "colab": {
          "base_uri": "https://localhost:8080/"
        },
        "id": "EOzp6LPlgfXF",
        "outputId": "2928f7c8-9b54-4622-b599-ecf4dde12c4e"
      },
      "execution_count": 321,
      "outputs": [
        {
          "output_type": "stream",
          "name": "stdout",
          "text": [
            "(('python', 'hello!'), (1, 2, 3))\n"
          ]
        }
      ]
    },
    {
      "cell_type": "code",
      "source": [
        "# 한 변수에 데이터를 각각 꺼내오는 언패킹을 지원\n",
        "t_val9=(10,20,30)\n",
        "l,m,n=t_val9 # t_val9의 각 요소들이 l,m,n에 저장된다.\n",
        "print(l,m,n)\n",
        "\n",
        "t_val10=((1,2),(3,4))\n",
        "(x1,y1),(x2,y2)=t_val10\n",
        "print(x1,y1)\n",
        "print(x2,y2)"
      ],
      "metadata": {
        "colab": {
          "base_uri": "https://localhost:8080/"
        },
        "id": "Md_vgxD1g3UT",
        "outputId": "57a34b6c-a614-4535-ed09-72124c9b219e"
      },
      "execution_count": 325,
      "outputs": [
        {
          "output_type": "stream",
          "name": "stdout",
          "text": [
            "10 20 30\n",
            "1 2\n",
            "3 4\n"
          ]
        }
      ]
    },
    {
      "cell_type": "code",
      "source": [
        "# 확장된 언패킹을 이용한 자유로운 형태 이용\n",
        "t_val11=(1,2,3,4,5)\n",
        "a,*b=t_val11 \n",
        "print(a,b)\n",
        "print(type(a),type(b))\n",
        "# 하나의 요소만 받기 위해서는 단일 값만, 나머지 모두를 받기 위해서는 앞에 *를 붙인다. 나머지의 타입은 list로 리턴된다.\n",
        "\n",
        "print(\"==========\")\n",
        "\n",
        "*a, b=t_val11\n",
        "print(a,b)\n",
        "a,b,*c=t_val11\n",
        "print(a,b,c)\n",
        "a,*b,c=t_val11\n",
        "print(a,b,c)\n",
        "\n",
        "print(\"==========\")\n",
        "\n",
        "# a,*b,*c=t_val11\n",
        "#  File \"<ipython-input-331-6e1d8c8a2379>\", line 22\n",
        "# SyntaxError: two starred expressions in assignment"
      ],
      "metadata": {
        "id": "R0qt3_vRi5V2"
      },
      "execution_count": null,
      "outputs": []
    },
    {
      "cell_type": "code",
      "source": [
        "# 튜플과 리스트의 공통점\n",
        "# - 임의의 객체를 저장할 수 있다는 것과 순서(sequence) 자료형이다.\n",
        "\n",
        "# 튜플과 리스트의 차이점\n",
        "# - 튜플은 변경 불가능한 순서 자료형이다.\n",
        "# - 튜플은 함수의 가변 인수를 지원한다."
      ],
      "metadata": {
        "id": "hx_ngXbvi841"
      },
      "execution_count": null,
      "outputs": []
    },
    {
      "cell_type": "code",
      "source": [
        "# 리스트와 튜플은 list()와 tuple()내장함수를 사용하여 상호변환이 가능하다.\n",
        "t_val12 = (1,2,3,4,5)\n",
        "l_val=list(t_val12)\n",
        "l_val[0]=100\n",
        "print(l_val)"
      ],
      "metadata": {
        "colab": {
          "base_uri": "https://localhost:8080/",
          "height": 248
        },
        "id": "Brkl3VaTjaLq",
        "outputId": "5acba718-fd40-42f3-e01b-039ce24bd9bf"
      },
      "execution_count": 349,
      "outputs": [
        {
          "output_type": "error",
          "ename": "TypeError",
          "evalue": "ignored",
          "traceback": [
            "\u001b[0;31m---------------------------------------------------------------------------\u001b[0m",
            "\u001b[0;31mTypeError\u001b[0m                                 Traceback (most recent call last)",
            "\u001b[0;32m<ipython-input-349-230bd1064da5>\u001b[0m in \u001b[0;36m<module>\u001b[0;34m\u001b[0m\n\u001b[1;32m      1\u001b[0m \u001b[0;31m# 리스트와 튜플은 list()와 tuple()내장함수를 사용하여 상호변환이 가능하다.\u001b[0m\u001b[0;34m\u001b[0m\u001b[0;34m\u001b[0m\u001b[0;34m\u001b[0m\u001b[0m\n\u001b[1;32m      2\u001b[0m \u001b[0mt_val12\u001b[0m \u001b[0;34m=\u001b[0m \u001b[0;34m(\u001b[0m\u001b[0;36m1\u001b[0m\u001b[0;34m,\u001b[0m\u001b[0;36m2\u001b[0m\u001b[0;34m,\u001b[0m\u001b[0;36m3\u001b[0m\u001b[0;34m,\u001b[0m\u001b[0;36m4\u001b[0m\u001b[0;34m,\u001b[0m\u001b[0;36m5\u001b[0m\u001b[0;34m)\u001b[0m\u001b[0;34m\u001b[0m\u001b[0;34m\u001b[0m\u001b[0m\n\u001b[0;32m----> 3\u001b[0;31m \u001b[0ml_val\u001b[0m\u001b[0;34m=\u001b[0m\u001b[0mlist\u001b[0m\u001b[0;34m(\u001b[0m\u001b[0mt_val12\u001b[0m\u001b[0;34m)\u001b[0m\u001b[0;34m\u001b[0m\u001b[0;34m\u001b[0m\u001b[0m\n\u001b[0m\u001b[1;32m      4\u001b[0m \u001b[0ml_val\u001b[0m\u001b[0;34m[\u001b[0m\u001b[0;36m0\u001b[0m\u001b[0;34m]\u001b[0m\u001b[0;34m=\u001b[0m\u001b[0;36m100\u001b[0m\u001b[0;34m\u001b[0m\u001b[0;34m\u001b[0m\u001b[0m\n\u001b[1;32m      5\u001b[0m \u001b[0mprint\u001b[0m\u001b[0;34m(\u001b[0m\u001b[0ml_val\u001b[0m\u001b[0;34m)\u001b[0m\u001b[0;34m\u001b[0m\u001b[0;34m\u001b[0m\u001b[0m\n",
            "\u001b[0;31mTypeError\u001b[0m: 'list' object is not callable"
          ]
        }
      ]
    },
    {
      "cell_type": "code",
      "source": [
        "t_val13=tuple(l_val)\n",
        "print(t_val12)"
      ],
      "metadata": {
        "colab": {
          "base_uri": "https://localhost:8080/"
        },
        "id": "ZohsWVB8j3fD",
        "outputId": "106f231b-f527-4b0a-d8a5-2c07ce10b746"
      },
      "execution_count": 348,
      "outputs": [
        {
          "output_type": "stream",
          "name": "stdout",
          "text": [
            "(1, 2, 3, 4, 5)\n"
          ]
        }
      ]
    },
    {
      "cell_type": "code",
      "source": [
        "# 반드시 튜플을 사용하는 3가지 경우\n",
        "# 첫번째는 함수에 있어서 하나 이상의 값을 반환할 때\n",
        "def calc(a,b):\n",
        "  return a+b, a*b # 튜플을 반환한다.\n",
        "x,y=calc(5,4)\n",
        "print(x,y)"
      ],
      "metadata": {
        "colab": {
          "base_uri": "https://localhost:8080/"
        },
        "id": "df60f7KikNdZ",
        "outputId": "88abbeeb-d515-4b3a-e15b-169d6f30a83e"
      },
      "execution_count": 341,
      "outputs": [
        {
          "output_type": "stream",
          "name": "stdout",
          "text": [
            "9 20\n"
          ]
        }
      ]
    }
  ]
}