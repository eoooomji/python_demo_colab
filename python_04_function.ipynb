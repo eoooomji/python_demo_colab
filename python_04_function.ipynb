{
  "nbformat": 4,
  "nbformat_minor": 0,
  "metadata": {
    "colab": {
      "provenance": [],
      "collapsed_sections": [
        "Qhz4GLdBrzvz",
        "Fv9wCiHEs6G0"
      ],
      "toc_visible": true,
      "authorship_tag": "ABX9TyNhjScRwec1ej79zrgNcZTB",
      "include_colab_link": true
    },
    "kernelspec": {
      "name": "python3",
      "display_name": "Python 3"
    },
    "language_info": {
      "name": "python"
    }
  },
  "cells": [
    {
      "cell_type": "markdown",
      "metadata": {
        "id": "view-in-github",
        "colab_type": "text"
      },
      "source": [
        "<a href=\"https://colab.research.google.com/github/eoooomji/python_demo_colab/blob/master/python_04_function.ipynb\" target=\"_parent\"><img src=\"https://colab.research.google.com/assets/colab-badge.svg\" alt=\"Open In Colab\"/></a>"
      ]
    },
    {
      "cell_type": "markdown",
      "source": [
        "# function\n",
        "\n",
        "- def proc( ) :   \n",
        "  pass\n",
        "  - pass는 구현을 안할 때 사용한다.\n",
        "  - 아무것도 쓰지 않으면 에러가 발생하기 때문에 pass를 사용한다.\n",
        "\n",
        "1. positional(/), keyword(*), (**)\n",
        "\n",
        "2. overloading\n",
        "\n",
        "3. 외부 자원 변경(global, nonlocal)\n",
        "\n",
        "\n",
        "### callable\n",
        "\n",
        "- 이름 뒤에 괄호()를 붙이는 것을 call(호출)이라고 한다.\n",
        "- 이름 뒤에 괄호()를 붙일 수 있는 것을 callable이라고 한다.\n",
        "- 함수는 사용할 때 이름 뒤에 괄호를 붙인다.\n",
        "- python에서 callable인 것이 3가지 유형이 있다.  \n",
        "  (1) function  \n",
        "  (2) class(init가 정의되었을 경우)  \n",
        "  (3) object(call가 정의되었을 경우)"
      ],
      "metadata": {
        "id": "8tEhIctnlQ3X"
      }
    },
    {
      "cell_type": "code",
      "execution_count": null,
      "metadata": {
        "id": "bL9paN9glIpC"
      },
      "outputs": [],
      "source": [
        "def proc() :\n",
        "  pass\n",
        "  # pass는 구현을 안할 때 사용한다.\n",
        "  # 아무것도 쓰지 않으면 에러가 발생하기 때문에 pass를 사용한다."
      ]
    },
    {
      "cell_type": "code",
      "source": [
        "def display() :\n",
        "  pass\n",
        "\n",
        "display()\n",
        "\n",
        "print(display())"
      ],
      "metadata": {
        "colab": {
          "base_uri": "https://localhost:8080/"
        },
        "id": "vzbwDxB8ls6O",
        "outputId": "033ff05d-0f28-45d8-ae2b-1eb8e0318ada"
      },
      "execution_count": null,
      "outputs": [
        {
          "output_type": "stream",
          "name": "stdout",
          "text": [
            "None\n"
          ]
        }
      ]
    },
    {
      "cell_type": "code",
      "source": [
        "a = 3\n",
        "a()\n",
        "# TypeError: 'int' object is not callable"
      ],
      "metadata": {
        "colab": {
          "base_uri": "https://localhost:8080/",
          "height": 193
        },
        "id": "7tPr1B6bmlDh",
        "outputId": "7df983b5-29b3-4905-ccf0-8969b1fc3393"
      },
      "execution_count": null,
      "outputs": [
        {
          "output_type": "error",
          "ename": "TypeError",
          "evalue": "ignored",
          "traceback": [
            "\u001b[0;31m---------------------------------------------------------------------------\u001b[0m",
            "\u001b[0;31mTypeError\u001b[0m                                 Traceback (most recent call last)",
            "\u001b[0;32m<ipython-input-7-0bf2a3b2549b>\u001b[0m in \u001b[0;36m<module>\u001b[0;34m\u001b[0m\n\u001b[1;32m      1\u001b[0m \u001b[0ma\u001b[0m \u001b[0;34m=\u001b[0m \u001b[0;36m3\u001b[0m\u001b[0;34m\u001b[0m\u001b[0;34m\u001b[0m\u001b[0m\n\u001b[0;32m----> 2\u001b[0;31m \u001b[0ma\u001b[0m\u001b[0;34m(\u001b[0m\u001b[0;34m)\u001b[0m\u001b[0;34m\u001b[0m\u001b[0;34m\u001b[0m\u001b[0m\n\u001b[0m",
            "\u001b[0;31mTypeError\u001b[0m: 'int' object is not callable"
          ]
        }
      ]
    },
    {
      "cell_type": "code",
      "source": [
        "# python에서는 빌트인 함수를 변수로써 사용이 가능하다. 허나 사용하게 되면 갖고있던 기능을 잃는다.\n",
        "# 그럴때는 del을 이용하여 지워주게 되면 기존의 기능을 되찾는다.\n",
        "list = 3\n",
        "del list\n",
        "list()"
      ],
      "metadata": {
        "colab": {
          "base_uri": "https://localhost:8080/"
        },
        "id": "LU2dQCjqmxdv",
        "outputId": "71913a3b-f3a5-4721-ac71-9ac7ebf9c6cb"
      },
      "execution_count": null,
      "outputs": [
        {
          "output_type": "execute_result",
          "data": {
            "text/plain": [
              "[]"
            ]
          },
          "metadata": {},
          "execution_count": 13
        }
      ]
    },
    {
      "cell_type": "code",
      "source": [
        "import keyword\n",
        "keyword.kwlist"
      ],
      "metadata": {
        "colab": {
          "base_uri": "https://localhost:8080/"
        },
        "id": "e5leVLSTnEBg",
        "outputId": "c1923872-b5ff-418e-df9a-e55fe8bd2e78"
      },
      "execution_count": null,
      "outputs": [
        {
          "output_type": "execute_result",
          "data": {
            "text/plain": [
              "['False',\n",
              " 'None',\n",
              " 'True',\n",
              " 'and',\n",
              " 'as',\n",
              " 'assert',\n",
              " 'async',\n",
              " 'await',\n",
              " 'break',\n",
              " 'class',\n",
              " 'continue',\n",
              " 'def',\n",
              " 'del',\n",
              " 'elif',\n",
              " 'else',\n",
              " 'except',\n",
              " 'finally',\n",
              " 'for',\n",
              " 'from',\n",
              " 'global',\n",
              " 'if',\n",
              " 'import',\n",
              " 'in',\n",
              " 'is',\n",
              " 'lambda',\n",
              " 'nonlocal',\n",
              " 'not',\n",
              " 'or',\n",
              " 'pass',\n",
              " 'raise',\n",
              " 'return',\n",
              " 'try',\n",
              " 'while',\n",
              " 'with',\n",
              " 'yield']"
            ]
          },
          "metadata": {},
          "execution_count": 10
        }
      ]
    },
    {
      "cell_type": "code",
      "source": [
        "def prn() :\n",
        "  return 1\n",
        "\n",
        "prn() # 실행\n",
        "\n",
        "prn # 괄호를 붙이지 않으면 함수식을 그대로 반환한다.\n",
        "\n",
        "# 내장함수 callable은 객체가 ()를 붙여 사용할 수 있는지를 True / False로 알려준다.\n",
        "callable(prn)"
      ],
      "metadata": {
        "colab": {
          "base_uri": "https://localhost:8080/"
        },
        "id": "ZDw34mycnO5f",
        "outputId": "957cfad4-073b-47c1-db9e-99c5bda9ccb7"
      },
      "execution_count": null,
      "outputs": [
        {
          "output_type": "execute_result",
          "data": {
            "text/plain": [
              "True"
            ]
          },
          "metadata": {},
          "execution_count": 18
        }
      ]
    },
    {
      "cell_type": "code",
      "source": [
        "a = 3\n",
        "callable(a)"
      ],
      "metadata": {
        "colab": {
          "base_uri": "https://localhost:8080/"
        },
        "id": "mWBieu58o48X",
        "outputId": "205f474b-eb3f-40be-e7c9-803a295d4932"
      },
      "execution_count": null,
      "outputs": [
        {
          "output_type": "execute_result",
          "data": {
            "text/plain": [
              "False"
            ]
          },
          "metadata": {},
          "execution_count": 20
        }
      ]
    },
    {
      "cell_type": "markdown",
      "source": [
        "### 매개변수 (parameter) / 인자 (argument)\n",
        "\n",
        "1. positional\n",
        "2. keyword\n",
        "3. position & keyword\n",
        "4. position only\n",
        "5. keyword only\n",
        "6. 가변 positiona;\n",
        "7. 가변 keyword"
      ],
      "metadata": {
        "id": "WLDOD-fbpSmk"
      }
    },
    {
      "cell_type": "markdown",
      "source": [
        "#### 1. positional\n",
        "함수 호출 : 선언할 때 파라미터의 순서와 호출할 때 인자의 입력순서를 그대로 매칭한다.  \n",
        "(매개변수 순서와 넘겨주는 순서가 중요하다)"
      ],
      "metadata": {
        "id": "5H1A3JoRp7h8"
      }
    },
    {
      "cell_type": "code",
      "source": [
        "def proc(a, b) :\n",
        "  return a, b\n",
        "\n",
        "proc(2, 4)"
      ],
      "metadata": {
        "colab": {
          "base_uri": "https://localhost:8080/"
        },
        "id": "krYG4oW7qFvO",
        "outputId": "fefcd269-da22-4135-d0d4-b7c8b7d29e1a"
      },
      "execution_count": null,
      "outputs": [
        {
          "output_type": "execute_result",
          "data": {
            "text/plain": [
              "(2, 4)"
            ]
          },
          "metadata": {},
          "execution_count": 21
        }
      ]
    },
    {
      "cell_type": "markdown",
      "source": [
        "#### 2. keyword\n",
        "keyword 방식을 이용하면 순서와 관계없이 파라미터 이름에 따라 값이 대입된다.  \n",
        "(순서와 상관 없이 값을 넘겨줄 수 있다.)"
      ],
      "metadata": {
        "id": "yYyb5rxuqY8U"
      }
    },
    {
      "cell_type": "code",
      "source": [
        "proc(b = 4, a = 2)"
      ],
      "metadata": {
        "colab": {
          "base_uri": "https://localhost:8080/"
        },
        "id": "G_DD7m8dpOFP",
        "outputId": "98130ebc-def6-45b0-bdff-7f99732f1e3f"
      },
      "execution_count": null,
      "outputs": [
        {
          "output_type": "execute_result",
          "data": {
            "text/plain": [
              "(2, 4)"
            ]
          },
          "metadata": {},
          "execution_count": 22
        }
      ]
    },
    {
      "cell_type": "markdown",
      "source": [
        "#### 3. position & keyword 혼합\n",
        "(1) 혼합해서 사용시 position먼저 사용을 해야 오류가 나지 않는다.  \n",
        "(2) 한번 keyword 방식을 사용하면, 그 다음부터 keyword방법만 사용할 수 있다.\n"
      ],
      "metadata": {
        "id": "Xs3FLvGuq1Lz"
      }
    },
    {
      "cell_type": "code",
      "source": [
        "def proc(a, b, c) :\n",
        "  return a, b, c\n",
        "\n",
        "proc(2, c = 5, b = 3)"
      ],
      "metadata": {
        "colab": {
          "base_uri": "https://localhost:8080/"
        },
        "id": "gBzxNCeFq5jA",
        "outputId": "39422bf8-e904-47f8-b3ad-9a25a9ac00b2"
      },
      "execution_count": null,
      "outputs": [
        {
          "output_type": "execute_result",
          "data": {
            "text/plain": [
              "(2, 3, 5)"
            ]
          },
          "metadata": {},
          "execution_count": 23
        }
      ]
    },
    {
      "cell_type": "code",
      "source": [
        "proc(b = 5, a = 4, 8)\n",
        "# SyntaxError: positional argument follows keyword argument"
      ],
      "metadata": {
        "colab": {
          "base_uri": "https://localhost:8080/",
          "height": 137
        },
        "id": "FUyF76QOrGRT",
        "outputId": "e18cad28-6c31-4ace-a8ce-04d93f992a5a"
      },
      "execution_count": null,
      "outputs": [
        {
          "output_type": "error",
          "ename": "SyntaxError",
          "evalue": "ignored",
          "traceback": [
            "\u001b[0;36m  File \u001b[0;32m\"<ipython-input-24-622090d4b599>\"\u001b[0;36m, line \u001b[0;32m1\u001b[0m\n\u001b[0;31m    proc(b = 5, a = 4, 8)\u001b[0m\n\u001b[0m                       ^\u001b[0m\n\u001b[0;31mSyntaxError\u001b[0m\u001b[0;31m:\u001b[0m positional argument follows keyword argument\n"
          ]
        }
      ]
    },
    {
      "cell_type": "code",
      "source": [
        "# python 버전 확인\n",
        "import sys\n",
        "sys.version"
      ],
      "metadata": {
        "colab": {
          "base_uri": "https://localhost:8080/",
          "height": 35
        },
        "id": "ZHiTehNQroDW",
        "outputId": "72ff4786-f4e7-457a-dced-47ce11697cce"
      },
      "execution_count": null,
      "outputs": [
        {
          "output_type": "execute_result",
          "data": {
            "text/plain": [
              "'3.8.15 (default, Oct 12 2022, 19:14:39) \\n[GCC 7.5.0]'"
            ],
            "application/vnd.google.colaboratory.intrinsic+json": {
              "type": "string"
            }
          },
          "metadata": {},
          "execution_count": 25
        }
      ]
    },
    {
      "cell_type": "markdown",
      "source": [
        "#### 4. position only\n",
        "(1) position only는 함수를 사용할 때 position방식으로만 인자를 쓸 수 있도록 강제하는 방법이다.  \n",
        "(2) '/' 의 앞에 오는 인자들은 position방식으로 입력할 수 있지만, keyword방식으로 입력할 수 없다.  \n",
        "(3) position only함수를 선언하는 것은 python3.8부터 지원한다.  \n",
        "(4) 이전 버전에서는 사전 정의된 position only함수는 있지만, 사용자가 만들 수는 없었다.\n"
      ],
      "metadata": {
        "id": "Qhz4GLdBrzvz"
      }
    },
    {
      "cell_type": "code",
      "source": [
        "# 무조긴 / 기호는 뒤에 넣어주어야 한다.\n",
        "def proc(a, b, c, /) :\n",
        "  return a, b, c\n",
        "\n",
        "proc(4, 5, 6)"
      ],
      "metadata": {
        "colab": {
          "base_uri": "https://localhost:8080/"
        },
        "id": "dRGekI3yr_eV",
        "outputId": "92b80a9c-fcda-4b36-a953-3a50f9be11d7"
      },
      "execution_count": null,
      "outputs": [
        {
          "output_type": "execute_result",
          "data": {
            "text/plain": [
              "(4, 5, 6)"
            ]
          },
          "metadata": {},
          "execution_count": 26
        }
      ]
    },
    {
      "cell_type": "code",
      "source": [
        "proc(4, c = 5, b = 2)\n",
        "# TypeError: proc() got some positional-only arguments passed as keyword arguments: 'b, c'"
      ],
      "metadata": {
        "colab": {
          "base_uri": "https://localhost:8080/",
          "height": 174
        },
        "id": "wCVmuYJPsbgG",
        "outputId": "77317ad9-5a25-4bb4-92ef-ea8d36b7545b"
      },
      "execution_count": null,
      "outputs": [
        {
          "output_type": "error",
          "ename": "TypeError",
          "evalue": "ignored",
          "traceback": [
            "\u001b[0;31m---------------------------------------------------------------------------\u001b[0m",
            "\u001b[0;31mTypeError\u001b[0m                                 Traceback (most recent call last)",
            "\u001b[0;32m<ipython-input-27-bd8574b7d712>\u001b[0m in \u001b[0;36m<module>\u001b[0;34m\u001b[0m\n\u001b[0;32m----> 1\u001b[0;31m \u001b[0mproc\u001b[0m\u001b[0;34m(\u001b[0m\u001b[0;36m4\u001b[0m\u001b[0;34m,\u001b[0m \u001b[0mc\u001b[0m \u001b[0;34m=\u001b[0m \u001b[0;36m5\u001b[0m\u001b[0;34m,\u001b[0m \u001b[0mb\u001b[0m \u001b[0;34m=\u001b[0m \u001b[0;36m2\u001b[0m\u001b[0;34m)\u001b[0m\u001b[0;34m\u001b[0m\u001b[0;34m\u001b[0m\u001b[0m\n\u001b[0m",
            "\u001b[0;31mTypeError\u001b[0m: proc() got some positional-only arguments passed as keyword arguments: 'b, c'"
          ]
        }
      ]
    },
    {
      "cell_type": "code",
      "source": [
        "def proc2(a, b, c, /, d, e) :\n",
        "  return a, b, c, d, e\n",
        "\n",
        "print(proc2(1, 2, 3, e = 4, d = 5))"
      ],
      "metadata": {
        "colab": {
          "base_uri": "https://localhost:8080/"
        },
        "id": "GD_052rruCsN",
        "outputId": "9a5a26be-9952-4ad7-93bb-d7ca9cc5228b"
      },
      "execution_count": null,
      "outputs": [
        {
          "output_type": "stream",
          "name": "stdout",
          "text": [
            "(1, 2, 3, 5, 4)\n"
          ]
        }
      ]
    },
    {
      "cell_type": "markdown",
      "source": [
        "#### 5. keyword only\n",
        "(1) keyword only 방식은 인자를 keyword방식으로만 입력하도록 강제하는 방법이다.  \n",
        "(2) '*' 이후로는 키워드 방식만 가능하다."
      ],
      "metadata": {
        "id": "qD6p_FWVoYy9"
      }
    },
    {
      "cell_type": "code",
      "source": [
        "def proc(*, a, b, c) :\n",
        "  return a, b, c\n",
        "\n",
        "proc(c = 3, a = 5, b = 2)"
      ],
      "metadata": {
        "colab": {
          "base_uri": "https://localhost:8080/"
        },
        "id": "DRr20fgDlnOO",
        "outputId": "f92659c7-d3bf-42d0-8b97-a960b25278ea"
      },
      "execution_count": null,
      "outputs": [
        {
          "output_type": "execute_result",
          "data": {
            "text/plain": [
              "(5, 2, 3)"
            ]
          },
          "metadata": {},
          "execution_count": 13
        }
      ]
    },
    {
      "cell_type": "code",
      "source": [
        "proc( 3, 4, 5)\n",
        "# TypeError: proc() takes 0 positional arguments but 3 were given"
      ],
      "metadata": {
        "colab": {
          "base_uri": "https://localhost:8080/",
          "height": 174
        },
        "id": "LSttLwvlpQJP",
        "outputId": "b12d49b1-3bcb-4bd5-ead0-8dd92008e4df"
      },
      "execution_count": null,
      "outputs": [
        {
          "output_type": "error",
          "ename": "TypeError",
          "evalue": "ignored",
          "traceback": [
            "\u001b[0;31m---------------------------------------------------------------------------\u001b[0m",
            "\u001b[0;31mTypeError\u001b[0m                                 Traceback (most recent call last)",
            "\u001b[0;32m<ipython-input-14-571b59e19e1c>\u001b[0m in \u001b[0;36m<module>\u001b[0;34m\u001b[0m\n\u001b[0;32m----> 1\u001b[0;31m \u001b[0mproc\u001b[0m\u001b[0;34m(\u001b[0m \u001b[0;36m3\u001b[0m\u001b[0;34m,\u001b[0m \u001b[0;36m4\u001b[0m\u001b[0;34m,\u001b[0m \u001b[0;36m5\u001b[0m\u001b[0;34m)\u001b[0m\u001b[0;34m\u001b[0m\u001b[0;34m\u001b[0m\u001b[0m\n\u001b[0m",
            "\u001b[0;31mTypeError\u001b[0m: proc() takes 0 positional arguments but 3 were given"
          ]
        }
      ]
    },
    {
      "cell_type": "markdown",
      "source": [
        "#### 6. 가변 positional\n",
        "(1) 가변 positional은 파라미터 이름에 '*'를 붙인다.  \n",
        "(2) positional 방식으로 입력되는 인자의 개수에 상관없이 모두 받아온다."
      ],
      "metadata": {
        "id": "fiwlX6X9p0F2"
      }
    },
    {
      "cell_type": "code",
      "source": [
        "def proc(*a) :\n",
        "  return a\n",
        "\n",
        "print(proc())\n",
        "print(type(proc()))\n",
        "print(proc(1))\n",
        "print(proc(1, 2))"
      ],
      "metadata": {
        "colab": {
          "base_uri": "https://localhost:8080/"
        },
        "id": "6LFHSjXipzVZ",
        "outputId": "71b23186-2791-4015-d0e7-41126ab6ffc6"
      },
      "execution_count": null,
      "outputs": [
        {
          "output_type": "stream",
          "name": "stdout",
          "text": [
            "()\n",
            "<class 'tuple'>\n",
            "(1,)\n",
            "(1, 2)\n"
          ]
        }
      ]
    },
    {
      "cell_type": "code",
      "source": [
        "# 인자로 넘긴 값을 tuple로 반환한다.\n",
        "def proc2(*a) :\n",
        "  print(type(a))\n",
        "  hap = 0\n",
        "  for i in a :\n",
        "    hap += i\n",
        "  return hap"
      ],
      "metadata": {
        "id": "_RfcR5zbqh7m"
      },
      "execution_count": null,
      "outputs": []
    },
    {
      "cell_type": "code",
      "source": [
        "print(proc2(1, 3, 5))\n",
        "proc2()"
      ],
      "metadata": {
        "colab": {
          "base_uri": "https://localhost:8080/"
        },
        "id": "BrcgomziqvFu",
        "outputId": "11b53eb8-94c8-4a5c-d0f5-91af218941ed"
      },
      "execution_count": null,
      "outputs": [
        {
          "output_type": "stream",
          "name": "stdout",
          "text": [
            "<class 'tuple'>\n",
            "9\n",
            "<class 'tuple'>\n"
          ]
        },
        {
          "output_type": "execute_result",
          "data": {
            "text/plain": [
              "0"
            ]
          },
          "metadata": {},
          "execution_count": 32
        }
      ]
    },
    {
      "cell_type": "markdown",
      "source": [
        "#### 7. 가변 keyword  \n",
        "(1) 가변 keyword는 파라미터 이름에 '**'를 붙인다.  \n",
        "(2) keyword 방식으로 입력되는 인자의 개수에 상관없이 모두 받아온다."
      ],
      "metadata": {
        "id": "TmDqr4N8rPIs"
      }
    },
    {
      "cell_type": "code",
      "source": [
        "# 인자로 넘겨준 이름을 dict의 키로 사용한다.\n",
        "def proc(**a) :\n",
        "  return a\n",
        "\n",
        "print(proc())\n",
        "print(type(proc()))\n",
        "print(proc(a = 1))\n",
        "print(proc(a = 1, b = 2))"
      ],
      "metadata": {
        "colab": {
          "base_uri": "https://localhost:8080/"
        },
        "id": "RuuqbnOorgJd",
        "outputId": "fa54de01-bb28-430f-9468-0c714c7ed78a"
      },
      "execution_count": null,
      "outputs": [
        {
          "output_type": "stream",
          "name": "stdout",
          "text": [
            "{}\n",
            "<class 'dict'>\n",
            "{'a': 1}\n",
            "{'a': 1, 'b': 2}\n"
          ]
        }
      ]
    },
    {
      "cell_type": "code",
      "source": [
        "def proc2(**a) :\n",
        "  print(type(a))\n",
        "  return a"
      ],
      "metadata": {
        "id": "OKNrfjltr0NG"
      },
      "execution_count": null,
      "outputs": []
    },
    {
      "cell_type": "code",
      "source": [
        "print(proc2(x = 2, y = 3))\n",
        "print(proc2(x = 3, y = 1, z =[1, 2, 3]))"
      ],
      "metadata": {
        "colab": {
          "base_uri": "https://localhost:8080/"
        },
        "id": "vhvrF23-sEBF",
        "outputId": "586e37b3-7e1a-4b7a-cb14-99345d78f2d1"
      },
      "execution_count": null,
      "outputs": [
        {
          "output_type": "stream",
          "name": "stdout",
          "text": [
            "<class 'dict'>\n",
            "{'x': 2, 'y': 3}\n",
            "<class 'dict'>\n",
            "{'x': 3, 'y': 1, 'z': [1, 2, 3]}\n"
          ]
        }
      ]
    },
    {
      "cell_type": "markdown",
      "source": [
        "#### 가변 keyword / 가변 positional 은 한 번만 사용 할 수 있다."
      ],
      "metadata": {
        "id": "Fv9wCiHEs6G0"
      }
    },
    {
      "cell_type": "code",
      "source": [
        "def proc(*a, *b) :\n",
        "  return a, b"
      ],
      "metadata": {
        "colab": {
          "base_uri": "https://localhost:8080/",
          "height": 137
        },
        "id": "Ty_cD1kztCvl",
        "outputId": "c2ee57fa-49e1-4ed3-e891-ee5d4ca742f5"
      },
      "execution_count": null,
      "outputs": [
        {
          "output_type": "error",
          "ename": "SyntaxError",
          "evalue": "ignored",
          "traceback": [
            "\u001b[0;36m  File \u001b[0;32m\"<ipython-input-50-901fb769f5c6>\"\u001b[0;36m, line \u001b[0;32m1\u001b[0m\n\u001b[0;31m    def proc(*a, *b) :\u001b[0m\n\u001b[0m                 ^\u001b[0m\n\u001b[0;31mSyntaxError\u001b[0m\u001b[0;31m:\u001b[0m invalid syntax\n"
          ]
        }
      ]
    },
    {
      "cell_type": "code",
      "source": [
        "def proc(**a, **b) :\n",
        "  return a, b"
      ],
      "metadata": {
        "colab": {
          "base_uri": "https://localhost:8080/",
          "height": 137
        },
        "id": "zvePR8tAs5eG",
        "outputId": "296100fa-86d7-4e1b-f313-30b03e9da05a"
      },
      "execution_count": null,
      "outputs": [
        {
          "output_type": "error",
          "ename": "SyntaxError",
          "evalue": "ignored",
          "traceback": [
            "\u001b[0;36m  File \u001b[0;32m\"<ipython-input-51-d20bbf11b521>\"\u001b[0;36m, line \u001b[0;32m1\u001b[0m\n\u001b[0;31m    def proc(**a, **b) :\u001b[0m\n\u001b[0m                  ^\u001b[0m\n\u001b[0;31mSyntaxError\u001b[0m\u001b[0;31m:\u001b[0m invalid syntax\n"
          ]
        }
      ]
    },
    {
      "cell_type": "code",
      "source": [
        "def proc(*a, b) :\n",
        "  return a, b\n",
        "\n",
        "print(proc(1, 2, 3, 4, b = 5))"
      ],
      "metadata": {
        "colab": {
          "base_uri": "https://localhost:8080/"
        },
        "id": "F3l9Irr1tRd2",
        "outputId": "4d1e9669-db1a-41ad-83b3-6ea6d35ab805"
      },
      "execution_count": null,
      "outputs": [
        {
          "output_type": "stream",
          "name": "stdout",
          "text": [
            "((1, 2, 3, 4), 5)\n"
          ]
        }
      ]
    },
    {
      "cell_type": "markdown",
      "source": [
        "### return\n",
        "1. 함수의 결과값을 넘겨주는 목적으로 사용한다.\n",
        "2. 함수를 강제적으로 종료할 때 사용한다.\n",
        "3. 함수는 return을 2번 이상 사용할 수 없다.\n",
        "4. 함수의 결과를 2개 이상으로 받고 싶다면  unpacking해서 값을 받는다."
      ],
      "metadata": {
        "id": "dw4_8gw1uf1b"
      }
    },
    {
      "cell_type": "code",
      "source": [
        "def proc(*a) :\n",
        "  total = 0\n",
        "  avg = 0\n",
        "  for i in a :\n",
        "    total += i\n",
        "\n",
        "  avg = total / len(a)\n",
        "  return (total, avg)"
      ],
      "metadata": {
        "id": "mD8iWtdIudVl"
      },
      "execution_count": null,
      "outputs": []
    },
    {
      "cell_type": "code",
      "source": [
        "# 함수의 결과를 2개로 받고 싶을 때 unpacking을 사용하면 된다.\n",
        "print(proc(1, 2, 3, 4))\n",
        "total, avg = proc(1, 2, 3, 4)\n",
        "print(total)\n",
        "print(avg)"
      ],
      "metadata": {
        "colab": {
          "base_uri": "https://localhost:8080/"
        },
        "id": "4LGDcQSkykKV",
        "outputId": "8ed1c903-b807-4bf7-fb75-54beba744d4a"
      },
      "execution_count": null,
      "outputs": [
        {
          "output_type": "stream",
          "name": "stdout",
          "text": [
            "(10, 2.5)\n",
            "10\n",
            "2.5\n"
          ]
        }
      ]
    },
    {
      "cell_type": "code",
      "source": [
        "def proc(**a) :\n",
        "  total = 0\n",
        "  avg = 0\n",
        "  # for key in a :\n",
        "    # total += a[key]\n",
        "  # for key, value in a.items() :\n",
        "  for _, value in a.items() :\n",
        "     total += value\n",
        "  avg = total / len(a)\n",
        "  return (total, avg)"
      ],
      "metadata": {
        "id": "pKBTd_kAzGoN"
      },
      "execution_count": null,
      "outputs": []
    },
    {
      "cell_type": "code",
      "source": [
        "print(proc(a = 5, b = 6, c = 7, d = 8))\n",
        "total, avg = proc(a = 5, b = 6, c = 7, d = 8)\n",
        "print(total)\n",
        "print(avg)"
      ],
      "metadata": {
        "colab": {
          "base_uri": "https://localhost:8080/"
        },
        "id": "63zvFWUVzfss",
        "outputId": "14db7df5-65b9-4d5f-9d74-4d5b47ba2118"
      },
      "execution_count": null,
      "outputs": [
        {
          "output_type": "stream",
          "name": "stdout",
          "text": [
            "(26, 6.5)\n",
            "26\n",
            "6.5\n"
          ]
        }
      ]
    },
    {
      "cell_type": "markdown",
      "source": [
        "### overloading / overriding\n",
        "\n",
        "1. overloading : 단일  \n",
        "함수의 이름은 같은데, 매개변수 개수 또는 매개변수의 타입이 달라야 한다.  \n",
        "python은 overload를 지원하지 않는다.\n",
        "\n",
        "\n",
        "2. overriding : 상속  "
      ],
      "metadata": {
        "id": "_1mFapHP1WcB"
      }
    },
    {
      "cell_type": "code",
      "source": [
        "def add(a) :\n",
        "  return a + 1\n",
        "\n",
        "add(3)"
      ],
      "metadata": {
        "colab": {
          "base_uri": "https://localhost:8080/"
        },
        "id": "EpEUv8Pd2srD",
        "outputId": "2aad5368-cadd-4f1a-ef54-6b67dbab41be"
      },
      "execution_count": null,
      "outputs": [
        {
          "output_type": "execute_result",
          "data": {
            "text/plain": [
              "4"
            ]
          },
          "metadata": {},
          "execution_count": 101
        }
      ]
    },
    {
      "cell_type": "code",
      "source": [
        "def add(a, b) :\n",
        "  return a + b\n",
        "\n",
        "add(5, 6)"
      ],
      "metadata": {
        "colab": {
          "base_uri": "https://localhost:8080/"
        },
        "id": "Zj-Bq4nA2wDM",
        "outputId": "4523d8b3-0728-4f23-ba5b-438f3eafa171"
      },
      "execution_count": null,
      "outputs": [
        {
          "output_type": "execute_result",
          "data": {
            "text/plain": [
              "11"
            ]
          },
          "metadata": {},
          "execution_count": 102
        }
      ]
    },
    {
      "cell_type": "code",
      "source": [
        "# overloading 사례(python은 지원 안함)\n",
        "def add(a) :\n",
        "  return a + 1\n",
        "\n",
        "def add(a, b) :\n",
        "  return a + b\n",
        "\n",
        "add(3)\n",
        "add(5, 6)"
      ],
      "metadata": {
        "colab": {
          "base_uri": "https://localhost:8080/",
          "height": 229
        },
        "id": "Lg0qVOJq01W0",
        "outputId": "2c396767-3075-44a2-e7e1-84f5f2a03819"
      },
      "execution_count": null,
      "outputs": [
        {
          "output_type": "error",
          "ename": "TypeError",
          "evalue": "ignored",
          "traceback": [
            "\u001b[0;31m---------------------------------------------------------------------------\u001b[0m",
            "\u001b[0;31mTypeError\u001b[0m                                 Traceback (most recent call last)",
            "\u001b[0;32m<ipython-input-100-aaa0435adb11>\u001b[0m in \u001b[0;36m<module>\u001b[0;34m\u001b[0m\n\u001b[1;32m      5\u001b[0m   \u001b[0;32mreturn\u001b[0m \u001b[0ma\u001b[0m \u001b[0;34m+\u001b[0m \u001b[0mb\u001b[0m\u001b[0;34m\u001b[0m\u001b[0;34m\u001b[0m\u001b[0m\n\u001b[1;32m      6\u001b[0m \u001b[0;34m\u001b[0m\u001b[0m\n\u001b[0;32m----> 7\u001b[0;31m \u001b[0madd\u001b[0m\u001b[0;34m(\u001b[0m\u001b[0;36m3\u001b[0m\u001b[0;34m)\u001b[0m\u001b[0;34m\u001b[0m\u001b[0;34m\u001b[0m\u001b[0m\n\u001b[0m\u001b[1;32m      8\u001b[0m \u001b[0madd\u001b[0m\u001b[0;34m(\u001b[0m\u001b[0;36m5\u001b[0m\u001b[0;34m,\u001b[0m \u001b[0;36m6\u001b[0m\u001b[0;34m)\u001b[0m\u001b[0;34m\u001b[0m\u001b[0;34m\u001b[0m\u001b[0m\n",
            "\u001b[0;31mTypeError\u001b[0m: add() missing 1 required positional argument: 'b'"
          ]
        }
      ]
    },
    {
      "cell_type": "code",
      "source": [
        "def proc(a,b) :\n",
        "  return a + b\n",
        "\n",
        "type(proc)\n",
        "dir(proc)\n",
        "type(proc.__name__)"
      ],
      "metadata": {
        "colab": {
          "base_uri": "https://localhost:8080/"
        },
        "id": "yT_fxcwu2JvV",
        "outputId": "1bff5f2c-2fbb-48fc-9e8a-86f68e358506"
      },
      "execution_count": null,
      "outputs": [
        {
          "output_type": "execute_result",
          "data": {
            "text/plain": [
              "str"
            ]
          },
          "metadata": {},
          "execution_count": 106
        }
      ]
    },
    {
      "cell_type": "code",
      "source": [
        "# __name__은 함수 이름을 알려준다.\n",
        "proc.__name__"
      ],
      "metadata": {
        "colab": {
          "base_uri": "https://localhost:8080/",
          "height": 35
        },
        "id": "SIHdk9y13hFj",
        "outputId": "b5f3f64d-998e-490a-8f7a-9e02ffacb295"
      },
      "execution_count": null,
      "outputs": [
        {
          "output_type": "execute_result",
          "data": {
            "text/plain": [
              "'proc'"
            ],
            "application/vnd.google.colaboratory.intrinsic+json": {
              "type": "string"
            }
          },
          "metadata": {},
          "execution_count": 107
        }
      ]
    },
    {
      "cell_type": "code",
      "source": [
        "# proc는 함수를 가져오고, proc()는 함수를 실행하라는 뜻이다.\n",
        "display = proc;\n",
        "print(display.__name__)\n",
        "display"
      ],
      "metadata": {
        "colab": {
          "base_uri": "https://localhost:8080/"
        },
        "id": "pWMXU7FD3vDL",
        "outputId": "385ab599-86a6-46b1-fe99-a43c90cadf0c"
      },
      "execution_count": null,
      "outputs": [
        {
          "output_type": "stream",
          "name": "stdout",
          "text": [
            "proc\n"
          ]
        },
        {
          "output_type": "execute_result",
          "data": {
            "text/plain": [
              "<function __main__.proc(a, b)>"
            ]
          },
          "metadata": {},
          "execution_count": 112
        }
      ]
    },
    {
      "cell_type": "code",
      "source": [
        "display(3, 4)"
      ],
      "metadata": {
        "colab": {
          "base_uri": "https://localhost:8080/"
        },
        "id": "Bf5bSZUh4ghL",
        "outputId": "227d4a9f-644b-4a9d-cfca-1f4af5df7241"
      },
      "execution_count": null,
      "outputs": [
        {
          "output_type": "execute_result",
          "data": {
            "text/plain": [
              "7"
            ]
          },
          "metadata": {},
          "execution_count": 113
        }
      ]
    },
    {
      "cell_type": "code",
      "source": [
        "# python은 외부에서 함수 내부로 접근할 수 없다.\n",
        "# z는 함수 내에서 할당되었으므로 함수 밖에서 호출할 수 없다.\n",
        "def proc() :\n",
        "  z = 1\n",
        "\n",
        "z "
      ],
      "metadata": {
        "colab": {
          "base_uri": "https://localhost:8080/",
          "height": 211
        },
        "id": "1G4T2eAg4jOz",
        "outputId": "5c904bd3-c016-4548-e0c5-5d87ca45f27c"
      },
      "execution_count": null,
      "outputs": [
        {
          "output_type": "error",
          "ename": "NameError",
          "evalue": "ignored",
          "traceback": [
            "\u001b[0;31m---------------------------------------------------------------------------\u001b[0m",
            "\u001b[0;31mNameError\u001b[0m                                 Traceback (most recent call last)",
            "\u001b[0;32m<ipython-input-114-9ba17b77049c>\u001b[0m in \u001b[0;36m<module>\u001b[0;34m\u001b[0m\n\u001b[1;32m      2\u001b[0m   \u001b[0mz\u001b[0m \u001b[0;34m=\u001b[0m \u001b[0;36m1\u001b[0m\u001b[0;34m\u001b[0m\u001b[0;34m\u001b[0m\u001b[0m\n\u001b[1;32m      3\u001b[0m \u001b[0;34m\u001b[0m\u001b[0m\n\u001b[0;32m----> 4\u001b[0;31m \u001b[0mz\u001b[0m\u001b[0;34m\u001b[0m\u001b[0;34m\u001b[0m\u001b[0m\n\u001b[0m",
            "\u001b[0;31mNameError\u001b[0m: name 'z' is not defined"
          ]
        }
      ]
    },
    {
      "cell_type": "code",
      "source": [
        "# 함수 내부에서는 외부에 접근할 수 있다.\n",
        "c = 10\n",
        "def display() :\n",
        "  print(c)\n",
        "\n",
        "display()"
      ],
      "metadata": {
        "colab": {
          "base_uri": "https://localhost:8080/"
        },
        "id": "UF9kSpJA5QIE",
        "outputId": "cb6c94f6-f013-42d1-a5bc-5fdc996b00d1"
      },
      "execution_count": null,
      "outputs": [
        {
          "output_type": "stream",
          "name": "stdout",
          "text": [
            "10\n"
          ]
        }
      ]
    },
    {
      "cell_type": "code",
      "source": [
        "# python은 함수 외부의 값을 접근 가능하지만 변경은 불가능하다.\n",
        "t = 3\n",
        "def prn() :\n",
        "  t = t + 1\n",
        "  print(t)\n",
        "\n",
        "prn()"
      ],
      "metadata": {
        "colab": {
          "base_uri": "https://localhost:8080/",
          "height": 339
        },
        "id": "dI6GJnAz5wFT",
        "outputId": "7861a17d-814e-43e0-9778-90a1e91cf362"
      },
      "execution_count": null,
      "outputs": [
        {
          "output_type": "error",
          "ename": "UnboundLocalError",
          "evalue": "ignored",
          "traceback": [
            "\u001b[0;31m---------------------------------------------------------------------------\u001b[0m",
            "\u001b[0;31mUnboundLocalError\u001b[0m                         Traceback (most recent call last)",
            "\u001b[0;32m<ipython-input-116-edebfea3d984>\u001b[0m in \u001b[0;36m<module>\u001b[0;34m\u001b[0m\n\u001b[1;32m      4\u001b[0m   \u001b[0mprint\u001b[0m\u001b[0;34m(\u001b[0m\u001b[0mt\u001b[0m\u001b[0;34m)\u001b[0m\u001b[0;34m\u001b[0m\u001b[0;34m\u001b[0m\u001b[0m\n\u001b[1;32m      5\u001b[0m \u001b[0;34m\u001b[0m\u001b[0m\n\u001b[0;32m----> 6\u001b[0;31m \u001b[0mprn\u001b[0m\u001b[0;34m(\u001b[0m\u001b[0;34m)\u001b[0m\u001b[0;34m\u001b[0m\u001b[0;34m\u001b[0m\u001b[0m\n\u001b[0m",
            "\u001b[0;32m<ipython-input-116-edebfea3d984>\u001b[0m in \u001b[0;36mprn\u001b[0;34m()\u001b[0m\n\u001b[1;32m      1\u001b[0m \u001b[0mt\u001b[0m \u001b[0;34m=\u001b[0m \u001b[0;36m3\u001b[0m\u001b[0;34m\u001b[0m\u001b[0;34m\u001b[0m\u001b[0m\n\u001b[1;32m      2\u001b[0m \u001b[0;32mdef\u001b[0m \u001b[0mprn\u001b[0m\u001b[0;34m(\u001b[0m\u001b[0;34m)\u001b[0m \u001b[0;34m:\u001b[0m\u001b[0;34m\u001b[0m\u001b[0;34m\u001b[0m\u001b[0m\n\u001b[0;32m----> 3\u001b[0;31m   \u001b[0mt\u001b[0m \u001b[0;34m=\u001b[0m \u001b[0mt\u001b[0m \u001b[0;34m+\u001b[0m \u001b[0;36m1\u001b[0m\u001b[0;34m\u001b[0m\u001b[0;34m\u001b[0m\u001b[0m\n\u001b[0m\u001b[1;32m      4\u001b[0m   \u001b[0mprint\u001b[0m\u001b[0;34m(\u001b[0m\u001b[0mt\u001b[0m\u001b[0;34m)\u001b[0m\u001b[0;34m\u001b[0m\u001b[0;34m\u001b[0m\u001b[0m\n\u001b[1;32m      5\u001b[0m \u001b[0;34m\u001b[0m\u001b[0m\n",
            "\u001b[0;31mUnboundLocalError\u001b[0m: local variable 't' referenced before assignment"
          ]
        }
      ]
    },
    {
      "cell_type": "code",
      "source": [
        "# global은 내부와 외부의 객체를 동기화(sync) 시켜준다.\n",
        "# global은 사용하기는 편하지만 언제 바뀌었는지 흐름을 파악하기 힘들기 때문에 남용은 하지 않는다.\n",
        "t = 3\n",
        "def prn() :\n",
        "  global t\n",
        "  t = t + 1\n",
        "  print(t)\n",
        "\n",
        "prn()\n",
        "\n",
        "# 외부의 자원도 값이 변경이 되어서 출력이 된다.\n",
        "t "
      ],
      "metadata": {
        "colab": {
          "base_uri": "https://localhost:8080/"
        },
        "id": "18q8wWzi6ckh",
        "outputId": "64f1d2d3-6700-408b-f3cf-c31c6ccec18c"
      },
      "execution_count": null,
      "outputs": [
        {
          "output_type": "stream",
          "name": "stdout",
          "text": [
            "4\n"
          ]
        },
        {
          "output_type": "execute_result",
          "data": {
            "text/plain": [
              "4"
            ]
          },
          "metadata": {},
          "execution_count": 119
        }
      ]
    },
    {
      "cell_type": "markdown",
      "source": [
        "#### 중첩함수 사용"
      ],
      "metadata": {
        "id": "Y_igvlX88EA4"
      }
    },
    {
      "cell_type": "code",
      "source": [
        "# 완전히 함수 밖에서 선언된 변수는 global을 사용하고(전역 변수), \n",
        "# outer함수 안에서 선언된 변수(지역 변수)를 inner함수에서 불러올 때는 nonlocal로 불러와서 사용한다.\n",
        "k = 1\n",
        "def outer() :\n",
        "  m = 1\n",
        "  def inner() :\n",
        "    global k\n",
        "    k = k + 1\n",
        "    nonlocal m\n",
        "    m = m + 1\n",
        "    return k, m\n",
        "  return inner()"
      ],
      "metadata": {
        "id": "OQIhxD9E8FYp"
      },
      "execution_count": null,
      "outputs": []
    },
    {
      "cell_type": "code",
      "source": [
        "outer()"
      ],
      "metadata": {
        "colab": {
          "base_uri": "https://localhost:8080/"
        },
        "id": "ttYf1cht8YaV",
        "outputId": "1cc86a4d-de94-407b-a57e-167355601206"
      },
      "execution_count": null,
      "outputs": [
        {
          "output_type": "execute_result",
          "data": {
            "text/plain": [
              "(2, 2)"
            ]
          },
          "metadata": {},
          "execution_count": 128
        }
      ]
    },
    {
      "cell_type": "markdown",
      "source": [
        "## Module & Package"
      ],
      "metadata": {
        "id": "4OMEC_yQI1CU"
      }
    },
    {
      "cell_type": "markdown",
      "source": [
        "### Module\n",
        "\n",
        "#### Import\n",
        "\n",
        "- import 방법\n",
        "  - import 모듈 : 모듈 전체를 가져오는 형식\n",
        "  - from 모듈 import * : 모듈 전체를 가져오는 형식\n",
        "  - from 모듈 import 변수 or 함수 or 클래스\n",
        "  - from 모듈 as 별칭\n",
        "  - from 모듈 import 변수 or 함수 or 클래스 as 별칭\n",
        "  - from 모듈 import 변수 or 함수 or 클래스 as 별칭1   \n",
        "    import 변수 or 함수 or 클래스 as 별칭2\n",
        "  - from 모듈 import(변수 or 함수 or 클래스 , ...)\n",
        "\n",
        "\n",
        "- import 모듈 == from 모듈 import *\n",
        "\n",
        "- from 패키지.모듈 import 변수, 함수, 클래스\n",
        "\n",
        "- import 모듈 as alias == (ex) import numpy as np"
      ],
      "metadata": {
        "id": "qWmVB8acI7aM"
      }
    },
    {
      "cell_type": "markdown",
      "source": [
        "#### __name__ 변수(언더바)\n",
        "- 모듈은 모듈의 이름을 나타내는 내장 변수 name을 갖는다."
      ],
      "metadata": {
        "id": "kVyZF2oFJC1k"
      }
    },
    {
      "cell_type": "code",
      "source": [
        "# 최상위 모듈\n",
        "print(__name__)"
      ],
      "metadata": {
        "colab": {
          "base_uri": "https://localhost:8080/"
        },
        "id": "kWSAN86wJE6-",
        "outputId": "bd165902-5ba8-4ca0-a26e-619d08a61fa0"
      },
      "execution_count": null,
      "outputs": [
        {
          "output_type": "stream",
          "name": "stdout",
          "text": [
            "__main__\n"
          ]
        }
      ]
    },
    {
      "cell_type": "code",
      "source": [
        "# 자신의 모듈 이름을 가진 경우\n",
        "import math\n",
        "\n",
        "print(math.__name__)"
      ],
      "metadata": {
        "colab": {
          "base_uri": "https://localhost:8080/"
        },
        "id": "VUu2FvbyJFTc",
        "outputId": "d8ebe64e-08c0-4da4-9044-1bb20e3895bd"
      },
      "execution_count": null,
      "outputs": [
        {
          "output_type": "stream",
          "name": "stdout",
          "text": [
            "math\n"
          ]
        }
      ]
    },
    {
      "cell_type": "markdown",
      "source": [
        "#### 함수나 클래스가 속한 모듈 알아내기\n",
        "- 파이썬을 실행하고 나서 한번이라도 가져온 모든 모듈은 sys.modules변수에 저장된다\n"
      ],
      "metadata": {
        "id": "TG2GXabnTMNR"
      }
    },
    {
      "cell_type": "code",
      "source": [
        "import sys\n",
        "\n",
        "# 사전형\n",
        "print(type(sys.modules))\n",
        "\n",
        "# 가져온 모듈이름들을 출력한다.\n",
        "print('\\n'.join(sys.modules.keys()))"
      ],
      "metadata": {
        "colab": {
          "base_uri": "https://localhost:8080/"
        },
        "id": "x0b9YZgpIcB4",
        "outputId": "604e1001-1979-489e-df78-6c660f031840"
      },
      "execution_count": null,
      "outputs": [
        {
          "output_type": "stream",
          "name": "stdout",
          "text": [
            "<class 'dict'>\n"
          ]
        }
      ]
    },
    {
      "cell_type": "markdown",
      "source": [
        "#### __module__ 속성(언더바)\n",
        "- 파이썬 클래스나 함수는 그들이 속한 모듈 이름을 갖는 속성이다."
      ],
      "metadata": {
        "id": "UhKqiGXgTkwJ"
      }
    },
    {
      "cell_type": "code",
      "source": [
        "from math import sin\n",
        "print(sin.__module__)\n",
        "\n",
        "from cmd import Cmd\n",
        "print(Cmd.__module__)"
      ],
      "metadata": {
        "colab": {
          "base_uri": "https://localhost:8080/"
        },
        "id": "r5P7myRATkWk",
        "outputId": "d4019e5b-602f-4ea7-d8b7-2dd9db9d970f"
      },
      "execution_count": null,
      "outputs": [
        {
          "output_type": "stream",
          "name": "stdout",
          "text": [
            "math\n",
            "cmd\n"
          ]
        }
      ]
    },
    {
      "cell_type": "markdown",
      "source": [
        "### Package\n",
        "\n",
        "- 패키지는 모듈을 모아 놓은 단위이다. \n",
        "- 관련된 여러개의 모듈을 계층적인 몇개의 디렉토리로 분류해서 저장하고 계층화 한다.\n",
        "\n",
        "- 패키지 구조\n",
        "  - 패키지를 생성하면 __init__.py 파일이 반드시 있어야한다.(파이참-자동생성)\n",
        "  - __init__.py파일은 패키지를 가져올 때 자동으로 실행된다."
      ],
      "metadata": {
        "id": "FMit9DUJUPhh"
      }
    },
    {
      "cell_type": "markdown",
      "source": [
        "## 함수형 프로그래밍"
      ],
      "metadata": {
        "id": "VhpZ_AxsZUQX"
      }
    },
    {
      "cell_type": "markdown",
      "source": [
        "### 함수형 프로그래밍 정의\n",
        "\n",
        "- 자료 처리를 수학적 함수의 계산으로 취급하고 상태와 가변 데이터를 멀리하는 프로그래밍 패러다임의 하나이다.\n",
        "\n",
        "- Side Effect(부수효과)를 제거할 경우에 프로그래밍의 동작을 이해하고 예측하는 것이 훨씬 쉬워지기 때문에  \n",
        "Side Effect가 없는 Pure Function(순수함수)들로만 작성 되어야 한다.\n",
        "  - Side Effect\n",
        "\n",
        "- 함수형 프로그래밍은 함수를 수학적 함수로 그대로 정의한다.  \n",
        "  f(x) g(x) h(x) = f(g(h(x)))\n",
        "- 조건 : 함수를 수학적 함수로 그대로 정의함(문 보다 식을 선호)\n",
        "- loop문, mutable(global, nonlocal) 사용 안함"
      ],
      "metadata": {
        "id": "4_ZMlG5rZYyH"
      }
    },
    {
      "cell_type": "markdown",
      "source": [
        "#### 함수형 프로그래밍의 기본 원리들\n",
        "\n",
        "1. 순수함수 : 변경 불가능한 값을 이용\n",
        "2. 람다 표현식\n",
        "3. 고차함수\n",
        "4. 클로져\n",
        "5. 일급객체함수"
      ],
      "metadata": {
        "id": "tNPNGZDvaCOv"
      }
    },
    {
      "cell_type": "markdown",
      "source": [
        "#### 순수함수와 비 순수함수\n",
        "\n",
        "1. 순수함수\n",
        "\n",
        "  - 순수함수는 함수의 실행이 외부 상태에 영향을 끼치지 않는 함수이다.\n",
        "  \n",
        "\n",
        "2. 비순수함수\n",
        "\n",
        "  - 비 순수함수는 수정자 함수라고도 한다.\n",
        "\n",
        "  - 함수의 실행이 외부 상태에 영향을 끼치는 함수이다."
      ],
      "metadata": {
        "id": "jBL_6ZLjafyv"
      }
    },
    {
      "cell_type": "code",
      "source": [
        "# 비순수 함수\n",
        "number_list=[1,2,3]\n",
        "\n",
        "def append_number(n) :\n",
        "  number_list.append(n)\n",
        "\n",
        "append_number(4)\n",
        "print(number_list)\n",
        "\n",
        "# 함수 실행이 외부 상태에 영향을 끼침\n",
        "# 함수 외부에 있는 number_list의 상태가 바뀜"
      ],
      "metadata": {
        "colab": {
          "base_uri": "https://localhost:8080/"
        },
        "id": "VmOfxf2PazM5",
        "outputId": "fcb2a224-a2dc-4f67-c221-500606b08ac1"
      },
      "execution_count": null,
      "outputs": [
        {
          "output_type": "stream",
          "name": "stdout",
          "text": [
            "[1, 2, 3, 4]\n"
          ]
        }
      ]
    },
    {
      "cell_type": "markdown",
      "source": [
        "#### 람다함수(lambda) \n",
        "\n",
        "-  람다함수 = 익명함수 = 람다표현식\n",
        "\n",
        "- 재사용하지 않을 함수를 만들 때 사용한다.\n",
        "\n",
        "- 람다 표현식은 함수를 간편하게 작성할 수 있어서 다른 함수의 인수로 넣을 때 주로 사용한다."
      ],
      "metadata": {
        "id": "G8_qJ6q5bH0f"
      }
    },
    {
      "cell_type": "code",
      "source": [
        "# lambda 매개변수 : 식\n",
        "# lambda로 만든 익명 함수를 호출하려면 람다 표현식을 변수에 할당해야 한다.\n",
        "plus_ten = lambda x : x + 10\n",
        "plus_ten(1)"
      ],
      "metadata": {
        "colab": {
          "base_uri": "https://localhost:8080/"
        },
        "id": "Y6c7rpE0ba53",
        "outputId": "22854e57-2510-42bb-c934-2b887eb5e46a"
      },
      "execution_count": null,
      "outputs": [
        {
          "output_type": "execute_result",
          "data": {
            "text/plain": [
              "11"
            ]
          },
          "metadata": {},
          "execution_count": 143
        }
      ]
    },
    {
      "cell_type": "code",
      "source": [
        "# lambda표현식은 변수에 할당하지 않고 람다 표현식 자체를 바로 호출할 수 있다.\n",
        "# (lambda 매개변수들 : 식) (인수들)\n",
        "(lambda x : x + 10)(10)"
      ],
      "metadata": {
        "colab": {
          "base_uri": "https://localhost:8080/"
        },
        "id": "SnB-xY5eboHR",
        "outputId": "130dc742-5773-4834-e0e4-2eee5d45c2bb"
      },
      "execution_count": null,
      "outputs": [
        {
          "output_type": "execute_result",
          "data": {
            "text/plain": [
              "20"
            ]
          },
          "metadata": {},
          "execution_count": 146
        }
      ]
    },
    {
      "cell_type": "code",
      "source": [
        "# 람다 표현식 안에서는 변수를 만들 수 없다.\n",
        "(lambda x : y = 10; x + y)(1)"
      ],
      "metadata": {
        "colab": {
          "base_uri": "https://localhost:8080/",
          "height": 137
        },
        "id": "tzqu2JV8cB3u",
        "outputId": "d3b8923c-3c6b-4b1a-9ef3-da3a022e58d8"
      },
      "execution_count": null,
      "outputs": [
        {
          "output_type": "error",
          "ename": "SyntaxError",
          "evalue": "ignored",
          "traceback": [
            "\u001b[0;36m  File \u001b[0;32m\"<ipython-input-148-37f0759c5c26>\"\u001b[0;36m, line \u001b[0;32m2\u001b[0m\n\u001b[0;31m    (lambda x : y = 10; x + y)(1)\u001b[0m\n\u001b[0m                  ^\u001b[0m\n\u001b[0;31mSyntaxError\u001b[0m\u001b[0;31m:\u001b[0m invalid syntax\n"
          ]
        }
      ]
    },
    {
      "cell_type": "code",
      "source": [
        "# 람다 표현식 바깥에 있는 변수는 사용할 수 있다.\n",
        "y = 10\n",
        "(lambda x : x + y)(1)"
      ],
      "metadata": {
        "colab": {
          "base_uri": "https://localhost:8080/"
        },
        "id": "fv1pb_bccCo2",
        "outputId": "a473400b-2cc8-497f-965b-5876825d6fd4"
      },
      "execution_count": null,
      "outputs": [
        {
          "output_type": "execute_result",
          "data": {
            "text/plain": [
              "11"
            ]
          },
          "metadata": {},
          "execution_count": 147
        }
      ]
    },
    {
      "cell_type": "markdown",
      "source": [
        "#### higher order function\n",
        "\n",
        "- 함수의 인자에 함수를 넣을 수 있고 함수의 결과가 함수일 수 있는 것을 higher order function이라고 한다.\n",
        "  - function을 인자로 사용할 수 있음\n",
        "  - function에 return을 사용할 수 있음"
      ],
      "metadata": {
        "id": "oz12kSrXftpu"
      }
    },
    {
      "cell_type": "code",
      "source": [
        "def foo(func, a) :\n",
        " return func(a)\n",
        "\n",
        "def ss(a) :\n",
        "  return a + 1\n",
        "\n",
        "foo(ss, 1)"
      ],
      "metadata": {
        "colab": {
          "base_uri": "https://localhost:8080/"
        },
        "id": "xBYMeSxOfrnO",
        "outputId": "c469def1-53e4-4ddc-e6ce-d82ef890f522"
      },
      "execution_count": null,
      "outputs": [
        {
          "output_type": "execute_result",
          "data": {
            "text/plain": [
              "2"
            ]
          },
          "metadata": {},
          "execution_count": 150
        }
      ]
    },
    {
      "cell_type": "markdown",
      "source": [
        "#### closuer\n",
        "\n",
        "- python 공식문서에는 없는 용어\n",
        "\n",
        "- 다음과 같이 함수를 중첩해서 사용하는 기법을 closuer라고 한다.\n",
        "\n",
        "- 함수가 종료 되었어도 외부에서 사용하기 위해 사용한다."
      ],
      "metadata": {
        "id": "CJ0jkONMhBGm"
      }
    },
    {
      "cell_type": "code",
      "source": [
        "def x(n) :\n",
        "  def y(m) :\n",
        "    return n + m\n",
        "  return y\n",
        "k = x(3)"
      ],
      "metadata": {
        "id": "FMhMf0dkhGqm"
      },
      "execution_count": null,
      "outputs": []
    },
    {
      "cell_type": "code",
      "source": [
        "k"
      ],
      "metadata": {
        "colab": {
          "base_uri": "https://localhost:8080/"
        },
        "id": "eAehzKDfilyo",
        "outputId": "b6585885-ba55-4e51-b73f-7cfb5eb0fe7d"
      },
      "execution_count": null,
      "outputs": [
        {
          "output_type": "execute_result",
          "data": {
            "text/plain": [
              "<function __main__.x.<locals>.y(m)>"
            ]
          },
          "metadata": {},
          "execution_count": 158
        }
      ]
    },
    {
      "cell_type": "code",
      "source": [
        "k(4)"
      ],
      "metadata": {
        "colab": {
          "base_uri": "https://localhost:8080/"
        },
        "id": "KquXS-0rim7Y",
        "outputId": "9e31e534-e44e-421c-d7d0-9d8148941415"
      },
      "execution_count": null,
      "outputs": [
        {
          "output_type": "execute_result",
          "data": {
            "text/plain": [
              "7"
            ]
          },
          "metadata": {},
          "execution_count": 159
        }
      ]
    },
    {
      "cell_type": "markdown",
      "source": [
        "#### 일급객체함수(first class function)\n",
        "\n",
        "- python에서 가장 중요한 개념은 객체(object)이다.\n",
        "\n",
        "- first class를 직역하면 1급인데, 함수를 객체처럼 사용할 수 있는 패러다임을 말한다.\n",
        "\n",
        "  - 변수나 데이터 구조에 넣을 수 있어야 한다.\n",
        "  - 매개변수에 전달할 수 있어야 한다.\n",
        "  - 반환값으로 사용할 수 있어야 한다."
      ],
      "metadata": {
        "id": "y70v4UJ2jDw8"
      }
    },
    {
      "cell_type": "markdown",
      "source": [
        "### Loop\n",
        "\n",
        "- Loop를 쓰면 이해하기 쉬운 장점이 있다.\n",
        "\n",
        "- Loop는 논리적 흐름을 깨는 경우가 있어 프로그램의 버그를 만들기 쉬운 단점이 있다.\n",
        "\n",
        "- 코드를 이해하기 위해서 왔다 갔다 해야하므로 Loop는 속도가 느리다."
      ],
      "metadata": {
        "id": "fa77ZUCGjpYl"
      }
    },
    {
      "cell_type": "markdown",
      "source": [
        "#### Loop를 사용하지 않는 기법\n",
        "\n",
        "- functional paradigm에서는 Loop를 사용하지 않는 기법을 선호한다.\n",
        "\n",
        "- Loop를 사용하지 않는 4가지 기법\n",
        "  - iterator, generator\n",
        "  - recursion\n",
        "  - comprehension\n",
        "  - map, filter, reduce"
      ],
      "metadata": {
        "id": "4wDtFirEkE2t"
      }
    },
    {
      "cell_type": "markdown",
      "source": [
        "#### comprehension\n",
        "\n",
        "- iterable한 오브젝트를 생성하기 위한 방법 중 하나이다.\n",
        "\n",
        "- 파이썬에는 다음과 같은 3가지 종류의 Comprehension이 있다.\n",
        "\n",
        "  - List Comprehension (LC)\n",
        "  - Set Comprehension (SC)\n",
        "  - Dict Comprehension (DC)"
      ],
      "metadata": {
        "id": "n1K0uqdEkriE"
      }
    },
    {
      "cell_type": "markdown",
      "source": [
        "##### List Comprehension\n",
        "- 리스트 정의 시 값을 정하지 않고 호출 시 리스트 내의 값들이 처리되도록 구성\n",
        "- A = [표현식 for i in  sequence if 논리식]"
      ],
      "metadata": {
        "id": "jjQfweTFlVIO"
      }
    },
    {
      "cell_type": "code",
      "source": [
        "squares = []\n",
        "for x in range(10) :\n",
        "  squares.append(x**2)\n",
        "\n",
        "print(squares)"
      ],
      "metadata": {
        "colab": {
          "base_uri": "https://localhost:8080/"
        },
        "id": "249YStJbkCrt",
        "outputId": "8b5e8ae5-14f3-494a-a2dd-405534d99f29"
      },
      "execution_count": null,
      "outputs": [
        {
          "output_type": "stream",
          "name": "stdout",
          "text": [
            "[0, 1, 4, 9, 16, 25, 36, 49, 64, 81]\n"
          ]
        }
      ]
    },
    {
      "cell_type": "code",
      "source": [
        "squares = [x**2 for x in range(10)]\n",
        "print(squares)"
      ],
      "metadata": {
        "colab": {
          "base_uri": "https://localhost:8080/"
        },
        "id": "GmM3wCXzlqOU",
        "outputId": "686c83c1-daed-49b3-bea9-f414ddce754b"
      },
      "execution_count": null,
      "outputs": [
        {
          "output_type": "stream",
          "name": "stdout",
          "text": [
            "[0, 1, 4, 9, 16, 25, 36, 49, 64, 81]\n"
          ]
        }
      ]
    },
    {
      "cell_type": "code",
      "source": [
        "# 리스트 내의 다중 for문을 이용해서 처리\n",
        "# A = [표현식 for i in sequence for j in sequence if 논리식]\n",
        "li = []\n",
        "for i in range(5) :\n",
        "  for j in range(5) :\n",
        "    if j % 2 == 0 :\n",
        "      li.append((i, j))\n",
        "print(li)\n",
        "\n",
        "l = [(x, y) for x in range(5) for y in range(5) if y % 2 == 0]\n",
        "print(l)\n",
        "print(li == l)"
      ],
      "metadata": {
        "colab": {
          "base_uri": "https://localhost:8080/"
        },
        "id": "UI1vUcE4meR0",
        "outputId": "da2c722d-23b1-4ec4-d4e4-09923931f619"
      },
      "execution_count": null,
      "outputs": [
        {
          "output_type": "stream",
          "name": "stdout",
          "text": [
            "[(0, 0), (0, 2), (0, 4), (1, 0), (1, 2), (1, 4), (2, 0), (2, 2), (2, 4), (3, 0), (3, 2), (3, 4), (4, 0), (4, 2), (4, 4)]\n",
            "[(0, 0), (0, 2), (0, 4), (1, 0), (1, 2), (1, 4), (2, 0), (2, 2), (2, 4), (3, 0), (3, 2), (3, 4), (4, 0), (4, 2), (4, 4)]\n",
            "True\n"
          ]
        }
      ]
    },
    {
      "cell_type": "code",
      "source": [
        "# 리스트 컴프리헨션에서 함수 내부 로직에서 외부변수를 참조할 때 모든 순환이 된 결과를 참조\n",
        "lh = [ lambda x : x + n for n in range(5)]\n",
        "print(lh)\n",
        "for i in lh :\n",
        "  print(i(0))"
      ],
      "metadata": {
        "colab": {
          "base_uri": "https://localhost:8080/"
        },
        "id": "o_1BpuiUnbTu",
        "outputId": "6f75863d-52e5-49e3-8556-d443c8517b6e"
      },
      "execution_count": null,
      "outputs": [
        {
          "output_type": "stream",
          "name": "stdout",
          "text": [
            "[<function <listcomp>.<lambda> at 0x7ff591510310>, <function <listcomp>.<lambda> at 0x7ff591510280>, <function <listcomp>.<lambda> at 0x7ff59aa37ee0>, <function <listcomp>.<lambda> at 0x7ff591615040>, <function <listcomp>.<lambda> at 0x7ff5914a65e0>]\n",
            "4\n",
            "4\n",
            "4\n",
            "4\n",
            "4\n"
          ]
        }
      ]
    },
    {
      "cell_type": "code",
      "source": [
        "# 리스트 컴프리헨션에 있는 변수를 함수의 파라미터 초기값으로 세팅하면 원하는 숫자 대로 처리된다.\n",
        "lh = [ lambda x, n = n : x + n for n in range(5)]\n",
        "print(lh)\n",
        "for i in lh :\n",
        "  print(i(0))"
      ],
      "metadata": {
        "colab": {
          "base_uri": "https://localhost:8080/"
        },
        "id": "-TjbD5qUqSGc",
        "outputId": "07d309d6-7be7-4bde-a0c1-dbf3d6866fee"
      },
      "execution_count": null,
      "outputs": [
        {
          "output_type": "stream",
          "name": "stdout",
          "text": [
            "[<function <listcomp>.<lambda> at 0x7ff591454550>, <function <listcomp>.<lambda> at 0x7ff591454700>, <function <listcomp>.<lambda> at 0x7ff591454160>, <function <listcomp>.<lambda> at 0x7ff591454d30>, <function <listcomp>.<lambda> at 0x7ff591454310>]\n",
            "0\n",
            "1\n",
            "2\n",
            "3\n",
            "4\n"
          ]
        }
      ]
    },
    {
      "cell_type": "code",
      "source": [
        "lh = [ lambda x, m = n : x + m for n in range(5)]\n",
        "print(lh)\n",
        "for i in lh :\n",
        "  print(i(0))"
      ],
      "metadata": {
        "colab": {
          "base_uri": "https://localhost:8080/"
        },
        "id": "9-czxlkvrFiW",
        "outputId": "df5b4b0a-3120-4411-e868-742de64bc226"
      },
      "execution_count": null,
      "outputs": [
        {
          "output_type": "stream",
          "name": "stdout",
          "text": [
            "[<function <listcomp>.<lambda> at 0x7ff59151af70>, <function <listcomp>.<lambda> at 0x7ff59151a670>, <function <listcomp>.<lambda> at 0x7ff59151a790>, <function <listcomp>.<lambda> at 0x7ff59151ab80>, <function <listcomp>.<lambda> at 0x7ff59151a310>]\n",
            "0\n",
            "1\n",
            "2\n",
            "3\n",
            "4\n"
          ]
        }
      ]
    },
    {
      "cell_type": "markdown",
      "source": [
        "#### Dict Comprehension\n",
        "\n",
        "- 사전 정의 시 값을 정하지 않고 호출 시 사전 내의 값들이 처리되도록 구성\n",
        "- A = {표현식 for (k, y) in sequence if 논리식}"
      ],
      "metadata": {
        "id": "xChsT0WauW5x"
      }
    },
    {
      "cell_type": "code",
      "source": [
        "d = {}\n",
        "for (k, v) in zip(range(9), range(9)) :\n",
        "  d[k] = v\n",
        "print(d)\n",
        "\n",
        "di = {x : y for (x, y) in zip(range(9), range(9))}\n",
        "print(di)"
      ],
      "metadata": {
        "colab": {
          "base_uri": "https://localhost:8080/"
        },
        "id": "Tb5fFsQwumvE",
        "outputId": "6b9efe00-f00e-40b9-c82f-4e1ed062f91b"
      },
      "execution_count": null,
      "outputs": [
        {
          "output_type": "stream",
          "name": "stdout",
          "text": [
            "{0: 0, 1: 1, 2: 2, 3: 3, 4: 4, 5: 5, 6: 6, 7: 7, 8: 8}\n",
            "{0: 0, 1: 1, 2: 2, 3: 3, 4: 4, 5: 5, 6: 6, 7: 7, 8: 8}\n"
          ]
        }
      ]
    },
    {
      "cell_type": "code",
      "source": [
        "# dict타입에 대한 comprehension 생성\n",
        "# A = {표현식 for i in sequence if 논리식}\n",
        "a = {'x' : 1, 'y' : 2, 'z' : 3}\n",
        "b = {'w' : 10, 'x' : 11, 'y' : 2}\n",
        "print(a.keys() & b.keys())\n",
        "print(type(a.keys()))\n",
        "\n",
        "c = {key : a[key] for key in a.keys() - {'z', 'w'}}\n",
        "print(c)"
      ],
      "metadata": {
        "colab": {
          "base_uri": "https://localhost:8080/"
        },
        "id": "M2PIR_4hvwQC",
        "outputId": "3466a209-58d1-4f20-98a6-9f5caa1224b3"
      },
      "execution_count": null,
      "outputs": [
        {
          "output_type": "stream",
          "name": "stdout",
          "text": [
            "{'x', 'y'}\n",
            "<class 'dict_keys'>\n",
            "{'x': 1, 'y': 2}\n"
          ]
        }
      ]
    },
    {
      "cell_type": "code",
      "source": [
        "# dict 내의 다중 for 문을 이용해서 처리\n",
        "# A = {표현식 for in sequence for j in sequence if 논리식}\n",
        "# range는 제일 마지막 값으로 처리 된다. 아래의 식 경우엔 range(5) = 0, 1, 2, 3, 4 > 4값으로 처리된다.\n",
        "li = {}\n",
        "for i in range(5) :\n",
        "  for j in range(5) : \n",
        "    if j % 2 == 0 :\n",
        "      li.setdefault(i, 4)\n",
        "print(li)\n",
        "\n",
        "l = {x : y for x in range(5) for y in range(5) if y % 2 == 0}\n",
        "print(l)\n",
        "\n",
        "print(li == l)"
      ],
      "metadata": {
        "colab": {
          "base_uri": "https://localhost:8080/"
        },
        "id": "xFVdyf-lxAGx",
        "outputId": "d48211be-d702-4885-e147-e2afbc074c31"
      },
      "execution_count": null,
      "outputs": [
        {
          "output_type": "stream",
          "name": "stdout",
          "text": [
            "{0: 4, 1: 4, 2: 4, 3: 4, 4: 4}\n",
            "{0: 4, 1: 4, 2: 4, 3: 4, 4: 4}\n",
            "True\n"
          ]
        }
      ]
    },
    {
      "cell_type": "code",
      "source": [
        "l = {x : y for x in range(5) for y in range(7)}\n",
        "print(l)"
      ],
      "metadata": {
        "colab": {
          "base_uri": "https://localhost:8080/"
        },
        "id": "xi0YM6sYywx7",
        "outputId": "e3d3cb53-0a5e-4b68-e8e0-f44c6f25a245"
      },
      "execution_count": null,
      "outputs": [
        {
          "output_type": "stream",
          "name": "stdout",
          "text": [
            "{0: 6, 1: 6, 2: 6, 3: 6, 4: 6}\n"
          ]
        }
      ]
    },
    {
      "cell_type": "markdown",
      "source": [
        "#### Set Comprehension\n",
        "\n",
        "- set 정의 시 값을 정하지 않고 호출 시 Set내의 값들이 처리되도록 구성\n",
        "- A = {표현식 for i in sequence if 논리식}"
      ],
      "metadata": {
        "id": "RHRlc_7qzdM5"
      }
    },
    {
      "cell_type": "code",
      "source": [
        "s = set()\n",
        "for i in range(10) :\n",
        "  s.add(i)\n",
        "print(s)\n",
        "\n",
        "si = {x for x in range(10)}\n",
        "print(si)"
      ],
      "metadata": {
        "colab": {
          "base_uri": "https://localhost:8080/"
        },
        "id": "tUrJ0x3NznJj",
        "outputId": "a7c14d48-34fc-41c5-e643-ee032e2ab178"
      },
      "execution_count": null,
      "outputs": [
        {
          "output_type": "stream",
          "name": "stdout",
          "text": [
            "{0, 1, 2, 3, 4, 5, 6, 7, 8, 9}\n",
            "{0, 1, 2, 3, 4, 5, 6, 7, 8, 9}\n"
          ]
        }
      ]
    },
    {
      "cell_type": "code",
      "source": [
        "# set 내의 다중 for문을 이용해서 처리\n",
        "# A = {표현식 for i in sequence for j in sequence if 논리식}\n",
        "li = set()\n",
        "for i in range(5) :\n",
        "  for j in range(5) :\n",
        "    if j % 2 == 0 :\n",
        "      li.add((i, j))\n",
        "print(li)\n",
        "\n",
        "l = {(x, y) for x in range(5) for y in range(5) if y % 2 == 0}\n",
        "print(l)\n",
        "\n",
        "print(li == l)"
      ],
      "metadata": {
        "colab": {
          "base_uri": "https://localhost:8080/"
        },
        "id": "Rq9eb4q80HjD",
        "outputId": "718c2b0b-14e5-4af9-e7b6-77152923c360"
      },
      "execution_count": null,
      "outputs": [
        {
          "output_type": "stream",
          "name": "stdout",
          "text": [
            "{(4, 4), (2, 4), (1, 2), (0, 4), (3, 4), (4, 0), (0, 0), (2, 0), (1, 4), (3, 0), (4, 2), (0, 2), (2, 2), (1, 0), (3, 2)}\n",
            "{(4, 4), (2, 4), (1, 2), (0, 4), (3, 4), (4, 0), (0, 0), (2, 0), (1, 4), (3, 0), (4, 2), (0, 2), (2, 2), (1, 0), (3, 2)}\n",
            "True\n"
          ]
        }
      ]
    }
  ]
}