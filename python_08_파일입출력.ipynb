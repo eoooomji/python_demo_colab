{
  "nbformat": 4,
  "nbformat_minor": 0,
  "metadata": {
    "colab": {
      "provenance": [],
      "authorship_tag": "ABX9TyM46qf4NFzQT9ZPJ9C9jAXa",
      "include_colab_link": true
    },
    "kernelspec": {
      "name": "python3",
      "display_name": "Python 3"
    },
    "language_info": {
      "name": "python"
    }
  },
  "cells": [
    {
      "cell_type": "markdown",
      "metadata": {
        "id": "view-in-github",
        "colab_type": "text"
      },
      "source": [
        "<a href=\"https://colab.research.google.com/github/eoooomji/python_demo_colab/blob/master/python_08_%ED%8C%8C%EC%9D%BC%EC%9E%85%EC%B6%9C%EB%A0%A5.ipynb\" target=\"_parent\"><img src=\"https://colab.research.google.com/assets/colab-badge.svg\" alt=\"Open In Colab\"/></a>"
      ]
    },
    {
      "cell_type": "markdown",
      "source": [
        "## 파일 입출력\n",
        "\n",
        "open('파일 경로', '파일 열기 모드')\n",
        "  1. 파일 열기 모드\n",
        "    - w : 쓰기 모드 - 파일에 내용을 쓸 때 사용\n",
        "    - r : 읽기 모드 - 파일에 내용을 읽을 때 사용\n",
        "    - a : 추가 모드 - 파일에 내용을 추가할 때 사용"
      ],
      "metadata": {
        "id": "G_bvWSgO_GXi"
      }
    },
    {
      "cell_type": "code",
      "source": [
        "# open('파일 경로', '모드')\n",
        "fwrite = open('sample.txt', 'w') # 파일 열기\n",
        "for i in range(1, 4) :\n",
        "  data = '%d번째 줄입니다. \\n' % i\n",
        "  fwrite.write(data)\n",
        "fwrite.close() # 파일 닫기\n"
      ],
      "metadata": {
        "id": "KJRNTJ0R_YuD"
      },
      "execution_count": null,
      "outputs": []
    },
    {
      "cell_type": "code",
      "execution_count": null,
      "metadata": {
        "colab": {
          "base_uri": "https://localhost:8080/"
        },
        "id": "hHEdyTUe_Cl_",
        "outputId": "b05db760-3e08-46fb-ceaf-489ad4cd8a90"
      },
      "outputs": [
        {
          "output_type": "stream",
          "name": "stdout",
          "text": [
            "<class 'str'>\n"
          ]
        }
      ],
      "source": [
        "fread = open('sample.txt', 'r') # sample.txt파일에 데이터를 읽어온다.\n",
        "# line = fread.readline() # readline()은 파일에서 한 라인씩 읽어옴\n",
        "line = fread.read() # read()는 파일에서 전체를 읽어와 str로 리턴한다.\n",
        "print(type(line))\n",
        "fread.close()"
      ]
    },
    {
      "cell_type": "code",
      "source": [
        "fread = open('sample.txt', 'r') # sample.txt파일에 데이터를 읽어온다.\n",
        "while True :\n",
        "  line = fread.readline() # readlind()은 파일에서 한 라인씩 읽어옴\n",
        "  print(line)\n",
        "  if not line : # 파일에서 더이상 읽어올 내용이 없으면\n",
        "    break\n",
        "  print(line)\n",
        "fread.close()"
      ],
      "metadata": {
        "colab": {
          "base_uri": "https://localhost:8080/"
        },
        "id": "txMq7Lo6Br9s",
        "outputId": "a2ce77a0-234b-4cea-b58b-4c719adc35a9"
      },
      "execution_count": null,
      "outputs": [
        {
          "output_type": "stream",
          "name": "stdout",
          "text": [
            "1번째 줄입니다. \n",
            "\n",
            "1번째 줄입니다. \n",
            "\n",
            "2번째 줄입니다. \n",
            "\n",
            "2번째 줄입니다. \n",
            "\n",
            "3번째 줄입니다. \n",
            "\n",
            "3번째 줄입니다. \n",
            "\n",
            "\n"
          ]
        }
      ]
    },
    {
      "cell_type": "code",
      "source": [
        "import os\n",
        "path = os.getcwd()\n",
        "print(path)"
      ],
      "metadata": {
        "id": "2d5Lf71zDkRT",
        "colab": {
          "base_uri": "https://localhost:8080/"
        },
        "outputId": "de441615-e300-40bf-8be1-d15c3e60280d"
      },
      "execution_count": null,
      "outputs": [
        {
          "output_type": "stream",
          "name": "stdout",
          "text": [
            "/content\n"
          ]
        }
      ]
    },
    {
      "cell_type": "markdown",
      "source": [
        "### withe문과 함께 사용\n",
        "\n",
        "- with 문과 함께 파일을 사용하면 읽기, 쓰기할 때 close()를 안해도 된다."
      ],
      "metadata": {
        "id": "c5wF1ugBEIdR"
      }
    },
    {
      "cell_type": "code",
      "source": [
        "with open('sample.txt', 'w') as f :\n",
        "  for i in range(5, 8) :\n",
        "    data = '%d번째 줄 입니다.\\n' % i\n",
        "    f.write(data)"
      ],
      "metadata": {
        "id": "_YIrOikNEAHg"
      },
      "execution_count": null,
      "outputs": []
    },
    {
      "cell_type": "code",
      "source": [
        "with open('sample.txt', 'r') as f :\n",
        "  while True :\n",
        "    line = f.readline()\n",
        "    if not line :\n",
        "      break\n",
        "    print(line)"
      ],
      "metadata": {
        "colab": {
          "base_uri": "https://localhost:8080/"
        },
        "id": "gDyVBwIYEtc7",
        "outputId": "2b2ce283-7125-42d5-fbb1-74f61376de29"
      },
      "execution_count": null,
      "outputs": [
        {
          "output_type": "stream",
          "name": "stdout",
          "text": [
            "5번째 줄 입니다.\n",
            "\n",
            "6번째 줄 입니다.\n",
            "\n",
            "7번째 줄 입니다.\n",
            "\n"
          ]
        }
      ]
    },
    {
      "cell_type": "code",
      "source": [
        "with open('test.txt', 'w') as f :\n",
        "  f.writelines(['apple', 'banana', 'lemon']) # str만 가능하다.\n",
        "  # f.writelines([True, False, True, False])"
      ],
      "metadata": {
        "id": "9L86nlh3Fj-v"
      },
      "execution_count": null,
      "outputs": []
    },
    {
      "cell_type": "code",
      "source": [
        "with open('test.txt', 'r') as f :\n",
        "  print(f.readlines())"
      ],
      "metadata": {
        "colab": {
          "base_uri": "https://localhost:8080/"
        },
        "id": "KHglaMoWF66q",
        "outputId": "33f2316c-657a-4e29-c65c-067714b45c63"
      },
      "execution_count": null,
      "outputs": [
        {
          "output_type": "stream",
          "name": "stdout",
          "text": [
            "['applebananalemon']\n"
          ]
        }
      ]
    },
    {
      "cell_type": "code",
      "source": [
        "import random\n",
        "random.choice([1, 2, 3, 4])"
      ],
      "metadata": {
        "colab": {
          "base_uri": "https://localhost:8080/"
        },
        "id": "XqX7LXnaGsgy",
        "outputId": "e9be8b8f-f3a4-41c6-b32f-dd37575f5150"
      },
      "execution_count": null,
      "outputs": [
        {
          "output_type": "execute_result",
          "data": {
            "text/plain": [
              "1"
            ]
          },
          "metadata": {},
          "execution_count": 26
        }
      ]
    },
    {
      "cell_type": "code",
      "source": [
        "random.randrange(1, 10) # 1부터 10미만 사이의 난수 발생"
      ],
      "metadata": {
        "colab": {
          "base_uri": "https://localhost:8080/"
        },
        "id": "qUMRwW_7G_TZ",
        "outputId": "5335a2f0-e795-4dda-c0ec-0af57d5023c3"
      },
      "execution_count": null,
      "outputs": [
        {
          "output_type": "execute_result",
          "data": {
            "text/plain": [
              "8"
            ]
          },
          "metadata": {},
          "execution_count": 29
        }
      ]
    },
    {
      "cell_type": "code",
      "source": [
        "with open('number.txt', 'w') as f :\n",
        "  f.write(str(random.randrange(1, 10)))"
      ],
      "metadata": {
        "id": "ZvMQrXCYHSRS"
      },
      "execution_count": null,
      "outputs": []
    },
    {
      "cell_type": "code",
      "source": [
        "with open('number.txt', 'r') as f :\n",
        "  print(f.read())"
      ],
      "metadata": {
        "id": "tKmCFYHYHm-B",
        "outputId": "ec816fbe-dd09-4675-a6a8-bed00f0733ac",
        "colab": {
          "base_uri": "https://localhost:8080/"
        }
      },
      "execution_count": null,
      "outputs": [
        {
          "output_type": "stream",
          "name": "stdout",
          "text": [
            "9\n"
          ]
        }
      ]
    }
  ]
}