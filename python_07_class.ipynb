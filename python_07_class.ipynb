{
  "nbformat": 4,
  "nbformat_minor": 0,
  "metadata": {
    "colab": {
      "provenance": [],
      "authorship_tag": "ABX9TyO9kTPWIFyt8PSHpypNTQUt",
      "include_colab_link": true
    },
    "kernelspec": {
      "name": "python3",
      "display_name": "Python 3"
    },
    "language_info": {
      "name": "python"
    }
  },
  "cells": [
    {
      "cell_type": "markdown",
      "metadata": {
        "id": "view-in-github",
        "colab_type": "text"
      },
      "source": [
        "<a href=\"https://colab.research.google.com/github/eoooomji/python_demo_colab/blob/master/python_07_class.ipynb\" target=\"_parent\"><img src=\"https://colab.research.google.com/assets/colab-badge.svg\" alt=\"Open In Colab\"/></a>"
      ]
    },
    {
      "cell_type": "markdown",
      "source": [
        "# Class"
      ],
      "metadata": {
        "id": "4UGlOLHlj0Dx"
      }
    },
    {
      "cell_type": "markdown",
      "source": [
        "## callable\n",
        "\n",
        "- 이름 뒤에 괄호( )를 붙이는 것을 call(호출)이라고 한다.\n",
        "\n",
        "- 이름 뒤에 괄호( )를 붙일 수 있는 것을 callable이라고 한다.\n",
        "\n",
        "- python에서 callable인 것이 3가지 유형이 있다.\n",
        "```\n",
        "  (1) function\n",
        "  (2) class(__init__가 정의되었을 경우)\n",
        "  (3) object(__call__가 정의되었을 경우)\n",
        "```\n",
        "\n",
        "객체지향 프로그래밍\n",
        "- is : 메모리 주소\n",
        "- issubclass(child, parent) : 상속여부\n",
        "- isinstance(a, int) : int클래스의 a가 인스턴스인지 여부"
      ],
      "metadata": {
        "id": "8Af5AQ7jfMdz"
      }
    },
    {
      "cell_type": "markdown",
      "source": [
        "def   \n",
        "- 정의 + 호출  \n",
        "- 외부에서 내부 접근 x  \n",
        "\n",
        "class \n",
        "- 정의 + 인스턴스 생성 및 등록\n",
        "- 외부에서 내부 접근 o"
      ],
      "metadata": {
        "id": "vwaRfBoLjdGl"
      }
    },
    {
      "cell_type": "code",
      "source": [
        "# int의 literal\n",
        "a = 1"
      ],
      "metadata": {
        "id": "lMy6wYmofayt"
      },
      "execution_count": null,
      "outputs": []
    },
    {
      "cell_type": "code",
      "source": [
        "print(type(a))"
      ],
      "metadata": {
        "colab": {
          "base_uri": "https://localhost:8080/"
        },
        "id": "rSVOhFhzgqkb",
        "outputId": "4560d748-509f-4eed-e872-090b3c789112"
      },
      "execution_count": null,
      "outputs": [
        {
          "output_type": "stream",
          "name": "stdout",
          "text": [
            "<class 'int'>\n"
          ]
        }
      ]
    },
    {
      "cell_type": "code",
      "source": [
        "# 문자열 1을 정수값 1로 int의 인스턴스 방식으로 만들 수 있다.\n",
        "a = int('1')"
      ],
      "metadata": {
        "id": "FqkLhVdOgM0d"
      },
      "execution_count": null,
      "outputs": []
    },
    {
      "cell_type": "code",
      "source": [
        "print(type(a))"
      ],
      "metadata": {
        "colab": {
          "base_uri": "https://localhost:8080/"
        },
        "id": "dA4LcHD4gsPT",
        "outputId": "2c9b3252-bd79-4027-b710-cbaa2433531a"
      },
      "execution_count": null,
      "outputs": [
        {
          "output_type": "stream",
          "name": "stdout",
          "text": [
            "<class 'int'>\n"
          ]
        }
      ]
    },
    {
      "cell_type": "code",
      "source": [
        "# int라는 타입으로 a는 생성된 객체인가?\n",
        "isinstance(a, int)"
      ],
      "metadata": {
        "colab": {
          "base_uri": "https://localhost:8080/"
        },
        "id": "X9-wEa4dhINC",
        "outputId": "2f3bc381-451b-4b3b-8026-ed7cc33f0600"
      },
      "execution_count": null,
      "outputs": [
        {
          "output_type": "execute_result",
          "data": {
            "text/plain": [
              "True"
            ]
          },
          "metadata": {},
          "execution_count": 7
        }
      ]
    },
    {
      "cell_type": "code",
      "source": [
        "isinstance(a, str)"
      ],
      "metadata": {
        "colab": {
          "base_uri": "https://localhost:8080/"
        },
        "id": "ghyNYuQPhc0k",
        "outputId": "0d4ea2e7-18aa-4c37-d701-c1864c9625d1"
      },
      "execution_count": null,
      "outputs": [
        {
          "output_type": "execute_result",
          "data": {
            "text/plain": [
              "False"
            ]
          },
          "metadata": {},
          "execution_count": 8
        }
      ]
    },
    {
      "cell_type": "code",
      "source": [
        "# 클래스를 정의할 때는 대문자로 정의한다.\n",
        "class A :\n",
        "  x = 1\n",
        "  def prn() :\n",
        "    a = 1"
      ],
      "metadata": {
        "id": "V-wGoU9fhpLE"
      },
      "execution_count": null,
      "outputs": []
    },
    {
      "cell_type": "code",
      "source": [
        "callable(A)"
      ],
      "metadata": {
        "colab": {
          "base_uri": "https://localhost:8080/"
        },
        "id": "0VV1Rh5whwHM",
        "outputId": "b7ef9972-6cca-4a4e-ac2d-bc91cab4c0b4"
      },
      "execution_count": null,
      "outputs": [
        {
          "output_type": "execute_result",
          "data": {
            "text/plain": [
              "True"
            ]
          },
          "metadata": {},
          "execution_count": 10
        }
      ]
    },
    {
      "cell_type": "code",
      "source": [
        "# 사용할 때 괄호를 붙인다. : callable이 가능하기 때문에\n",
        "A()"
      ],
      "metadata": {
        "colab": {
          "base_uri": "https://localhost:8080/"
        },
        "id": "MKSiJgmGhyt0",
        "outputId": "6dab41a7-0990-4e12-f4e6-23654a43c982"
      },
      "execution_count": null,
      "outputs": [
        {
          "output_type": "execute_result",
          "data": {
            "text/plain": [
              "<__main__.A at 0x7f5697a24040>"
            ]
          },
          "metadata": {},
          "execution_count": 12
        }
      ]
    },
    {
      "cell_type": "code",
      "source": [
        "print(dir(A))"
      ],
      "metadata": {
        "colab": {
          "base_uri": "https://localhost:8080/"
        },
        "id": "JucgW9zbh2fk",
        "outputId": "3bf77090-1aa5-4d62-96f6-3cf7ea534f40"
      },
      "execution_count": null,
      "outputs": [
        {
          "output_type": "stream",
          "name": "stdout",
          "text": [
            "['__class__', '__delattr__', '__dict__', '__dir__', '__doc__', '__eq__', '__format__', '__ge__', '__getattribute__', '__gt__', '__hash__', '__init__', '__init_subclass__', '__le__', '__lt__', '__module__', '__ne__', '__new__', '__reduce__', '__reduce_ex__', '__repr__', '__setattr__', '__sizeof__', '__str__', '__subclasshook__', '__weakref__', 'prn', 'x']\n"
          ]
        }
      ]
    },
    {
      "cell_type": "code",
      "source": [
        "# k는 A를 인스턴스에서 나온 값이다. (객체 생성)\n",
        "k = A()"
      ],
      "metadata": {
        "id": "AT2fmYTIihb5"
      },
      "execution_count": null,
      "outputs": []
    },
    {
      "cell_type": "code",
      "source": [
        "k()"
      ],
      "metadata": {
        "colab": {
          "base_uri": "https://localhost:8080/",
          "height": 174
        },
        "id": "R4Rau3Uwitn9",
        "outputId": "516ce73f-fdc2-4698-bc01-2b9fdff6e8fd"
      },
      "execution_count": null,
      "outputs": [
        {
          "output_type": "error",
          "ename": "TypeError",
          "evalue": "ignored",
          "traceback": [
            "\u001b[0;31m---------------------------------------------------------------------------\u001b[0m",
            "\u001b[0;31mTypeError\u001b[0m                                 Traceback (most recent call last)",
            "\u001b[0;32m<ipython-input-19-6300244b5355>\u001b[0m in \u001b[0;36m<module>\u001b[0;34m\u001b[0m\n\u001b[0;32m----> 1\u001b[0;31m \u001b[0mk\u001b[0m\u001b[0;34m(\u001b[0m\u001b[0;34m)\u001b[0m\u001b[0;34m\u001b[0m\u001b[0;34m\u001b[0m\u001b[0m\n\u001b[0m",
            "\u001b[0;31mTypeError\u001b[0m: 'A' object is not callable"
          ]
        }
      ]
    },
    {
      "cell_type": "code",
      "source": [
        "def fn() :\n",
        "  x = 3\n",
        "\n",
        "x"
      ],
      "metadata": {
        "colab": {
          "base_uri": "https://localhost:8080/",
          "height": 211
        },
        "id": "KB9R2onEjipZ",
        "outputId": "77d7f00b-f139-4dc2-de23-8eb535dc0be7"
      },
      "execution_count": null,
      "outputs": [
        {
          "output_type": "error",
          "ename": "NameError",
          "evalue": "ignored",
          "traceback": [
            "\u001b[0;31m---------------------------------------------------------------------------\u001b[0m",
            "\u001b[0;31mNameError\u001b[0m                                 Traceback (most recent call last)",
            "\u001b[0;32m<ipython-input-21-dc810fb5c6fe>\u001b[0m in \u001b[0;36m<module>\u001b[0;34m\u001b[0m\n\u001b[1;32m      2\u001b[0m   \u001b[0mx\u001b[0m \u001b[0;34m=\u001b[0m \u001b[0;36m3\u001b[0m\u001b[0;34m\u001b[0m\u001b[0;34m\u001b[0m\u001b[0m\n\u001b[1;32m      3\u001b[0m \u001b[0;34m\u001b[0m\u001b[0m\n\u001b[0;32m----> 4\u001b[0;31m \u001b[0mx\u001b[0m\u001b[0;34m\u001b[0m\u001b[0;34m\u001b[0m\u001b[0m\n\u001b[0m",
            "\u001b[0;31mNameError\u001b[0m: name 'x' is not defined"
          ]
        }
      ]
    },
    {
      "cell_type": "markdown",
      "source": [
        "클래스는 내부에 있는 값에 접근할 수 있다.  \n",
        "2가지 방법으로 접근 가능하다.\n",
        "\n",
        "1. 클래스에서 접근\n",
        "\n",
        "2. 인스턴스에서 접근\n",
        "\n",
        "- 클래스의 type은 type이라고 뜬다."
      ],
      "metadata": {
        "id": "Z0cbd2GxjoJD"
      }
    },
    {
      "cell_type": "code",
      "source": [
        "class A :\n",
        "  x = 1"
      ],
      "metadata": {
        "id": "Jb7qHhMRjlTr"
      },
      "execution_count": null,
      "outputs": []
    },
    {
      "cell_type": "code",
      "source": [
        "# 클래스에서 접근\n",
        "A.x"
      ],
      "metadata": {
        "colab": {
          "base_uri": "https://localhost:8080/"
        },
        "id": "uz4MU7Tyj5nT",
        "outputId": "1f46e4ef-8143-4c6d-93e3-aa8a75d02a75"
      },
      "execution_count": null,
      "outputs": [
        {
          "output_type": "execute_result",
          "data": {
            "text/plain": [
              "1"
            ]
          },
          "metadata": {},
          "execution_count": 28
        }
      ]
    },
    {
      "cell_type": "code",
      "source": [
        "aa = A() # 인스턴스 생성\n",
        "aa.x # 인스턴스에서 접근"
      ],
      "metadata": {
        "colab": {
          "base_uri": "https://localhost:8080/"
        },
        "id": "3yAFan2okK2b",
        "outputId": "d1b28f90-0728-404b-fefd-ca8d3024e2fd"
      },
      "execution_count": null,
      "outputs": [
        {
          "output_type": "execute_result",
          "data": {
            "text/plain": [
              "1"
            ]
          },
          "metadata": {},
          "execution_count": 29
        }
      ]
    },
    {
      "cell_type": "code",
      "source": [
        "# python에서 제공하는 내장 클래스(built-in)이다.\n",
        "type(int) "
      ],
      "metadata": {
        "colab": {
          "base_uri": "https://localhost:8080/"
        },
        "id": "hQQTN860kbG7",
        "outputId": "4e402e3a-84a7-45a2-f6cd-6446e8a1d79a"
      },
      "execution_count": null,
      "outputs": [
        {
          "output_type": "execute_result",
          "data": {
            "text/plain": [
              "type"
            ]
          },
          "metadata": {},
          "execution_count": 30
        }
      ]
    },
    {
      "cell_type": "code",
      "source": [
        "# 사용자가 정의한 클래스\n",
        "type(A)"
      ],
      "metadata": {
        "colab": {
          "base_uri": "https://localhost:8080/"
        },
        "id": "Hf3gvEH1kimS",
        "outputId": "5a379330-8e8f-46bf-c643-dfcf38a7c443"
      },
      "execution_count": null,
      "outputs": [
        {
          "output_type": "execute_result",
          "data": {
            "text/plain": [
              "type"
            ]
          },
          "metadata": {},
          "execution_count": 31
        }
      ]
    },
    {
      "cell_type": "code",
      "source": [
        "# 함수\n",
        "type(fn)"
      ],
      "metadata": {
        "colab": {
          "base_uri": "https://localhost:8080/"
        },
        "id": "y3-twh5akoDb",
        "outputId": "821508ff-e997-4810-b5bb-0e97d55c4ccb"
      },
      "execution_count": null,
      "outputs": [
        {
          "output_type": "execute_result",
          "data": {
            "text/plain": [
              "function"
            ]
          },
          "metadata": {},
          "execution_count": 33
        }
      ]
    },
    {
      "cell_type": "code",
      "source": [
        "type(aa)"
      ],
      "metadata": {
        "colab": {
          "base_uri": "https://localhost:8080/"
        },
        "id": "MESduf5tk1fD",
        "outputId": "d9b12140-a96d-419e-ef87-90fe1efed94d"
      },
      "execution_count": null,
      "outputs": [
        {
          "output_type": "execute_result",
          "data": {
            "text/plain": [
              "__main__.A"
            ]
          },
          "metadata": {},
          "execution_count": 34
        }
      ]
    },
    {
      "cell_type": "code",
      "source": [
        "class Employee :\n",
        "  x = 1\n",
        "  def display(self, y) :\n",
        "    self.y = y\n",
        "    print(y)"
      ],
      "metadata": {
        "id": "F-AohVIXlgzg"
      },
      "execution_count": null,
      "outputs": []
    },
    {
      "cell_type": "code",
      "source": [
        "ps = Employee()"
      ],
      "metadata": {
        "id": "ylC3vq_ClsZC"
      },
      "execution_count": null,
      "outputs": []
    },
    {
      "cell_type": "code",
      "source": [
        "ps.x"
      ],
      "metadata": {
        "colab": {
          "base_uri": "https://localhost:8080/"
        },
        "id": "vWpD9Jq6lzhr",
        "outputId": "8ddf3745-f62a-427c-bae0-007352bf3585"
      },
      "execution_count": null,
      "outputs": [
        {
          "output_type": "execute_result",
          "data": {
            "text/plain": [
              "1"
            ]
          },
          "metadata": {},
          "execution_count": 41
        }
      ]
    },
    {
      "cell_type": "code",
      "source": [
        "ps.y"
      ],
      "metadata": {
        "colab": {
          "base_uri": "https://localhost:8080/",
          "height": 174
        },
        "id": "RKZ13Z5Wl2aa",
        "outputId": "d1455f63-18ca-41e5-d0b0-21c4fa7678f4"
      },
      "execution_count": null,
      "outputs": [
        {
          "output_type": "error",
          "ename": "AttributeError",
          "evalue": "ignored",
          "traceback": [
            "\u001b[0;31m---------------------------------------------------------------------------\u001b[0m",
            "\u001b[0;31mAttributeError\u001b[0m                            Traceback (most recent call last)",
            "\u001b[0;32m<ipython-input-44-162d0cfa0d0b>\u001b[0m in \u001b[0;36m<module>\u001b[0;34m\u001b[0m\n\u001b[0;32m----> 1\u001b[0;31m \u001b[0mps\u001b[0m\u001b[0;34m.\u001b[0m\u001b[0my\u001b[0m\u001b[0;34m\u001b[0m\u001b[0;34m\u001b[0m\u001b[0m\n\u001b[0m",
            "\u001b[0;31mAttributeError\u001b[0m: 'Employee' object has no attribute 'y'"
          ]
        }
      ]
    },
    {
      "cell_type": "code",
      "source": [
        "ps.display(3)"
      ],
      "metadata": {
        "colab": {
          "base_uri": "https://localhost:8080/"
        },
        "id": "gK9kaGdumPKL",
        "outputId": "e2b2f4eb-2e09-45b3-91f6-c3f4772f3a52"
      },
      "execution_count": null,
      "outputs": [
        {
          "output_type": "stream",
          "name": "stdout",
          "text": [
            "3\n"
          ]
        }
      ]
    },
    {
      "cell_type": "code",
      "source": [
        "ps.y"
      ],
      "metadata": {
        "colab": {
          "base_uri": "https://localhost:8080/"
        },
        "id": "E00Zw-w4mS36",
        "outputId": "1951f1d8-ced8-46ab-deb8-2c8e8b892c9e"
      },
      "execution_count": null,
      "outputs": [
        {
          "output_type": "execute_result",
          "data": {
            "text/plain": [
              "3"
            ]
          },
          "metadata": {},
          "execution_count": 46
        }
      ]
    },
    {
      "cell_type": "code",
      "source": [
        "Employee.y"
      ],
      "metadata": {
        "colab": {
          "base_uri": "https://localhost:8080/",
          "height": 174
        },
        "id": "h0TVE-PmmaYZ",
        "outputId": "bd59a665-f815-4f69-e756-80d2a92e363f"
      },
      "execution_count": null,
      "outputs": [
        {
          "output_type": "error",
          "ename": "AttributeError",
          "evalue": "ignored",
          "traceback": [
            "\u001b[0;31m---------------------------------------------------------------------------\u001b[0m",
            "\u001b[0;31mAttributeError\u001b[0m                            Traceback (most recent call last)",
            "\u001b[0;32m<ipython-input-47-3977b950e3a4>\u001b[0m in \u001b[0;36m<module>\u001b[0;34m\u001b[0m\n\u001b[0;32m----> 1\u001b[0;31m \u001b[0mEmployee\u001b[0m\u001b[0;34m.\u001b[0m\u001b[0my\u001b[0m\u001b[0;34m\u001b[0m\u001b[0;34m\u001b[0m\u001b[0m\n\u001b[0m",
            "\u001b[0;31mAttributeError\u001b[0m: type object 'Employee' has no attribute 'y'"
          ]
        }
      ]
    },
    {
      "cell_type": "code",
      "source": [
        "ps2 = Employee()"
      ],
      "metadata": {
        "id": "WukgbTuamo2S"
      },
      "execution_count": null,
      "outputs": []
    },
    {
      "cell_type": "code",
      "source": [
        "ps2.x"
      ],
      "metadata": {
        "colab": {
          "base_uri": "https://localhost:8080/"
        },
        "id": "IfVaZSDSmsR6",
        "outputId": "d0526d29-1482-4a46-dcdd-ae5de4aa2537"
      },
      "execution_count": null,
      "outputs": [
        {
          "output_type": "execute_result",
          "data": {
            "text/plain": [
              "1"
            ]
          },
          "metadata": {},
          "execution_count": 50
        }
      ]
    },
    {
      "cell_type": "code",
      "source": [
        "Employee.y = 10"
      ],
      "metadata": {
        "id": "hstMOGd6mtUS"
      },
      "execution_count": null,
      "outputs": []
    },
    {
      "cell_type": "code",
      "source": [
        "Employee.y"
      ],
      "metadata": {
        "colab": {
          "base_uri": "https://localhost:8080/"
        },
        "id": "fq_bJAwmmvMi",
        "outputId": "369182f2-3d4d-4559-d418-65edf5441182"
      },
      "execution_count": null,
      "outputs": [
        {
          "output_type": "execute_result",
          "data": {
            "text/plain": [
              "10"
            ]
          },
          "metadata": {},
          "execution_count": 52
        }
      ]
    },
    {
      "cell_type": "code",
      "source": [
        "ps2.display(5)"
      ],
      "metadata": {
        "colab": {
          "base_uri": "https://localhost:8080/"
        },
        "id": "Ye3kC5KGmxBJ",
        "outputId": "833dc3c0-7dee-4112-85f5-1454bedcb7e2"
      },
      "execution_count": null,
      "outputs": [
        {
          "output_type": "stream",
          "name": "stdout",
          "text": [
            "5\n"
          ]
        }
      ]
    },
    {
      "cell_type": "code",
      "source": [
        "ps2.y"
      ],
      "metadata": {
        "colab": {
          "base_uri": "https://localhost:8080/"
        },
        "id": "07_ETBFCm98i",
        "outputId": "f9170fe5-82a0-49a1-98c3-17585636e223"
      },
      "execution_count": null,
      "outputs": [
        {
          "output_type": "execute_result",
          "data": {
            "text/plain": [
              "5"
            ]
          },
          "metadata": {},
          "execution_count": 56
        }
      ]
    },
    {
      "cell_type": "code",
      "source": [
        "Employee.y"
      ],
      "metadata": {
        "colab": {
          "base_uri": "https://localhost:8080/"
        },
        "id": "nEeUqy7Dm_Kq",
        "outputId": "03c605d8-42d9-4a15-924e-498a5320e7ac"
      },
      "execution_count": null,
      "outputs": [
        {
          "output_type": "execute_result",
          "data": {
            "text/plain": [
              "10"
            ]
          },
          "metadata": {},
          "execution_count": 57
        }
      ]
    },
    {
      "cell_type": "code",
      "source": [
        "class Department :\n",
        "  x = 3      # 클래스 변수\n",
        "  def display(self, y) :     # 메소드\n",
        "    self.y = y   # 인스턴스 변수\n",
        "    print(y)\n",
        "\n",
        "pd = Department()\n",
        "print(pd.x) # 3\n",
        "print(Department.x) # 3\n",
        "# print(Department.y)\n",
        "pd.display(5) # 5\n",
        "# print(Department.y)\n",
        "\n",
        "ps = Department()\n",
        "print(ps.x) # 3\n",
        "ps.x = 10\n",
        "print(ps.x)\n",
        "print(pd.x)\n",
        "print(Department.x)\n",
        "Department.x = 500\n",
        "print(Department.x) # 500\n",
        "print(pd.x) # 500\n",
        "print(ps.x) # 10\n",
        "\n",
        "Department.y = 900\n",
        "print(Department.y)\n",
        "print(pd.y)\n",
        "print(ps.y)\n",
        "pd.display(400)\n",
        "print(pd.y)"
      ],
      "metadata": {
        "colab": {
          "base_uri": "https://localhost:8080/"
        },
        "id": "qPvaEdxOnw7S",
        "outputId": "8958b9b5-f1af-430a-e896-8eca26a98d7f"
      },
      "execution_count": null,
      "outputs": [
        {
          "output_type": "stream",
          "name": "stdout",
          "text": [
            "3\n",
            "3\n",
            "5\n",
            "3\n",
            "10\n",
            "3\n",
            "3\n",
            "500\n",
            "500\n",
            "10\n",
            "900\n",
            "5\n",
            "900\n",
            "400\n",
            "400\n"
          ]
        }
      ]
    },
    {
      "cell_type": "code",
      "source": [
        "# python 함수와 메소드 구분이 모호하다.\n",
        "# shift + tab : builtin_function_or_method\n",
        "sum"
      ],
      "metadata": {
        "id": "oiYVNKUloBZx"
      },
      "execution_count": null,
      "outputs": []
    },
    {
      "cell_type": "markdown",
      "source": [
        "instance에서는 class attribute에 접근 가능하다.  \n",
        "class에서는 instance attribute에 접근할 수 없다."
      ],
      "metadata": {
        "id": "pDD52e8D3Eh0"
      }
    },
    {
      "cell_type": "code",
      "source": [
        "class Manager :\n",
        "  x = 3\n",
        "\n",
        "a = Manager()\n",
        "a.red = '레드'\n",
        "\n",
        "print(a.x)\n",
        "print(a.red)\n",
        "print(Manager.red)"
      ],
      "metadata": {
        "colab": {
          "base_uri": "https://localhost:8080/",
          "height": 248
        },
        "id": "AOvvdcDJ3LDN",
        "outputId": "27ab3eb4-3a9d-4837-ab02-4225a5b2ae7a"
      },
      "execution_count": null,
      "outputs": [
        {
          "output_type": "stream",
          "name": "stdout",
          "text": [
            "3\n",
            "레드\n"
          ]
        },
        {
          "output_type": "error",
          "ename": "AttributeError",
          "evalue": "ignored",
          "traceback": [
            "\u001b[0;31m---------------------------------------------------------------------------\u001b[0m",
            "\u001b[0;31mAttributeError\u001b[0m                            Traceback (most recent call last)",
            "\u001b[0;32m<ipython-input-95-4dc66d75a4c9>\u001b[0m in \u001b[0;36m<module>\u001b[0;34m\u001b[0m\n\u001b[1;32m      7\u001b[0m \u001b[0mprint\u001b[0m\u001b[0;34m(\u001b[0m\u001b[0ma\u001b[0m\u001b[0;34m.\u001b[0m\u001b[0mx\u001b[0m\u001b[0;34m)\u001b[0m\u001b[0;34m\u001b[0m\u001b[0;34m\u001b[0m\u001b[0m\n\u001b[1;32m      8\u001b[0m \u001b[0mprint\u001b[0m\u001b[0;34m(\u001b[0m\u001b[0ma\u001b[0m\u001b[0;34m.\u001b[0m\u001b[0mred\u001b[0m\u001b[0;34m)\u001b[0m\u001b[0;34m\u001b[0m\u001b[0;34m\u001b[0m\u001b[0m\n\u001b[0;32m----> 9\u001b[0;31m \u001b[0mprint\u001b[0m\u001b[0;34m(\u001b[0m\u001b[0mManager\u001b[0m\u001b[0;34m.\u001b[0m\u001b[0mred\u001b[0m\u001b[0;34m)\u001b[0m\u001b[0;34m\u001b[0m\u001b[0;34m\u001b[0m\u001b[0m\n\u001b[0m",
            "\u001b[0;31mAttributeError\u001b[0m: type object 'Manager' has no attribute 'red'"
          ]
        }
      ]
    },
    {
      "cell_type": "code",
      "source": [
        "class A :\n",
        "  a = 1\n",
        "  def display(self, k) :\n",
        "    self.k = k\n",
        "\n",
        "# 인스턴스 메소드에서 첫번째 인자는 무조건 생략할 수 없다.(self를 넣어주어야 한다.)\n",
        "# a라는 변수에 값이 인스턴스에서 주어지지 않는다면 클래스의 변수를 갖고온다.\n",
        "  def prn(self) :\n",
        "    print(self.a)\n",
        "\n",
        "print(A.a)\n",
        "x = A()\n",
        "x.display(5) # self = this와 같은 의미이다.\n",
        "print(x.k)\n",
        "x.prn()"
      ],
      "metadata": {
        "colab": {
          "base_uri": "https://localhost:8080/"
        },
        "id": "GwV_J80r3pZv",
        "outputId": "5d2c71da-7447-491d-a985-ad910a9e88ac"
      },
      "execution_count": null,
      "outputs": [
        {
          "output_type": "stream",
          "name": "stdout",
          "text": [
            "1\n",
            "5\n",
            "1\n"
          ]
        }
      ]
    },
    {
      "cell_type": "code",
      "source": [
        "A.display(x, 7)\n",
        "x.k"
      ],
      "metadata": {
        "colab": {
          "base_uri": "https://localhost:8080/"
        },
        "id": "cM4WRukm5q1N",
        "outputId": "e0fb4af0-66c4-435d-82ca-72f55311bfa2"
      },
      "execution_count": null,
      "outputs": [
        {
          "output_type": "execute_result",
          "data": {
            "text/plain": [
              "7"
            ]
          },
          "metadata": {},
          "execution_count": 121
        }
      ]
    },
    {
      "cell_type": "code",
      "source": [
        "A.prn(x)\n",
        "x.prn()"
      ],
      "metadata": {
        "colab": {
          "base_uri": "https://localhost:8080/"
        },
        "id": "wMM44Rvy6UeG",
        "outputId": "43b931b9-1c94-46f8-d79e-b4a666286e80"
      },
      "execution_count": null,
      "outputs": [
        {
          "output_type": "stream",
          "name": "stdout",
          "text": [
            "1\n",
            "1\n"
          ]
        }
      ]
    }
  ]
}