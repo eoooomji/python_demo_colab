{
  "nbformat": 4,
  "nbformat_minor": 0,
  "metadata": {
    "colab": {
      "provenance": [],
      "authorship_tag": "ABX9TyM/wA59XxZPjPWVSEEgzN4W",
      "include_colab_link": true
    },
    "kernelspec": {
      "name": "python3",
      "display_name": "Python 3"
    },
    "language_info": {
      "name": "python"
    }
  },
  "cells": [
    {
      "cell_type": "markdown",
      "metadata": {
        "id": "view-in-github",
        "colab_type": "text"
      },
      "source": [
        "<a href=\"https://colab.research.google.com/github/eoooomji/python_demo_colab/blob/master/100_colab_%ED%99%98%EA%B2%BD%EC%84%A4%EC%A0%95.ipynb\" target=\"_parent\"><img src=\"https://colab.research.google.com/assets/colab-badge.svg\" alt=\"Open In Colab\"/></a>"
      ]
    },
    {
      "cell_type": "code",
      "execution_count": null,
      "metadata": {
        "colab": {
          "base_uri": "https://localhost:8080/",
          "height": 54
        },
        "id": "is5TCjXLysyE",
        "outputId": "d4fe1942-def6-4f93-f145-2ff2eb4b4b4e"
      },
      "outputs": [
        {
          "output_type": "stream",
          "name": "stdout",
          "text": [
            "/content\n"
          ]
        },
        {
          "output_type": "execute_result",
          "data": {
            "text/plain": [
              "'/content'"
            ],
            "application/vnd.google.colaboratory.intrinsic+json": {
              "type": "string"
            }
          },
          "metadata": {},
          "execution_count": 2
        }
      ],
      "source": [
        "!pwd # 리눅스 명령어 현재 경로"
      ]
    },
    {
      "cell_type": "markdown",
      "source": [
        "### 0. 구글 코랩 환경"
      ],
      "metadata": {
        "id": "uB5MQjZA0WtA"
      }
    },
    {
      "cell_type": "code",
      "source": [
        "!cat /etc/issue.net"
      ],
      "metadata": {
        "colab": {
          "base_uri": "https://localhost:8080/"
        },
        "id": "II0ZcKqe0ZT7",
        "outputId": "ae62bd40-68bf-4760-c791-73edb0b72a65"
      },
      "execution_count": null,
      "outputs": [
        {
          "output_type": "stream",
          "name": "stdout",
          "text": [
            "Ubuntu 18.04.6 LTS\n"
          ]
        }
      ]
    },
    {
      "cell_type": "code",
      "source": [
        "# cpu\n",
        "!head /proc/cpuinfo"
      ],
      "metadata": {
        "colab": {
          "base_uri": "https://localhost:8080/"
        },
        "id": "6UFf6ZMB0wyC",
        "outputId": "9ee038b9-ee66-48ca-b080-70ed7b7037c4"
      },
      "execution_count": null,
      "outputs": [
        {
          "output_type": "stream",
          "name": "stdout",
          "text": [
            "processor\t: 0\n",
            "vendor_id\t: GenuineIntel\n",
            "cpu family\t: 6\n",
            "model\t\t: 79\n",
            "model name\t: Intel(R) Xeon(R) CPU @ 2.20GHz\n",
            "stepping\t: 0\n",
            "microcode\t: 0xffffffff\n",
            "cpu MHz\t\t: 2200.168\n",
            "cache size\t: 56320 KB\n",
            "physical id\t: 0\n"
          ]
        }
      ]
    },
    {
      "cell_type": "code",
      "source": [
        "# memory\n",
        "!head /proc/meminfo"
      ],
      "metadata": {
        "colab": {
          "base_uri": "https://localhost:8080/"
        },
        "id": "HzBo3ZeF01ET",
        "outputId": "35050408-7fca-4383-906f-8e88650a380d"
      },
      "execution_count": null,
      "outputs": [
        {
          "output_type": "stream",
          "name": "stdout",
          "text": [
            "MemTotal:       13297228 kB\n",
            "MemFree:         9205184 kB\n",
            "MemAvailable:   12315108 kB\n",
            "Buffers:          342792 kB\n",
            "Cached:          2873120 kB\n",
            "SwapCached:            0 kB\n",
            "Active:           680392 kB\n",
            "Inactive:        3193236 kB\n",
            "Active(anon):       1416 kB\n",
            "Inactive(anon):   579000 kB\n"
          ]
        }
      ]
    },
    {
      "cell_type": "markdown",
      "source": [
        "### 1. 구글 코랩드라이버 연동"
      ],
      "metadata": {
        "id": "w5XZ8ypFzn3A"
      }
    },
    {
      "cell_type": "code",
      "source": [
        "!pwd"
      ],
      "metadata": {
        "colab": {
          "base_uri": "https://localhost:8080/"
        },
        "id": "CWIPHDDS1NgY",
        "outputId": "6f69c936-bdff-4477-9c53-dbf93c23fdbe"
      },
      "execution_count": null,
      "outputs": [
        {
          "output_type": "stream",
          "name": "stdout",
          "text": [
            "/content\n"
          ]
        }
      ]
    },
    {
      "cell_type": "code",
      "source": [
        "# 구글 드라이브 연동\n",
        "from google.colab import drive\n",
        "drive.mount('/content/drive')"
      ],
      "metadata": {
        "colab": {
          "base_uri": "https://localhost:8080/"
        },
        "id": "Qm8QmMGDzvYi",
        "outputId": "8cb6f575-96e0-428b-a139-409713edb0c6"
      },
      "execution_count": null,
      "outputs": [
        {
          "output_type": "stream",
          "name": "stdout",
          "text": [
            "Mounted at /content/drive\n"
          ]
        }
      ]
    },
    {
      "cell_type": "code",
      "source": [
        "#  경로 변경\n",
        "%cd /content/drive/MyDrive/python_demo"
      ],
      "metadata": {
        "colab": {
          "base_uri": "https://localhost:8080/"
        },
        "id": "h_-CoChMzmpF",
        "outputId": "96608d76-98b7-44f0-d6ba-e3d69ef3ef03"
      },
      "execution_count": null,
      "outputs": [
        {
          "output_type": "stream",
          "name": "stdout",
          "text": [
            "/content/drive/MyDrive/python_demo\n"
          ]
        }
      ]
    },
    {
      "cell_type": "code",
      "source": [
        "!pwd"
      ],
      "metadata": {
        "colab": {
          "base_uri": "https://localhost:8080/"
        },
        "id": "E4wZEVab13eo",
        "outputId": "99dc92f6-9e02-4659-b39d-4d7db0eaa065"
      },
      "execution_count": null,
      "outputs": [
        {
          "output_type": "stream",
          "name": "stdout",
          "text": [
            "/content/drive/MyDrive/python_demo\n"
          ]
        }
      ]
    },
    {
      "cell_type": "code",
      "source": [
        "!ls"
      ],
      "metadata": {
        "colab": {
          "base_uri": "https://localhost:8080/"
        },
        "id": "GCkfcb7C2d9q",
        "outputId": "1f00791a-00e4-4ed2-f97c-7e1ba83d1aaa"
      },
      "execution_count": null,
      "outputs": [
        {
          "output_type": "stream",
          "name": "stdout",
          "text": [
            " 01_자료형_문제.ipynb\t\t       python_01_Mark-Down.ipynb\n",
            " 01_자료형_풀이.ipynb\t\t       python_02_basic.ipynb\n",
            " 02_제어문_풀이.ipynb\t\t       python_03_statement.ipynb\n",
            " 02_제어문_문제.ipynb\t\t       python_04_function.ipynb\n",
            "'03_함수형프로그래밍_문제 (1).ipynb'   python_06_함수형프로그래밍.ipynb\n",
            " 03_함수형프로그래밍_문제.ipynb        python_07_class.ipynb\n",
            "'04_함수형프로그래밍_풀이 (1).ipynb'   python_08_파일입출력.ipynb\n",
            " 04_함수형프로그래밍_풀이.ipynb        python_09_정규표현식.ipynb\n",
            "'05_정규표현식 문제.ipynb'\t       python_10_numpy.ipynb\n",
            "'05_정규표현식 풀이.ipynb'\t       python_11_numpy.ipynb\n",
            " 100_colab_환경설정.ipynb\t       python_12_numpy.ipynb\n",
            "'수업_파이썬 _ppt.zip'\n"
          ]
        }
      ]
    }
  ]
}