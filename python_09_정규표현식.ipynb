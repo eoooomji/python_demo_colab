{
  "nbformat": 4,
  "nbformat_minor": 0,
  "metadata": {
    "colab": {
      "provenance": [],
      "authorship_tag": "ABX9TyM4oTbHZC3jGlVwIdjDSzyV",
      "include_colab_link": true
    },
    "kernelspec": {
      "name": "python3",
      "display_name": "Python 3"
    },
    "language_info": {
      "name": "python"
    }
  },
  "cells": [
    {
      "cell_type": "markdown",
      "metadata": {
        "id": "view-in-github",
        "colab_type": "text"
      },
      "source": [
        "<a href=\"https://colab.research.google.com/github/eoooomji/python_demo_colab/blob/master/python_09_%EC%A0%95%EA%B7%9C%ED%91%9C%ED%98%84%EC%8B%9D.ipynb\" target=\"_parent\"><img src=\"https://colab.research.google.com/assets/colab-badge.svg\" alt=\"Open In Colab\"/></a>"
      ]
    },
    {
      "cell_type": "markdown",
      "source": [
        "# 정규 표현식(Regular Expression)"
      ],
      "metadata": {
        "id": "2CxxBrcXK5Mf"
      }
    },
    {
      "cell_type": "markdown",
      "source": [
        "## 정의\n",
        "\n",
        "메타 문자 : 원래 그 문자가 가진 뜻이 아닌 특별한 용도로 사용되는 문자이다.\n",
        "\n",
        "정규 표현식에서 사용되는 문자  \n",
        ". ,^ , $ , + , ? , {}, (), []"
      ],
      "metadata": {
        "id": "vTOBIyCGK6oe"
      }
    },
    {
      "cell_type": "code",
      "execution_count": null,
      "metadata": {
        "id": "FTaBzj1nKtOH"
      },
      "outputs": [],
      "source": [
        "import re"
      ]
    },
    {
      "cell_type": "code",
      "source": [
        "print(dir(re))"
      ],
      "metadata": {
        "colab": {
          "base_uri": "https://localhost:8080/"
        },
        "id": "s4SkGpwSNMzA",
        "outputId": "420f809a-f4b3-4e76-dc4d-f01fcb1740f6"
      },
      "execution_count": null,
      "outputs": [
        {
          "output_type": "stream",
          "name": "stdout",
          "text": [
            "['A', 'ASCII', 'DEBUG', 'DOTALL', 'I', 'IGNORECASE', 'L', 'LOCALE', 'M', 'MULTILINE', 'Match', 'Pattern', 'RegexFlag', 'S', 'Scanner', 'T', 'TEMPLATE', 'U', 'UNICODE', 'VERBOSE', 'X', '_MAXCACHE', '__all__', '__builtins__', '__cached__', '__doc__', '__file__', '__loader__', '__name__', '__package__', '__spec__', '__version__', '_cache', '_compile', '_compile_repl', '_expand', '_locale', '_pickle', '_special_chars_map', '_subx', 'compile', 'copyreg', 'enum', 'error', 'escape', 'findall', 'finditer', 'fullmatch', 'functools', 'match', 'purge', 'search', 'split', 'sre_compile', 'sre_parse', 'sub', 'subn', 'template']\n"
          ]
        }
      ]
    },
    {
      "cell_type": "code",
      "source": [
        "# [ ] : or\n",
        "p = re.compile('[a-z]')"
      ],
      "metadata": {
        "id": "yFa377PRLfgI"
      },
      "execution_count": null,
      "outputs": []
    },
    {
      "cell_type": "code",
      "source": [
        "m = p.match('python')"
      ],
      "metadata": {
        "id": "UmV1UlA6Lk0o"
      },
      "execution_count": null,
      "outputs": []
    },
    {
      "cell_type": "code",
      "source": [
        "print(m)"
      ],
      "metadata": {
        "colab": {
          "base_uri": "https://localhost:8080/"
        },
        "id": "MIlCQkXgLmsI",
        "outputId": "8cf9abe7-a119-4f6c-bbbc-1ff5f87885b8"
      },
      "execution_count": null,
      "outputs": [
        {
          "output_type": "stream",
          "name": "stdout",
          "text": [
            "<re.Match object; span=(0, 1), match='p'>\n"
          ]
        }
      ]
    },
    {
      "cell_type": "code",
      "source": [
        "n = p.search('python')\n",
        "print(n)"
      ],
      "metadata": {
        "colab": {
          "base_uri": "https://localhost:8080/"
        },
        "id": "kwv4vpZsLv5p",
        "outputId": "63a63d84-c316-4a70-8d0a-32cf28d871cc"
      },
      "execution_count": null,
      "outputs": [
        {
          "output_type": "stream",
          "name": "stdout",
          "text": [
            "<re.Match object; span=(0, 1), match='p'>\n"
          ]
        }
      ]
    },
    {
      "cell_type": "code",
      "source": [
        "p = re.compile('[a-z]')"
      ],
      "metadata": {
        "id": "k3xueWNeMI5e"
      },
      "execution_count": null,
      "outputs": []
    },
    {
      "cell_type": "code",
      "source": [
        "m = p.findall('3 life ti sto short')\n",
        "print(m)"
      ],
      "metadata": {
        "colab": {
          "base_uri": "https://localhost:8080/"
        },
        "id": "8DpAzcqZMMhY",
        "outputId": "bb18f803-6a01-4210-b310-7193db4b09e0"
      },
      "execution_count": null,
      "outputs": [
        {
          "output_type": "stream",
          "name": "stdout",
          "text": [
            "['l', 'i', 'f', 'e', 't', 'i', 's', 't', 'o', 's', 'h', 'o', 'r', 't']\n"
          ]
        }
      ]
    },
    {
      "cell_type": "code",
      "source": [
        "p = re.compile('[a-z]+')\n",
        "m = p.findall('li2fe is %too short3 e')\n",
        "print(m)"
      ],
      "metadata": {
        "colab": {
          "base_uri": "https://localhost:8080/"
        },
        "id": "OHtY2RYUMc72",
        "outputId": "9e2d984a-7baf-467a-acab-a109efd8682a"
      },
      "execution_count": null,
      "outputs": [
        {
          "output_type": "stream",
          "name": "stdout",
          "text": [
            "['li', 'fe', 'is', 'to', 'short', 'e']\n"
          ]
        }
      ]
    },
    {
      "cell_type": "code",
      "source": [
        "p = re.compile('[a-z]+')\n",
        "m = p.finditer('life is too short')\n",
        "print(m)"
      ],
      "metadata": {
        "colab": {
          "base_uri": "https://localhost:8080/"
        },
        "id": "fCag1aIwM4MF",
        "outputId": "4b355c60-560f-477c-f227-0bd1e690409e"
      },
      "execution_count": null,
      "outputs": [
        {
          "output_type": "stream",
          "name": "stdout",
          "text": [
            "<callable_iterator object at 0x7f4e4a8b6a00>\n"
          ]
        }
      ]
    },
    {
      "cell_type": "code",
      "source": [
        "for r in m :\n",
        "  print(r)"
      ],
      "metadata": {
        "colab": {
          "base_uri": "https://localhost:8080/"
        },
        "id": "4FW8R8gvNBqw",
        "outputId": "eb47c21d-8f52-4de6-9c05-8698c6e60b13"
      },
      "execution_count": null,
      "outputs": [
        {
          "output_type": "stream",
          "name": "stdout",
          "text": [
            "<re.Match object; span=(0, 4), match='life'>\n",
            "<re.Match object; span=(5, 7), match='is'>\n",
            "<re.Match object; span=(8, 10), match='to'>\n",
            "<re.Match object; span=(11, 16), match='short'>\n"
          ]
        }
      ]
    },
    {
      "cell_type": "code",
      "source": [
        "print(type(r))\n",
        "print(dir(r))"
      ],
      "metadata": {
        "colab": {
          "base_uri": "https://localhost:8080/"
        },
        "id": "rr2xxpmiNR4a",
        "outputId": "80053ab7-1a4f-4ab1-9183-0bd4980595f3"
      },
      "execution_count": null,
      "outputs": [
        {
          "output_type": "stream",
          "name": "stdout",
          "text": [
            "<class 're.Match'>\n",
            "['__class__', '__copy__', '__deepcopy__', '__delattr__', '__dir__', '__doc__', '__eq__', '__format__', '__ge__', '__getattribute__', '__getitem__', '__gt__', '__hash__', '__init__', '__init_subclass__', '__le__', '__lt__', '__ne__', '__new__', '__reduce__', '__reduce_ex__', '__repr__', '__setattr__', '__sizeof__', '__str__', '__subclasshook__', 'end', 'endpos', 'expand', 'group', 'groupdict', 'groups', 'lastgroup', 'lastindex', 'pos', 're', 'regs', 'span', 'start', 'string']\n"
          ]
        }
      ]
    },
    {
      "cell_type": "code",
      "source": [
        "p = re.compile('[a-z]+')\n",
        "m = p.finditer('life is too short')\n",
        "print(m)\n",
        "\n",
        "for r in m :\n",
        "  print(r.group(), r.start(), r.end(), r.span())"
      ],
      "metadata": {
        "colab": {
          "base_uri": "https://localhost:8080/"
        },
        "id": "dW6lZaX7NjLa",
        "outputId": "0f122549-081a-4243-d744-5a954e592bb7"
      },
      "execution_count": null,
      "outputs": [
        {
          "output_type": "stream",
          "name": "stdout",
          "text": [
            "<callable_iterator object at 0x7f4e4a8b1940>\n",
            "life 0 4 (0, 4)\n",
            "is 5 7 (5, 7)\n",
            "to 8 10 (8, 10)\n",
            "short 11 16 (11, 16)\n"
          ]
        }
      ]
    },
    {
      "cell_type": "code",
      "source": [
        "# 문자클래스[] : 문자 a-z 아무거나 들어가도 매치\n",
        "# match : 처음 매치되는 문자 하나만 반환한다.\n",
        "p = re.compile('[a-z]')\n",
        "m = p.match('abc')\n",
        "print(dir(m))\n",
        "print(m)\n",
        "print(m.group(), m.start(), m.pos, m.string) # pos는 현재 인덱스"
      ],
      "metadata": {
        "colab": {
          "base_uri": "https://localhost:8080/"
        },
        "id": "YG3OMt8hOTb9",
        "outputId": "1fa988c6-8b11-4f60-85b5-8142c1e147f5"
      },
      "execution_count": null,
      "outputs": [
        {
          "output_type": "stream",
          "name": "stdout",
          "text": [
            "['__class__', '__copy__', '__deepcopy__', '__delattr__', '__dir__', '__doc__', '__eq__', '__format__', '__ge__', '__getattribute__', '__getitem__', '__gt__', '__hash__', '__init__', '__init_subclass__', '__le__', '__lt__', '__ne__', '__new__', '__reduce__', '__reduce_ex__', '__repr__', '__setattr__', '__sizeof__', '__str__', '__subclasshook__', 'end', 'endpos', 'expand', 'group', 'groupdict', 'groups', 'lastgroup', 'lastindex', 'pos', 're', 'regs', 'span', 'start', 'string']\n",
            "<re.Match object; span=(0, 1), match='a'>\n",
            "a 0 0 abc\n"
          ]
        }
      ]
    },
    {
      "cell_type": "code",
      "source": [
        "# Dot(.) : a와 b 사이에 줄바꿈 문자를 제외한 어떠한 문자도 매치\n",
        "p = re.compile('a.b')\n",
        "m = p.match('abc')\n",
        "print(m)"
      ],
      "metadata": {
        "colab": {
          "base_uri": "https://localhost:8080/"
        },
        "id": "T8K-QnGMPavt",
        "outputId": "e7dbfb22-82c9-4db9-bb5e-a247423e28bc"
      },
      "execution_count": null,
      "outputs": [
        {
          "output_type": "stream",
          "name": "stdout",
          "text": [
            "None\n"
          ]
        }
      ]
    },
    {
      "cell_type": "code",
      "source": [
        "# 반복(*) : *문자 바로 앞에 있는 t가 0번 이상 반복되면 매치\n",
        "p = re.compile('cat*k')\n",
        "m = p.match('ck')\n",
        "print(m)\n",
        "\n",
        "m = p.match('cak')\n",
        "print(m)\n",
        "print(m.group())\n",
        "\n",
        "m = p.match('catttk')\n",
        "print(m)\n",
        "print(m.group(), m.start())"
      ],
      "metadata": {
        "colab": {
          "base_uri": "https://localhost:8080/"
        },
        "id": "tJkXgGUPPvTP",
        "outputId": "6d7f1ccd-bb79-4a51-eb9e-dc7b09462478"
      },
      "execution_count": null,
      "outputs": [
        {
          "output_type": "stream",
          "name": "stdout",
          "text": [
            "None\n",
            "<re.Match object; span=(0, 3), match='cak'>\n",
            "cak\n",
            "<re.Match object; span=(0, 6), match='catttk'>\n",
            "catttk 0\n"
          ]
        }
      ]
    },
    {
      "cell_type": "code",
      "source": [
        "# 반복(+) : +문자 바로 앞에 있는 t가 1번 이상 반복되면 매치\n",
        "p = re.compile('cat+k')\n",
        "m = p.match('ck')\n",
        "print(m)\n",
        "\n",
        "m = p.match('cak')\n",
        "print(m)\n",
        "\n",
        "m = p.match('catttk')\n",
        "print(m)\n",
        "print(m.group(), m.start())"
      ],
      "metadata": {
        "colab": {
          "base_uri": "https://localhost:8080/"
        },
        "id": "1qhLbgBnQ4SV",
        "outputId": "e687dc26-8612-44c5-88d8-bbe19ccd8631"
      },
      "execution_count": null,
      "outputs": [
        {
          "output_type": "stream",
          "name": "stdout",
          "text": [
            "None\n",
            "None\n",
            "<re.Match object; span=(0, 6), match='catttk'>\n",
            "catttk 0\n"
          ]
        }
      ]
    },
    {
      "cell_type": "code",
      "source": [
        "# 반복{{m, n}, ?} : 반복 횟수를 고정시킬 때 사용한다.\n",
        "p = re.compile('ca{2}t')\n",
        "m = p.match('cat')\n",
        "print(m)\n",
        "\n",
        "m = p.match('caat')\n",
        "print(m)\n",
        "print(m.group())\n",
        "\n",
        "m = p.match('caaat')\n",
        "print(m)"
      ],
      "metadata": {
        "colab": {
          "base_uri": "https://localhost:8080/"
        },
        "id": "pIPqrPxdRaI9",
        "outputId": "46fc6c59-1b5d-434f-b141-3a66620c070c"
      },
      "execution_count": null,
      "outputs": [
        {
          "output_type": "stream",
          "name": "stdout",
          "text": [
            "None\n",
            "<re.Match object; span=(0, 4), match='caat'>\n",
            "caat\n",
            "None\n"
          ]
        }
      ]
    },
    {
      "cell_type": "code",
      "source": [
        "# ? : {0, 1}를 의미한다.\n",
        "p = re.compile('ca?t')\n",
        "m = p.match('cat')\n",
        "print(m)\n",
        "print(m.group())\n",
        "\n",
        "m = p.match('ct')\n",
        "print(m)\n",
        "print(m.group())\n",
        "\n",
        "m = p.match('caat')\n",
        "print(m)"
      ],
      "metadata": {
        "colab": {
          "base_uri": "https://localhost:8080/"
        },
        "id": "YM5iyKpCSBKW",
        "outputId": "7eb56435-85ea-4f26-95f4-de229a4324af"
      },
      "execution_count": null,
      "outputs": [
        {
          "output_type": "stream",
          "name": "stdout",
          "text": [
            "<re.Match object; span=(0, 3), match='cat'>\n",
            "cat\n",
            "<re.Match object; span=(0, 2), match='ct'>\n",
            "ct\n",
            "None\n"
          ]
        }
      ]
    },
    {
      "cell_type": "markdown",
      "source": [
        "## 정규화 표현식 옵션"
      ],
      "metadata": {
        "id": "shTFZZvOSZd0"
      }
    },
    {
      "cell_type": "code",
      "source": [
        "# 줄바꿈 문자를 포함하여 모든 문자와 매치할 수 있도록 한다.\n",
        "p = re.compile('a.b', re.DOTALL)\n",
        "m = p.match('a\\nb')\n",
        "print(m)\n",
        "print(m.group())"
      ],
      "metadata": {
        "colab": {
          "base_uri": "https://localhost:8080/"
        },
        "id": "eN4VrIeWScg0",
        "outputId": "fc0d626c-7e76-45a5-887b-8299cb20828d"
      },
      "execution_count": null,
      "outputs": [
        {
          "output_type": "stream",
          "name": "stdout",
          "text": [
            "<re.Match object; span=(0, 3), match='a\\nb'>\n",
            "a\n",
            "b\n"
          ]
        }
      ]
    },
    {
      "cell_type": "code",
      "source": [
        "# 대소문자에 관계 없이 매치할 수 있도록 한다.\n",
        "p = re.compile('[a-z]', re.I) # 대문자 i (Ignore)\n",
        "m = p.match('Life is too short')\n",
        "print(m)\n",
        "print(m.group())"
      ],
      "metadata": {
        "colab": {
          "base_uri": "https://localhost:8080/"
        },
        "id": "doTH9jbRTzq8",
        "outputId": "49a8eeb3-a58a-4097-effb-b23c42fe112e"
      },
      "execution_count": null,
      "outputs": [
        {
          "output_type": "stream",
          "name": "stdout",
          "text": [
            "<re.Match object; span=(0, 1), match='L'>\n",
            "L\n"
          ]
        }
      ]
    },
    {
      "cell_type": "code",
      "source": [
        "p = re.compile('^python\\s\\w+', re.M) # Mutiline\n",
        "m = p.findall(\"\"\"python one\n",
        "list is too short\n",
        "python two\n",
        "you need python\n",
        "python _\n",
        "python 9\n",
        "python s\n",
        "python sa\n",
        "python three\"\"\")\n",
        "\n",
        "print(m)\n",
        "print(dir(m))\n",
        "print(type(m))"
      ],
      "metadata": {
        "colab": {
          "base_uri": "https://localhost:8080/"
        },
        "id": "NDrCqWxfUZL7",
        "outputId": "cafe1f6a-d8e4-4a37-9532-419b4fa99864"
      },
      "execution_count": null,
      "outputs": [
        {
          "output_type": "stream",
          "name": "stdout",
          "text": [
            "['python one', 'python two', 'python _', 'python 9', 'python s', 'python sa', 'python three']\n",
            "['__add__', '__class__', '__contains__', '__delattr__', '__delitem__', '__dir__', '__doc__', '__eq__', '__format__', '__ge__', '__getattribute__', '__getitem__', '__gt__', '__hash__', '__iadd__', '__imul__', '__init__', '__init_subclass__', '__iter__', '__le__', '__len__', '__lt__', '__mul__', '__ne__', '__new__', '__reduce__', '__reduce_ex__', '__repr__', '__reversed__', '__rmul__', '__setattr__', '__setitem__', '__sizeof__', '__str__', '__subclasshook__', 'append', 'clear', 'copy', 'count', 'extend', 'index', 'insert', 'pop', 'remove', 'reverse', 'sort']\n",
            "<class 'list'>\n"
          ]
        }
      ]
    },
    {
      "cell_type": "markdown",
      "source": [
        "### findall vs finditer\n",
        "\n",
        "- 일치하는 검색 데이터를 모두 가져온다.\n",
        "\n",
        "- findall은 matchers로 리턴하고 캡처된 그룹이 있다면 튜플로 리턴한다.\n",
        "\n",
        "- finditer는 Match object로 리턴한다.   \n",
        "리턴된 오브젝트를 가지고 m.group(1), m.group(2) 이런 식으로 사용할 수 있다.\n",
        "\n"
      ],
      "metadata": {
        "id": "Dwswp4lDMea7"
      }
    },
    {
      "cell_type": "code",
      "source": [
        "p = re.compile(\"([0-9]+)([^0-9]*)\")\n",
        "m = p.findall(\"abxs212350dvkj2akfl0435xksd\")\n",
        "print(m)"
      ],
      "metadata": {
        "colab": {
          "base_uri": "https://localhost:8080/"
        },
        "id": "bpwdfBilMdbT",
        "outputId": "79a6e0c0-20be-4e42-df20-43d9584a5741"
      },
      "execution_count": null,
      "outputs": [
        {
          "output_type": "stream",
          "name": "stdout",
          "text": [
            "[('212350', 'dvkj'), ('2', 'akfl'), ('0435', 'xksd')]\n",
            "<class 'list'>\n"
          ]
        }
      ]
    },
    {
      "cell_type": "code",
      "source": [
        "p = re.compile('&#(0[0-7]+|[0-9]+|x[0-9a-fA-F]+);')\n",
        "data = '''&#06;\n",
        "    &#9;\n",
        "  &#xa;\n",
        "   '''\n",
        "m = p.findall(data)\n",
        "print(m)"
      ],
      "metadata": {
        "colab": {
          "base_uri": "https://localhost:8080/"
        },
        "id": "tGroPtZPOpxt",
        "outputId": "ab3ab85e-fb96-4a2b-d2b1-d4e3bbcc528a"
      },
      "execution_count": null,
      "outputs": [
        {
          "output_type": "stream",
          "name": "stdout",
          "text": [
            "['06', '9', 'xa']\n"
          ]
        }
      ]
    },
    {
      "cell_type": "markdown",
      "source": [
        "### 부정적 전방 탐색 (?!)"
      ],
      "metadata": {
        "id": "3s5tvBuDQYKa"
      }
    },
    {
      "cell_type": "code",
      "source": [
        "p = re.compile(\".*[.](?!bat$|exe$).*$\") \n",
        "file = ['foo.bar', 'autoexec.bat', 'sednmail.cf']\n",
        "\n",
        "for item in file :\n",
        "  # print(item)\n",
        "  m = p.search(item)\n",
        "  # print(m)\n",
        "  if m :\n",
        "    print(m)\n",
        "    print(m.group(), m.start(), m.end())"
      ],
      "metadata": {
        "colab": {
          "base_uri": "https://localhost:8080/"
        },
        "id": "I_PmjL8eQVUM",
        "outputId": "79fafc03-b758-4646-9651-4acecc5d5d65"
      },
      "execution_count": null,
      "outputs": [
        {
          "output_type": "stream",
          "name": "stdout",
          "text": [
            "<re.Match object; span=(0, 7), match='foo.bar'>\n",
            "foo.bar 0 7\n",
            "<re.Match object; span=(0, 11), match='sednmail.cf'>\n",
            "sednmail.cf 0 11\n"
          ]
        }
      ]
    },
    {
      "cell_type": "markdown",
      "source": [
        "### sub() \n",
        "\n",
        "- 문자열 바꾸기"
      ],
      "metadata": {
        "id": "aQrQbga1SHBC"
      }
    },
    {
      "cell_type": "code",
      "source": [
        "p = re.compile('(blue|white|red)')\n",
        "# sub('바꿀 문자열', '대상 문자열')\n",
        "m = p.sub('color', 'blue socks and red socks')\n",
        "print(m)\n",
        "print(type(m))"
      ],
      "metadata": {
        "colab": {
          "base_uri": "https://localhost:8080/"
        },
        "id": "aZyEUz_WSGDL",
        "outputId": "51499f6d-7e04-49cb-8138-d0d4571b14ce"
      },
      "execution_count": null,
      "outputs": [
        {
          "output_type": "stream",
          "name": "stdout",
          "text": [
            "color socks and color socks\n",
            "<class 'str'>\n"
          ]
        }
      ]
    },
    {
      "cell_type": "markdown",
      "source": [
        "### subn()\n",
        "\n",
        "- sub()와 비슷하나 리턴은 튜플로 한다.\n",
        "\n",
        "- 수정된 갯수도 리턴된다."
      ],
      "metadata": {
        "id": "eCLF0jBES2bh"
      }
    },
    {
      "cell_type": "code",
      "source": [
        "p = re.compile('(blue|white|red)')\n",
        "\n",
        "m = p.subn('color', 'blue socks and red socks')\n",
        "print(m)\n",
        "print(type(m))"
      ],
      "metadata": {
        "colab": {
          "base_uri": "https://localhost:8080/"
        },
        "id": "3DPfPZo8Sy4s",
        "outputId": "e6c49d60-2f0a-4221-eef0-30e3bce7f881"
      },
      "execution_count": null,
      "outputs": [
        {
          "output_type": "stream",
          "name": "stdout",
          "text": [
            "('color socks and color socks', 2)\n",
            "<class 'tuple'>\n"
          ]
        }
      ]
    }
  ]
}