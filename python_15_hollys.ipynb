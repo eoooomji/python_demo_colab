{
  "nbformat": 4,
  "nbformat_minor": 0,
  "metadata": {
    "colab": {
      "provenance": [],
      "authorship_tag": "ABX9TyM7H6Si3diS/n0619RsDyo/",
      "include_colab_link": true
    },
    "kernelspec": {
      "name": "python3",
      "display_name": "Python 3"
    },
    "language_info": {
      "name": "python"
    }
  },
  "cells": [
    {
      "cell_type": "markdown",
      "metadata": {
        "id": "view-in-github",
        "colab_type": "text"
      },
      "source": [
        "<a href=\"https://colab.research.google.com/github/eoooomji/python_demo_colab/blob/master/python_15_hollys.ipynb\" target=\"_parent\"><img src=\"https://colab.research.google.com/assets/colab-badge.svg\" alt=\"Open In Colab\"/></a>"
      ]
    },
    {
      "cell_type": "markdown",
      "source": [
        "## hollys.co.kr"
      ],
      "metadata": {
        "id": "PxcRT7bUGKgb"
      }
    },
    {
      "cell_type": "markdown",
      "source": [
        "### 0. 구글 드라이브 연결"
      ],
      "metadata": {
        "id": "1qVhhfvQId1U"
      }
    },
    {
      "cell_type": "code",
      "source": [
        "## 구글 드라이브 연결\n",
        "from google.colab import drive\n",
        "drive.mount('/content/drive')\n",
        "\n",
        "#  경로 변경\n",
        "%cd /content/drive/MyDrive/python_demo"
      ],
      "metadata": {
        "colab": {
          "base_uri": "https://localhost:8080/"
        },
        "id": "09Gf6axmIW1h",
        "outputId": "d0b0d5fc-c832-4ccf-cf8f-0ae637200543"
      },
      "execution_count": null,
      "outputs": [
        {
          "output_type": "stream",
          "name": "stdout",
          "text": [
            "Drive already mounted at /content/drive; to attempt to forcibly remount, call drive.mount(\"/content/drive\", force_remount=True).\n",
            "/content/drive/MyDrive/python_demo\n"
          ]
        }
      ]
    },
    {
      "cell_type": "markdown",
      "source": [
        "### 1. import"
      ],
      "metadata": {
        "id": "9ZdvaqQpI0D3"
      }
    },
    {
      "cell_type": "code",
      "source": [
        "from bs4 import BeautifulSoup\n",
        "import requests"
      ],
      "metadata": {
        "id": "fmio3f8XI1pP"
      },
      "execution_count": null,
      "outputs": []
    },
    {
      "cell_type": "markdown",
      "source": [
        "### 2. 작업결과를 저장할 리스트 준비"
      ],
      "metadata": {
        "id": "NvTnuCV_I9S2"
      }
    },
    {
      "cell_type": "code",
      "source": [
        "result = []"
      ],
      "metadata": {
        "id": "_apQSD_vJBym"
      },
      "execution_count": null,
      "outputs": []
    },
    {
      "cell_type": "markdown",
      "source": [
        "### 3. BeautifulSoup 객체 생성 후 파싱"
      ],
      "metadata": {
        "id": "-MVMq2RjJEAO"
      }
    },
    {
      "cell_type": "code",
      "source": [
        "header = {\"User-Agent\": \"Mozilla/5.0 (Windows NT 10.0; Win64; x64) AppleWebKit/537.36 (KHTML, like Gecko) Chrome/108.0.0.0 Safari/537.36 \"}\n",
        "url = 'https://www.hollys.co.kr/store/korea/korStore2.do'\n",
        "\n",
        "res = requests.get(url, headers = header)\n",
        "soup = BeautifulSoup(res.text, 'html.parser')\n",
        "# print(type(soup))\n",
        "\n",
        "tbody_tag = soup.find('tbody')\n",
        "# print(type(tbody_tag)) # Tag\n",
        "\n",
        "# tr_list_tag = soup.find_all('tr')\n",
        "# print(len(tr_list_tag))\n",
        "# print(type(tr_list_tag)) # ResultSet\n",
        "# print(tr_list_tag[0])\n",
        "\n",
        "# find_all이나 find는 요소명만 입력할 수 있다.\n",
        "tbody_tr_list_tag = tbody_tag.find_all('tr')\n",
        "# print(len(tbody_tr_list_tag)) # 10\n",
        "# print(tbody_tr_list_tag[0])\n"
      ],
      "metadata": {
        "id": "m8YoE-YkJGrQ"
      },
      "execution_count": null,
      "outputs": []
    },
    {
      "cell_type": "code",
      "source": [
        "for store in tbody_tr_list_tag :\n",
        "  store_td = store.find_all('td')\n",
        "  \n",
        "  store_area = store_td[0].string # store_td[0].text\n",
        "\n",
        "  store_name = store_td[1].string\n",
        "\n",
        "  store_phone = store_td[5].string\n",
        "\n",
        "  result.append([store_area] + [store_name] + [store_phone]) # ['서울 강남구'] + ['강남우리라운지점'] + ['02-566-1002']\n",
        "\n",
        "  # print(store_area, store_name, store_phone)\n",
        "\n",
        "\n",
        "  # print(store.text)"
      ],
      "metadata": {
        "id": "CFDDlaDsNNXV"
      },
      "execution_count": null,
      "outputs": []
    },
    {
      "cell_type": "code",
      "source": [
        "# 참고\n",
        "print(['a'] + ['b'])\n",
        "print(['서울 강남구'] + ['강남우리라운지점'] + ['02-566-1002'])"
      ],
      "metadata": {
        "colab": {
          "base_uri": "https://localhost:8080/"
        },
        "id": "waJs3yxGPUbm",
        "outputId": "f4dab310-901b-42fd-9340-b7b2db784ba7"
      },
      "execution_count": null,
      "outputs": [
        {
          "output_type": "stream",
          "name": "stdout",
          "text": [
            "['a', 'b']\n",
            "['서울 강남구', '강남우리라운지점', '02-566-1002']\n"
          ]
        }
      ]
    },
    {
      "cell_type": "markdown",
      "source": [
        "### 4. 크롤링 결과 확인"
      ],
      "metadata": {
        "id": "DW9kz6XSPkc6"
      }
    },
    {
      "cell_type": "code",
      "source": [
        "result"
      ],
      "metadata": {
        "colab": {
          "base_uri": "https://localhost:8080/"
        },
        "id": "HsxfjMYXOiWd",
        "outputId": "0b0d3826-ce43-4d1e-8de0-2d0cf4fd6cb6"
      },
      "execution_count": null,
      "outputs": [
        {
          "output_type": "execute_result",
          "data": {
            "text/plain": [
              "[['서울 강남구', '강남우리라운지점', '02-566-1002'],\n",
              " ['경기 수원시', '수원영통점', '031-202-3356'],\n",
              " ['경기 고양시 덕양구', '원흥역점', '031.967.0302'],\n",
              " ['서울 양천구', '오목교역점', '02-2062-8405'],\n",
              " ['대구 서구', '롯데시네마프리미엄만경관점', '070-7717-2192'],\n",
              " ['전남 순천시', '순천신대점', '061-723-5185'],\n",
              " ['서울 금천구', '시흥사거리점', '02-804-9226'],\n",
              " ['전북 전주시 완산구', '전주효천점', '063-224-5777'],\n",
              " ['제주 제주시', '제주도두해안DT점', '064-745-7301'],\n",
              " ['부산 북구', '부산화명점', '070-8884-1101']]"
            ]
          },
          "metadata": {},
          "execution_count": 43
        }
      ]
    },
    {
      "cell_type": "markdown",
      "source": [
        "### 5. 테이블을 csv 파일로 저장"
      ],
      "metadata": {
        "id": "8dblnb5TPoDs"
      }
    },
    {
      "cell_type": "code",
      "source": [
        "import csv\n",
        "\n",
        "# field names\n",
        "fields = ['StroeArea', 'StoreName', 'StorePhone']\n",
        "\n",
        "with open('./data_crowing/hollys.csv', 'w', newline = '') as f :\n",
        "  write = csv.writer(f) # f.write\n",
        "  write.writerow(fields)\n",
        "  write.writerow(result)"
      ],
      "metadata": {
        "id": "4Zb_2Qv6SMF8"
      },
      "execution_count": null,
      "outputs": []
    },
    {
      "cell_type": "code",
      "source": [
        "!pwd"
      ],
      "metadata": {
        "colab": {
          "base_uri": "https://localhost:8080/"
        },
        "id": "kwhjMnkESiMJ",
        "outputId": "b5bd30c1-72d9-40ce-82a9-ceb5de994b6d"
      },
      "execution_count": null,
      "outputs": [
        {
          "output_type": "stream",
          "name": "stdout",
          "text": [
            "/content/drive/MyDrive/python_demo\n"
          ]
        }
      ]
    },
    {
      "cell_type": "code",
      "source": [
        "!mkdir data_crowing"
      ],
      "metadata": {
        "id": "mfXIuB1ES-CM"
      },
      "execution_count": null,
      "outputs": []
    },
    {
      "cell_type": "code",
      "source": [
        "!ls"
      ],
      "metadata": {
        "colab": {
          "base_uri": "https://localhost:8080/"
        },
        "id": "YdY2PrwuTGTr",
        "outputId": "73e34476-b000-4a85-bd59-7ebbc9cc3e98"
      },
      "execution_count": null,
      "outputs": [
        {
          "output_type": "stream",
          "name": "stdout",
          "text": [
            " 01_자료형_문제.ipynb\t\t '수업_파이썬 _ppt.zip'\n",
            " 01_자료형_풀이.ipynb\t\t  python_01_Mark-Down.ipynb\n",
            " 02_제어문_풀이.ipynb\t\t  python_02_basic.ipynb\n",
            " 02_제어문_문제.ipynb\t\t  python_03_statement.ipynb\n",
            " 03_함수형프로그래밍_문제.ipynb   python_04_function.ipynb\n",
            " 04_함수형프로그래밍_풀이.ipynb   python_06_함수형프로그래밍.ipynb\n",
            "'05_정규표현식 풀이.ipynb'\t  python_07_class.ipynb\n",
            "'05_정규표현식 문제.ipynb'\t  python_08_파일입출력.ipynb\n",
            " 100_colab_환경설정.ipynb\t  python_09_정규표현식.ipynb\n",
            " 101_파일_read_write.ipynb\t  python_10_numpy.ipynb\n",
            " data_crowing\t\t\t  python_11_numpy.ipynb\n",
            " gosu2.txt\t\t\t  python_12_numpy.ipynb\n",
            " gosu3.txt\t\t\t  python_13_데이터수집.ipynb\n",
            " gosu.txt\t\t\t  python_14_데이터수집_정적데이터.ipynb\n",
            " ndata1.npy\t\t\t  python_15_hollys.ipynb\n",
            " ndata2.npz\t\t\t  urllib_naver.txt\n",
            " ndata.csv\n"
          ]
        }
      ]
    },
    {
      "cell_type": "code",
      "source": [
        "!pwd"
      ],
      "metadata": {
        "colab": {
          "base_uri": "https://localhost:8080/"
        },
        "id": "PKLMruqyTN2d",
        "outputId": "c43334ea-415e-48af-d3ca-804a9009dc62"
      },
      "execution_count": null,
      "outputs": [
        {
          "output_type": "stream",
          "name": "stdout",
          "text": [
            "/content/drive/MyDrive/python_demo\n"
          ]
        }
      ]
    },
    {
      "cell_type": "code",
      "source": [
        "%cd data_crowing"
      ],
      "metadata": {
        "colab": {
          "base_uri": "https://localhost:8080/"
        },
        "id": "HH20PqowTXGr",
        "outputId": "27c62509-babe-4360-b553-418654dbd608"
      },
      "execution_count": null,
      "outputs": [
        {
          "output_type": "stream",
          "name": "stdout",
          "text": [
            "/content/drive/MyDrive/python_demo/data_crowing\n"
          ]
        }
      ]
    },
    {
      "cell_type": "code",
      "source": [
        "!ls *.csv"
      ],
      "metadata": {
        "colab": {
          "base_uri": "https://localhost:8080/"
        },
        "id": "0nDVyaAcTZNL",
        "outputId": "c76ed722-e5e8-4eb6-8b14-37d704470188"
      },
      "execution_count": null,
      "outputs": [
        {
          "output_type": "stream",
          "name": "stdout",
          "text": [
            "hollys.csv\n"
          ]
        }
      ]
    },
    {
      "cell_type": "code",
      "source": [
        "!cat hollys.csv"
      ],
      "metadata": {
        "colab": {
          "base_uri": "https://localhost:8080/"
        },
        "id": "P1zarRflU1LE",
        "outputId": "9275aafe-881a-405c-8600-3cb4fa6e411f"
      },
      "execution_count": null,
      "outputs": [
        {
          "output_type": "stream",
          "name": "stdout",
          "text": [
            "StroeArea,StoreName,StorePhone\r\n",
            "\"['서울 강남구', '강남우리라운지점', '02-566-1002']\",\"['경기 수원시', '수원영통점', '031-202-3356']\",\"['경기 고양시 덕양구', '원흥역점', '031.967.0302']\",\"['서울 양천구', '오목교역점', '02-2062-8405']\",\"['대구 서구', '롯데시네마프리미엄만경관점', '070-7717-2192']\",\"['전남 순천시', '순천신대점', '061-723-5185']\",\"['서울 금천구', '시흥사거리점', '02-804-9226']\",\"['전북 전주시 완산구', '전주효천점', '063-224-5777']\",\"['제주 제주시', '제주도두해안DT점', '064-745-7301']\",\"['부산 북구', '부산화명점', '070-8884-1101']\"\r\n"
          ]
        }
      ]
    },
    {
      "cell_type": "code",
      "source": [
        "%cd .."
      ],
      "metadata": {
        "colab": {
          "base_uri": "https://localhost:8080/"
        },
        "id": "6-te7jdbTtac",
        "outputId": "0a713614-e7b3-480f-d7c2-2abee71aff8c"
      },
      "execution_count": null,
      "outputs": [
        {
          "output_type": "stream",
          "name": "stdout",
          "text": [
            "/content/drive/MyDrive/python_demo\n"
          ]
        }
      ]
    },
    {
      "cell_type": "markdown",
      "source": [
        "### 6. 기타 : 저장할 때 날짜 지정"
      ],
      "metadata": {
        "id": "7GQxyyJ3VNuc"
      }
    },
    {
      "cell_type": "code",
      "source": [
        "import datetime\n",
        "now = datetime.datetime.today()\n",
        "print(now)\n",
        "print(now.utcnow())\n",
        "print(now.year, now.month, now.day, now.hour, now.minute, now.second)\n",
        "print(now.date())\n",
        "print(now.time())"
      ],
      "metadata": {
        "colab": {
          "base_uri": "https://localhost:8080/"
        },
        "id": "EKV2a0mXVYvY",
        "outputId": "0a32759d-28d5-4339-f5b5-6dc7e6ac1e6c"
      },
      "execution_count": null,
      "outputs": [
        {
          "output_type": "stream",
          "name": "stdout",
          "text": [
            "2022-12-12 08:00:34.079059\n",
            "2022-12-12 08:00:34.080718\n",
            "2022 12 12 8 0 34\n",
            "2022-12-12\n",
            "08:00:34.079059\n"
          ]
        }
      ]
    },
    {
      "cell_type": "code",
      "source": [
        "import time\n",
        "time.strftime('%Y-%m-%d', time.localtime(time.time()))"
      ],
      "metadata": {
        "colab": {
          "base_uri": "https://localhost:8080/",
          "height": 35
        },
        "id": "KCZzhFBgWJFc",
        "outputId": "0353deb4-d424-47c8-df76-40411afd281a"
      },
      "execution_count": null,
      "outputs": [
        {
          "output_type": "execute_result",
          "data": {
            "text/plain": [
              "'2022-12-12'"
            ],
            "application/vnd.google.colaboratory.intrinsic+json": {
              "type": "string"
            }
          },
          "metadata": {},
          "execution_count": 72
        }
      ]
    },
    {
      "cell_type": "markdown",
      "source": [
        "## 파이썬 파일 작성하여 크롤링 작업하기"
      ],
      "metadata": {
        "id": "a2eMNkXcWokT"
      }
    },
    {
      "cell_type": "code",
      "source": [
        "from bs4 import BeautifulSoup\n",
        "import requests\n",
        "\n",
        "import csv\n",
        "import datetime\n",
        "\n",
        "def hollys_store() :\n",
        "  result = []\n",
        "\n",
        "  header = {\"User-Agent\": \"Mozilla/5.0 (Windows NT 10.0; Win64; x64) AppleWebKit/537.36 (KHTML, like Gecko) Chrome/108.0.0.0 Safari/537.36 \"}\n",
        "  url = 'https://www.hollys.co.kr/store/korea/korStore2.do'\n",
        "\n",
        "  res = requests.get(url, headers = header)\n",
        "  soup = BeautifulSoup(res.text, 'html.parser')\n",
        "\n",
        "  tbody_tag = soup.find('tbody')\n",
        "\n",
        "  tbody_tr_list_tag = tbody_tag.find_all('tr')\n",
        "\n",
        "  for store in tbody_tr_list_tag :\n",
        "    store_td = store.find_all('td')\n",
        "    store_area = store_td[0].string  \n",
        "    store_name = store_td[1].string\n",
        "    store_phone = store_td[5].string\n",
        "    result.append([store_area] + [store_name] + [store_phone])\n",
        "  \n",
        "  return result\n",
        "\n",
        "def main() :\n",
        "  result = hollys_store()\n",
        "\n",
        "  to_now = datetime.datetime.today().date()\n",
        "\n",
        "  # field names\n",
        "  fields = ['StroeArea', 'StoreName', 'StorePhone']\n",
        "\n",
        "  with open('./data_crowing/%s-hollys.csv' % to_now, 'w', newline = '') as f :\n",
        "    write = csv.writer(f) # f.write\n",
        "    write.writerow(fields)\n",
        "    write.writerows(result) # 결과값은 복수이다. writerows 로 작성한다.\n",
        "\n",
        "  print('hollys 데이터 저장 완료')\n",
        "  del result[:]\n",
        "\n",
        "if __name__ == '__main__' :\n",
        "  main()"
      ],
      "metadata": {
        "colab": {
          "base_uri": "https://localhost:8080/"
        },
        "id": "TVLeMI_tWrgC",
        "outputId": "e755f764-c550-47f3-c4cc-2aef4c5fd93f"
      },
      "execution_count": null,
      "outputs": [
        {
          "output_type": "stream",
          "name": "stdout",
          "text": [
            "hollys 데이터 저장 완료\n"
          ]
        }
      ]
    },
    {
      "cell_type": "code",
      "source": [
        "!pwd"
      ],
      "metadata": {
        "colab": {
          "base_uri": "https://localhost:8080/"
        },
        "id": "7vrLY2pRZh0C",
        "outputId": "c0f2f401-d047-4b9e-d32c-335461e40029"
      },
      "execution_count": null,
      "outputs": [
        {
          "output_type": "stream",
          "name": "stdout",
          "text": [
            "/content/drive/MyDrive/python_demo\n"
          ]
        }
      ]
    },
    {
      "cell_type": "code",
      "source": [
        "%cd data_crowing"
      ],
      "metadata": {
        "colab": {
          "base_uri": "https://localhost:8080/"
        },
        "id": "_OyzCByoZiyi",
        "outputId": "f5e80cd0-4ab4-4c43-ff77-1853d46b2433"
      },
      "execution_count": null,
      "outputs": [
        {
          "output_type": "stream",
          "name": "stdout",
          "text": [
            "/content/drive/MyDrive/python_demo/data_crowing\n"
          ]
        }
      ]
    },
    {
      "cell_type": "code",
      "source": [
        "!cat 2022-12-12-hollys.csv"
      ],
      "metadata": {
        "colab": {
          "base_uri": "https://localhost:8080/"
        },
        "id": "uO57MsQtZlIa",
        "outputId": "23760841-23a0-4e4b-c2fa-6ace83ba6a07"
      },
      "execution_count": null,
      "outputs": [
        {
          "output_type": "stream",
          "name": "stdout",
          "text": [
            "StroeArea,StoreName,StorePhone\r\n",
            "\"['서울 강남구', '강남우리라운지점', '02-566-1002']\",\"['경기 수원시', '수원영통점', '031-202-3356']\",\"['경기 고양시 덕양구', '원흥역점', '031.967.0302']\",\"['서울 양천구', '오목교역점', '02-2062-8405']\",\"['대구 서구', '롯데시네마프리미엄만경관점', '070-7717-2192']\",\"['전남 순천시', '순천신대점', '061-723-5185']\",\"['서울 금천구', '시흥사거리점', '02-804-9226']\",\"['전북 전주시 완산구', '전주효천점', '063-224-5777']\",\"['제주 제주시', '제주도두해안DT점', '064-745-7301']\",\"['부산 북구', '부산화명점', '070-8884-1101']\"\r\n"
          ]
        }
      ]
    },
    {
      "cell_type": "code",
      "source": [
        "%cd .."
      ],
      "metadata": {
        "colab": {
          "base_uri": "https://localhost:8080/"
        },
        "id": "0xvwPWE8Zqt4",
        "outputId": "9b97b130-734e-426b-c6fb-05e4b529eb28"
      },
      "execution_count": null,
      "outputs": [
        {
          "output_type": "stream",
          "name": "stdout",
          "text": [
            "/content/drive/MyDrive/python_demo\n"
          ]
        }
      ]
    },
    {
      "cell_type": "code",
      "source": [
        "import json\n",
        "to_now = datetime.datetime.today().date()\n",
        "with open('./data_crowing/%s-hollys.csv' % to_now, 'r') as f :\n",
        "  # print(f.readline())\n",
        "  for element in f :\n",
        "     #print(element)\n",
        "     #print(type(element))\n",
        "     td_list = element.split(',')\n",
        "     print(td_list[0], td_list[1], td_list[2])\n",
        "    # break"
      ],
      "metadata": {
        "colab": {
          "base_uri": "https://localhost:8080/"
        },
        "id": "yeiRqy-LZ80c",
        "outputId": "d4da7238-1a3c-4f0d-ef87-4112e2f738d6"
      },
      "execution_count": null,
      "outputs": [
        {
          "output_type": "stream",
          "name": "stdout",
          "text": [
            "StroeArea StoreName StorePhone\n",
            "\n",
            "서울 강남구 강남우리라운지점 02-566-1002\n",
            "\n",
            "경기 수원시 수원영통점 031-202-3356\n",
            "\n",
            "경기 고양시 덕양구 원흥역점 031.967.0302\n",
            "\n",
            "서울 양천구 오목교역점 02-2062-8405\n",
            "\n",
            "대구 서구 롯데시네마프리미엄만경관점 070-7717-2192\n",
            "\n",
            "전남 순천시 순천신대점 061-723-5185\n",
            "\n",
            "서울 금천구 시흥사거리점 02-804-9226\n",
            "\n",
            "전북 전주시 완산구 전주효천점 063-224-5777\n",
            "\n",
            "제주 제주시 제주도두해안DT점 064-745-7301\n",
            "\n",
            "부산 북구 부산화명점 070-8884-1101\n",
            "\n"
          ]
        }
      ]
    },
    {
      "cell_type": "code",
      "source": [],
      "metadata": {
        "id": "K1NAl-NurTvc"
      },
      "execution_count": null,
      "outputs": []
    }
  ]
}