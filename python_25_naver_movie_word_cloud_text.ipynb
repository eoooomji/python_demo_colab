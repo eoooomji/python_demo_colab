{
  "nbformat": 4,
  "nbformat_minor": 0,
  "metadata": {
    "colab": {
      "provenance": [],
      "authorship_tag": "ABX9TyPSHGP+Jq2p5S4fN/Rli6tv",
      "include_colab_link": true
    },
    "kernelspec": {
      "name": "python3",
      "display_name": "Python 3"
    },
    "language_info": {
      "name": "python"
    }
  },
  "cells": [
    {
      "cell_type": "markdown",
      "metadata": {
        "id": "view-in-github",
        "colab_type": "text"
      },
      "source": [
        "<a href=\"https://colab.research.google.com/github/eoooomji/python_demo_colab/blob/master/python_25_naver_movie_word_cloud_text.ipynb\" target=\"_parent\"><img src=\"https://colab.research.google.com/assets/colab-badge.svg\" alt=\"Open In Colab\"/></a>"
      ]
    },
    {
      "cell_type": "markdown",
      "source": [
        "## 워드클라우드와 텍스트 마이닝"
      ],
      "metadata": {
        "id": "3lUgwy72S4PL"
      }
    },
    {
      "cell_type": "markdown",
      "source": [
        "### colab 한글화"
      ],
      "metadata": {
        "id": "xXl6oPwNTYQn"
      }
    },
    {
      "cell_type": "code",
      "source": [
        "!sudo apt-get install -y fonts-nanum\n",
        "!sudo fc-cache -fv\n",
        "!rm ~/.cache/matplotlib -rf"
      ],
      "metadata": {
        "id": "FpmFAVfpTxDj"
      },
      "execution_count": null,
      "outputs": []
    },
    {
      "cell_type": "markdown",
      "source": [
        "### JPype 설치\n",
        "\n",
        "- https://www.lfd.uciedu/~gohlke/pythonlibs/#jpype  \n",
        "\n",
        "- python에서 java라이브러리를 이용할 수 있도록 설치한다."
      ],
      "metadata": {
        "id": "YUJFmiKrUMFh"
      }
    },
    {
      "cell_type": "code",
      "source": [
        "# https://www.lfd.uci.edu/~gohlke/pythonlibs/#jpype\n",
        "# 아래 부분 바로 실행하면 jpype 설치가 된다.\n",
        "!pip install -U \"jpype1<1.1\""
      ],
      "metadata": {
        "colab": {
          "base_uri": "https://localhost:8080/"
        },
        "id": "FzC_D4fiU4s0",
        "outputId": "efde98a8-2946-4b83-c975-bbc8377802bd"
      },
      "execution_count": null,
      "outputs": [
        {
          "output_type": "stream",
          "name": "stdout",
          "text": [
            "Looking in indexes: https://pypi.org/simple, https://us-python.pkg.dev/colab-wheels/public/simple/\n",
            "Collecting jpype1<1.1\n",
            "  Downloading JPype1-1.0.2-cp38-cp38-manylinux2010_x86_64.whl (3.8 MB)\n",
            "\u001b[K     |████████████████████████████████| 3.8 MB 17.6 MB/s \n",
            "\u001b[?25hInstalling collected packages: jpype1\n",
            "Successfully installed jpype1-1.0.2\n"
          ]
        }
      ]
    },
    {
      "cell_type": "markdown",
      "source": [
        "### 한글 사용을 위한 세종사전 이용"
      ],
      "metadata": {
        "id": "kyeuUIEqZWFY"
      }
    },
    {
      "cell_type": "code",
      "source": [
        "!pip install konlpy\n",
        "!pip install wordcloud"
      ],
      "metadata": {
        "colab": {
          "base_uri": "https://localhost:8080/"
        },
        "id": "loO5JAM6ZZgp",
        "outputId": "b537a4c9-3674-462d-a2dc-f37f7143f345"
      },
      "execution_count": null,
      "outputs": [
        {
          "output_type": "stream",
          "name": "stdout",
          "text": [
            "Looking in indexes: https://pypi.org/simple, https://us-python.pkg.dev/colab-wheels/public/simple/\n",
            "Collecting konlpy\n",
            "  Downloading konlpy-0.6.0-py2.py3-none-any.whl (19.4 MB)\n",
            "\u001b[K     |████████████████████████████████| 19.4 MB 6.1 MB/s \n",
            "\u001b[?25hRequirement already satisfied: JPype1>=0.7.0 in /usr/local/lib/python3.8/dist-packages (from konlpy) (1.0.2)\n",
            "Requirement already satisfied: lxml>=4.1.0 in /usr/local/lib/python3.8/dist-packages (from konlpy) (4.9.2)\n",
            "Requirement already satisfied: numpy>=1.6 in /usr/local/lib/python3.8/dist-packages (from konlpy) (1.21.6)\n",
            "Installing collected packages: konlpy\n",
            "Successfully installed konlpy-0.6.0\n",
            "Looking in indexes: https://pypi.org/simple, https://us-python.pkg.dev/colab-wheels/public/simple/\n",
            "Requirement already satisfied: wordcloud in /usr/local/lib/python3.8/dist-packages (1.8.2.2)\n",
            "Requirement already satisfied: numpy>=1.6.1 in /usr/local/lib/python3.8/dist-packages (from wordcloud) (1.21.6)\n",
            "Requirement already satisfied: pillow in /usr/local/lib/python3.8/dist-packages (from wordcloud) (7.1.2)\n",
            "Requirement already satisfied: matplotlib in /usr/local/lib/python3.8/dist-packages (from wordcloud) (3.2.2)\n",
            "Requirement already satisfied: pyparsing!=2.0.4,!=2.1.2,!=2.1.6,>=2.0.1 in /usr/local/lib/python3.8/dist-packages (from matplotlib->wordcloud) (3.0.9)\n",
            "Requirement already satisfied: cycler>=0.10 in /usr/local/lib/python3.8/dist-packages (from matplotlib->wordcloud) (0.11.0)\n",
            "Requirement already satisfied: kiwisolver>=1.0.1 in /usr/local/lib/python3.8/dist-packages (from matplotlib->wordcloud) (1.4.4)\n",
            "Requirement already satisfied: python-dateutil>=2.1 in /usr/local/lib/python3.8/dist-packages (from matplotlib->wordcloud) (2.8.2)\n",
            "Requirement already satisfied: six>=1.5 in /usr/local/lib/python3.8/dist-packages (from python-dateutil>=2.1->matplotlib->wordcloud) (1.15.0)\n"
          ]
        }
      ]
    },
    {
      "cell_type": "code",
      "source": [
        "## 구글 드라이브 연결\n",
        "from google.colab import drive\n",
        "drive.mount('/content/drive')\n",
        "\n",
        "#  경로 변경\n",
        "%cd /content/drive/MyDrive/python_demo"
      ],
      "metadata": {
        "colab": {
          "base_uri": "https://localhost:8080/"
        },
        "id": "37lJ8L4lZwUK",
        "outputId": "cc2f8376-fb78-480d-918b-88e11465b7b1"
      },
      "execution_count": null,
      "outputs": [
        {
          "output_type": "stream",
          "name": "stdout",
          "text": [
            "Mounted at /content/drive\n",
            "/content/drive/MyDrive/python_demo\n"
          ]
        }
      ]
    },
    {
      "cell_type": "code",
      "source": [
        "## 기본\n",
        "import numpy as np # numpy 패키지 가져오기\n",
        "import pandas as pd # pandas 패키지 가져오기\n",
        "import matplotlib.pyplot as plt # 시각화 패키지 가져오기\n",
        "\n",
        "## 데이터 전처리\n",
        "from konlpy.tag import Okt\n",
        "from collections import Counter\n",
        "from wordcloud import WordCloud"
      ],
      "metadata": {
        "id": "AP-ML5ElZ1IJ"
      },
      "execution_count": null,
      "outputs": []
    },
    {
      "cell_type": "code",
      "source": [
        "!pip list"
      ],
      "metadata": {
        "id": "Boa0zkZZaErF"
      },
      "execution_count": null,
      "outputs": []
    },
    {
      "cell_type": "markdown",
      "source": [
        "### 데이터 가져오기"
      ],
      "metadata": {
        "id": "S5fc-9M-anbK"
      }
    },
    {
      "cell_type": "code",
      "source": [
        "df = pd.read_csv('data_crowing/data.csv', encoding = 'cp949')\n",
        "df.head()"
      ],
      "metadata": {
        "colab": {
          "base_uri": "https://localhost:8080/",
          "height": 206
        },
        "id": "5I0YK-bCao7h",
        "outputId": "87b2035f-cf04-44b0-a564-963e39a56833"
      },
      "execution_count": null,
      "outputs": [
        {
          "output_type": "execute_result",
          "data": {
            "text/plain": [
              "    번호 재학생구분  학년/학기    학과 성별  \\\n",
              "0   65    대학      1  인문계열  여   \n",
              "1   78    대학      3  사회계열  여   \n",
              "2  100    대학      1  사회계열  여   \n",
              "3  129    대학      4  인문계열  여   \n",
              "4   37    대학      2  인문계열  남   \n",
              "\n",
              "                                                text  \n",
              "0  1학기 때 책 읽으려고 갔는데 먼지가 있었어요. 그래서 책상에 먼지가 없었으면 좋겠어요.  \n",
              "1                                   KC대학교도서관 재건축해주세요  \n",
              "2                                       개인스터디할공간이 필요  \n",
              "3                               건물 재건축 및 교체, 내부 리모델링  \n",
              "4                        공부를 할 수 있는 시설이 개선되었으면 좋겠습니다  "
            ],
            "text/html": [
              "\n",
              "  <div id=\"df-218d86af-2495-443c-8777-91264a78429e\">\n",
              "    <div class=\"colab-df-container\">\n",
              "      <div>\n",
              "<style scoped>\n",
              "    .dataframe tbody tr th:only-of-type {\n",
              "        vertical-align: middle;\n",
              "    }\n",
              "\n",
              "    .dataframe tbody tr th {\n",
              "        vertical-align: top;\n",
              "    }\n",
              "\n",
              "    .dataframe thead th {\n",
              "        text-align: right;\n",
              "    }\n",
              "</style>\n",
              "<table border=\"1\" class=\"dataframe\">\n",
              "  <thead>\n",
              "    <tr style=\"text-align: right;\">\n",
              "      <th></th>\n",
              "      <th>번호</th>\n",
              "      <th>재학생구분</th>\n",
              "      <th>학년/학기</th>\n",
              "      <th>학과</th>\n",
              "      <th>성별</th>\n",
              "      <th>text</th>\n",
              "    </tr>\n",
              "  </thead>\n",
              "  <tbody>\n",
              "    <tr>\n",
              "      <th>0</th>\n",
              "      <td>65</td>\n",
              "      <td>대학</td>\n",
              "      <td>1</td>\n",
              "      <td>인문계열</td>\n",
              "      <td>여</td>\n",
              "      <td>1학기 때 책 읽으려고 갔는데 먼지가 있었어요. 그래서 책상에 먼지가 없었으면 좋겠어요.</td>\n",
              "    </tr>\n",
              "    <tr>\n",
              "      <th>1</th>\n",
              "      <td>78</td>\n",
              "      <td>대학</td>\n",
              "      <td>3</td>\n",
              "      <td>사회계열</td>\n",
              "      <td>여</td>\n",
              "      <td>KC대학교도서관 재건축해주세요</td>\n",
              "    </tr>\n",
              "    <tr>\n",
              "      <th>2</th>\n",
              "      <td>100</td>\n",
              "      <td>대학</td>\n",
              "      <td>1</td>\n",
              "      <td>사회계열</td>\n",
              "      <td>여</td>\n",
              "      <td>개인스터디할공간이 필요</td>\n",
              "    </tr>\n",
              "    <tr>\n",
              "      <th>3</th>\n",
              "      <td>129</td>\n",
              "      <td>대학</td>\n",
              "      <td>4</td>\n",
              "      <td>인문계열</td>\n",
              "      <td>여</td>\n",
              "      <td>건물 재건축 및 교체, 내부 리모델링</td>\n",
              "    </tr>\n",
              "    <tr>\n",
              "      <th>4</th>\n",
              "      <td>37</td>\n",
              "      <td>대학</td>\n",
              "      <td>2</td>\n",
              "      <td>인문계열</td>\n",
              "      <td>남</td>\n",
              "      <td>공부를 할 수 있는 시설이 개선되었으면 좋겠습니다</td>\n",
              "    </tr>\n",
              "  </tbody>\n",
              "</table>\n",
              "</div>\n",
              "      <button class=\"colab-df-convert\" onclick=\"convertToInteractive('df-218d86af-2495-443c-8777-91264a78429e')\"\n",
              "              title=\"Convert this dataframe to an interactive table.\"\n",
              "              style=\"display:none;\">\n",
              "        \n",
              "  <svg xmlns=\"http://www.w3.org/2000/svg\" height=\"24px\"viewBox=\"0 0 24 24\"\n",
              "       width=\"24px\">\n",
              "    <path d=\"M0 0h24v24H0V0z\" fill=\"none\"/>\n",
              "    <path d=\"M18.56 5.44l.94 2.06.94-2.06 2.06-.94-2.06-.94-.94-2.06-.94 2.06-2.06.94zm-11 1L8.5 8.5l.94-2.06 2.06-.94-2.06-.94L8.5 2.5l-.94 2.06-2.06.94zm10 10l.94 2.06.94-2.06 2.06-.94-2.06-.94-.94-2.06-.94 2.06-2.06.94z\"/><path d=\"M17.41 7.96l-1.37-1.37c-.4-.4-.92-.59-1.43-.59-.52 0-1.04.2-1.43.59L10.3 9.45l-7.72 7.72c-.78.78-.78 2.05 0 2.83L4 21.41c.39.39.9.59 1.41.59.51 0 1.02-.2 1.41-.59l7.78-7.78 2.81-2.81c.8-.78.8-2.07 0-2.86zM5.41 20L4 18.59l7.72-7.72 1.47 1.35L5.41 20z\"/>\n",
              "  </svg>\n",
              "      </button>\n",
              "      \n",
              "  <style>\n",
              "    .colab-df-container {\n",
              "      display:flex;\n",
              "      flex-wrap:wrap;\n",
              "      gap: 12px;\n",
              "    }\n",
              "\n",
              "    .colab-df-convert {\n",
              "      background-color: #E8F0FE;\n",
              "      border: none;\n",
              "      border-radius: 50%;\n",
              "      cursor: pointer;\n",
              "      display: none;\n",
              "      fill: #1967D2;\n",
              "      height: 32px;\n",
              "      padding: 0 0 0 0;\n",
              "      width: 32px;\n",
              "    }\n",
              "\n",
              "    .colab-df-convert:hover {\n",
              "      background-color: #E2EBFA;\n",
              "      box-shadow: 0px 1px 2px rgba(60, 64, 67, 0.3), 0px 1px 3px 1px rgba(60, 64, 67, 0.15);\n",
              "      fill: #174EA6;\n",
              "    }\n",
              "\n",
              "    [theme=dark] .colab-df-convert {\n",
              "      background-color: #3B4455;\n",
              "      fill: #D2E3FC;\n",
              "    }\n",
              "\n",
              "    [theme=dark] .colab-df-convert:hover {\n",
              "      background-color: #434B5C;\n",
              "      box-shadow: 0px 1px 3px 1px rgba(0, 0, 0, 0.15);\n",
              "      filter: drop-shadow(0px 1px 2px rgba(0, 0, 0, 0.3));\n",
              "      fill: #FFFFFF;\n",
              "    }\n",
              "  </style>\n",
              "\n",
              "      <script>\n",
              "        const buttonEl =\n",
              "          document.querySelector('#df-218d86af-2495-443c-8777-91264a78429e button.colab-df-convert');\n",
              "        buttonEl.style.display =\n",
              "          google.colab.kernel.accessAllowed ? 'block' : 'none';\n",
              "\n",
              "        async function convertToInteractive(key) {\n",
              "          const element = document.querySelector('#df-218d86af-2495-443c-8777-91264a78429e');\n",
              "          const dataTable =\n",
              "            await google.colab.kernel.invokeFunction('convertToInteractive',\n",
              "                                                     [key], {});\n",
              "          if (!dataTable) return;\n",
              "\n",
              "          const docLinkHtml = 'Like what you see? Visit the ' +\n",
              "            '<a target=\"_blank\" href=https://colab.research.google.com/notebooks/data_table.ipynb>data table notebook</a>'\n",
              "            + ' to learn more about interactive tables.';\n",
              "          element.innerHTML = '';\n",
              "          dataTable['output_type'] = 'display_data';\n",
              "          await google.colab.output.renderOutput(dataTable, element);\n",
              "          const docLink = document.createElement('div');\n",
              "          docLink.innerHTML = docLinkHtml;\n",
              "          element.appendChild(docLink);\n",
              "        }\n",
              "      </script>\n",
              "    </div>\n",
              "  </div>\n",
              "  "
            ]
          },
          "metadata": {},
          "execution_count": 9
        }
      ]
    },
    {
      "cell_type": "code",
      "source": [
        "df.shape"
      ],
      "metadata": {
        "colab": {
          "base_uri": "https://localhost:8080/"
        },
        "id": "JMewLUp4busH",
        "outputId": "ee354717-8ce7-40d9-ab17-0f845be3345d"
      },
      "execution_count": null,
      "outputs": [
        {
          "output_type": "execute_result",
          "data": {
            "text/plain": [
              "(59, 6)"
            ]
          },
          "metadata": {},
          "execution_count": 12
        }
      ]
    },
    {
      "cell_type": "code",
      "source": [
        "df.info()"
      ],
      "metadata": {
        "colab": {
          "base_uri": "https://localhost:8080/"
        },
        "id": "m09vPEJ0bxQH",
        "outputId": "37368ab8-212c-4772-ac33-c34018c970fd"
      },
      "execution_count": null,
      "outputs": [
        {
          "output_type": "stream",
          "name": "stdout",
          "text": [
            "<class 'pandas.core.frame.DataFrame'>\n",
            "RangeIndex: 59 entries, 0 to 58\n",
            "Data columns (total 6 columns):\n",
            " #   Column  Non-Null Count  Dtype \n",
            "---  ------  --------------  ----- \n",
            " 0   번호      59 non-null     int64 \n",
            " 1   재학생구분   59 non-null     object\n",
            " 2   학년/학기   59 non-null     int64 \n",
            " 3   학과      59 non-null     object\n",
            " 4   성별      59 non-null     object\n",
            " 5   text    59 non-null     object\n",
            "dtypes: int64(2), object(4)\n",
            "memory usage: 2.9+ KB\n"
          ]
        }
      ]
    },
    {
      "cell_type": "markdown",
      "source": [
        "### 명사 단어 추출"
      ],
      "metadata": {
        "id": "IB2ZopF2bx7n"
      }
    },
    {
      "cell_type": "markdown",
      "source": [
        "#### 1. 세종 사전 실행"
      ],
      "metadata": {
        "id": "dDM1cq_2cSSB"
      }
    },
    {
      "cell_type": "code",
      "source": [
        "from konlpy.tag import Okt\n",
        "twitter = Okt()"
      ],
      "metadata": {
        "id": "-O0K74w0b5kZ"
      },
      "execution_count": null,
      "outputs": []
    },
    {
      "cell_type": "markdown",
      "source": [
        "#### 2. 단어 리스트 만들기"
      ],
      "metadata": {
        "id": "WphoT0BKcUlR"
      }
    },
    {
      "cell_type": "code",
      "source": [
        "word_list = []\n",
        "word_list = df['text']"
      ],
      "metadata": {
        "id": "i1tb3YOxcXpx"
      },
      "execution_count": null,
      "outputs": []
    },
    {
      "cell_type": "code",
      "source": [
        "word_list"
      ],
      "metadata": {
        "colab": {
          "base_uri": "https://localhost:8080/"
        },
        "id": "TeHPCgPocdX5",
        "outputId": "3e52b5e1-cd9b-4f24-ec1c-581f12d03533"
      },
      "execution_count": null,
      "outputs": [
        {
          "output_type": "execute_result",
          "data": {
            "text/plain": [
              "0     1학기 때 책 읽으려고 갔는데 먼지가 있었어요. 그래서 책상에 먼지가 없었으면 좋겠어요.\n",
              "1                                      KC대학교도서관 재건축해주세요\n",
              "2                                          개인스터디할공간이 필요\n",
              "3                                  건물 재건축 및 교체, 내부 리모델링\n",
              "4                           공부를 할 수 있는 시설이 개선되었으면 좋겠습니다\n",
              "5     공부할수있는쾌적한 공간을 마련해주세요. 그저 좁은 공간에 책만 꽉 차서 책이 믾은 ...\n",
              "6     논문 열람 가능한 사이트 riss를 학교와 연계해서 학생들이 이용할 수 있게 해주세...\n",
              "7     대출불가도서를 대여해주던지 복사기를 고쳐주세요.. 대여도 안되고 복사도 잘안되서 돈...\n",
              "8                  대학원 전공과 관련된 국내외 참고도서도 많이 구비하였으면 합니다.\n",
              "9                                       더 나아진 도서관을 기대해요\n",
              "10    도서관 2층 들어서자마자 있는 컴퓨터 공간 외 다른 공간들의 공기가 너무 탁합니다....\n",
              "11                                         도서관 건물 시설 개설\n",
              "12                        도서관 리모델링을 했으면 좋겠다. 너무 낙후되어있다.\n",
              "13                                     도서관 책장이 너무 부실합니다\n",
              "14    도서관같은 공간의 경우에는 사람을 끌어들이는 힘이 굉장히 중요하다고 생각하는데, 그...\n",
              "15         도서관규모에비해직원수가많아서 직원1명이면충분함. 근로생들이 대출반납정리다하니..\n",
              "16                                           도서관리모델링필요!\n",
              "17    도서관에 간호학 전공 공부를 할 수 있는 다양한 자료가 있었으면 좋겠습니다. 뿐만 ...\n",
              "18    도서관에 대한 홍보를 조금더 하고 프로그램을 개발하여 학생들이 많이 찾아갈 수 있게...\n",
              "19    도서관의 위치와 내부 중간에 자유롭게 앉아서 책을 읽을 환경이 필요하고, 지금 이상...\n",
              "20    도서관이 너무 어지럽게 되어 있기도 하고 저번에 갔을때는 책이 아무렇게나 꽂혀 있는...\n",
              "21    도서관이 너무 오래되어서 겨울에는 너무 추워요. 1층 같은 경우는 밖에서 담배피우는...\n",
              "22    도서관이 너무 작아요ㅠ 학교 내에 열람실이 있긴 하지만 도서관 안에서도 공부하고 싶...\n",
              "23    도서관이 대학 자료의 보고로서 최신 자료 수집과 학문 연구를 위한 지원에 최선을 다...\n",
              "24                              도서관이 좀 더 시설이 좋았으면 좋겠습니다\n",
              "25    독서를 왜 해야하는지, 독서의 필요성에 대한 특강을 들으면 독서실이용이 조금 더 활...\n",
              "26            새로운 건물로 다시 지었으면 좋겠다 시설이 초갓집도 아니고 시설이 미비하다\n",
              "27                                                   설비\n",
              "28                                                시설 보수\n",
              "29                                               시설개선..\n",
              "30                                     시설이 개선되었으면 좋겠습니다\n",
              "31            시설이 너무 낙후되어있고, 스터디모임이나 공부하는 공간이 턱없이 부족하다.\n",
              "32                                 신간도서 자주 구비해주시기 바랍니다.\n",
              "33              신학기마다 새로운 책들을 학과별로 체크해서 구입해주시면 좋을듯 합니다.\n",
              "34    신학으로 설립되었기에 그와 관련된 서적은 타관보다 장서보유는 많아 유익한데 최신 양...\n",
              "35                                    앞으로도 많은 발전을 기원합니다\n",
              "36                                                  없다.\n",
              "37                          열람실부분 타 대학들처럼 개선되었으면 좋겠습니다.\n",
              "38    열람실에서 주로 공부하기 보단 도서관에서도 공부를 하러 갈 수 있는 환경조성과 홍보...\n",
              "39                                  열람실이랑 도서관을 새로 지어주세요\n",
              "40    열람실처럼 개인학습 공간이 따로 마련되었으면 좋겠고 종교 서적이 아닌 베스트 셀러나...\n",
              "41                          오래된 자료보다 최신자료를 보다 이용하고싶습니다.\n",
              "42    자격증 취득을 위한 최신도서들이 부족하다 특히나 세법같은 매년 개정되는 내용을 확인...\n",
              "43    자료를 조금 더 보충해 주셨으면 합니다. 예로 신학 자료 같은 것들을 검색할 때 적...\n",
              "44                                         잘 이용하고 있습니다.\n",
              "45                                           전반적으로 만족함.\n",
              "46                                 전체적인 개혁이 필요하다고 생각합니다\n",
              "47                                  조금 더 공간이 넓었으면 좋겠습니다\n",
              "48                                 조금 더 공간이 넓었으면 좋겠습니다.\n",
              "49                          좀더 넓고 좋은 시설과 학습공간이 있었으면 좋겠다\n",
              "50    책 읽을 공간, 학습공간, 스터디룸 책을 좋아하는 학생들과 도서관 분위기에서 공부하...\n",
              "51    책도 많아지고 책이 분류 별로 확실하게 정리되었으면 좋겠습니다 그리고 공부할수있는 ...\n",
              "52                                      최신 자료가 많이 부족합니다\n",
              "53                                      최신도서 배치 및 건물 신축\n",
              "54                         출입구의인식기가사용이어렵습니다(인식이잘안되는것같음)\n",
              "55                                           충분히 만족스러워요\n",
              "56                                  학교 전공이나 교양 관련 서적 증가\n",
              "57                 학생들이 공부하기 편한 환경 / 제대로 된 도서들 제공했으면좋겠다\n",
              "58       해당 학기에 쓰는 전공책 등을 구비하고, 그 외에도 최신 도서들이 들어왔으면 좋겠다\n",
              "Name: text, dtype: object"
            ]
          },
          "metadata": {},
          "execution_count": 20
        }
      ]
    },
    {
      "cell_type": "markdown",
      "source": [
        "#### 3. 형태소 분리 및 품사 태깅"
      ],
      "metadata": {
        "id": "XRmv1Ni9cZIv"
      }
    },
    {
      "cell_type": "code",
      "source": [
        "sentences_tag = []\n",
        "\n",
        "for sentence in word_list: \n",
        "  morph = twitter.pos(sentence)\n",
        "  sentences_tag.append(morph)\n",
        "\n",
        "print(morph)\n",
        "print(sentences_tag)"
      ],
      "metadata": {
        "colab": {
          "base_uri": "https://localhost:8080/"
        },
        "id": "gksTe-zgeqAK",
        "outputId": "ccba40c2-3c68-4445-da6d-d2b3df8877ae"
      },
      "execution_count": null,
      "outputs": [
        {
          "output_type": "stream",
          "name": "stdout",
          "text": [
            "[('해당', 'Noun'), ('학기', 'Noun'), ('에', 'Josa'), ('쓰는', 'Verb'), ('전', 'Modifier'), ('공책', 'Noun'), ('등', 'Noun'), ('을', 'Josa'), ('구비', 'Noun'), ('하고', 'Josa'), (',', 'Punctuation'), ('그', 'Noun'), ('외', 'Noun'), ('에도', 'Josa'), ('최신', 'Noun'), ('도서', 'Noun'), ('들', 'Suffix'), ('이', 'Josa'), ('들어왔으면', 'Verb'), ('좋겠다', 'Adjective')]\n",
            "[[('1', 'Number'), ('학기', 'Noun'), ('때', 'Noun'), ('책', 'Noun'), ('읽으려고', 'Verb'), ('갔는데', 'Verb'), ('먼지', 'Noun'), ('가', 'Josa'), ('있었어요', 'Adjective'), ('.', 'Punctuation'), ('그래서', 'Adverb'), ('책상', 'Noun'), ('에', 'Josa'), ('먼지', 'Noun'), ('가', 'Josa'), ('없었으면', 'Adjective'), ('좋겠어요', 'Adjective'), ('.', 'Punctuation')], [('KC', 'Alpha'), ('대학교', 'Noun'), ('도서관', 'Noun'), ('재건축', 'Noun'), ('해주세요', 'Verb')], [('개인', 'Noun'), ('스터디', 'Noun'), ('할', 'Verb'), ('공간', 'Noun'), ('이', 'Josa'), ('필요', 'Noun')], [('건물', 'Noun'), ('재건축', 'Noun'), ('및', 'Noun'), ('교체', 'Noun'), (',', 'Punctuation'), ('내부', 'Noun'), ('리', 'Noun'), ('모델링', 'Noun')], [('공부', 'Noun'), ('를', 'Josa'), ('할', 'Verb'), ('수', 'Noun'), ('있는', 'Adjective'), ('시설', 'Noun'), ('이', 'Josa'), ('개선', 'Noun'), ('되었으면', 'Verb'), ('좋겠습니다', 'Adjective')], [('공부', 'Noun'), ('할수있는', 'Verb'), ('쾌적한', 'Adjective'), ('공간', 'Noun'), ('을', 'Josa'), ('마련', 'Noun'), ('해주세요', 'Verb'), ('.', 'Punctuation'), ('그저', 'Adverb'), ('좁은', 'Adjective'), ('공간', 'Noun'), ('에', 'Josa'), ('책', 'Noun'), ('만', 'Josa'), ('꽉', 'Noun'), ('차서', 'Noun'), ('책', 'Noun'), ('이', 'Josa'), ('믾', 'Noun'), ('은', 'Josa'), ('건', 'Noun'), ('좋지만', 'Adjective'), ('읽을', 'Verb'), ('수', 'Noun'), ('있', 'Adjective'), ('눈', 'Noun'), ('공간', 'Noun'), ('도', 'Josa'), ('급하게', 'Adjective'), ('찔끔', 'Adverb'), ('만들어놓은', 'Verb'), ('듯', 'Noun'), ('느껴지고', 'Verb'), ('보통', 'Noun'), ('다른', 'Noun'), ('대학', 'Noun'), ('은', 'Josa'), ('모든', 'Noun'), ('학생', 'Noun'), ('들', 'Suffix'), ('이', 'Josa'), ('공부', 'Noun'), ('할', 'Verb'), ('수', 'Noun'), ('있을만큼', 'Adjective'), ('크고', 'Verb'), ('쾌적하고', 'Adjective'), ('좋은데', 'Adjective'), ('저희', 'Noun'), ('는', 'Josa'), ('고등학교', 'Noun'), ('보다', 'Josa'), ('나쁜거', 'Adjective'), ('같아', 'Adjective'), ('속상합니다', 'Adjective'), ('...', 'Punctuation'), ('저희', 'Noun'), ('학교', 'Noun'), ('에', 'Josa'), ('자부심', 'Noun'), ('갖기가', 'Verb'), ('힘듭니다', 'Adjective'), ('..', 'Punctuation')], [('논문', 'Noun'), ('열람', 'Noun'), ('가능한', 'Adjective'), ('사이트', 'Noun'), ('riss', 'Alpha'), ('를', 'Noun'), ('학교', 'Noun'), ('와', 'Josa'), ('연', 'Modifier'), ('계해', 'Noun'), ('서', 'Josa'), ('학생', 'Noun'), ('들', 'Suffix'), ('이', 'Josa'), ('이용', 'Noun'), ('할', 'Verb'), ('수', 'Noun'), ('있게', 'Adjective'), ('해주세요', 'Verb'), ('.', 'Punctuation'), ('또한', 'Noun'), ('도서관', 'Noun'), (',', 'Punctuation'), ('독서실', 'Noun'), ('등', 'Noun'), ('시설', 'Noun'), ('도', 'Josa'), ('더', 'Noun'), ('깔끔하게', 'Adjective'), ('변경', 'Noun'), ('해주세요', 'Verb'), ('제발', 'Noun'), ('..', 'Punctuation')], [('대출', 'Noun'), ('불가', 'Noun'), ('도서', 'Noun'), ('를', 'Josa'), ('대여', 'Noun'), ('해주던지', 'Verb'), ('복사기', 'Noun'), ('를', 'Josa'), ('고쳐주세요', 'Verb'), ('..', 'Punctuation'), ('대여', 'Noun'), ('도', 'Josa'), ('안되고', 'Adjective'), ('복사', 'Noun'), ('도', 'Josa'), ('잘', 'VerbPrefix'), ('안되서', 'Adjective'), ('돈', 'Noun'), ('만', 'Josa'), ('엄청', 'Adverb'), ('나가고', 'Verb'), ('깔끔하게', 'Adjective'), ('복사', 'Noun'), ('도', 'Josa'), ('잘', 'Verb'), ('안됩니다', 'Adjective')], [('대학원', 'Noun'), ('전공', 'Noun'), ('과', 'Josa'), ('관련', 'Noun'), ('된', 'Verb'), ('국내외', 'Noun'), ('참고도서', 'Noun'), ('도', 'Josa'), ('많이', 'Adverb'), ('구비', 'Noun'), ('하였으면', 'Verb'), ('합니다', 'Verb'), ('.', 'Punctuation')], [('더', 'Noun'), ('나아진', 'Verb'), ('도서관', 'Noun'), ('을', 'Josa'), ('기대해요', 'Adjective')], [('도서관', 'Noun'), ('2', 'Number'), ('층', 'Noun'), ('들어서자마자', 'Verb'), ('있는', 'Adjective'), ('컴퓨터', 'Noun'), ('공간', 'Noun'), ('외', 'Noun'), ('다른', 'Noun'), ('공간', 'Noun'), ('들', 'Suffix'), ('의', 'Josa'), ('공기', 'Noun'), ('가', 'Josa'), ('너무', 'Adverb'), ('탁합니다', 'Adjective'), ('.', 'Punctuation'), ('들어가서', 'Verb'), ('조금', 'Noun'), ('있다가', 'Adjective'), ('기침', 'Noun'), ('이', 'Josa'), ('나올', 'Verb'), ('정도', 'Noun'), ('입니다', 'Adjective'), ('.', 'Punctuation'), ('먼지털이', 'Noun'), ('와', 'Josa'), ('걸레', 'Noun'), ('로', 'Josa'), ('한번', 'Noun'), ('대', 'Modifier'), ('청소', 'Noun'), ('를', 'Josa'), ('하고', 'Verb'), ('공기청정기', 'Noun'), ('를', 'Josa'), ('설치', 'Noun'), ('했으면', 'Verb'), ('합니다', 'Verb'), ('.', 'Punctuation')], [('도서관', 'Noun'), ('건물', 'Noun'), ('시설', 'Noun'), ('개설', 'Noun')], [('도서관', 'Noun'), ('리', 'Noun'), ('모델링', 'Noun'), ('을', 'Josa'), ('했으면', 'Verb'), ('좋겠다', 'Adjective'), ('.', 'Punctuation'), ('너무', 'Adverb'), ('낙후', 'Noun'), ('되어있다', 'Verb'), ('.', 'Punctuation')], [('도서관', 'Noun'), ('책장', 'Noun'), ('이', 'Josa'), ('너무', 'Adverb'), ('부실합니다', 'Adjective')], [('도서관', 'Noun'), ('같은', 'Adjective'), ('공간', 'Noun'), ('의', 'Josa'), ('경우', 'Noun'), ('에는', 'Josa'), ('사람', 'Noun'), ('을', 'Josa'), ('끌어', 'Verb'), ('들이는', 'Verb'), ('힘', 'Noun'), ('이', 'Josa'), ('굉장히', 'Adjective'), ('중요하다고', 'Adjective'), ('생각', 'Noun'), ('하는데', 'Verb'), (',', 'Punctuation'), ('그런', 'Adjective'), ('점', 'Noun'), ('이', 'Josa'), ('우리', 'Noun'), ('학교', 'Noun'), ('도서관', 'Noun'), ('에는', 'Josa'), ('매우', 'Noun'), ('부족합니다', 'Adjective'), ('.', 'Punctuation'), ('우리', 'Noun'), ('학교', 'Noun'), ('도서관', 'Noun'), ('의', 'Josa'), ('좋은', 'Adjective'), ('점', 'Noun'), ('은', 'Josa'), (',', 'Punctuation'), ('신청', 'Noun'), ('도서', 'Noun'), ('는', 'Josa'), ('전부', 'Noun'), ('다', 'Adverb'), ('주문', 'Noun'), ('해', 'Verb'), ('준다는', 'Verb'), ('점', 'Noun'), ('에서', 'Josa'), ('개인', 'Noun'), ('적', 'Suffix'), ('으로', 'Josa'), ('좋습니다', 'Adjective'), ('.', 'Punctuation'), ('하지만', 'Conjunction'), ('이런', 'Adjective'), ('부분', 'Noun'), ('을', 'Josa'), ('알', 'Noun'), ('지', 'Josa'), ('못', 'VerbPrefix'), ('하는', 'Verb'), ('학생', 'Noun'), ('들', 'Suffix'), ('이', 'Josa'), ('많은', 'Adjective'), ('것', 'Noun'), ('같이', 'Adverb'), ('보입니다', 'Verb'), ('.', 'Punctuation'), ('위', 'Noun'), ('에', 'Josa'), ('개인', 'Noun'), ('학습', 'Noun'), ('공간', 'Noun'), ('이나', 'Josa'), ('그룹', 'Noun'), ('학습', 'Noun'), ('공간', 'Noun'), ('의', 'Josa'), ('제공', 'Noun'), ('을', 'Josa'), ('묻는', 'Verb'), ('항목', 'Noun'), ('이', 'Josa'), ('있는데', 'Adjective'), (',', 'Punctuation'), ('정확히', 'Adjective'), ('말', 'Noun'), ('하자면', 'Verb'), ('그러한', 'Adjective'), ('공간', 'Noun'), ('이', 'Josa'), ('있기는', 'Adjective'), ('있습니다', 'Adjective'), ('.', 'Punctuation'), ('하지만', 'Conjunction'), ('책', 'Noun'), ('먼지', 'Noun'), ('냄새', 'Noun'), ('가', 'Josa'), ('심하게', 'Adjective'), ('나고', 'Verb'), (',', 'Punctuation'), ('여름철', 'Noun'), ('에', 'Josa'), ('굉장히', 'Adjective'), ('더운데', 'Adjective'), ('에어컨', 'Noun'), ('이', 'Josa'), ('(', 'Punctuation'), ('컴퓨터', 'Noun'), ('사용', 'Noun'), ('공간', 'Noun'), ('에', 'Josa'), ('있는', 'Adjective'), ('한', 'Determiner'), ('대', 'Modifier'), ('를', 'Noun'), ('제외', 'Noun'), ('한', 'Josa'), (')', 'Punctuation'), ('아주', 'Noun'), ('오래된', 'Adjective'), ('것', 'Noun'), ('들', 'Suffix'), ('뿐', 'Noun'), ('이라서', 'Josa'), ('여름', 'Noun'), ('에', 'Josa'), ('정말', 'Noun'), ('덥습니다', 'Adjective'), ('.', 'Punctuation'), ('책', 'Noun'), ('읽을', 'Verb'), ('환경', 'Noun'), ('이', 'Josa'), ('아예', 'Noun'), ('안됩니다', 'Adjective'), ('.', 'Punctuation'), ('겨울', 'Noun'), ('도', 'Josa'), ('마찬가지', 'Noun'), ('로', 'Josa'), ('난방', 'Noun'), ('이', 'Josa'), ('안됩니다', 'Adjective'), ('.', 'Punctuation'), ('되긴', 'Verb'), ('하나', 'Noun'), ('공부', 'Noun'), ('를', 'Josa'), ('하면', 'Verb'), ('발', 'Noun'), ('이', 'Josa'), ('시려', 'Adjective'), ('워', 'Noun'), ('서', 'Josa'), ('오래', 'Adverb'), ('있을', 'Adjective'), ('수가', 'Noun'), ('없어요', 'Adjective'), ('.', 'Punctuation'), ('우리', 'Noun'), ('학교', 'Noun'), ('도서관', 'Noun'), ('의', 'Josa'), ('가장', 'Noun'), ('큰', 'Verb'), ('문제점', 'Noun'), ('은', 'Josa'), ('사실', 'Noun'), ('서비스', 'Noun'), ('가', 'Josa'), ('아니라', 'Adjective'), ('시설', 'Noun'), ('입니다', 'Adjective'), ('....', 'Punctuation'), ('여름', 'Noun'), (',', 'Punctuation'), ('겨울철', 'Noun'), ('냉', 'Noun'), ('난방', 'Noun'), ('이', 'Josa'), ('터', 'Noun'), ('무니', 'Noun'), ('없는', 'Adjective'), ('수준', 'Noun'), ('이고', 'Josa'), (',', 'Punctuation'), ('학습', 'Noun'), ('공간', 'Noun'), ('은', 'Josa'), ('있긴', 'Adjective'), ('하나', 'Noun'), ('공간', 'Noun'), ('이', 'Josa'), ('답답합니다', 'Adjective'), ('.', 'Punctuation'), ('또한', 'Noun'), ('오래된', 'Adjective'), ('먼지', 'Noun'), ('냄새', 'Noun'), ('같은', 'Adjective'), ('것', 'Noun'), ('이', 'Josa'), ('나고요', 'Verb'), ('.', 'Punctuation'), ('이런', 'Adjective'), ('부분', 'Noun'), ('을', 'Josa'), ('해결', 'Noun'), ('하는', 'Verb'), ('것', 'Noun'), ('이', 'Josa'), ('관건', 'Noun'), ('이라고', 'Josa'), ('생각', 'Noun'), ('합니다', 'Verb'), ('.', 'Punctuation'), ('저', 'Noun'), ('는', 'Josa'), ('도서관', 'Noun'), ('이용', 'Noun'), ('을', 'Josa'), ('많이', 'Adverb'), ('하는', 'Verb'), ('편', 'Noun'), ('인데', 'Josa'), (',', 'Punctuation'), ('솔직하게', 'Adjective'), ('말', 'Noun'), ('해서', 'Verb'), ('이용', 'Noun'), ('을', 'Josa'), ('많이', 'Adverb'), ('해도', 'Noun'), ('애정', 'Noun'), ('이', 'Josa'), ('안', 'VerbPrefix'), ('생기는', 'Verb'), ('환경', 'Noun'), ('입니다', 'Adjective'), ('.', 'Punctuation'), ('아무리', 'Adverb'), ('홍보', 'Noun'), ('를', 'Josa'), ('하더라도', 'Verb'), ('이런', 'Adjective'), ('부분', 'Noun'), ('이', 'Josa'), ('바뀌지', 'Verb'), ('않는다면', 'Verb'), ('도서관', 'Noun'), ('이용', 'Noun'), ('률', 'Noun'), ('은', 'Josa'), ('평생', 'Noun'), ('저조할', 'Adjective'), ('것', 'Noun'), ('이라고', 'Josa'), ('아주', 'Noun'), ('확신', 'Noun'), ('합니다', 'Verb'), ('.', 'Punctuation'), ('이용', 'Noun'), ('하려고', 'Verb'), ('해도', 'Noun'), ('할', 'Verb'), ('수가', 'Noun'), ('없어요', 'Adjective'), ('.', 'Punctuation')], [('도서관', 'Noun'), ('규모', 'Noun'), ('에', 'Josa'), ('비', 'Noun'), ('해직', 'Noun'), ('원수', 'Noun'), ('가', 'Josa'), ('많아서', 'Adjective'), ('직원', 'Noun'), ('1', 'Number'), ('명', 'Noun'), ('이', 'Suffix'), ('면', 'Josa'), ('충분함', 'Adjective'), ('.', 'Punctuation'), ('근로', 'Noun'), ('생', 'Noun'), ('들', 'Suffix'), ('이', 'Josa'), ('대출', 'Noun'), ('반', 'Modifier'), ('납정', 'Noun'), ('리다', 'Noun'), ('하', 'Suffix'), ('니', 'Josa'), ('..', 'Punctuation')], [('도서', 'Noun'), ('관리', 'Noun'), ('모델링', 'Noun'), ('필요', 'Noun'), ('!', 'Punctuation')], [('도서관', 'Noun'), ('에', 'Josa'), ('간호학', 'Noun'), ('전공', 'Noun'), ('공부', 'Noun'), ('를', 'Josa'), ('할', 'Verb'), ('수', 'Noun'), ('있는', 'Adjective'), ('다양한', 'Adjective'), ('자료', 'Noun'), ('가', 'Josa'), ('있었으면', 'Adjective'), ('좋겠습니다', 'Adjective'), ('.', 'Punctuation'), ('뿐', 'Noun'), ('만', 'Josa'), ('아니라', 'Adjective'), ('공부', 'Noun'), ('를', 'Josa'), ('할', 'Verb'), ('수', 'Noun'), ('있는', 'Adjective'), ('공간', 'Noun'), ('이', 'Josa'), ('많았으면', 'Adjective'), ('좋겠습니다', 'Adjective'), ('.', 'Punctuation')], [('도서관', 'Noun'), ('에', 'Josa'), ('대한', 'Noun'), ('홍보', 'Noun'), ('를', 'Josa'), ('조금', 'Noun'), ('더', 'Noun'), ('하고', 'Verb'), ('프로그램', 'Noun'), ('을', 'Josa'), ('개발', 'Noun'), ('하여', 'Verb'), ('학생', 'Noun'), ('들', 'Suffix'), ('이', 'Josa'), ('많이', 'Adverb'), ('찾아갈', 'Verb'), ('수', 'Noun'), ('있게', 'Adjective'), ('하면', 'Verb'), ('좋을', 'Adjective'), ('거', 'Noun'), ('같습니다', 'Adjective'), (',', 'Punctuation')], [('도서관', 'Noun'), ('의', 'Josa'), ('위치', 'Noun'), ('와', 'Josa'), ('내부', 'Noun'), ('중간', 'Noun'), ('에', 'Josa'), ('자유롭게', 'Adjective'), ('앉아서', 'Verb'), ('책', 'Noun'), ('을', 'Josa'), ('읽을', 'Verb'), ('환경', 'Noun'), ('이', 'Josa'), ('필요하고', 'Adjective'), (',', 'Punctuation'), ('지금', 'Noun'), ('이상', 'Noun'), ('으로', 'Josa'), ('자유롭게', 'Adjective'), ('열람', 'Noun'), ('하고', 'Josa'), ('공부', 'Noun'), ('할', 'Verb'), ('수', 'Noun'), ('있는', 'Adjective'), ('테이블', 'Noun'), ('과', 'Josa'), ('같은', 'Adjective'), ('환경', 'Noun'), ('이', 'Josa'), ('필요하다', 'Adjective'), ('.', 'Punctuation')], [('도서관', 'Noun'), ('이', 'Josa'), ('너무', 'Adverb'), ('어지럽게', 'Adjective'), ('되어', 'Verb'), ('있기도', 'Adjective'), ('하고', 'Verb'), ('저번', 'Noun'), ('에', 'Josa'), ('갔을', 'Verb'), ('때', 'Noun'), ('는', 'Josa'), ('책', 'Noun'), ('이', 'Josa'), ('아무렇게나', 'Adjective'), ('꽂혀', 'Verb'), ('있는', 'Adjective'), ('것', 'Noun'), ('도', 'Josa'), ('본적', 'Noun'), ('이', 'Josa'), ('있습니다', 'Adjective'), ('.', 'Punctuation'), ('저희', 'Noun'), ('학교', 'Noun'), ('도서관', 'Noun'), ('에', 'Josa'), ('가는것보다는', 'Verb'), ('가까운', 'Adjective'), ('다른', 'Noun'), ('도서관', 'Noun'), ('을', 'Josa'), ('가는게', 'Verb'), ('더', 'Noun'), ('낫다', 'Noun'), ('고', 'Josa'), ('생각', 'Noun'), ('합니다', 'Verb'), ('.', 'Punctuation')], [('도서관', 'Noun'), ('이', 'Josa'), ('너무', 'Adverb'), ('오래되어서', 'Adjective'), ('겨울', 'Noun'), ('에는', 'Josa'), ('너무', 'Adverb'), ('추워요', 'Adjective'), ('.', 'Punctuation'), ('1', 'Number'), ('층', 'Noun'), ('같은', 'Adjective'), ('경우', 'Noun'), ('는', 'Josa'), ('밖', 'Noun'), ('에서', 'Josa'), ('담배', 'Noun'), ('피우는', 'Verb'), ('애', 'Noun'), ('들', 'Suffix'), ('때문', 'Noun'), ('에', 'Josa'), ('너무', 'Adverb'), ('시끄럽구요', 'Adjective'), ('.', 'Punctuation'), ('전반', 'Noun'), ('적', 'Suffix'), ('으로', 'Josa'), ('새로운', 'Adjective'), ('환경', 'Noun'), ('개선', 'Noun'), ('이', 'Josa'), ('필요합니다', 'Adjective'), ('.', 'Punctuation'), ('교재', 'Noun'), ('나', 'Josa'), ('과제', 'Noun'), ('에', 'Josa'), ('필요한', 'Adjective'), ('도서', 'Noun'), ('인', 'Josa'), ('경우', 'Noun'), ('조금', 'Noun'), ('더', 'Noun'), ('비치', 'Noun'), ('하면', 'Verb'), ('좋을듯', 'Adjective'), ('합니다', 'Verb'), ('.', 'Punctuation'), ('프린트', 'Noun'), ('는', 'Josa'), ('자주', 'Noun'), ('종이', 'Noun'), ('가', 'Josa'), ('걸리네요', 'Verb'), ('.', 'Punctuation')], [('도서관', 'Noun'), ('이', 'Josa'), ('너무', 'Adverb'), ('작아요', 'Adjective'), ('ㅠ', 'KoreanParticle'), ('학교', 'Noun'), ('내', 'Noun'), ('에', 'Josa'), ('열람', 'Noun'), ('실', 'Noun'), ('이', 'Josa'), ('있긴', 'Adjective'), ('하지만', 'Conjunction'), ('도서관', 'Noun'), ('안', 'Noun'), ('에서도', 'Josa'), ('공부', 'Noun'), ('하고', 'Josa'), ('싶은데', 'Verb'), ('공간', 'Noun'), ('이', 'Josa'), ('거의', 'Noun'), ('없어서', 'Adjective'), ('불편해요', 'Adjective'), ('...', 'Punctuation')], [('도서관', 'Noun'), ('이', 'Josa'), ('대학', 'Noun'), ('자료', 'Noun'), ('의', 'Josa'), ('보고', 'Noun'), ('로서', 'Noun'), ('최신', 'Noun'), ('자료', 'Noun'), ('수집', 'Noun'), ('과', 'Josa'), ('학문', 'Noun'), ('연구', 'Noun'), ('를', 'Josa'), ('위', 'Noun'), ('한', 'Josa'), ('지원', 'Noun'), ('에', 'Josa'), ('최선', 'Noun'), ('을', 'Josa'), ('다해', 'Noun'), ('주시길', 'Verb'), ('부탁드립니다', 'Adjective'), ('.', 'Punctuation')], [('도서관', 'Noun'), ('이', 'Josa'), ('좀', 'Noun'), ('더', 'Noun'), ('시설', 'Noun'), ('이', 'Josa'), ('좋았으면', 'Adjective'), ('좋겠습니다', 'Adjective')], [('독서', 'Noun'), ('를', 'Josa'), ('왜', 'Noun'), ('해야하는지', 'Verb'), (',', 'Punctuation'), ('독서', 'Noun'), ('의', 'Josa'), ('필요성', 'Noun'), ('에', 'Josa'), ('대한', 'Noun'), ('특강', 'Noun'), ('을', 'Josa'), ('들으면', 'Verb'), ('독서실', 'Noun'), ('이', 'Determiner'), ('용이', 'Noun'), ('조금', 'Noun'), ('더', 'Noun'), ('활발해질', 'Verb'), ('것', 'Noun'), ('같다는', 'Adjective'), ('생각', 'Noun'), ('이', 'Josa'), ('들어요', 'Verb'), ('~', 'Punctuation'), ('항상', 'Noun'), ('수고', 'Noun'), ('해주셔서', 'Verb'), ('감사합니다', 'Verb')], [('새로운', 'Adjective'), ('건물', 'Noun'), ('로', 'Josa'), ('다시', 'Noun'), ('지었으면', 'Verb'), ('좋겠다', 'Adjective'), ('시설', 'Noun'), ('이', 'Josa'), ('초', 'Noun'), ('갓', 'Modifier'), ('집도', 'Noun'), ('아니고', 'Adjective'), ('시설', 'Noun'), ('이', 'Josa'), ('미비하다', 'Adjective')], [('설비', 'Noun')], [('시설', 'Noun'), ('보수', 'Noun')], [('시설', 'Noun'), ('개선', 'Noun'), ('..', 'Punctuation')], [('시설', 'Noun'), ('이', 'Josa'), ('개선', 'Noun'), ('되었으면', 'Verb'), ('좋겠습니다', 'Adjective')], [('시설', 'Noun'), ('이', 'Josa'), ('너무', 'Adverb'), ('낙후', 'Noun'), ('되어있고', 'Verb'), (',', 'Punctuation'), ('스터디', 'Noun'), ('모임', 'Noun'), ('이나', 'Josa'), ('공부', 'Noun'), ('하는', 'Verb'), ('공간', 'Noun'), ('이', 'Josa'), ('턱', 'Noun'), ('없이', 'Adverb'), ('부족하다', 'Adjective'), ('.', 'Punctuation')], [('신간', 'Noun'), ('도서', 'Noun'), ('자주', 'Noun'), ('구비', 'Noun'), ('해주시기', 'Verb'), ('바랍니다', 'Verb'), ('.', 'Punctuation')], [('신', 'Modifier'), ('학기', 'Noun'), ('마다', 'Josa'), ('새로운', 'Adjective'), ('책', 'Noun'), ('들', 'Suffix'), ('을', 'Josa'), ('학과', 'Noun'), ('별로', 'Noun'), ('체크', 'Noun'), ('해서', 'Verb'), ('구입', 'Noun'), ('해주시면', 'Verb'), ('좋을듯', 'Adjective'), ('합니다', 'Verb'), ('.', 'Punctuation')], [('신학', 'Noun'), ('으로', 'Josa'), ('설립', 'Noun'), ('되었기에', 'Verb'), ('그', 'Noun'), ('와', 'Josa'), ('관련', 'Noun'), ('된', 'Verb'), ('서적', 'Noun'), ('은', 'Josa'), ('타관', 'Noun'), ('보다', 'Josa'), ('장서', 'Noun'), ('보유', 'Noun'), ('는', 'Josa'), ('많아', 'Adjective'), ('유익한데', 'Adjective'), ('최신', 'Noun'), ('양서', 'Noun'), ('가', 'Josa'), ('부족한', 'Adjective'), ('감', 'Noun'), ('이', 'Josa'), ('든다', 'Verb'), ('.', 'Punctuation'), ('이', 'Noun'), ('에', 'Josa'), ('대하', 'Noun'), ('여', 'Josa'), ('참고', 'Noun'), ('해주시면', 'Verb'), ('감사하겠고', 'Verb'), ('우리', 'Noun'), ('학생', 'Noun'), ('들', 'Suffix'), ('이용', 'Noun'), ('뿐', 'Suffix'), ('만', 'Josa'), ('아니라', 'Adjective'), ('동네', 'Noun'), ('주민', 'Noun'), ('들', 'Suffix'), ('에게도', 'Josa'), ('계절', 'Noun'), ('따라', 'Verb'), ('.', 'Punctuation'), ('시', 'Modifier'), ('낭송', 'Noun'), ('들', 'Suffix'), ('을', 'Josa'), ('개최', 'Noun'), ('하여', 'Verb'), ('독서', 'Noun'), ('공간', 'Noun'), ('으로', 'Josa'), ('활짝', 'Noun'), ('열린', 'Verb'), ('공간', 'Noun'), ('이', 'Josa'), ('되었으면', 'Verb'), ('하는', 'Verb'), ('바랍', 'Verb'), ('입니다', 'Adjective'), ('.', 'Punctuation')], [('앞', 'Noun'), ('으로도', 'Josa'), ('많은', 'Adjective'), ('발전', 'Noun'), ('을', 'Josa'), ('기원', 'Noun'), ('합니다', 'Verb')], [('없다', 'Adjective'), ('.', 'Punctuation')], [('열람', 'Noun'), ('실', 'Noun'), ('부분', 'Noun'), ('타', 'Noun'), ('대학', 'Noun'), ('들', 'Suffix'), ('처럼', 'Josa'), ('개선', 'Noun'), ('되었으면', 'Verb'), ('좋겠습니다', 'Adjective'), ('.', 'Punctuation')], [('열람', 'Noun'), ('실', 'Noun'), ('에서', 'Josa'), ('주로', 'Noun'), ('공부', 'Noun'), ('하기', 'Verb'), ('보단', 'Josa'), ('도서관', 'Noun'), ('에서도', 'Josa'), ('공부', 'Noun'), ('를', 'Josa'), ('하러', 'Verb'), ('갈', 'Verb'), ('수', 'Noun'), ('있는', 'Adjective'), ('환경', 'Noun'), ('조', 'Modifier'), ('성과', 'Noun'), ('홍보', 'Noun'), ('가', 'Josa'), ('필요한', 'Adjective'), ('것', 'Noun'), ('같다', 'Adjective'), ('.', 'Punctuation')], [('열람', 'Noun'), ('실', 'Noun'), ('이랑', 'Josa'), ('도서관', 'Noun'), ('을', 'Josa'), ('새로', 'Adjective'), ('지어주세요', 'Verb')], [('열람', 'Noun'), ('실', 'Noun'), ('처럼', 'Josa'), ('개인', 'Noun'), ('학습', 'Noun'), ('공간', 'Noun'), ('이', 'Josa'), ('따로', 'Adverb'), ('마련', 'Noun'), ('되었으면', 'Verb'), ('좋겠고', 'Adjective'), ('종교', 'Noun'), ('서적', 'Noun'), ('이', 'Josa'), ('아닌', 'Adjective'), ('베스트', 'Noun'), ('셀러', 'Noun'), ('나', 'Josa'), ('다른', 'Noun'), ('분야', 'Noun'), ('의', 'Josa'), ('도서', 'Noun'), ('도', 'Josa'), ('마련', 'Noun'), ('되었으면', 'Verb'), ('좋겠습니다', 'Adjective')], [('오래된', 'Adjective'), ('자료', 'Noun'), ('보다', 'Josa'), ('최신', 'Noun'), ('자료', 'Noun'), ('를', 'Josa'), ('보다', 'Verb'), ('이용', 'Noun'), ('하고싶습니다', 'Verb'), ('.', 'Punctuation')], [('자격증', 'Noun'), ('취득', 'Noun'), ('을', 'Josa'), ('위', 'Noun'), ('한', 'Josa'), ('최신', 'Noun'), ('도서', 'Noun'), ('들', 'Suffix'), ('이', 'Josa'), ('부족하다', 'Adjective'), ('특히', 'Adverb'), ('나', 'Noun'), ('세법', 'Noun'), ('같은', 'Adjective'), ('매년', 'Noun'), ('개정', 'Noun'), ('되는', 'Verb'), ('내용', 'Noun'), ('을', 'Josa'), ('확인', 'Noun'), ('하고', 'Josa'), ('찾아', 'Verb'), ('공부', 'Noun'), ('해야하는데', 'Verb'), ('최신', 'Noun'), ('개', 'Suffix'), ('정이', 'Noun'), ('아닌', 'Adjective'), ('2005~2013', 'Number'), ('사이', 'Noun'), ('의', 'Josa'), ('도서', 'Noun'), ('들', 'Suffix'), ('만', 'Josa'), ('있어', 'Adjective'), ('법', 'Noun'), ('관련', 'Noun'), ('책', 'Noun'), ('은', 'Josa'), ('매년', 'Noun'), ('최신', 'Noun'), ('개정', 'Noun'), ('으로', 'Josa'), ('채웠으면', 'Verb'), ('좋겠습니다', 'Adjective')], [('자료', 'Noun'), ('를', 'Josa'), ('조금', 'Noun'), ('더', 'Noun'), ('보충', 'Noun'), ('해', 'Verb'), ('주셨으면', 'Verb'), ('합니다', 'Verb'), ('.', 'Punctuation'), ('예', 'Noun'), ('로', 'Josa'), ('신학', 'Noun'), ('자료', 'Noun'), ('같은', 'Adjective'), ('것', 'Noun'), ('들', 'Suffix'), ('을', 'Josa'), ('검색', 'Noun'), ('할', 'Verb'), ('때', 'Noun'), ('적잖게', 'Verb'), ('고생', 'Noun'), ('을', 'Josa'), ('했습니다', 'Verb'), ('.', 'Punctuation')], [('잘', 'Verb'), ('이용', 'Noun'), ('하고', 'Josa'), ('있습니다', 'Adjective'), ('.', 'Punctuation')], [('전반', 'Noun'), ('적', 'Suffix'), ('으로', 'Josa'), ('만족함', 'Adjective'), ('.', 'Punctuation')], [('전체', 'Noun'), ('적', 'Suffix'), ('인', 'Josa'), ('개혁', 'Noun'), ('이', 'Josa'), ('필요하다고', 'Adjective'), ('생각', 'Noun'), ('합니다', 'Verb')], [('조금', 'Noun'), ('더', 'Noun'), ('공간', 'Noun'), ('이', 'Josa'), ('넓었으면', 'Adjective'), ('좋겠습니다', 'Adjective')], [('조금', 'Noun'), ('더', 'Noun'), ('공간', 'Noun'), ('이', 'Josa'), ('넓었으면', 'Adjective'), ('좋겠습니다', 'Adjective'), ('.', 'Punctuation')], [('좀더', 'Noun'), ('넓고', 'Adjective'), ('좋은', 'Adjective'), ('시설', 'Noun'), ('과', 'Josa'), ('학습', 'Noun'), ('공간', 'Noun'), ('이', 'Josa'), ('있었으면', 'Adjective'), ('좋겠다', 'Adjective')], [('책', 'Noun'), ('읽을', 'Verb'), ('공간', 'Noun'), (',', 'Punctuation'), ('학습', 'Noun'), ('공간', 'Noun'), (',', 'Punctuation'), ('스터디', 'Noun'), ('룸', 'Noun'), ('책', 'Noun'), ('을', 'Josa'), ('좋아하는', 'Adjective'), ('학생', 'Noun'), ('들', 'Suffix'), ('과', 'Josa'), ('도서관', 'Noun'), ('분위기', 'Noun'), ('에서', 'Josa'), ('공부', 'Noun'), ('하려는', 'Verb'), ('학생', 'Noun'), ('들', 'Suffix'), ('이', 'Josa'), ('생각', 'Noun'), ('보다', 'Josa'), ('많습니다만', 'Adjective'), ('도서관', 'Noun'), ('에', 'Josa'), ('그럴', 'Adjective'), ('만', 'Noun'), ('한', 'Josa'), ('자리', 'Noun'), ('가', 'Josa'), ('없다고', 'Adjective'), ('입', 'Noun'), ('소문', 'Noun'), ('으로', 'Josa'), ('전해', 'Noun'), ('듣고', 'Verb'), ('흥미', 'Noun'), ('를', 'Josa'), ('잃고는', 'Verb'), ('합니다', 'Verb'), ('.', 'Punctuation'), ('아늑한', 'Adjective'), ('아지트', 'Noun'), ('같은', 'Adjective'), ('공간', 'Noun'), ('을', 'Josa'), ('조성', 'Noun'), ('해', 'Verb'), ('주신다면', 'Verb'), ('시간', 'Noun'), ('제한', 'Noun'), ('없는', 'Adjective'), ('편안하고', 'Adjective'), ('안락한', 'Adjective'), ('무료', 'Noun'), ('카페', 'Noun'), ('처럼', 'Josa'), ('여겨', 'Verb'), ('많이', 'Adverb'), ('이용', 'Noun'), ('할', 'Verb'), ('것', 'Noun'), ('입니다', 'Adjective'), ('.', 'Punctuation'), ('쇼파', 'Noun'), ('몇', 'Noun'), ('개', 'Noun'), ('가져다', 'Verb'), ('두신다면', 'Verb'), ('학생', 'Noun'), ('들', 'Suffix'), ('이', 'Josa'), ('끼리끼리', 'Noun'), ('모여', 'Verb'), ('푹신하게', 'Adjective'), ('책', 'Noun'), ('을', 'Josa'), ('읽을', 'Verb'), ('것', 'Noun'), ('이고', 'Josa'), ('공간', 'Noun'), ('이', 'Josa'), ('좁지만', 'Adjective'), ('테이블', 'Noun'), ('을', 'Josa'), ('둔다면', 'Verb'), ('공부', 'Noun'), ('도', 'Josa'), ('할', 'Verb'), ('것', 'Noun'), ('입니다', 'Adjective'), ('.', 'Punctuation'), ('사람', 'Noun'), ('은', 'Josa'), ('환경', 'Noun'), ('이', 'Josa'), ('만든다고', 'Verb'), ('하니', 'Noun'), ('도서관', 'Noun'), ('이', 'Josa'), ('달라지면', 'Verb'), ('학구', 'Noun'), ('적', 'Suffix'), ('이고', 'Josa'), ('교양', 'Noun'), ('있는', 'Adjective'), ('학생', 'Noun'), ('들', 'Suffix'), ('도', 'Josa'), ('늘어날', 'Verb'), ('것', 'Noun'), ('은', 'Josa'), ('물론', 'Adverb'), ('이고', 'Josa'), ('도서관', 'Noun'), ('이용', 'Noun'), ('률', 'Noun'), ('도', 'Josa'), ('높아져', 'Verb'), ('학교', 'Noun'), ('의', 'Josa'), ('인지도', 'Noun'), ('에도', 'Josa'), ('도움', 'Noun'), ('이', 'Josa'), ('될', 'Verb'), ('것', 'Noun'), ('이라고', 'Josa'), ('생각', 'Noun'), ('합니다', 'Verb'), ('.', 'Punctuation'), ('다른', 'Noun'), ('학교', 'Noun'), ('들', 'Suffix'), ('에', 'Josa'), ('견학', 'Noun'), ('했을', 'Verb'), ('때', 'Noun'), ('가장', 'Noun'), ('부러웠던', 'Adjective'), ('것', 'Noun'), ('이', 'Josa'), ('도서관', 'Noun'), ('이었습니다', 'Verb'), ('.', 'Punctuation'), ('도서관', 'Noun'), ('은', 'Josa'), ('흔히', 'Adjective'), ('말', 'Noun'), ('하', 'Suffix'), ('듯이', 'Noun'), ('학교', 'Noun'), ('의', 'Josa'), ('얼굴', 'Noun'), ('이자', 'Noun'), ('제', 'Noun'), ('2', 'Number'), ('의', 'Noun'), ('학교', 'Noun'), ('라고', 'Josa'), ('생각', 'Noun'), ('합니다', 'Verb'), ('.', 'Punctuation'), ('도서관', 'Noun'), ('을', 'Josa'), ('많은', 'Adjective'), ('학생', 'Noun'), ('들', 'Suffix'), ('이', 'Josa'), ('찾는', 'Verb'), ('공간', 'Noun'), ('으로', 'Josa'), ('만들어', 'Verb'), ('주세요', 'Verb'), ('.', 'Punctuation'), ('감사합니다', 'Verb'), ('.', 'Punctuation')], [('책', 'Noun'), ('도', 'Josa'), ('많아지고', 'Verb'), ('책', 'Noun'), ('이', 'Josa'), ('분류', 'Noun'), ('별로', 'Noun'), ('확실하게', 'Adjective'), ('정리', 'Noun'), ('되었으면', 'Verb'), ('좋겠습니다', 'Adjective'), ('그리고', 'Conjunction'), ('공부', 'Noun'), ('할수있는', 'Verb'), ('공간', 'Noun'), ('도', 'Josa'), ('따로', 'Adverb'), ('만들어서', 'Verb'), ('책상', 'Noun'), ('과', 'Josa'), ('의자', 'Noun'), ('도', 'Josa'), ('많아', 'Adjective'), ('졌으면', 'Verb'), ('좋겠습니다', 'Adjective'), ('정말', 'Noun'), ('좋은', 'Adjective'), ('도서관', 'Noun'), ('환경', 'Noun'), ('에서', 'Josa'), ('공부', 'Noun'), ('하고', 'Josa'), ('싶습니다', 'Verb'), ('다른', 'Modifier'), ('대학교', 'Noun'), ('처럼', 'Josa'), ('도서관', 'Noun'), ('이', 'Josa'), ('커졌으면', 'Verb'), ('좋겠습니다', 'Adjective')], [('최신', 'Noun'), ('자료', 'Noun'), ('가', 'Josa'), ('많이', 'Adverb'), ('부족합니다', 'Adjective')], [('최신', 'Noun'), ('도서', 'Noun'), ('배치', 'Noun'), ('및', 'Noun'), ('건물', 'Noun'), ('신축', 'Noun')], [('출입구', 'Noun'), ('의인', 'Noun'), ('식기', 'Noun'), ('가', 'Josa'), ('사용', 'Noun'), ('이', 'Josa'), ('어렵습니다', 'Adjective'), ('(', 'Punctuation'), ('인식', 'Noun'), ('이', 'Josa'), ('잘', 'VerbPrefix'), ('안되는것', 'Adjective'), ('같음', 'Adjective'), (')', 'Punctuation')], [('충분히', 'Adjective'), ('만족스러워요', 'Adjective')], [('학교', 'Noun'), ('전공', 'Noun'), ('이나', 'Josa'), ('교양', 'Noun'), ('관련', 'Noun'), ('서적', 'Noun'), ('증가', 'Noun')], [('학생', 'Noun'), ('들', 'Suffix'), ('이', 'Josa'), ('공부', 'Noun'), ('하기', 'Verb'), ('편한', 'Adjective'), ('환경', 'Noun'), ('/', 'Punctuation'), ('제대로', 'Noun'), ('된', 'Verb'), ('도서', 'Noun'), ('들', 'Suffix'), ('제공', 'Noun'), ('했으면', 'Verb'), ('좋겠다', 'Adjective')], [('해당', 'Noun'), ('학기', 'Noun'), ('에', 'Josa'), ('쓰는', 'Verb'), ('전', 'Modifier'), ('공책', 'Noun'), ('등', 'Noun'), ('을', 'Josa'), ('구비', 'Noun'), ('하고', 'Josa'), (',', 'Punctuation'), ('그', 'Noun'), ('외', 'Noun'), ('에도', 'Josa'), ('최신', 'Noun'), ('도서', 'Noun'), ('들', 'Suffix'), ('이', 'Josa'), ('들어왔으면', 'Verb'), ('좋겠다', 'Adjective')]]\n"
          ]
        }
      ]
    },
    {
      "cell_type": "markdown",
      "source": [
        "#### 4. 명사만 추출"
      ],
      "metadata": {
        "id": "jdfed-idfR9_"
      }
    },
    {
      "cell_type": "code",
      "source": [
        "noun_list = []\n",
        "\n",
        "for sentence in sentences_tag :\n",
        "  for word, tag in sentence :\n",
        "    if tag in ['Noun'] :\n",
        "      noun_list.append(word)"
      ],
      "metadata": {
        "id": "TEG2D1s7fYsw"
      },
      "execution_count": null,
      "outputs": []
    },
    {
      "cell_type": "markdown",
      "source": [
        "#### 5. 명사가 두 문자 이상만 추출"
      ],
      "metadata": {
        "id": "PpC5Ccbnf7vh"
      }
    },
    {
      "cell_type": "code",
      "source": [
        "len(noun_list)\n",
        "\n",
        "noun_list = [n for n in noun_list if len(n) > 1]\n",
        "noun_list[:10]\n",
        "len(noun_list)"
      ],
      "metadata": {
        "colab": {
          "base_uri": "https://localhost:8080/"
        },
        "id": "pGfWJFUvgEyX",
        "outputId": "1e742137-3cd6-4aaf-ecbc-722bb80227dc"
      },
      "execution_count": null,
      "outputs": [
        {
          "output_type": "execute_result",
          "data": {
            "text/plain": [
              "494"
            ]
          },
          "metadata": {},
          "execution_count": 33
        }
      ]
    },
    {
      "cell_type": "markdown",
      "source": [
        "#### 6. 단어 카운트"
      ],
      "metadata": {
        "id": "69fxeExJghM4"
      }
    },
    {
      "cell_type": "code",
      "source": [
        "counts = Counter(noun_list)\n",
        "tags = counts.most_common(30) # 30개만 가져와라\n",
        "print(len(tags))\n",
        "tags"
      ],
      "metadata": {
        "colab": {
          "base_uri": "https://localhost:8080/"
        },
        "id": "rGwUujBBgjJg",
        "outputId": "1843b9fd-bcb7-4a26-ad28-cb7c69a5567f"
      },
      "execution_count": null,
      "outputs": [
        {
          "output_type": "stream",
          "name": "stdout",
          "text": [
            "30\n"
          ]
        },
        {
          "output_type": "execute_result",
          "data": {
            "text/plain": [
              "[('도서관', 36),\n",
              " ('공간', 28),\n",
              " ('공부', 17),\n",
              " ('시설', 12),\n",
              " ('학교', 12),\n",
              " ('학생', 11),\n",
              " ('도서', 11),\n",
              " ('이용', 10),\n",
              " ('환경', 9),\n",
              " ('최신', 9),\n",
              " ('생각', 8),\n",
              " ('자료', 8),\n",
              " ('열람', 7),\n",
              " ('조금', 7),\n",
              " ('학습', 6),\n",
              " ('개선', 5),\n",
              " ('다른', 5),\n",
              " ('먼지', 4),\n",
              " ('개인', 4),\n",
              " ('건물', 4),\n",
              " ('관련', 4),\n",
              " ('우리', 4),\n",
              " ('부분', 4),\n",
              " ('학기', 3),\n",
              " ('스터디', 3),\n",
              " ('모델링', 3),\n",
              " ('마련', 3),\n",
              " ('대학', 3),\n",
              " ('저희', 3),\n",
              " ('전공', 3)]"
            ]
          },
          "metadata": {},
          "execution_count": 35
        }
      ]
    },
    {
      "cell_type": "markdown",
      "source": [
        "### WordCloud 생성"
      ],
      "metadata": {
        "id": "aPkZLd8HhOCK"
      }
    },
    {
      "cell_type": "code",
      "source": [
        "wordcloud = WordCloud(font_path = 'NanumBarunGothic', background_color = 'white', width = 800, height = 600)\n",
        "cloud = wordcloud.generate_from_frequencies(dict(tags))\n",
        "plt.figure(figsize = (10, 8))\n",
        "plt.axis('off')\n",
        "plt.imshow(cloud)\n",
        "plt.show()"
      ],
      "metadata": {
        "colab": {
          "base_uri": "https://localhost:8080/",
          "height": 449
        },
        "id": "SJ_1rDbdhPqG",
        "outputId": "18b808a4-1bde-4f9f-ba15-e22a646d151b"
      },
      "execution_count": null,
      "outputs": [
        {
          "output_type": "display_data",
          "data": {
            "text/plain": [
              "<Figure size 720x576 with 1 Axes>"
            ],
            "image/png": "[encoded data removed]"
          },
          "metadata": {
            "needs_background": "light"
          }
        }
      ]
    }
  ]
}