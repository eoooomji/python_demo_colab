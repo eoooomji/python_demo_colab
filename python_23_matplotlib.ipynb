{
  "nbformat": 4,
  "nbformat_minor": 0,
  "metadata": {
    "colab": {
      "provenance": [],
      "authorship_tag": "ABX9TyMua2pno0ruMCk1zVe4B7i+",
      "include_colab_link": true
    },
    "kernelspec": {
      "name": "python3",
      "display_name": "Python 3"
    },
    "language_info": {
      "name": "python"
    }
  },
  "cells": [
    {
      "cell_type": "markdown",
      "metadata": {
        "id": "view-in-github",
        "colab_type": "text"
      },
      "source": [
        "<a href=\"https://colab.research.google.com/github/eoooomji/python_demo_colab/blob/master/python_23_matplotlib.ipynb\" target=\"_parent\"><img src=\"https://colab.research.google.com/assets/colab-badge.svg\" alt=\"Open In Colab\"/></a>"
      ]
    },
    {
      "cell_type": "code",
      "execution_count": 1,
      "metadata": {
        "colab": {
          "base_uri": "https://localhost:8080/"
        },
        "id": "zeVkMTSgGCn9",
        "outputId": "efc33a09-420d-4d9d-f10b-6a5f6ea96780"
      },
      "outputs": [
        {
          "output_type": "stream",
          "name": "stdout",
          "text": [
            "Drive already mounted at /content/drive; to attempt to forcibly remount, call drive.mount(\"/content/drive\", force_remount=True).\n",
            "/content/drive/MyDrive/python_demo\n"
          ]
        }
      ],
      "source": [
        "## 구글 드라이브 연결\n",
        "from google.colab import drive\n",
        "drive.mount('/content/drive')\n",
        "\n",
        "#  경로 변경\n",
        "%cd /content/drive/MyDrive/python_demo"
      ]
    },
    {
      "cell_type": "markdown",
      "source": [
        "import"
      ],
      "metadata": {
        "id": "CRTrqogMGqXE"
      }
    },
    {
      "cell_type": "code",
      "source": [
        "import numpy as np\n",
        "import pandas as pd\n",
        "import matplotlib as mp\n",
        "import matplotlib.pyplot as plt\n",
        "import seaborn as sns"
      ],
      "metadata": {
        "id": "6Ez1ysMLGr7S"
      },
      "execution_count": 2,
      "outputs": []
    },
    {
      "cell_type": "markdown",
      "source": [
        "### State Machine\n",
        "\n",
        "- MATLAB -> State Machine 변수를 지정하지 않아도 가까이 변수를 가져와서 사용한다.\n",
        "\n",
        "- State Machine 예시\n",
        "```\n",
        "a = 1\n",
        " - 3 변수를 지정하지 않아도 덧셈이 실행되어 a는 4가 된다.\n",
        "```"
      ],
      "metadata": {
        "id": "ZQ8PoHtAHCfN"
      }
    },
    {
      "cell_type": "code",
      "source": [
        "fig = plt.figure(figsize = (10, 5))\n",
        "ax1 = fig.add_subplot(1, 2, 1) # 전체 창을 가로 1칸, 세로 2칸으로 나눈 후 첫 번째 칸에 ax1의 Axes를 생성\n",
        "ax1.set(xlim = [0, 8], ylim = [0, 30], title = 'AX1 Example', xlabel = 'xAxis', ylabel = 'yAxis')\n",
        "x = np.array([1, 3, 6, 4])\n",
        "y = np.array([1, 10, 4, 20])\n",
        "ax1.plot(x, y, color = 'green')\n",
        "\n",
        "\n",
        "\n",
        "ax2 = fig.add_subplot(1, 2, 2) # 전체 창을 가로 1칸, 세로 2칸으로 나눈 후 두 번째 칸에 ax2의 Axes를 생성\n",
        "ax2.set_xlim([0, 10])\n",
        "ax2.set_ylim([0, 30])\n",
        "ax2.set_title('AX2 Example', size = 30)\n",
        "ax2.set_xlabel('xAxis', size = 15)\n",
        "ax2.set_ylabel('yAxis', size = 15)\n",
        "ax2.scatter(x, y, marker = '^', color = 'red')\n",
        "plt.show()"
      ],
      "metadata": {
        "colab": {
          "base_uri": "https://localhost:8080/",
          "height": 368
        },
        "id": "2Vx3g2B7HbA7",
        "outputId": "44e19ae6-a41e-407c-fc81-a3dfecb613cb"
      },
      "execution_count": 43,
      "outputs": [
        {
          "output_type": "display_data",
          "data": {
            "text/plain": [
              "<Figure size 720x360 with 2 Axes>"
            ],
            "image/png": "[encoded data removed]"
          },
          "metadata": {
            "needs_background": "light"
          }
        }
      ]
    },
    {
      "cell_type": "markdown",
      "source": [
        "plot은 데이터를 가지고 그래프를 그린다.\n",
        "\n",
        "matplotlib는 기본적으로 figure, axes, plot을 기본 구조로 한다."
      ],
      "metadata": {
        "id": "Kl9FjD8nYiD4"
      }
    },
    {
      "cell_type": "code",
      "source": [
        "plt.figure()\n",
        "plt.axes()\n",
        "# plot()에 하나의 값만 지정하면 y축의 값으로 사용한다.\n",
        "# x축은 지정을 하지 않으면 자동으로 1씩 증가가 된다.\n",
        "plt.plot([1, 2, 3, 4])\n",
        "plt.plot([3, 4, 5, 6])"
      ],
      "metadata": {
        "colab": {
          "base_uri": "https://localhost:8080/",
          "height": 283
        },
        "id": "qqLWj_LZYck7",
        "outputId": "a2e5f1b5-3d1c-4797-d0b3-826dfc7ecdfb"
      },
      "execution_count": 51,
      "outputs": [
        {
          "output_type": "execute_result",
          "data": {
            "text/plain": [
              "[<matplotlib.lines.Line2D at 0x7f38bbb76730>]"
            ]
          },
          "metadata": {},
          "execution_count": 51
        },
        {
          "output_type": "display_data",
          "data": {
            "text/plain": [
              "<Figure size 432x288 with 1 Axes>"
            ],
            "image/png": "[encoded data removed]"
          },
          "metadata": {
            "needs_background": "light"
          }
        }
      ]
    },
    {
      "cell_type": "code",
      "source": [
        "# 그래프에 제목을 설정한다.\n",
        "plt.title('Title')\n",
        "plt.plot([1, 2, 3, 4, 5])"
      ],
      "metadata": {
        "colab": {
          "base_uri": "https://localhost:8080/",
          "height": 299
        },
        "id": "Tf68eK6NZpG4",
        "outputId": "65b6d4de-5784-482d-fee6-045763b0a7a3"
      },
      "execution_count": 58,
      "outputs": [
        {
          "output_type": "execute_result",
          "data": {
            "text/plain": [
              "[<matplotlib.lines.Line2D at 0x7f38bc4bbdc0>]"
            ]
          },
          "metadata": {},
          "execution_count": 58
        },
        {
          "output_type": "display_data",
          "data": {
            "text/plain": [
              "<Figure size 432x288 with 1 Axes>"
            ],
            "image/png": "[encoded data removed]"
          },
          "metadata": {
            "needs_background": "light"
          }
        }
      ]
    },
    {
      "cell_type": "code",
      "source": [
        "!sudo apt-get install -y fonts-nanum\n",
        "!sudo fc-cache -fv\n",
        "!rm ~/.cache/matplotlib -rf\n"
      ],
      "metadata": {
        "colab": {
          "base_uri": "https://localhost:8080/"
        },
        "id": "-MVIDvmpgl2B",
        "outputId": "15613b71-4cef-4c8d-f6e0-2668af1e488e"
      },
      "execution_count": 1,
      "outputs": [
        {
          "output_type": "stream",
          "name": "stdout",
          "text": [
            "Reading package lists... Done\n",
            "Building dependency tree       \n",
            "Reading state information... Done\n",
            "The following package was automatically installed and is no longer required:\n",
            "  libnvidia-common-460\n",
            "Use 'sudo apt autoremove' to remove it.\n",
            "The following NEW packages will be installed:\n",
            "  fonts-nanum\n",
            "0 upgraded, 1 newly installed, 0 to remove and 20 not upgraded.\n",
            "Need to get 9,604 kB of archives.\n",
            "After this operation, 29.5 MB of additional disk space will be used.\n",
            "Get:1 http://archive.ubuntu.com/ubuntu bionic/universe amd64 fonts-nanum all 20170925-1 [9,604 kB]\n",
            "Fetched 9,604 kB in 1s (17.6 MB/s)\n",
            "debconf: unable to initialize frontend: Dialog\n",
            "debconf: (No usable dialog-like program is installed, so the dialog based frontend cannot be used. at /usr/share/perl5/Debconf/FrontEnd/Dialog.pm line 76, <> line 1.)\n",
            "debconf: falling back to frontend: Readline\n",
            "debconf: unable to initialize frontend: Readline\n",
            "debconf: (This frontend requires a controlling tty.)\n",
            "debconf: falling back to frontend: Teletype\n",
            "dpkg-preconfigure: unable to re-open stdin: \n",
            "Selecting previously unselected package fonts-nanum.\n",
            "(Reading database ... 124016 files and directories currently installed.)\n",
            "Preparing to unpack .../fonts-nanum_20170925-1_all.deb ...\n",
            "Unpacking fonts-nanum (20170925-1) ...\n",
            "Setting up fonts-nanum (20170925-1) ...\n",
            "Processing triggers for fontconfig (2.12.6-0ubuntu2) ...\n",
            "/usr/share/fonts: caching, new cache contents: 0 fonts, 1 dirs\n",
            "/usr/share/fonts/truetype: caching, new cache contents: 0 fonts, 3 dirs\n",
            "/usr/share/fonts/truetype/humor-sans: caching, new cache contents: 1 fonts, 0 dirs\n",
            "/usr/share/fonts/truetype/liberation: caching, new cache contents: 16 fonts, 0 dirs\n",
            "/usr/share/fonts/truetype/nanum: caching, new cache contents: 10 fonts, 0 dirs\n",
            "/usr/local/share/fonts: caching, new cache contents: 0 fonts, 0 dirs\n",
            "/root/.local/share/fonts: skipping, no such directory\n",
            "/root/.fonts: skipping, no such directory\n",
            "/var/cache/fontconfig: cleaning cache directory\n",
            "/root/.cache/fontconfig: not cleaning non-existent cache directory\n",
            "/root/.fontconfig: not cleaning non-existent cache directory\n",
            "fc-cache: succeeded\n"
          ]
        }
      ]
    },
    {
      "cell_type": "code",
      "source": [
        "plt.rc('font', family='NanumBarunGothic')\n",
        "plt.title('제목')\n",
        "plt.plot([1, 2, 3, 4, 5])"
      ],
      "metadata": {
        "colab": {
          "base_uri": "https://localhost:8080/",
          "height": 298
        },
        "id": "0n0-90jcaX9v",
        "outputId": "5034fd83-0fff-45c8-baca-dc2474938053"
      },
      "execution_count": 8,
      "outputs": [
        {
          "output_type": "execute_result",
          "data": {
            "text/plain": [
              "[<matplotlib.lines.Line2D at 0x7ff1673d31c0>]"
            ]
          },
          "metadata": {},
          "execution_count": 8
        },
        {
          "output_type": "display_data",
          "data": {
            "text/plain": [
              "<Figure size 432x288 with 1 Axes>"
            ],
            "image/png": "[encoded data removed]"
          },
          "metadata": {
            "needs_background": "light"
          }
        }
      ]
    },
    {
      "cell_type": "code",
      "source": [
        "# grid는 격자 무늬를 표시한다.\n",
        "plt.title('한글')\n",
        "plt.grid()\n",
        "plt.xlabel('x축')\n",
        "plt.ylabel('y축', rotation = 0) # rotation 각도\n",
        "# x축 눈금\n",
        "plt.xticks([1, 2, 3], rotation = 20)\n",
        "\n",
        "plt.yticks(ticks = [2, 3, 4], labels = ['A', 'B', 'C'])\n",
        "\n",
        "plt.ylim(0, 5)\n",
        "\n",
        "plt.plot([1, 2, 3, 4, 5, 6])"
      ],
      "metadata": {
        "colab": {
          "base_uri": "https://localhost:8080/",
          "height": 314
        },
        "id": "ruZbXWXdZr0l",
        "outputId": "76fccb0d-bc1f-447c-bf9d-7c092188b1b9"
      },
      "execution_count": 27,
      "outputs": [
        {
          "output_type": "execute_result",
          "data": {
            "text/plain": [
              "[<matplotlib.lines.Line2D at 0x7ff163fcb2e0>]"
            ]
          },
          "metadata": {},
          "execution_count": 27
        },
        {
          "output_type": "display_data",
          "data": {
            "text/plain": [
              "<Figure size 432x288 with 1 Axes>"
            ],
            "image/png": "[encoded data removed]"
          },
          "metadata": {
            "needs_background": "light"
          }
        }
      ]
    },
    {
      "cell_type": "code",
      "source": [
        "plt.style.available"
      ],
      "metadata": {
        "colab": {
          "base_uri": "https://localhost:8080/"
        },
        "id": "64GulYBZlkoU",
        "outputId": "bd79e110-ba4e-495b-d371-5518789bac33"
      },
      "execution_count": 24,
      "outputs": [
        {
          "output_type": "execute_result",
          "data": {
            "text/plain": [
              "['Solarize_Light2',\n",
              " '_classic_test_patch',\n",
              " 'bmh',\n",
              " 'classic',\n",
              " 'dark_background',\n",
              " 'fast',\n",
              " 'fivethirtyeight',\n",
              " 'ggplot',\n",
              " 'grayscale',\n",
              " 'seaborn',\n",
              " 'seaborn-bright',\n",
              " 'seaborn-colorblind',\n",
              " 'seaborn-dark',\n",
              " 'seaborn-dark-palette',\n",
              " 'seaborn-darkgrid',\n",
              " 'seaborn-deep',\n",
              " 'seaborn-muted',\n",
              " 'seaborn-notebook',\n",
              " 'seaborn-paper',\n",
              " 'seaborn-pastel',\n",
              " 'seaborn-poster',\n",
              " 'seaborn-talk',\n",
              " 'seaborn-ticks',\n",
              " 'seaborn-white',\n",
              " 'seaborn-whitegrid',\n",
              " 'tableau-colorblind10']"
            ]
          },
          "metadata": {},
          "execution_count": 24
        }
      ]
    },
    {
      "cell_type": "code",
      "source": [
        "tips = sns.load_dataset('tips')\n",
        "tips"
      ],
      "metadata": {
        "colab": {
          "base_uri": "https://localhost:8080/",
          "height": 423
        },
        "id": "Mm41g6sql6bl",
        "outputId": "e7c97f2e-f4d8-4bf1-b931-9139643ff381"
      },
      "execution_count": 29,
      "outputs": [
        {
          "output_type": "execute_result",
          "data": {
            "text/plain": [
              "     total_bill   tip     sex smoker   day    time  size\n",
              "0         16.99  1.01  Female     No   Sun  Dinner     2\n",
              "1         10.34  1.66    Male     No   Sun  Dinner     3\n",
              "2         21.01  3.50    Male     No   Sun  Dinner     3\n",
              "3         23.68  3.31    Male     No   Sun  Dinner     2\n",
              "4         24.59  3.61  Female     No   Sun  Dinner     4\n",
              "..          ...   ...     ...    ...   ...     ...   ...\n",
              "239       29.03  5.92    Male     No   Sat  Dinner     3\n",
              "240       27.18  2.00  Female    Yes   Sat  Dinner     2\n",
              "241       22.67  2.00    Male    Yes   Sat  Dinner     2\n",
              "242       17.82  1.75    Male     No   Sat  Dinner     2\n",
              "243       18.78  3.00  Female     No  Thur  Dinner     2\n",
              "\n",
              "[244 rows x 7 columns]"
            ],
            "text/html": [
              "\n",
              "  <div id=\"df-cba895c0-d316-401a-b71e-ce18ee85f9cd\">\n",
              "    <div class=\"colab-df-container\">\n",
              "      <div>\n",
              "<style scoped>\n",
              "    .dataframe tbody tr th:only-of-type {\n",
              "        vertical-align: middle;\n",
              "    }\n",
              "\n",
              "    .dataframe tbody tr th {\n",
              "        vertical-align: top;\n",
              "    }\n",
              "\n",
              "    .dataframe thead th {\n",
              "        text-align: right;\n",
              "    }\n",
              "</style>\n",
              "<table border=\"1\" class=\"dataframe\">\n",
              "  <thead>\n",
              "    <tr style=\"text-align: right;\">\n",
              "      <th></th>\n",
              "      <th>total_bill</th>\n",
              "      <th>tip</th>\n",
              "      <th>sex</th>\n",
              "      <th>smoker</th>\n",
              "      <th>day</th>\n",
              "      <th>time</th>\n",
              "      <th>size</th>\n",
              "    </tr>\n",
              "  </thead>\n",
              "  <tbody>\n",
              "    <tr>\n",
              "      <th>0</th>\n",
              "      <td>16.99</td>\n",
              "      <td>1.01</td>\n",
              "      <td>Female</td>\n",
              "      <td>No</td>\n",
              "      <td>Sun</td>\n",
              "      <td>Dinner</td>\n",
              "      <td>2</td>\n",
              "    </tr>\n",
              "    <tr>\n",
              "      <th>1</th>\n",
              "      <td>10.34</td>\n",
              "      <td>1.66</td>\n",
              "      <td>Male</td>\n",
              "      <td>No</td>\n",
              "      <td>Sun</td>\n",
              "      <td>Dinner</td>\n",
              "      <td>3</td>\n",
              "    </tr>\n",
              "    <tr>\n",
              "      <th>2</th>\n",
              "      <td>21.01</td>\n",
              "      <td>3.50</td>\n",
              "      <td>Male</td>\n",
              "      <td>No</td>\n",
              "      <td>Sun</td>\n",
              "      <td>Dinner</td>\n",
              "      <td>3</td>\n",
              "    </tr>\n",
              "    <tr>\n",
              "      <th>3</th>\n",
              "      <td>23.68</td>\n",
              "      <td>3.31</td>\n",
              "      <td>Male</td>\n",
              "      <td>No</td>\n",
              "      <td>Sun</td>\n",
              "      <td>Dinner</td>\n",
              "      <td>2</td>\n",
              "    </tr>\n",
              "    <tr>\n",
              "      <th>4</th>\n",
              "      <td>24.59</td>\n",
              "      <td>3.61</td>\n",
              "      <td>Female</td>\n",
              "      <td>No</td>\n",
              "      <td>Sun</td>\n",
              "      <td>Dinner</td>\n",
              "      <td>4</td>\n",
              "    </tr>\n",
              "    <tr>\n",
              "      <th>...</th>\n",
              "      <td>...</td>\n",
              "      <td>...</td>\n",
              "      <td>...</td>\n",
              "      <td>...</td>\n",
              "      <td>...</td>\n",
              "      <td>...</td>\n",
              "      <td>...</td>\n",
              "    </tr>\n",
              "    <tr>\n",
              "      <th>239</th>\n",
              "      <td>29.03</td>\n",
              "      <td>5.92</td>\n",
              "      <td>Male</td>\n",
              "      <td>No</td>\n",
              "      <td>Sat</td>\n",
              "      <td>Dinner</td>\n",
              "      <td>3</td>\n",
              "    </tr>\n",
              "    <tr>\n",
              "      <th>240</th>\n",
              "      <td>27.18</td>\n",
              "      <td>2.00</td>\n",
              "      <td>Female</td>\n",
              "      <td>Yes</td>\n",
              "      <td>Sat</td>\n",
              "      <td>Dinner</td>\n",
              "      <td>2</td>\n",
              "    </tr>\n",
              "    <tr>\n",
              "      <th>241</th>\n",
              "      <td>22.67</td>\n",
              "      <td>2.00</td>\n",
              "      <td>Male</td>\n",
              "      <td>Yes</td>\n",
              "      <td>Sat</td>\n",
              "      <td>Dinner</td>\n",
              "      <td>2</td>\n",
              "    </tr>\n",
              "    <tr>\n",
              "      <th>242</th>\n",
              "      <td>17.82</td>\n",
              "      <td>1.75</td>\n",
              "      <td>Male</td>\n",
              "      <td>No</td>\n",
              "      <td>Sat</td>\n",
              "      <td>Dinner</td>\n",
              "      <td>2</td>\n",
              "    </tr>\n",
              "    <tr>\n",
              "      <th>243</th>\n",
              "      <td>18.78</td>\n",
              "      <td>3.00</td>\n",
              "      <td>Female</td>\n",
              "      <td>No</td>\n",
              "      <td>Thur</td>\n",
              "      <td>Dinner</td>\n",
              "      <td>2</td>\n",
              "    </tr>\n",
              "  </tbody>\n",
              "</table>\n",
              "<p>244 rows × 7 columns</p>\n",
              "</div>\n",
              "      <button class=\"colab-df-convert\" onclick=\"convertToInteractive('df-cba895c0-d316-401a-b71e-ce18ee85f9cd')\"\n",
              "              title=\"Convert this dataframe to an interactive table.\"\n",
              "              style=\"display:none;\">\n",
              "        \n",
              "  <svg xmlns=\"http://www.w3.org/2000/svg\" height=\"24px\"viewBox=\"0 0 24 24\"\n",
              "       width=\"24px\">\n",
              "    <path d=\"M0 0h24v24H0V0z\" fill=\"none\"/>\n",
              "    <path d=\"M18.56 5.44l.94 2.06.94-2.06 2.06-.94-2.06-.94-.94-2.06-.94 2.06-2.06.94zm-11 1L8.5 8.5l.94-2.06 2.06-.94-2.06-.94L8.5 2.5l-.94 2.06-2.06.94zm10 10l.94 2.06.94-2.06 2.06-.94-2.06-.94-.94-2.06-.94 2.06-2.06.94z\"/><path d=\"M17.41 7.96l-1.37-1.37c-.4-.4-.92-.59-1.43-.59-.52 0-1.04.2-1.43.59L10.3 9.45l-7.72 7.72c-.78.78-.78 2.05 0 2.83L4 21.41c.39.39.9.59 1.41.59.51 0 1.02-.2 1.41-.59l7.78-7.78 2.81-2.81c.8-.78.8-2.07 0-2.86zM5.41 20L4 18.59l7.72-7.72 1.47 1.35L5.41 20z\"/>\n",
              "  </svg>\n",
              "      </button>\n",
              "      \n",
              "  <style>\n",
              "    .colab-df-container {\n",
              "      display:flex;\n",
              "      flex-wrap:wrap;\n",
              "      gap: 12px;\n",
              "    }\n",
              "\n",
              "    .colab-df-convert {\n",
              "      background-color: #E8F0FE;\n",
              "      border: none;\n",
              "      border-radius: 50%;\n",
              "      cursor: pointer;\n",
              "      display: none;\n",
              "      fill: #1967D2;\n",
              "      height: 32px;\n",
              "      padding: 0 0 0 0;\n",
              "      width: 32px;\n",
              "    }\n",
              "\n",
              "    .colab-df-convert:hover {\n",
              "      background-color: #E2EBFA;\n",
              "      box-shadow: 0px 1px 2px rgba(60, 64, 67, 0.3), 0px 1px 3px 1px rgba(60, 64, 67, 0.15);\n",
              "      fill: #174EA6;\n",
              "    }\n",
              "\n",
              "    [theme=dark] .colab-df-convert {\n",
              "      background-color: #3B4455;\n",
              "      fill: #D2E3FC;\n",
              "    }\n",
              "\n",
              "    [theme=dark] .colab-df-convert:hover {\n",
              "      background-color: #434B5C;\n",
              "      box-shadow: 0px 1px 3px 1px rgba(0, 0, 0, 0.15);\n",
              "      filter: drop-shadow(0px 1px 2px rgba(0, 0, 0, 0.3));\n",
              "      fill: #FFFFFF;\n",
              "    }\n",
              "  </style>\n",
              "\n",
              "      <script>\n",
              "        const buttonEl =\n",
              "          document.querySelector('#df-cba895c0-d316-401a-b71e-ce18ee85f9cd button.colab-df-convert');\n",
              "        buttonEl.style.display =\n",
              "          google.colab.kernel.accessAllowed ? 'block' : 'none';\n",
              "\n",
              "        async function convertToInteractive(key) {\n",
              "          const element = document.querySelector('#df-cba895c0-d316-401a-b71e-ce18ee85f9cd');\n",
              "          const dataTable =\n",
              "            await google.colab.kernel.invokeFunction('convertToInteractive',\n",
              "                                                     [key], {});\n",
              "          if (!dataTable) return;\n",
              "\n",
              "          const docLinkHtml = 'Like what you see? Visit the ' +\n",
              "            '<a target=\"_blank\" href=https://colab.research.google.com/notebooks/data_table.ipynb>data table notebook</a>'\n",
              "            + ' to learn more about interactive tables.';\n",
              "          element.innerHTML = '';\n",
              "          dataTable['output_type'] = 'display_data';\n",
              "          await google.colab.output.renderOutput(dataTable, element);\n",
              "          const docLink = document.createElement('div');\n",
              "          docLink.innerHTML = docLinkHtml;\n",
              "          element.appendChild(docLink);\n",
              "        }\n",
              "      </script>\n",
              "    </div>\n",
              "  </div>\n",
              "  "
            ]
          },
          "metadata": {},
          "execution_count": 29
        }
      ]
    },
    {
      "cell_type": "code",
      "source": [
        "type(tips)"
      ],
      "metadata": {
        "colab": {
          "base_uri": "https://localhost:8080/"
        },
        "id": "P3b7yAnlmpMc",
        "outputId": "da45a168-453e-4297-eee5-962caa736030"
      },
      "execution_count": 30,
      "outputs": [
        {
          "output_type": "execute_result",
          "data": {
            "text/plain": [
              "pandas.core.frame.DataFrame"
            ]
          },
          "metadata": {},
          "execution_count": 30
        }
      ]
    },
    {
      "cell_type": "code",
      "source": [
        "tips.groupby('sex') # DataFrameGroupBy"
      ],
      "metadata": {
        "colab": {
          "base_uri": "https://localhost:8080/"
        },
        "id": "x4oE5YCamw2z",
        "outputId": "919638b6-f0ec-49e8-df44-4e3b62b14b81"
      },
      "execution_count": 38,
      "outputs": [
        {
          "output_type": "execute_result",
          "data": {
            "text/plain": [
              "pandas.core.series.Series"
            ]
          },
          "metadata": {},
          "execution_count": 38
        }
      ]
    },
    {
      "cell_type": "code",
      "source": [
        "tips.groupby('sex')['tip'] # SeriesGroupBy"
      ],
      "metadata": {
        "colab": {
          "base_uri": "https://localhost:8080/"
        },
        "id": "tsl0935lnit6",
        "outputId": "a7e25d0d-64d1-4eaf-9dbb-e6c21faa25ba"
      },
      "execution_count": 41,
      "outputs": [
        {
          "output_type": "execute_result",
          "data": {
            "text/plain": [
              "<pandas.core.groupby.generic.SeriesGroupBy object at 0x7ff164057460>"
            ]
          },
          "metadata": {},
          "execution_count": 41
        }
      ]
    },
    {
      "cell_type": "code",
      "source": [
        "type(tips.groupby('sex')['tip'].mean()) # Series"
      ],
      "metadata": {
        "colab": {
          "base_uri": "https://localhost:8080/"
        },
        "id": "5lCL57yrnhiS",
        "outputId": "6a316f12-e64f-4c31-9ee2-9969bf3f277d"
      },
      "execution_count": 40,
      "outputs": [
        {
          "output_type": "execute_result",
          "data": {
            "text/plain": [
              "pandas.core.series.Series"
            ]
          },
          "metadata": {},
          "execution_count": 40
        }
      ]
    },
    {
      "cell_type": "code",
      "source": [
        "tips.groupby('sex')['tip'].mean().plot()"
      ],
      "metadata": {
        "colab": {
          "base_uri": "https://localhost:8080/",
          "height": 299
        },
        "id": "lIs3bkTcndI8",
        "outputId": "7926f73d-e2a0-4e74-91ef-d7839e54d47b"
      },
      "execution_count": 39,
      "outputs": [
        {
          "output_type": "execute_result",
          "data": {
            "text/plain": [
              "<matplotlib.axes._subplots.AxesSubplot at 0x7ff163e68d30>"
            ]
          },
          "metadata": {},
          "execution_count": 39
        },
        {
          "output_type": "display_data",
          "data": {
            "text/plain": [
              "<Figure size 432x288 with 1 Axes>"
            ],
            "image/png": "[encoded data removed]"
          },
          "metadata": {
            "needs_background": "light"
          }
        }
      ]
    },
    {
      "cell_type": "code",
      "source": [
        "dir(tips.groupby('sex')['tip'].mean().plot())"
      ],
      "metadata": {
        "colab": {
          "base_uri": "https://localhost:8080/",
          "height": 1000
        },
        "id": "mFUH0JPin2Kh",
        "outputId": "5fbd7b31-e048-4c0d-b46b-02933d38e290"
      },
      "execution_count": 44,
      "outputs": [
        {
          "output_type": "execute_result",
          "data": {
            "text/plain": [
              "['__class__',\n",
              " '__delattr__',\n",
              " '__dict__',\n",
              " '__dir__',\n",
              " '__doc__',\n",
              " '__eq__',\n",
              " '__format__',\n",
              " '__ge__',\n",
              " '__getattribute__',\n",
              " '__getstate__',\n",
              " '__gt__',\n",
              " '__hash__',\n",
              " '__init__',\n",
              " '__init_subclass__',\n",
              " '__le__',\n",
              " '__lt__',\n",
              " '__module__',\n",
              " '__ne__',\n",
              " '__new__',\n",
              " '__reduce__',\n",
              " '__reduce_ex__',\n",
              " '__repr__',\n",
              " '__setattr__',\n",
              " '__setstate__',\n",
              " '__sizeof__',\n",
              " '__str__',\n",
              " '__subclasshook__',\n",
              " '__weakref__',\n",
              " '_add_text',\n",
              " '_adjustable',\n",
              " '_agg_filter',\n",
              " '_alpha',\n",
              " '_anchor',\n",
              " '_animated',\n",
              " '_aspect',\n",
              " '_autoscaleXon',\n",
              " '_autoscaleYon',\n",
              " '_autotitlepos',\n",
              " '_axes',\n",
              " '_axes_class',\n",
              " '_axes_locator',\n",
              " '_axisbelow',\n",
              " '_clipon',\n",
              " '_clippath',\n",
              " '_contains',\n",
              " '_convert_dx',\n",
              " '_current_image',\n",
              " '_default_contains',\n",
              " '_facecolor',\n",
              " '_frameon',\n",
              " '_gci',\n",
              " '_gen_axes_patch',\n",
              " '_gen_axes_spines',\n",
              " '_get_axis_list',\n",
              " '_get_axis_map',\n",
              " '_get_clipping_extent_bbox',\n",
              " '_get_lines',\n",
              " '_get_patches_for_fill',\n",
              " '_get_view',\n",
              " '_gid',\n",
              " '_gridOn',\n",
              " '_in_layout',\n",
              " '_init_axis',\n",
              " '_label',\n",
              " '_layoutbox',\n",
              " '_left_title',\n",
              " '_make_twin_axes',\n",
              " '_mouseover',\n",
              " '_mouseover_set',\n",
              " '_navigate',\n",
              " '_navigate_mode',\n",
              " '_oid',\n",
              " '_on_units_changed',\n",
              " '_originalPosition',\n",
              " '_parse_scatter_color_args',\n",
              " '_path_effects',\n",
              " '_pcolorargs',\n",
              " '_picker',\n",
              " '_position',\n",
              " '_poslayoutbox',\n",
              " '_process_unit_info',\n",
              " '_prop_order',\n",
              " '_propobservers',\n",
              " '_quiver_units',\n",
              " '_rasterization_zorder',\n",
              " '_rasterized',\n",
              " '_remove_legend',\n",
              " '_remove_method',\n",
              " '_request_autoscale_view',\n",
              " '_right_title',\n",
              " '_sci',\n",
              " '_set_artist_props',\n",
              " '_set_gc_clip',\n",
              " '_set_lim_and_transforms',\n",
              " '_set_position',\n",
              " '_set_title_offset_trans',\n",
              " '_set_view',\n",
              " '_set_view_from_bbox',\n",
              " '_shared_x_axes',\n",
              " '_shared_y_axes',\n",
              " '_sharex',\n",
              " '_sharey',\n",
              " '_sketch',\n",
              " '_snap',\n",
              " '_stale',\n",
              " '_stale_viewlim_x',\n",
              " '_stale_viewlim_y',\n",
              " '_sticky_edges',\n",
              " '_subplotspec',\n",
              " '_tight',\n",
              " '_transform',\n",
              " '_transformSet',\n",
              " '_twinned_axes',\n",
              " '_unstale_viewLim',\n",
              " '_update_image_limits',\n",
              " '_update_line_limits',\n",
              " '_update_patch_limits',\n",
              " '_update_title_position',\n",
              " '_update_transScale',\n",
              " '_url',\n",
              " '_use_sticky_edges',\n",
              " '_validate_converted_limits',\n",
              " '_viewLim',\n",
              " '_visible',\n",
              " '_xaxis_transform',\n",
              " '_xcid',\n",
              " '_xmargin',\n",
              " '_yaxis_transform',\n",
              " '_ycid',\n",
              " '_ymargin',\n",
              " 'acorr',\n",
              " 'add_artist',\n",
              " 'add_callback',\n",
              " 'add_child_axes',\n",
              " 'add_collection',\n",
              " 'add_container',\n",
              " 'add_image',\n",
              " 'add_line',\n",
              " 'add_patch',\n",
              " 'add_table',\n",
              " 'aname',\n",
              " 'angle_spectrum',\n",
              " 'annotate',\n",
              " 'apply_aspect',\n",
              " 'arrow',\n",
              " 'artists',\n",
              " 'autoscale',\n",
              " 'autoscale_view',\n",
              " 'axes',\n",
              " 'axhline',\n",
              " 'axhspan',\n",
              " 'axis',\n",
              " 'axison',\n",
              " 'axvline',\n",
              " 'axvspan',\n",
              " 'bar',\n",
              " 'barbs',\n",
              " 'barh',\n",
              " 'bbox',\n",
              " 'boxplot',\n",
              " 'broken_barh',\n",
              " 'bxp',\n",
              " 'callbacks',\n",
              " 'can_pan',\n",
              " 'can_zoom',\n",
              " 'change_geometry',\n",
              " 'child_axes',\n",
              " 'cla',\n",
              " 'clabel',\n",
              " 'clear',\n",
              " 'clipbox',\n",
              " 'cohere',\n",
              " 'colNum',\n",
              " 'collections',\n",
              " 'containers',\n",
              " 'contains',\n",
              " 'contains_point',\n",
              " 'contour',\n",
              " 'contourf',\n",
              " 'convert_xunits',\n",
              " 'convert_yunits',\n",
              " 'csd',\n",
              " 'dataLim',\n",
              " 'drag_pan',\n",
              " 'draw',\n",
              " 'draw_artist',\n",
              " 'end_pan',\n",
              " 'errorbar',\n",
              " 'eventplot',\n",
              " 'eventson',\n",
              " 'figbox',\n",
              " 'figure',\n",
              " 'fill',\n",
              " 'fill_between',\n",
              " 'fill_betweenx',\n",
              " 'findobj',\n",
              " 'fmt_xdata',\n",
              " 'fmt_ydata',\n",
              " 'format_coord',\n",
              " 'format_cursor_data',\n",
              " 'format_xdata',\n",
              " 'format_ydata',\n",
              " 'get_adjustable',\n",
              " 'get_agg_filter',\n",
              " 'get_alpha',\n",
              " 'get_anchor',\n",
              " 'get_animated',\n",
              " 'get_aspect',\n",
              " 'get_autoscale_on',\n",
              " 'get_autoscalex_on',\n",
              " 'get_autoscaley_on',\n",
              " 'get_axes_locator',\n",
              " 'get_axisbelow',\n",
              " 'get_children',\n",
              " 'get_clip_box',\n",
              " 'get_clip_on',\n",
              " 'get_clip_path',\n",
              " 'get_contains',\n",
              " 'get_cursor_data',\n",
              " 'get_data_ratio',\n",
              " 'get_data_ratio_log',\n",
              " 'get_default_bbox_extra_artists',\n",
              " 'get_facecolor',\n",
              " 'get_fc',\n",
              " 'get_figure',\n",
              " 'get_frame_on',\n",
              " 'get_geometry',\n",
              " 'get_gid',\n",
              " 'get_gridspec',\n",
              " 'get_images',\n",
              " 'get_in_layout',\n",
              " 'get_label',\n",
              " 'get_legend',\n",
              " 'get_legend_handles_labels',\n",
              " 'get_lines',\n",
              " 'get_navigate',\n",
              " 'get_navigate_mode',\n",
              " 'get_path_effects',\n",
              " 'get_picker',\n",
              " 'get_position',\n",
              " 'get_rasterization_zorder',\n",
              " 'get_rasterized',\n",
              " 'get_renderer_cache',\n",
              " 'get_shared_x_axes',\n",
              " 'get_shared_y_axes',\n",
              " 'get_sketch_params',\n",
              " 'get_snap',\n",
              " 'get_subplotspec',\n",
              " 'get_tightbbox',\n",
              " 'get_title',\n",
              " 'get_transform',\n",
              " 'get_transformed_clip_path_and_affine',\n",
              " 'get_url',\n",
              " 'get_visible',\n",
              " 'get_window_extent',\n",
              " 'get_xaxis',\n",
              " 'get_xaxis_text1_transform',\n",
              " 'get_xaxis_text2_transform',\n",
              " 'get_xaxis_transform',\n",
              " 'get_xbound',\n",
              " 'get_xgridlines',\n",
              " 'get_xlabel',\n",
              " 'get_xlim',\n",
              " 'get_xmajorticklabels',\n",
              " 'get_xminorticklabels',\n",
              " 'get_xscale',\n",
              " 'get_xticklabels',\n",
              " 'get_xticklines',\n",
              " 'get_xticks',\n",
              " 'get_yaxis',\n",
              " 'get_yaxis_text1_transform',\n",
              " 'get_yaxis_text2_transform',\n",
              " 'get_yaxis_transform',\n",
              " 'get_ybound',\n",
              " 'get_ygridlines',\n",
              " 'get_ylabel',\n",
              " 'get_ylim',\n",
              " 'get_ymajorticklabels',\n",
              " 'get_yminorticklabels',\n",
              " 'get_yscale',\n",
              " 'get_yticklabels',\n",
              " 'get_yticklines',\n",
              " 'get_yticks',\n",
              " 'get_zorder',\n",
              " 'grid',\n",
              " 'has_data',\n",
              " 'have_units',\n",
              " 'hexbin',\n",
              " 'hist',\n",
              " 'hist2d',\n",
              " 'hlines',\n",
              " 'ignore_existing_data_limits',\n",
              " 'images',\n",
              " 'imshow',\n",
              " 'in_axes',\n",
              " 'indicate_inset',\n",
              " 'indicate_inset_zoom',\n",
              " 'inset_axes',\n",
              " 'invert_xaxis',\n",
              " 'invert_yaxis',\n",
              " 'is_first_col',\n",
              " 'is_first_row',\n",
              " 'is_last_col',\n",
              " 'is_last_row',\n",
              " 'is_transform_set',\n",
              " 'label_outer',\n",
              " 'legend',\n",
              " 'legend_',\n",
              " 'lines',\n",
              " 'locator_params',\n",
              " 'loglog',\n",
              " 'magnitude_spectrum',\n",
              " 'margins',\n",
              " 'matshow',\n",
              " 'minorticks_off',\n",
              " 'minorticks_on',\n",
              " 'mouseover',\n",
              " 'name',\n",
              " 'numCols',\n",
              " 'numRows',\n",
              " 'patch',\n",
              " 'patches',\n",
              " 'pchanged',\n",
              " 'pcolor',\n",
              " 'pcolorfast',\n",
              " 'pcolormesh',\n",
              " 'phase_spectrum',\n",
              " 'pick',\n",
              " 'pickable',\n",
              " 'pie',\n",
              " 'plot',\n",
              " 'plot_date',\n",
              " 'properties',\n",
              " 'psd',\n",
              " 'quiver',\n",
              " 'quiverkey',\n",
              " 'redraw_in_frame',\n",
              " 'relim',\n",
              " 'remove',\n",
              " 'remove_callback',\n",
              " 'reset_position',\n",
              " 'rowNum',\n",
              " 'scatter',\n",
              " 'secondary_xaxis',\n",
              " 'secondary_yaxis',\n",
              " 'semilogx',\n",
              " 'semilogy',\n",
              " 'set',\n",
              " 'set_adjustable',\n",
              " 'set_agg_filter',\n",
              " 'set_alpha',\n",
              " 'set_anchor',\n",
              " 'set_animated',\n",
              " 'set_aspect',\n",
              " 'set_autoscale_on',\n",
              " 'set_autoscalex_on',\n",
              " 'set_autoscaley_on',\n",
              " 'set_axes_locator',\n",
              " 'set_axis_off',\n",
              " 'set_axis_on',\n",
              " 'set_axisbelow',\n",
              " 'set_clip_box',\n",
              " 'set_clip_on',\n",
              " 'set_clip_path',\n",
              " 'set_contains',\n",
              " 'set_facecolor',\n",
              " 'set_fc',\n",
              " 'set_figure',\n",
              " 'set_frame_on',\n",
              " 'set_gid',\n",
              " 'set_in_layout',\n",
              " 'set_label',\n",
              " 'set_navigate',\n",
              " 'set_navigate_mode',\n",
              " 'set_path_effects',\n",
              " 'set_picker',\n",
              " 'set_position',\n",
              " 'set_prop_cycle',\n",
              " 'set_rasterization_zorder',\n",
              " 'set_rasterized',\n",
              " 'set_sketch_params',\n",
              " 'set_snap',\n",
              " 'set_subplotspec',\n",
              " 'set_title',\n",
              " 'set_transform',\n",
              " 'set_url',\n",
              " 'set_visible',\n",
              " 'set_xbound',\n",
              " 'set_xlabel',\n",
              " 'set_xlim',\n",
              " 'set_xmargin',\n",
              " 'set_xscale',\n",
              " 'set_xticklabels',\n",
              " 'set_xticks',\n",
              " 'set_ybound',\n",
              " 'set_ylabel',\n",
              " 'set_ylim',\n",
              " 'set_ymargin',\n",
              " 'set_yscale',\n",
              " 'set_yticklabels',\n",
              " 'set_yticks',\n",
              " 'set_zorder',\n",
              " 'specgram',\n",
              " 'spines',\n",
              " 'spy',\n",
              " 'stackplot',\n",
              " 'stale',\n",
              " 'stale_callback',\n",
              " 'start_pan',\n",
              " 'stem',\n",
              " 'step',\n",
              " 'sticky_edges',\n",
              " 'streamplot',\n",
              " 'table',\n",
              " 'tables',\n",
              " 'text',\n",
              " 'texts',\n",
              " 'tick_params',\n",
              " 'ticklabel_format',\n",
              " 'title',\n",
              " 'titleOffsetTrans',\n",
              " 'transAxes',\n",
              " 'transData',\n",
              " 'transLimits',\n",
              " 'transScale',\n",
              " 'tricontour',\n",
              " 'tricontourf',\n",
              " 'tripcolor',\n",
              " 'triplot',\n",
              " 'twinx',\n",
              " 'twiny',\n",
              " 'update',\n",
              " 'update_datalim',\n",
              " 'update_datalim_bounds',\n",
              " 'update_from',\n",
              " 'update_params',\n",
              " 'use_sticky_edges',\n",
              " 'viewLim',\n",
              " 'violin',\n",
              " 'violinplot',\n",
              " 'vlines',\n",
              " 'xaxis',\n",
              " 'xaxis_date',\n",
              " 'xaxis_inverted',\n",
              " 'xcorr',\n",
              " 'yaxis',\n",
              " 'yaxis_date',\n",
              " 'yaxis_inverted',\n",
              " 'zorder']"
            ]
          },
          "metadata": {},
          "execution_count": 44
        },
        {
          "output_type": "display_data",
          "data": {
            "text/plain": [
              "<Figure size 432x288 with 1 Axes>"
            ],
            "image/png": "[encoded data removed]"
          },
          "metadata": {
            "needs_background": "light"
          }
        }
      ]
    },
    {
      "cell_type": "code",
      "source": [
        "tips.groupby('sex')['tip'].mean().plot.bar()"
      ],
      "metadata": {
        "colab": {
          "base_uri": "https://localhost:8080/",
          "height": 513
        },
        "id": "5QnMWj0Unl1L",
        "outputId": "138025e8-dc73-4ff6-9bac-4e4215446c75"
      },
      "execution_count": 46,
      "outputs": [
        {
          "output_type": "execute_result",
          "data": {
            "text/plain": [
              "<matplotlib.axes._subplots.AxesSubplot at 0x7ff1632d5e50>"
            ]
          },
          "metadata": {},
          "execution_count": 46
        },
        {
          "output_type": "display_data",
          "data": {
            "text/plain": [
              "<Figure size 640x480 with 1 Axes>"
            ],
            "image/png": "[encoded data removed]"
          },
          "metadata": {}
        }
      ]
    },
    {
      "cell_type": "code",
      "source": [
        "plt.style.use('classic')\n",
        "tips.groupby('sex')['tip'].mean().plot.bar()"
      ],
      "metadata": {
        "colab": {
          "base_uri": "https://localhost:8080/",
          "height": 513
        },
        "id": "JRz18MU3oTpM",
        "outputId": "c394e156-e9dd-4982-cac7-dd5578b68db1"
      },
      "execution_count": 47,
      "outputs": [
        {
          "output_type": "execute_result",
          "data": {
            "text/plain": [
              "<matplotlib.axes._subplots.AxesSubplot at 0x7ff16329fc10>"
            ]
          },
          "metadata": {},
          "execution_count": 47
        },
        {
          "output_type": "display_data",
          "data": {
            "text/plain": [
              "<Figure size 640x480 with 1 Axes>"
            ],
            "image/png": "[encoded data removed]"
          },
          "metadata": {}
        }
      ]
    },
    {
      "cell_type": "code",
      "source": [
        "plt.style.use('ggplot')\n",
        "tips.groupby('sex')['tip'].mean().plot.bar()\n",
        "plt.legend(fontsize = 15, loc = 0)\n",
        "plt.xticks(rotation = 0)"
      ],
      "metadata": {
        "colab": {
          "base_uri": "https://localhost:8080/",
          "height": 477
        },
        "id": "tiF91dp-oVVK",
        "outputId": "9a4dd912-f96e-4954-b0aa-6db0ed17f503"
      },
      "execution_count": 51,
      "outputs": [
        {
          "output_type": "execute_result",
          "data": {
            "text/plain": [
              "(array([0, 1]), <a list of 2 Text major ticklabel objects>)"
            ]
          },
          "metadata": {},
          "execution_count": 51
        },
        {
          "output_type": "display_data",
          "data": {
            "text/plain": [
              "<Figure size 640x480 with 1 Axes>"
            ],
            "image/png": "[encoded data removed]"
          },
          "metadata": {}
        }
      ]
    }
  ]
}