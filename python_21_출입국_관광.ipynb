{
  "nbformat": 4,
  "nbformat_minor": 0,
  "metadata": {
    "colab": {
      "provenance": [],
      "authorship_tag": "ABX9TyN8sTZ6nM5f7/kPtlgjwkVK",
      "include_colab_link": true
    },
    "kernelspec": {
      "name": "python3",
      "display_name": "Python 3"
    },
    "language_info": {
      "name": "python"
    }
  },
  "cells": [
    {
      "cell_type": "markdown",
      "metadata": {
        "id": "view-in-github",
        "colab_type": "text"
      },
      "source": [
        "<a href=\"https://colab.research.google.com/github/eoooomji/python_demo_colab/blob/master/python_21_%EC%B6%9C%EC%9E%85%EA%B5%AD_%EA%B4%80%EA%B4%91.ipynb\" target=\"_parent\"><img src=\"https://colab.research.google.com/assets/colab-badge.svg\" alt=\"Open In Colab\"/></a>"
      ]
    },
    {
      "cell_type": "code",
      "execution_count": null,
      "metadata": {
        "colab": {
          "base_uri": "https://localhost:8080/"
        },
        "id": "rz4u688IYLna",
        "outputId": "d984bfb8-034e-4360-f17c-67ae9fbd649f"
      },
      "outputs": [
        {
          "output_type": "stream",
          "name": "stdout",
          "text": [
            "Drive already mounted at /content/drive; to attempt to forcibly remount, call drive.mount(\"/content/drive\", force_remount=True).\n",
            "/content/drive/MyDrive/python_demo\n"
          ]
        }
      ],
      "source": [
        "## 구글 드라이브 연결\n",
        "from google.colab import drive\n",
        "drive.mount('/content/drive')\n",
        "\n",
        "#  경로 변경\n",
        "%cd /content/drive/MyDrive/python_demo"
      ]
    },
    {
      "cell_type": "code",
      "source": [
        "!pip install xmltodict"
      ],
      "metadata": {
        "colab": {
          "base_uri": "https://localhost:8080/"
        },
        "id": "-9Ivv-d5ZDD2",
        "outputId": "5f3e49f4-a317-43e9-8402-fc456f918f8d"
      },
      "execution_count": null,
      "outputs": [
        {
          "output_type": "stream",
          "name": "stdout",
          "text": [
            "Looking in indexes: https://pypi.org/simple, https://us-python.pkg.dev/colab-wheels/public/simple/\n",
            "Requirement already satisfied: xmltodict in /usr/local/lib/python3.8/dist-packages (0.13.0)\n"
          ]
        }
      ]
    },
    {
      "cell_type": "code",
      "source": [
        "import requests\n",
        "import json\n",
        "import sys\n",
        "import xmltodict"
      ],
      "metadata": {
        "id": "bWGfufCnZFH7"
      },
      "execution_count": null,
      "outputs": []
    },
    {
      "cell_type": "code",
      "source": [
        "def getTourismStatesItem(yyyymm, national_code, edcd) :\n",
        "  url = 'http://openapi.tour.go.kr/openapi/service/EdrcntTourismStatsService/getEdrcntTourismStatsList'\n",
        "  params ={'serviceKey' : '5jf8VPZj4mhOoHu8nKZ5QFU4JF8qhqxaFux0aZv1c++EqWtDWSU2Y3hhquGpCl+lzEpowLxmC4ajrgHzBizgyQ==', 'YM' : yyyymm, 'NAT_CD' : national_code, 'ED_CD' : ed_cd }\n",
        "\n",
        "  response = requests.get(url, params=params)\n",
        "  # print(response)\n",
        "  # print(response.text)\n",
        "  return response.text\n",
        "\n",
        "\n",
        "jsonResult = []\n",
        "result = []\n",
        "natName = ''\n",
        "\n",
        "print('<<국내 입국한 외국인의 통계를 수집합니다.>>')\n",
        "\n",
        "nat_cd = input('국가 코드를 입력하세요(중국 : 112 / 일본 : 130 / 미국 : 275) :')\n",
        "nStartYear = int(input('데이터를 몇 년부터 수집할까요? :'))\n",
        "nEndYear = int(input('데이터를 몇 년까지 수집할까요? :'))\n",
        "ed_cd = 'E' # E : 방한 외래 관광객 / D : 해외 출국\n",
        "\n",
        "dataEND = '{0}{1:0>2}'.format(str(nEndYear), str(12))\n",
        "print(dataEND)\n",
        "isDataEnd = 0 # 데이터 끝 확인용 flag 초기화\n",
        "\n",
        "for year in range(nStartYear, nEndYear + 1) :\n",
        "  for month in range(1, 13) :\n",
        "    if isDataEnd == 1 : break; # 데이터 끝 flag 설정되어 있으면 작업 중지\n",
        "    yyyymm = '{0}{1:0>2}'.format(str(year), str(month))\n",
        "\n",
        "    jsonData = getTourismStatesItem(yyyymm, nat_cd, ed_cd)\n",
        "    \n",
        "    jsonData = xmltodict.parse(jsonData)\n",
        "\n",
        "    #print(jsonData)\n",
        "    \n",
        "    if jsonData['response']['header']['resultMsg'] == 'OK' :\n",
        "      if jsonData['response']['body']['items'] == '' :\n",
        "        isDataEnd = 1 # 데이터 끝 flag 설정\n",
        "        dataEND = '{0}{1:0>2}'.format(str(year), str(month -1 ))\n",
        "        print('데이터 없음...\\n 제공되는 통계 데이터는 %s년 %s월까지입니다.' % str(year), str(month - 1))\n",
        "        break\n",
        "      \n",
        "      # jsonData를 출력하여 확인\n",
        "      natName = jsonData['response']['body']['items']['item']['natKorNm']\n",
        "      natName = natName.replace(' ', '')\n",
        "      num = jsonData['response']['body']['items']['item']['num']\n",
        "      ed = jsonData['response']['body']['items']['item']['ed']\n",
        "      print('[%s_%s : %s]' % (natName, num, ed))\n",
        "\n"
      ],
      "metadata": {
        "colab": {
          "base_uri": "https://localhost:8080/"
        },
        "id": "rM1w55LtZAbv",
        "outputId": "91e18e34-f78c-4bb9-8b9e-ec46598ee39d"
      },
      "execution_count": null,
      "outputs": [
        {
          "output_type": "stream",
          "name": "stdout",
          "text": [
            "<<국내 입국한 외국인의 통계를 수집합니다.>>\n",
            "국가 코드를 입력하세요(중국 : 112 / 일본 : 130 / 미국 : 275) :112\n",
            "데이터를 몇 년부터 수집할까요? :2015\n",
            "데이터를 몇 년까지 수집할까요? :2018\n",
            "201812\n",
            "[중국_394345 : 방한외래관광객]\n",
            "[중국_516787 : 방한외래관광객]\n",
            "[중국_515130 : 방한외래관광객]\n",
            "[중국_641610 : 방한외래관광객]\n",
            "[중국_618083 : 방한외래관광객]\n",
            "[중국_315095 : 방한외래관광객]\n",
            "[중국_255632 : 방한외래관광객]\n",
            "[중국_513275 : 방한외래관광객]\n",
            "[중국_591242 : 방한외래관광객]\n",
            "[중국_650174 : 방한외래관광객]\n",
            "[중국_507579 : 방한외래관광객]\n",
            "[중국_465218 : 방한외래관광객]\n",
            "[중국_521981 : 방한외래관광객]\n",
            "[중국_546408 : 방한외래관광객]\n",
            "[중국_601671 : 방한외래관광객]\n",
            "[중국_682318 : 방한외래관광객]\n",
            "[중국_705844 : 방한외래관광객]\n",
            "[중국_758534 : 방한외래관광객]\n",
            "[중국_917519 : 방한외래관광객]\n",
            "[중국_873771 : 방한외래관광객]\n",
            "[중국_726266 : 방한외래관광객]\n",
            "[중국_680918 : 방한외래관광객]\n",
            "[중국_516956 : 방한외래관광객]\n",
            "[중국_535536 : 방한외래관광객]\n",
            "[중국_565243 : 방한외래관광객]\n",
            "[중국_590790 : 방한외래관광객]\n",
            "[중국_360782 : 방한외래관광객]\n",
            "[중국_227811 : 방한외래관광객]\n",
            "[중국_253359 : 방한외래관광객]\n",
            "[중국_254930 : 방한외래관광객]\n",
            "[중국_281263 : 방한외래관광객]\n",
            "[중국_339388 : 방한외래관광객]\n",
            "[중국_318682 : 방한외래관광객]\n",
            "[중국_345384 : 방한외래관광객]\n",
            "[중국_299247 : 방한외래관광객]\n",
            "[중국_332474 : 방한외래관광객]\n",
            "[중국_305127 : 방한외래관광객]\n",
            "[중국_345341 : 방한외래관광객]\n",
            "[중국_403413 : 방한외래관광객]\n",
            "[중국_366604 : 방한외래관광객]\n",
            "[중국_370222 : 방한외래관광객]\n",
            "[중국_379891 : 방한외래관광객]\n",
            "[중국_410337 : 방한외래관광객]\n",
            "[중국_478140 : 방한외래관광객]\n",
            "[중국_434595 : 방한외래관광객]\n",
            "[중국_475307 : 방한외래관광객]\n",
            "[중국_404256 : 방한외래관광객]\n",
            "[중국_416279 : 방한외래관광객]\n"
          ]
        }
      ]
    }
  ]
}