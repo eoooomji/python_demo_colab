{
  "nbformat": 4,
  "nbformat_minor": 0,
  "metadata": {
    "colab": {
      "provenance": [],
      "authorship_tag": "ABX9TyMcLUGBhRGcSTsuMoGd1+k5",
      "include_colab_link": true
    },
    "kernelspec": {
      "name": "python3",
      "display_name": "Python 3"
    },
    "language_info": {
      "name": "python"
    }
  },
  "cells": [
    {
      "cell_type": "markdown",
      "metadata": {
        "id": "view-in-github",
        "colab_type": "text"
      },
      "source": [
        "<a href=\"https://colab.research.google.com/github/eoooomji/python_demo_colab/blob/master/python_13.ipynb\" target=\"_parent\"><img src=\"https://colab.research.google.com/assets/colab-badge.svg\" alt=\"Open In Colab\"/></a>"
      ]
    },
    {
      "cell_type": "code",
      "execution_count": null,
      "metadata": {
        "colab": {
          "base_uri": "https://localhost:8080/"
        },
        "id": "kPE_6Mjju4eV",
        "outputId": "5acafcf8-407a-4885-c4cc-18e11b0491e2"
      },
      "outputs": [
        {
          "output_type": "stream",
          "name": "stdout",
          "text": [
            "Mounted at /content/drive\n",
            "/content/drive/MyDrive/home_python\n"
          ]
        }
      ],
      "source": [
        "## 구글 드라이브 연결\n",
        "from google.colab import drive\n",
        "drive.mount('/content/drive')\n",
        "\n",
        "#  경로 변경\n",
        "%cd /content/drive/MyDrive/home_python"
      ]
    },
    {
      "cell_type": "code",
      "source": [
        "from bs4 import BeautifulSoup\n",
        "import requests"
      ],
      "metadata": {
        "id": "wo3ZJQhBvS4m"
      },
      "execution_count": null,
      "outputs": []
    },
    {
      "cell_type": "markdown",
      "source": [
        "작업 결과 저장용 리스트"
      ],
      "metadata": {
        "id": "UN_AGq3BvU6G"
      }
    },
    {
      "cell_type": "code",
      "source": [
        "result = []"
      ],
      "metadata": {
        "id": "B780IuravW7y"
      },
      "execution_count": null,
      "outputs": []
    },
    {
      "cell_type": "markdown",
      "source": [
        "BeautifulSoup 객체 생성 후 파싱"
      ],
      "metadata": {
        "id": "YlXzno2zvYRy"
      }
    },
    {
      "cell_type": "code",
      "source": [
        "header = {\"User-Agent\": \"Mozilla/5.0 (Windows NT 10.0; Win64; x64) AppleWebKit/537.36 (KHTML, like Gecko) Chrome/108.0.0.0 Safari/537.36\"}\n",
        "url = 'https://www.hollys.co.kr/store/korea/korStore2.do'\n",
        "\n",
        "res = requests.get(url, headers = header)\n",
        "soup = BeautifulSoup(res.text, 'html.parser')\n",
        "# print(soup)\n",
        "\n",
        "tbody_tag = soup.find('tbody')\n",
        "# print(tbody_tag)\n",
        "\n",
        "# tr_list_tag = soup.find_all('tr')\n",
        "# print(tr_list_tag)\n",
        "\n",
        "# find_all이나 find는 요소명만 입력할 수 있다.\n",
        "tbody_tr_list_tag = tbody_tag.find_all('tr')\n",
        "#print(tbody_tr_list_tag)"
      ],
      "metadata": {
        "id": "zTYySx2Uva91"
      },
      "execution_count": null,
      "outputs": []
    },
    {
      "cell_type": "code",
      "source": [
        "for store in tbody_tr_list_tag :\n",
        "  store_td = store.find_all('td')\n",
        "  #print(store_td)\n",
        "\n",
        "  store_area = store_td[0].string # store_td[0].text\n",
        "  # print(store_area)\n",
        "\n",
        "  store_name = store_td[1].string\n",
        "  # print(store_name)\n",
        "\n",
        "  store_phone = store_td[5].string\n",
        "  # print(store_phone)\n",
        "\n",
        "  result.append([store_area] + [store_name] + [store_phone])\n",
        "\n",
        "  # print(store.text)"
      ],
      "metadata": {
        "id": "ofJX5Ig1w6Mg"
      },
      "execution_count": null,
      "outputs": []
    },
    {
      "cell_type": "code",
      "source": [
        "# 참고\n",
        "print(['a'] + ['b'])\n",
        "print(['서울 강남구'] + ['강남 우리라운지점'] + ['02-566-1002'])"
      ],
      "metadata": {
        "colab": {
          "base_uri": "https://localhost:8080/"
        },
        "id": "bYXBmq3mxlQ-",
        "outputId": "8a7744fe-0b2d-4adc-ed8a-def8b8d38723"
      },
      "execution_count": null,
      "outputs": [
        {
          "output_type": "stream",
          "name": "stdout",
          "text": [
            "['a', 'b']\n",
            "['서울 강남구', '강남 우리라운지점', '02-566-1002']\n"
          ]
        }
      ]
    },
    {
      "cell_type": "markdown",
      "source": [
        "크롤링 결과 확인"
      ],
      "metadata": {
        "id": "rILWKYTGxtIV"
      }
    },
    {
      "cell_type": "code",
      "source": [
        "result"
      ],
      "metadata": {
        "colab": {
          "base_uri": "https://localhost:8080/"
        },
        "id": "ULQvusrixusW",
        "outputId": "2f728ceb-5355-4198-95ab-8ede4c2ee0e2"
      },
      "execution_count": null,
      "outputs": [
        {
          "output_type": "execute_result",
          "data": {
            "text/plain": [
              "[['서울 강남구', '강남우리라운지점', '02-566-1002'],\n",
              " ['경기 고양시 일산동구', '수원영통점', '031-202-3356'],\n",
              " ['경기 고양시 덕양구', '원흥역점', '031.967.0302'],\n",
              " ['서울 양천구', '오목교역점', '02-2062-8405'],\n",
              " ['대구 서구', '롯데시네마프리미엄만경관점', '070-7717-2192'],\n",
              " ['전남 순천시', '순천신대점', '061-723-5185'],\n",
              " ['서울 금천구', '시흥사거리점', '02-804-9226'],\n",
              " ['전북 전주시 완산구', '전주효천점', '063-224-5777'],\n",
              " ['제주 제주시', '제주도두해안DT점', '064-745-7301'],\n",
              " ['부산 북구', '부산화명점', '070-8884-1101'],\n",
              " ['서울 강남구', '강남우리라운지점', '02-566-1002'],\n",
              " ['경기 고양시 일산동구', '수원영통점', '031-202-3356'],\n",
              " ['경기 고양시 덕양구', '원흥역점', '031.967.0302'],\n",
              " ['서울 양천구', '오목교역점', '02-2062-8405'],\n",
              " ['대구 서구', '롯데시네마프리미엄만경관점', '070-7717-2192'],\n",
              " ['전남 순천시', '순천신대점', '061-723-5185'],\n",
              " ['서울 금천구', '시흥사거리점', '02-804-9226'],\n",
              " ['전북 전주시 완산구', '전주효천점', '063-224-5777'],\n",
              " ['제주 제주시', '제주도두해안DT점', '064-745-7301'],\n",
              " ['부산 북구', '부산화명점', '070-8884-1101']]"
            ]
          },
          "metadata": {},
          "execution_count": 20
        }
      ]
    },
    {
      "cell_type": "markdown",
      "source": [
        "테이블을 csv 파일로 저장"
      ],
      "metadata": {
        "id": "t_ZtRutjxyZd"
      }
    },
    {
      "cell_type": "code",
      "source": [
        "import csv\n",
        "\n",
        "fields = ['StoreArea', 'StoreName', 'StroePhone']\n",
        "\n",
        "with open('./data/hollys.csv', 'w', newline = '') as f :\n",
        "  write = csv.writer(f)\n",
        "  write.writerow(fields)\n",
        "  write.writerow(result)"
      ],
      "metadata": {
        "id": "245ApGOWx0AE"
      },
      "execution_count": null,
      "outputs": []
    },
    {
      "cell_type": "code",
      "source": [
        "%cd data"
      ],
      "metadata": {
        "colab": {
          "base_uri": "https://localhost:8080/"
        },
        "id": "5TSVDIEN-3Bi",
        "outputId": "de5ab1bf-a35f-4085-c795-5b0f710a876f"
      },
      "execution_count": null,
      "outputs": [
        {
          "output_type": "stream",
          "name": "stdout",
          "text": [
            "/content/drive/MyDrive/home_python/data\n"
          ]
        }
      ]
    },
    {
      "cell_type": "code",
      "source": [
        "!cat hollys.csv"
      ],
      "metadata": {
        "colab": {
          "base_uri": "https://localhost:8080/"
        },
        "id": "oA8WpQzr-9rV",
        "outputId": "b249bc1e-23a0-4a8d-b9e0-0ea344ce5fde"
      },
      "execution_count": null,
      "outputs": [
        {
          "output_type": "stream",
          "name": "stdout",
          "text": [
            "StoreArea,StoreName,StroePhone\r\n",
            "\"['서울 강남구', '강남우리라운지점', '02-566-1002']\",\"['경기 고양시 일산동구', '수원영통점', '031-202-3356']\",\"['경기 고양시 덕양구', '원흥역점', '031.967.0302']\",\"['서울 양천구', '오목교역점', '02-2062-8405']\",\"['대구 서구', '롯데시네마프리미엄만경관점', '070-7717-2192']\",\"['전남 순천시', '순천신대점', '061-723-5185']\",\"['서울 금천구', '시흥사거리점', '02-804-9226']\",\"['전북 전주시 완산구', '전주효천점', '063-224-5777']\",\"['제주 제주시', '제주도두해안DT점', '064-745-7301']\",\"['부산 북구', '부산화명점', '070-8884-1101']\",\"['서울 강남구', '강남우리라운지점', '02-566-1002']\",\"['경기 고양시 일산동구', '수원영통점', '031-202-3356']\",\"['경기 고양시 덕양구', '원흥역점', '031.967.0302']\",\"['서울 양천구', '오목교역점', '02-2062-8405']\",\"['대구 서구', '롯데시네마프리미엄만경관점', '070-7717-2192']\",\"['전남 순천시', '순천신대점', '061-723-5185']\",\"['서울 금천구', '시흥사거리점', '02-804-9226']\",\"['전북 전주시 완산구', '전주효천점', '063-224-5777']\",\"['제주 제주시', '제주도두해안DT점', '064-745-7301']\",\"['부산 북구', '부산화명점', '070-8884-1101']\"\r\n"
          ]
        }
      ]
    },
    {
      "cell_type": "code",
      "source": [
        "%cd .."
      ],
      "metadata": {
        "colab": {
          "base_uri": "https://localhost:8080/"
        },
        "id": "mpIjiUBE-_nz",
        "outputId": "f11f464f-16e9-4173-ac69-5789c75acba3"
      },
      "execution_count": null,
      "outputs": [
        {
          "output_type": "stream",
          "name": "stdout",
          "text": [
            "/content/drive/MyDrive/home_python\n"
          ]
        }
      ]
    },
    {
      "cell_type": "markdown",
      "source": [
        "날짜 지정"
      ],
      "metadata": {
        "id": "ctHcLDHA_Ay3"
      }
    },
    {
      "cell_type": "code",
      "source": [
        "import datetime\n",
        "now = datetime.datetime.today()\n",
        "print(now)\n",
        "print(now.utcnow())\n",
        "print(now.year, now.month, now.day, now.hour, now.minute, now.second)\n",
        "print(now.date())\n",
        "print(now.time())"
      ],
      "metadata": {
        "colab": {
          "base_uri": "https://localhost:8080/"
        },
        "id": "AFRL_Riv_CrN",
        "outputId": "1ba4e6d4-9ed7-4f41-b6fb-ca2b2e4148cd"
      },
      "execution_count": null,
      "outputs": [
        {
          "output_type": "stream",
          "name": "stdout",
          "text": [
            "2022-12-17 12:09:16.166442\n",
            "2022-12-17 12:09:16.166608\n",
            "2022 12 17 12 9 16\n",
            "2022-12-17\n",
            "12:09:16.166442\n"
          ]
        }
      ]
    },
    {
      "cell_type": "code",
      "source": [
        "import time\n",
        "time.strftime('%Y-%m-%d', time.localtime(time.time()))"
      ],
      "metadata": {
        "colab": {
          "base_uri": "https://localhost:8080/",
          "height": 35
        },
        "id": "J1Eg6yxM_Twb",
        "outputId": "517e6a77-97ae-4f85-8729-e428500fb655"
      },
      "execution_count": null,
      "outputs": [
        {
          "output_type": "execute_result",
          "data": {
            "text/plain": [
              "'2022-12-17'"
            ],
            "application/vnd.google.colaboratory.intrinsic+json": {
              "type": "string"
            }
          },
          "metadata": {},
          "execution_count": 39
        }
      ]
    },
    {
      "cell_type": "markdown",
      "source": [
        "파일썬 파일 작성하여 크롤링 작업하기"
      ],
      "metadata": {
        "id": "nN0SN9aV_aHo"
      }
    },
    {
      "cell_type": "code",
      "source": [
        "from bs4 import BeautifulSoup\n",
        "import requests\n",
        "import csv\n",
        "import datetime\n",
        "\n",
        "def hollys_store() :\n",
        "  result = []\n",
        "\n",
        "  header = {\"User-Agent\": \"Mozilla/5.0 (Windows NT 10.0; Win64; x64) AppleWebKit/537.36 (KHTML, like Gecko) Chrome/108.0.0.0 Safari/537.36 \"}\n",
        "  url = 'https://www.hollys.co.kr/store/korea/korStore2.do'\n",
        "\n",
        "  res = requests.get(url, headers = header)\n",
        "  soup = BeautifulSoup(res.text, 'html.parser')\n",
        "\n",
        "  tbody_tag = soup.find('tbody')\n",
        "\n",
        "  tbody_tr_list_tag = tbody_tag.find_all('tr')\n",
        "\n",
        "  for store in tbody_tr_list_tag :\n",
        "    store_td = store.find_all('td')\n",
        "    store_area = store_td[0].string\n",
        "    store_name = store_td[1].string\n",
        "    store_phone = store_td[5].string\n",
        "    result.append([store_area] + [store_name] + [store_phone])\n",
        "\n",
        "  return result\n",
        "\n",
        "def main() :\n",
        "  result = hollys_store()\n",
        "\n",
        "  to_now = datetime.datetime.today().date()\n",
        "\n",
        "  # field names\n",
        "  fields = ['StoreArea', 'StoreName', 'StorePhone']\n",
        "\n",
        "  with open('./data/%s-hollys.csv' % to_now, 'w', newline = '') as f :\n",
        "    write = csv.writer(f) # f.write\n",
        "    write.writerow(fields)\n",
        "    write.writerows(result)\n",
        "\n",
        "  print('hollys 데이저 저장 완료')\n",
        "  del result[:]\n",
        "\n",
        "if __name__ == '__main__' :\n",
        "  main()"
      ],
      "metadata": {
        "colab": {
          "base_uri": "https://localhost:8080/"
        },
        "id": "5NigaTf7_cHK",
        "outputId": "a6f0f459-6b58-46f7-efaf-2f2c57eea3bd"
      },
      "execution_count": null,
      "outputs": [
        {
          "output_type": "stream",
          "name": "stdout",
          "text": [
            "hollys 데이저 저장 완료\n"
          ]
        }
      ]
    },
    {
      "cell_type": "code",
      "source": [
        "%cd data"
      ],
      "metadata": {
        "colab": {
          "base_uri": "https://localhost:8080/"
        },
        "id": "Jpl-G2d2D2TX",
        "outputId": "50c8df47-c7a3-4e12-f089-e4c3e0c046cc"
      },
      "execution_count": null,
      "outputs": [
        {
          "output_type": "stream",
          "name": "stdout",
          "text": [
            "/content/drive/MyDrive/home_python/data\n"
          ]
        }
      ]
    },
    {
      "cell_type": "code",
      "source": [
        "!cat 2022-12-17-hollys.csv"
      ],
      "metadata": {
        "colab": {
          "base_uri": "https://localhost:8080/"
        },
        "id": "t1Vx-nSbD4pF",
        "outputId": "5bd4b2f1-c73b-4155-a7d4-973bab991f7a"
      },
      "execution_count": null,
      "outputs": [
        {
          "output_type": "stream",
          "name": "stdout",
          "text": [
            "StoreArea,StoreName,StorePhone\r\n",
            "서울 강남구,강남우리라운지점,02-566-1002\r\n",
            "경기 고양시 일산동구,수원영통점,031-202-3356\r\n",
            "경기 고양시 덕양구,원흥역점,031.967.0302\r\n",
            "서울 양천구,오목교역점,02-2062-8405\r\n",
            "대구 서구,롯데시네마프리미엄만경관점,070-7717-2192\r\n",
            "전남 순천시,순천신대점,061-723-5185\r\n",
            "서울 금천구,시흥사거리점,02-804-9226\r\n",
            "전북 전주시 완산구,전주효천점,063-224-5777\r\n",
            "제주 제주시,제주도두해안DT점,064-745-7301\r\n",
            "부산 북구,부산화명점,070-8884-1101\r\n"
          ]
        }
      ]
    },
    {
      "cell_type": "code",
      "source": [
        "%cd .."
      ],
      "metadata": {
        "colab": {
          "base_uri": "https://localhost:8080/"
        },
        "id": "eYo6W343ESto",
        "outputId": "4a83e21e-3a63-44b1-daf3-b37344243368"
      },
      "execution_count": null,
      "outputs": [
        {
          "output_type": "stream",
          "name": "stdout",
          "text": [
            "/content/drive/MyDrive/home_python\n"
          ]
        }
      ]
    },
    {
      "cell_type": "code",
      "source": [
        "import json\n",
        "to_now = datetime.datetime.today().date()\n",
        "with open('./data/%s-hollys.csv' % to_now, 'r') as f :\n",
        "  for element in f :\n",
        "    td_list = element.split(',')\n",
        "    print(td_list[0], td_list[1], td_list[2])"
      ],
      "metadata": {
        "colab": {
          "base_uri": "https://localhost:8080/"
        },
        "id": "NCOHsb_6ET2t",
        "outputId": "0174aec5-f7ca-4fcd-abba-0426141517b2"
      },
      "execution_count": null,
      "outputs": [
        {
          "output_type": "stream",
          "name": "stdout",
          "text": [
            "StoreArea StoreName StorePhone\n",
            "\n",
            "서울 강남구 강남우리라운지점 02-566-1002\n",
            "\n",
            "경기 고양시 일산동구 수원영통점 031-202-3356\n",
            "\n",
            "경기 고양시 덕양구 원흥역점 031.967.0302\n",
            "\n",
            "서울 양천구 오목교역점 02-2062-8405\n",
            "\n",
            "대구 서구 롯데시네마프리미엄만경관점 070-7717-2192\n",
            "\n",
            "전남 순천시 순천신대점 061-723-5185\n",
            "\n",
            "서울 금천구 시흥사거리점 02-804-9226\n",
            "\n",
            "전북 전주시 완산구 전주효천점 063-224-5777\n",
            "\n",
            "제주 제주시 제주도두해안DT점 064-745-7301\n",
            "\n",
            "부산 북구 부산화명점 070-8884-1101\n",
            "\n"
          ]
        }
      ]
    }
  ]
}