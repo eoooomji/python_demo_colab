{
  "nbformat": 4,
  "nbformat_minor": 0,
  "metadata": {
    "colab": {
      "provenance": [],
      "authorship_tag": "ABX9TyNrGQfKus5SIONy64hxhmNa",
      "include_colab_link": true
    },
    "kernelspec": {
      "name": "python3",
      "display_name": "Python 3"
    },
    "language_info": {
      "name": "python"
    }
  },
  "cells": [
    {
      "cell_type": "markdown",
      "metadata": {
        "id": "view-in-github",
        "colab_type": "text"
      },
      "source": [
        "<a href=\"https://colab.research.google.com/github/eoooomji/python_demo_colab/blob/master/python_32_%EA%B8%B0%EA%B3%84%ED%95%99%EC%8A%B5_%ED%95%98%EC%9D%B4%ED%8D%BC_%ED%8C%8C%EB%9D%BC%EB%AF%B8%ED%84%B0.ipynb\" target=\"_parent\"><img src=\"https://colab.research.google.com/assets/colab-badge.svg\" alt=\"Open In Colab\"/></a>"
      ]
    },
    {
      "cell_type": "code",
      "execution_count": 31,
      "metadata": {
        "colab": {
          "base_uri": "https://localhost:8080/"
        },
        "id": "mds3PGhHub8b",
        "outputId": "265fd5b8-4cc8-43e0-a987-18dc54ec8b1c"
      },
      "outputs": [
        {
          "output_type": "stream",
          "name": "stdout",
          "text": [
            "Drive already mounted at /content/drive; to attempt to forcibly remount, call drive.mount(\"/content/drive\", force_remount=True).\n",
            "/content/drive/MyDrive/python_demo\n"
          ]
        }
      ],
      "source": [
        "## 구글 드라이브 연결\n",
        "from google.colab import drive\n",
        "drive.mount('/content/drive')\n",
        "\n",
        "#  경로 변경\n",
        "%cd /content/drive/MyDrive/python_demo"
      ]
    },
    {
      "cell_type": "code",
      "source": [
        "from sklearn.datasets import load_iris"
      ],
      "metadata": {
        "id": "LgcKxu1GvGUm"
      },
      "execution_count": 32,
      "outputs": []
    },
    {
      "cell_type": "code",
      "source": [
        "data = load_iris()"
      ],
      "metadata": {
        "id": "1P-gvzlbvIk8"
      },
      "execution_count": 33,
      "outputs": []
    },
    {
      "cell_type": "code",
      "source": [
        "import pandas as pd"
      ],
      "metadata": {
        "id": "xvHSgP9DvJ5m"
      },
      "execution_count": 34,
      "outputs": []
    },
    {
      "cell_type": "code",
      "source": [
        "dir(data)"
      ],
      "metadata": {
        "colab": {
          "base_uri": "https://localhost:8080/"
        },
        "id": "qx_gX3_UvLAG",
        "outputId": "2515d6e6-cfe2-426c-cd60-65bc2a35784b"
      },
      "execution_count": 35,
      "outputs": [
        {
          "output_type": "execute_result",
          "data": {
            "text/plain": [
              "['DESCR',\n",
              " 'data',\n",
              " 'data_module',\n",
              " 'feature_names',\n",
              " 'filename',\n",
              " 'frame',\n",
              " 'target',\n",
              " 'target_names']"
            ]
          },
          "metadata": {},
          "execution_count": 35
        }
      ]
    },
    {
      "cell_type": "code",
      "source": [
        "data_pd = pd.DataFrame(data.data, columns = data.feature_names)\n",
        "target_pd = pd.DataFrame(data.target, columns = ['target'])\n",
        "iris = pd.concat([data_pd, target_pd], axis = 1)"
      ],
      "metadata": {
        "id": "5r8K6o1mvSgO"
      },
      "execution_count": 36,
      "outputs": []
    },
    {
      "cell_type": "code",
      "source": [
        "iris.head()"
      ],
      "metadata": {
        "colab": {
          "base_uri": "https://localhost:8080/",
          "height": 206
        },
        "id": "p5qIxIABvv5O",
        "outputId": "110b4813-3229-470e-d7e7-44753e488c07"
      },
      "execution_count": 37,
      "outputs": [
        {
          "output_type": "execute_result",
          "data": {
            "text/plain": [
              "   sepal length (cm)  sepal width (cm)  petal length (cm)  petal width (cm)  \\\n",
              "0                5.1               3.5                1.4               0.2   \n",
              "1                4.9               3.0                1.4               0.2   \n",
              "2                4.7               3.2                1.3               0.2   \n",
              "3                4.6               3.1                1.5               0.2   \n",
              "4                5.0               3.6                1.4               0.2   \n",
              "\n",
              "   target  \n",
              "0       0  \n",
              "1       0  \n",
              "2       0  \n",
              "3       0  \n",
              "4       0  "
            ],
            "text/html": [
              "\n",
              "  <div id=\"df-18cce6a0-19d6-4bb7-9011-19ac74323571\">\n",
              "    <div class=\"colab-df-container\">\n",
              "      <div>\n",
              "<style scoped>\n",
              "    .dataframe tbody tr th:only-of-type {\n",
              "        vertical-align: middle;\n",
              "    }\n",
              "\n",
              "    .dataframe tbody tr th {\n",
              "        vertical-align: top;\n",
              "    }\n",
              "\n",
              "    .dataframe thead th {\n",
              "        text-align: right;\n",
              "    }\n",
              "</style>\n",
              "<table border=\"1\" class=\"dataframe\">\n",
              "  <thead>\n",
              "    <tr style=\"text-align: right;\">\n",
              "      <th></th>\n",
              "      <th>sepal length (cm)</th>\n",
              "      <th>sepal width (cm)</th>\n",
              "      <th>petal length (cm)</th>\n",
              "      <th>petal width (cm)</th>\n",
              "      <th>target</th>\n",
              "    </tr>\n",
              "  </thead>\n",
              "  <tbody>\n",
              "    <tr>\n",
              "      <th>0</th>\n",
              "      <td>5.1</td>\n",
              "      <td>3.5</td>\n",
              "      <td>1.4</td>\n",
              "      <td>0.2</td>\n",
              "      <td>0</td>\n",
              "    </tr>\n",
              "    <tr>\n",
              "      <th>1</th>\n",
              "      <td>4.9</td>\n",
              "      <td>3.0</td>\n",
              "      <td>1.4</td>\n",
              "      <td>0.2</td>\n",
              "      <td>0</td>\n",
              "    </tr>\n",
              "    <tr>\n",
              "      <th>2</th>\n",
              "      <td>4.7</td>\n",
              "      <td>3.2</td>\n",
              "      <td>1.3</td>\n",
              "      <td>0.2</td>\n",
              "      <td>0</td>\n",
              "    </tr>\n",
              "    <tr>\n",
              "      <th>3</th>\n",
              "      <td>4.6</td>\n",
              "      <td>3.1</td>\n",
              "      <td>1.5</td>\n",
              "      <td>0.2</td>\n",
              "      <td>0</td>\n",
              "    </tr>\n",
              "    <tr>\n",
              "      <th>4</th>\n",
              "      <td>5.0</td>\n",
              "      <td>3.6</td>\n",
              "      <td>1.4</td>\n",
              "      <td>0.2</td>\n",
              "      <td>0</td>\n",
              "    </tr>\n",
              "  </tbody>\n",
              "</table>\n",
              "</div>\n",
              "      <button class=\"colab-df-convert\" onclick=\"convertToInteractive('df-18cce6a0-19d6-4bb7-9011-19ac74323571')\"\n",
              "              title=\"Convert this dataframe to an interactive table.\"\n",
              "              style=\"display:none;\">\n",
              "        \n",
              "  <svg xmlns=\"http://www.w3.org/2000/svg\" height=\"24px\"viewBox=\"0 0 24 24\"\n",
              "       width=\"24px\">\n",
              "    <path d=\"M0 0h24v24H0V0z\" fill=\"none\"/>\n",
              "    <path d=\"M18.56 5.44l.94 2.06.94-2.06 2.06-.94-2.06-.94-.94-2.06-.94 2.06-2.06.94zm-11 1L8.5 8.5l.94-2.06 2.06-.94-2.06-.94L8.5 2.5l-.94 2.06-2.06.94zm10 10l.94 2.06.94-2.06 2.06-.94-2.06-.94-.94-2.06-.94 2.06-2.06.94z\"/><path d=\"M17.41 7.96l-1.37-1.37c-.4-.4-.92-.59-1.43-.59-.52 0-1.04.2-1.43.59L10.3 9.45l-7.72 7.72c-.78.78-.78 2.05 0 2.83L4 21.41c.39.39.9.59 1.41.59.51 0 1.02-.2 1.41-.59l7.78-7.78 2.81-2.81c.8-.78.8-2.07 0-2.86zM5.41 20L4 18.59l7.72-7.72 1.47 1.35L5.41 20z\"/>\n",
              "  </svg>\n",
              "      </button>\n",
              "      \n",
              "  <style>\n",
              "    .colab-df-container {\n",
              "      display:flex;\n",
              "      flex-wrap:wrap;\n",
              "      gap: 12px;\n",
              "    }\n",
              "\n",
              "    .colab-df-convert {\n",
              "      background-color: #E8F0FE;\n",
              "      border: none;\n",
              "      border-radius: 50%;\n",
              "      cursor: pointer;\n",
              "      display: none;\n",
              "      fill: #1967D2;\n",
              "      height: 32px;\n",
              "      padding: 0 0 0 0;\n",
              "      width: 32px;\n",
              "    }\n",
              "\n",
              "    .colab-df-convert:hover {\n",
              "      background-color: #E2EBFA;\n",
              "      box-shadow: 0px 1px 2px rgba(60, 64, 67, 0.3), 0px 1px 3px 1px rgba(60, 64, 67, 0.15);\n",
              "      fill: #174EA6;\n",
              "    }\n",
              "\n",
              "    [theme=dark] .colab-df-convert {\n",
              "      background-color: #3B4455;\n",
              "      fill: #D2E3FC;\n",
              "    }\n",
              "\n",
              "    [theme=dark] .colab-df-convert:hover {\n",
              "      background-color: #434B5C;\n",
              "      box-shadow: 0px 1px 3px 1px rgba(0, 0, 0, 0.15);\n",
              "      filter: drop-shadow(0px 1px 2px rgba(0, 0, 0, 0.3));\n",
              "      fill: #FFFFFF;\n",
              "    }\n",
              "  </style>\n",
              "\n",
              "      <script>\n",
              "        const buttonEl =\n",
              "          document.querySelector('#df-18cce6a0-19d6-4bb7-9011-19ac74323571 button.colab-df-convert');\n",
              "        buttonEl.style.display =\n",
              "          google.colab.kernel.accessAllowed ? 'block' : 'none';\n",
              "\n",
              "        async function convertToInteractive(key) {\n",
              "          const element = document.querySelector('#df-18cce6a0-19d6-4bb7-9011-19ac74323571');\n",
              "          const dataTable =\n",
              "            await google.colab.kernel.invokeFunction('convertToInteractive',\n",
              "                                                     [key], {});\n",
              "          if (!dataTable) return;\n",
              "\n",
              "          const docLinkHtml = 'Like what you see? Visit the ' +\n",
              "            '<a target=\"_blank\" href=https://colab.research.google.com/notebooks/data_table.ipynb>data table notebook</a>'\n",
              "            + ' to learn more about interactive tables.';\n",
              "          element.innerHTML = '';\n",
              "          dataTable['output_type'] = 'display_data';\n",
              "          await google.colab.output.renderOutput(dataTable, element);\n",
              "          const docLink = document.createElement('div');\n",
              "          docLink.innerHTML = docLinkHtml;\n",
              "          element.appendChild(docLink);\n",
              "        }\n",
              "      </script>\n",
              "    </div>\n",
              "  </div>\n",
              "  "
            ]
          },
          "metadata": {},
          "execution_count": 37
        }
      ]
    },
    {
      "cell_type": "code",
      "source": [
        "iris.info()"
      ],
      "metadata": {
        "colab": {
          "base_uri": "https://localhost:8080/"
        },
        "id": "1vjGYR8zwLkz",
        "outputId": "77f2166d-9748-47ee-af8e-09da5be30ed7"
      },
      "execution_count": 38,
      "outputs": [
        {
          "output_type": "stream",
          "name": "stdout",
          "text": [
            "<class 'pandas.core.frame.DataFrame'>\n",
            "RangeIndex: 150 entries, 0 to 149\n",
            "Data columns (total 5 columns):\n",
            " #   Column             Non-Null Count  Dtype  \n",
            "---  ------             --------------  -----  \n",
            " 0   sepal length (cm)  150 non-null    float64\n",
            " 1   sepal width (cm)   150 non-null    float64\n",
            " 2   petal length (cm)  150 non-null    float64\n",
            " 3   petal width (cm)   150 non-null    float64\n",
            " 4   target             150 non-null    int64  \n",
            "dtypes: float64(4), int64(1)\n",
            "memory usage: 6.0 KB\n"
          ]
        }
      ]
    },
    {
      "cell_type": "code",
      "source": [
        "from sklearn.model_selection import train_test_split"
      ],
      "metadata": {
        "id": "gE_9pA3swNLi"
      },
      "execution_count": 39,
      "outputs": []
    },
    {
      "cell_type": "code",
      "source": [
        "# hold out\n",
        "X_train, X_test, y_train, y_test = train_test_split(iris.iloc[:, :-1], iris.target)"
      ],
      "metadata": {
        "id": "Q7KI9n9JwRTy"
      },
      "execution_count": 40,
      "outputs": []
    },
    {
      "cell_type": "code",
      "source": [
        "from sklearn.metrics import confusion_matrix"
      ],
      "metadata": {
        "id": "Ejxm-lBDwepZ"
      },
      "execution_count": 41,
      "outputs": []
    },
    {
      "cell_type": "code",
      "source": [
        "from sklearn.neighbors import KNeighborsClassifier"
      ],
      "metadata": {
        "id": "d86CvG7nwyyt"
      },
      "execution_count": 42,
      "outputs": []
    },
    {
      "cell_type": "code",
      "source": [
        "knn = KNeighborsClassifier()"
      ],
      "metadata": {
        "id": "VMOHt6TQwdK4"
      },
      "execution_count": 43,
      "outputs": []
    },
    {
      "cell_type": "code",
      "source": [
        "knn.fit(X_train, y_train)"
      ],
      "metadata": {
        "colab": {
          "base_uri": "https://localhost:8080/"
        },
        "id": "3rSpg-lgw6nT",
        "outputId": "5b1292ad-da69-47fd-8bba-e99e7b97c95c"
      },
      "execution_count": 44,
      "outputs": [
        {
          "output_type": "execute_result",
          "data": {
            "text/plain": [
              "KNeighborsClassifier()"
            ]
          },
          "metadata": {},
          "execution_count": 44
        }
      ]
    },
    {
      "cell_type": "code",
      "source": [
        "pred = knn.predict(X_test)\n",
        "pred"
      ],
      "metadata": {
        "colab": {
          "base_uri": "https://localhost:8080/"
        },
        "id": "2f5yufloxMTd",
        "outputId": "ed562d09-740e-4eed-e0cd-ad0a9aa04d11"
      },
      "execution_count": 45,
      "outputs": [
        {
          "output_type": "execute_result",
          "data": {
            "text/plain": [
              "array([1, 1, 1, 1, 0, 0, 2, 0, 1, 2, 1, 1, 1, 0, 2, 2, 2, 1, 0, 2, 0, 2,\n",
              "       2, 0, 2, 2, 0, 1, 1, 2, 0, 2, 2, 0, 2, 0, 1, 1])"
            ]
          },
          "metadata": {},
          "execution_count": 45
        }
      ]
    },
    {
      "cell_type": "code",
      "source": [
        "confusion_matrix(y_test, pred)"
      ],
      "metadata": {
        "colab": {
          "base_uri": "https://localhost:8080/"
        },
        "id": "Z0GQrkjUxZpj",
        "outputId": "3256231f-87ec-4f2f-ed51-715759905ac1"
      },
      "execution_count": 46,
      "outputs": [
        {
          "output_type": "execute_result",
          "data": {
            "text/plain": [
              "array([[11,  0,  0],\n",
              "       [ 0, 13,  0],\n",
              "       [ 0,  0, 14]])"
            ]
          },
          "metadata": {},
          "execution_count": 46
        }
      ]
    },
    {
      "cell_type": "markdown",
      "source": [
        "행을 실제, 열은 예측값이다.  \n",
        "\n",
        "```\n",
        "실제 0 안에 0으로 예측한 값 9개\n",
        "실제 1인데 1로 예측한 값 14개, 2로 예측한 값 2개\n",
        "실제 2인데 1로 예측한 값  1개, 2로 예측한 값 12개\n",
        "\n",
        "array([[ 9,  0,  0],  \n",
        "       [ 0, 14,  2],  \n",
        "       [ 0,  1, 12]]) \n",
        "``` \n",
        "\n",
        "---\n",
        "위의 결과를 confusion matrix는 다음과 같다.\n",
        "\n",
        "| |setosa로 예측|versicolor로 예측|virginica로 예측|\n",
        "|---|---|---|---|\n",
        "|실제 setosa|9|0|0|\n",
        "|실제 versicolor|0|14|2|\n",
        "|실제 virginica|0|1|12|\n",
        "\n",
        "---\n",
        "이진 분류하는 confusion matrix에서 각 위치를 다음과 같이 이름 붙인다.\n",
        "\n",
        "|||Precidt||\n",
        "|---|---|---|---|\n",
        "|   |   |True|False|\n",
        "|Actual|True|True Positive|False Negative|\n",
        "|      |False|False Positive|True Negative|\n",
        "\n",
        "False Positive는 1종 오류  \n",
        "False Nagetive는 2종 오류\n",
        "\n",
        "1종 오류와 2종 오류 중에서 어떤 것이 중요한지는 의사결정자 판단에 따른다.\n",
        "\n",
        "   \n",
        "Confusion matrix에 기반하여 다음과 같은 모델의 성능 지표가 있다.  \n",
        "\n",
        "정확도는 맹점이 있기 때문에 다른 평가지표도 함께 살펴볼 필요가 있다.\n",
        " \n",
        "- accuracy(정확도)\n",
        " \n",
        "    전체 데이터 중에 예측이 맞은 비율\n",
        " \n",
        "    $$accuracy = \\frac{TP+TN}{TP+FP+TN+FN}$$\n",
        " \n",
        "- precision(정밀도)\n",
        " \n",
        "    양성으로 예측한 것 중에서 양성이 맞는 비율\n",
        " \n",
        "    즉, 예측한 거 중에 맞은 비율\n",
        " \n",
        "    $$precision = \\frac{TP}{TP+FP}$$\n",
        " \n",
        "- recall(재현률)\n",
        " \n",
        "    실제 양성인 것  중에서 양성으로 예측한 비율\n",
        " \n",
        "    즉, 맞은 비율\n",
        " \n",
        "    $$reacll = \\frac{TP}{TP+FN}$$\n"
      ],
      "metadata": {
        "id": "Ffs67wYqye7A"
      }
    },
    {
      "cell_type": "code",
      "source": [
        "from sklearn.metrics import classification_report"
      ],
      "metadata": {
        "id": "E4jnngr47r4M"
      },
      "execution_count": 47,
      "outputs": []
    },
    {
      "cell_type": "code",
      "source": [
        "# https://blog.naver.com/PostView.naver?blogId=hannaurora&logNo=222498671200&parentCategoryNo=&categoryNo=41&viewDate=&isShowPopularPosts=true&from=search\n",
        "# 내부적으로 confusion matrix를 만든 후 평가 지표별로 점수를 계산해 준다.\n",
        "print(classification_report(y_test, pred))"
      ],
      "metadata": {
        "colab": {
          "base_uri": "https://localhost:8080/"
        },
        "id": "aOrcZ8RT70k7",
        "outputId": "26d6c042-3ca8-4640-c5cf-cc1b04083d1c"
      },
      "execution_count": 48,
      "outputs": [
        {
          "output_type": "stream",
          "name": "stdout",
          "text": [
            "              precision    recall  f1-score   support\n",
            "\n",
            "           0       1.00      1.00      1.00        11\n",
            "           1       1.00      1.00      1.00        13\n",
            "           2       1.00      1.00      1.00        14\n",
            "\n",
            "    accuracy                           1.00        38\n",
            "   macro avg       1.00      1.00      1.00        38\n",
            "weighted avg       1.00      1.00      1.00        38\n",
            "\n"
          ]
        }
      ]
    },
    {
      "cell_type": "markdown",
      "source": [
        "### Hyper Parmeter\n",
        "\n",
        "- 하이퍼 파라미터에 따라서 성능이 달라진다.\n",
        "\n",
        "- 그러므로 최적의 하이퍼 파라미터를 찾는 것이 중요하다."
      ],
      "metadata": {
        "id": "waao-Y8s4Di8"
      }
    },
    {
      "cell_type": "code",
      "source": [
        "# 단순하게 하이퍼 파라미터를 for문으로 찾는 방법\n",
        "temp = []\n",
        "for i in range(1, 20) :\n",
        "  knn = KNeighborsClassifier(n_neighbors = i)\n",
        "  knn.fit(X_train, y_train)\n",
        "  temp.append(knn.score(X_test, y_test))"
      ],
      "metadata": {
        "id": "aFZrk2Vd_Jso"
      },
      "execution_count": 51,
      "outputs": []
    },
    {
      "cell_type": "code",
      "source": [
        "temp"
      ],
      "metadata": {
        "colab": {
          "base_uri": "https://localhost:8080/"
        },
        "id": "Wv3_bC0G_j2C",
        "outputId": "91ed8ad9-af7a-4f78-c45d-58ce74c39089"
      },
      "execution_count": 52,
      "outputs": [
        {
          "output_type": "execute_result",
          "data": {
            "text/plain": [
              "[0.9736842105263158,\n",
              " 1.0,\n",
              " 1.0,\n",
              " 1.0,\n",
              " 1.0,\n",
              " 0.9736842105263158,\n",
              " 0.9736842105263158,\n",
              " 0.9736842105263158,\n",
              " 1.0,\n",
              " 0.9736842105263158,\n",
              " 1.0,\n",
              " 0.9736842105263158,\n",
              " 1.0,\n",
              " 1.0,\n",
              " 0.9736842105263158,\n",
              " 0.9736842105263158,\n",
              " 0.9736842105263158,\n",
              " 0.9736842105263158,\n",
              " 1.0]"
            ]
          },
          "metadata": {},
          "execution_count": 52
        }
      ]
    },
    {
      "cell_type": "code",
      "source": [
        "import numpy as np"
      ],
      "metadata": {
        "id": "Sld023_CADNp"
      },
      "execution_count": 53,
      "outputs": []
    },
    {
      "cell_type": "code",
      "source": [
        "# 큰 값을 저장하고 있는 인덱스를 리턴한다.\n",
        "# n_neighbors가 1일 때 성능이 가장 좋다.\n",
        "np.argmax(temp)"
      ],
      "metadata": {
        "colab": {
          "base_uri": "https://localhost:8080/"
        },
        "id": "tPO75jAlAFWb",
        "outputId": "333e66fd-baca-4639-f367-cc6aa6cb8ecf"
      },
      "execution_count": 57,
      "outputs": [
        {
          "output_type": "execute_result",
          "data": {
            "text/plain": [
              "1"
            ]
          },
          "metadata": {},
          "execution_count": 57
        }
      ]
    },
    {
      "cell_type": "markdown",
      "source": [
        "### 교차 검증(3 way holdout)\n",
        "\n",
        "데이터 셋을 총 3등분 한다.\n",
        "- train set : 모델 학습에 사용한다.\n",
        "\n",
        "- validaton set : 하이퍼 파라미터를 찾기 위해서 사용한다.\n",
        "\n",
        "- test set : 한번도 안 본 데이터로 모델의 성능을 측정하기 위해서 사용한다."
      ],
      "metadata": {
        "id": "_UtOfDRvAzJx"
      }
    },
    {
      "cell_type": "code",
      "source": [
        "X_train, X_test, y_train, y_test = train_test_split(iris.iloc[:, :-1], iris.target)"
      ],
      "metadata": {
        "id": "CrhaR40OBqTZ"
      },
      "execution_count": 58,
      "outputs": []
    },
    {
      "cell_type": "code",
      "source": [
        "X_train, X_validation,  y_train, y_validation = train_test_split(X_train, y_train)"
      ],
      "metadata": {
        "id": "ASZ1xeNrB4Kw"
      },
      "execution_count": 59,
      "outputs": []
    },
    {
      "cell_type": "code",
      "source": [
        "# 하이퍼 파라미터를 찾기 위해서 3-way-holdout을 한다.\n",
        "temp = []\n",
        "for i in range(1, 20) :\n",
        "  knn = KNeighborsClassifier(n_neighbors = i)\n",
        "  knn.fit(X_train, y_train)\n",
        "  temp.append(knn.score(X_validation, y_validation))"
      ],
      "metadata": {
        "id": "o_TTA1YPCOGH"
      },
      "execution_count": 60,
      "outputs": []
    },
    {
      "cell_type": "code",
      "source": [
        "temp"
      ],
      "metadata": {
        "colab": {
          "base_uri": "https://localhost:8080/"
        },
        "id": "hUm7jzi-CfE6",
        "outputId": "9842ac74-7cf7-4067-ae1a-83fba7fa834d"
      },
      "execution_count": 61,
      "outputs": [
        {
          "output_type": "execute_result",
          "data": {
            "text/plain": [
              "[0.9642857142857143,\n",
              " 0.9285714285714286,\n",
              " 0.9642857142857143,\n",
              " 0.8928571428571429,\n",
              " 0.9642857142857143,\n",
              " 0.9642857142857143,\n",
              " 0.9642857142857143,\n",
              " 0.9285714285714286,\n",
              " 0.9642857142857143,\n",
              " 0.9285714285714286,\n",
              " 0.9642857142857143,\n",
              " 0.8571428571428571,\n",
              " 0.8571428571428571,\n",
              " 0.8571428571428571,\n",
              " 0.9285714285714286,\n",
              " 0.9285714285714286,\n",
              " 0.9285714285714286,\n",
              " 0.8928571428571429,\n",
              " 0.8928571428571429]"
            ]
          },
          "metadata": {},
          "execution_count": 61
        }
      ]
    },
    {
      "cell_type": "code",
      "source": [
        "# 3-way-holdout으로 했을 때, 하이퍼 파라미터 n_neighbors가 1일 때 가장 성능이 좋다.\n",
        "np.argmax(temp)"
      ],
      "metadata": {
        "colab": {
          "base_uri": "https://localhost:8080/"
        },
        "id": "hl5P0tvYCjgy",
        "outputId": "e8666439-de7a-4e59-8881-83924ef81b5d"
      },
      "execution_count": 63,
      "outputs": [
        {
          "output_type": "execute_result",
          "data": {
            "text/plain": [
              "0"
            ]
          },
          "metadata": {},
          "execution_count": 63
        }
      ]
    },
    {
      "cell_type": "markdown",
      "source": [
        "### cross_val_score로 하이퍼 파라미터 찾는 방법"
      ],
      "metadata": {
        "id": "GzW1ZRviDak7"
      }
    },
    {
      "cell_type": "code",
      "source": [
        "from sklearn.model_selection import cross_val_score"
      ],
      "metadata": {
        "id": "QG0PZV8gDznm"
      },
      "execution_count": 64,
      "outputs": []
    },
    {
      "cell_type": "code",
      "source": [
        "# 이 방법은 모든 데이터를 사용하기 때문에 위의 temp 방식보다 많이 사용한다.\n",
        "temp2 = []\n",
        "for i in range(1, 20) :\n",
        "  temp2.append(cross_val_score(KNeighborsClassifier(n_neighbors = i), iris.iloc[:, :-1], iris.target).mean())"
      ],
      "metadata": {
        "id": "yWmQCzKdDenB"
      },
      "execution_count": 69,
      "outputs": []
    },
    {
      "cell_type": "code",
      "source": [
        "print(temp2)"
      ],
      "metadata": {
        "colab": {
          "base_uri": "https://localhost:8080/"
        },
        "id": "RX15cMIKEseo",
        "outputId": "0daa0129-e624-4345-aac4-af54f224c4e3"
      },
      "execution_count": 71,
      "outputs": [
        {
          "output_type": "stream",
          "name": "stdout",
          "text": [
            "[0.96, 0.9466666666666665, 0.9666666666666668, 0.9733333333333334, 0.9733333333333334, 0.9800000000000001, 0.9800000000000001, 0.9666666666666668, 0.9733333333333334, 0.9800000000000001, 0.9800000000000001, 0.9800000000000001, 0.9733333333333334, 0.9666666666666666, 0.9666666666666668, 0.9666666666666668, 0.9666666666666668, 0.9666666666666666, 0.9666666666666668]\n"
          ]
        }
      ]
    },
    {
      "cell_type": "code",
      "source": [
        "# temp와 최적의 하이퍼 파라미터가 다르게 나왔다.\n",
        "np.argmax(temp2)"
      ],
      "metadata": {
        "colab": {
          "base_uri": "https://localhost:8080/"
        },
        "id": "tUga1B17FqZ_",
        "outputId": "0ccfe96a-8dd9-41e1-dadb-cba9b743457d"
      },
      "execution_count": 72,
      "outputs": [
        {
          "output_type": "execute_result",
          "data": {
            "text/plain": [
              "5"
            ]
          },
          "metadata": {},
          "execution_count": 72
        }
      ]
    },
    {
      "cell_type": "code",
      "source": [
        "# 찾아낸 하이퍼 파라미터로 최종 모델을 만든다.\n",
        "# 최종 모델은 모든 데이터를 써서 학습한다.\n",
        "knn_final = KNeighborsClassifier(n_neighbors = 6)\n",
        "knn_final.fit(iris.iloc[:, :-1], iris.target)"
      ],
      "metadata": {
        "colab": {
          "base_uri": "https://localhost:8080/"
        },
        "id": "SfUa3XPKGAMI",
        "outputId": "bd5e5845-4625-4ca1-f9f6-354ace3b38c6"
      },
      "execution_count": 73,
      "outputs": [
        {
          "output_type": "execute_result",
          "data": {
            "text/plain": [
              "KNeighborsClassifier(n_neighbors=6)"
            ]
          },
          "metadata": {},
          "execution_count": 73
        }
      ]
    },
    {
      "cell_type": "markdown",
      "source": [
        "### GridSearchCV\n",
        "\n",
        "- scikit-learn에서 하이퍼 파라미터를 편하게 찾는 방법을 제공하고 있는 기능이다."
      ],
      "metadata": {
        "id": "4mlCi6fDKVAx"
      }
    },
    {
      "cell_type": "code",
      "source": [
        "from sklearn.model_selection import GridSearchCV"
      ],
      "metadata": {
        "id": "h4AgILAiKZY3"
      },
      "execution_count": 75,
      "outputs": []
    },
    {
      "cell_type": "code",
      "source": [
        "knn = KNeighborsClassifier()\n",
        "# scikit-learn의 알고리즘들은 get_params를 공통적으로 가지고 있다.\n",
        "# 알고리즘이 사용할 수 있는 하이퍼 파라미터를 알려준다.\n",
        "knn.get_params()"
      ],
      "metadata": {
        "colab": {
          "base_uri": "https://localhost:8080/"
        },
        "id": "TteO62DHKujl",
        "outputId": "e1ab5ae9-b203-4985-beff-aca19fc92ee5"
      },
      "execution_count": 78,
      "outputs": [
        {
          "output_type": "execute_result",
          "data": {
            "text/plain": [
              "{'algorithm': 'auto',\n",
              " 'leaf_size': 30,\n",
              " 'metric': 'minkowski',\n",
              " 'metric_params': None,\n",
              " 'n_jobs': None,\n",
              " 'n_neighbors': 5,\n",
              " 'p': 2,\n",
              " 'weights': 'uniform'}"
            ]
          },
          "metadata": {},
          "execution_count": 78
        }
      ]
    },
    {
      "cell_type": "code",
      "source": [
        "# param_grid의 key는 get_params에 나오는 하이퍼 파라미터만 쓸 수 있다.\n",
        "# param_grid의 value는 테스트해 볼 하이퍼 파라미터를 리스트로 넣는다.\n",
        "grid = GridSearchCV(KNeighborsClassifier(), {'n_neighbors' : [2, 3, 4, 5, 6, 7]})"
      ],
      "metadata": {
        "id": "kmv9S_IiLTAN"
      },
      "execution_count": 81,
      "outputs": []
    },
    {
      "cell_type": "code",
      "source": [
        "grid.fit(iris.iloc[:, :-1], iris.target)"
      ],
      "metadata": {
        "colab": {
          "base_uri": "https://localhost:8080/"
        },
        "id": "4gGRuI8NL2sv",
        "outputId": "3bf1f1cb-d292-4ff0-986d-819d67b9a2ed"
      },
      "execution_count": 82,
      "outputs": [
        {
          "output_type": "execute_result",
          "data": {
            "text/plain": [
              "GridSearchCV(estimator=KNeighborsClassifier(),\n",
              "             param_grid={'n_neighbors': [2, 3, 4, 5, 6, 7]})"
            ]
          },
          "metadata": {},
          "execution_count": 82
        }
      ]
    },
    {
      "cell_type": "code",
      "source": [
        "# 가장 좋은 하이퍼 파라미터를 한 번에 찾아 준다.\n",
        "grid.best_params_"
      ],
      "metadata": {
        "colab": {
          "base_uri": "https://localhost:8080/"
        },
        "id": "4aBIzfp1MDLf",
        "outputId": "4521cd4f-a862-48a7-ff33-c5d4a584d8c1"
      },
      "execution_count": 85,
      "outputs": [
        {
          "output_type": "execute_result",
          "data": {
            "text/plain": [
              "{'n_neighbors': 6}"
            ]
          },
          "metadata": {},
          "execution_count": 85
        }
      ]
    },
    {
      "cell_type": "code",
      "source": [
        "grid.best_score_"
      ],
      "metadata": {
        "colab": {
          "base_uri": "https://localhost:8080/"
        },
        "id": "5N7uZhvwMOIv",
        "outputId": "f62c573d-07fc-4eac-c9ed-c5586f257293"
      },
      "execution_count": 86,
      "outputs": [
        {
          "output_type": "execute_result",
          "data": {
            "text/plain": [
              "0.9800000000000001"
            ]
          },
          "metadata": {},
          "execution_count": 86
        }
      ]
    },
    {
      "cell_type": "code",
      "source": [
        "# grid search한결과를 총 정리해 준다.\n",
        "print(grid.cv_results_)"
      ],
      "metadata": {
        "colab": {
          "base_uri": "https://localhost:8080/"
        },
        "id": "eUm8EkNnMda0",
        "outputId": "b57f8667-d588-4efb-ff7e-b0f940c6d1fe"
      },
      "execution_count": 90,
      "outputs": [
        {
          "output_type": "stream",
          "name": "stdout",
          "text": [
            "{'mean_fit_time': array([0.00280333, 0.00168076, 0.0019124 , 0.00189214, 0.00167556,\n",
            "       0.00168958]), 'std_fit_time': array([2.10847107e-03, 1.94667565e-05, 4.46898119e-04, 2.50274577e-04,\n",
            "       1.80351639e-05, 1.84694242e-05]), 'mean_score_time': array([0.00264587, 0.00253592, 0.00282888, 0.00268831, 0.0024961 ,\n",
            "       0.00252938]), 'std_score_time': array([3.07151486e-04, 1.11239333e-04, 4.02057697e-04, 3.10159667e-04,\n",
            "       7.87950860e-06, 8.12525481e-05]), 'param_n_neighbors': masked_array(data=[2, 3, 4, 5, 6, 7],\n",
            "             mask=[False, False, False, False, False, False],\n",
            "       fill_value='?',\n",
            "            dtype=object), 'params': [{'n_neighbors': 2}, {'n_neighbors': 3}, {'n_neighbors': 4}, {'n_neighbors': 5}, {'n_neighbors': 6}, {'n_neighbors': 7}], 'split0_test_score': array([0.96666667, 0.96666667, 0.96666667, 0.96666667, 0.96666667,\n",
            "       0.96666667]), 'split1_test_score': array([0.93333333, 0.96666667, 0.96666667, 1.        , 1.        ,\n",
            "       1.        ]), 'split2_test_score': array([0.93333333, 0.93333333, 0.96666667, 0.93333333, 0.96666667,\n",
            "       0.96666667]), 'split3_test_score': array([0.9       , 0.96666667, 0.96666667, 0.96666667, 0.96666667,\n",
            "       0.96666667]), 'split4_test_score': array([1., 1., 1., 1., 1., 1.]), 'mean_test_score': array([0.94666667, 0.96666667, 0.97333333, 0.97333333, 0.98      ,\n",
            "       0.98      ]), 'std_test_score': array([0.03399346, 0.02108185, 0.01333333, 0.02494438, 0.01632993,\n",
            "       0.01632993]), 'rank_test_score': array([6, 5, 3, 3, 1, 1], dtype=int32)}\n"
          ]
        }
      ]
    },
    {
      "cell_type": "code",
      "source": [
        "# cv_results_의 결과를 pandas로 만들어 전치(T)해서 살펴보면 편하다.\n",
        "pd.DataFrame(grid.cv_results_).T"
      ],
      "metadata": {
        "colab": {
          "base_uri": "https://localhost:8080/",
          "height": 488
        },
        "id": "gG_PdnusNtkO",
        "outputId": "78123232-5e4a-4f21-e9b8-f61a735d6f9f"
      },
      "execution_count": 91,
      "outputs": [
        {
          "output_type": "execute_result",
          "data": {
            "text/plain": [
              "                                    0                   1                   2  \\\n",
              "mean_fit_time                0.002803            0.001681            0.001912   \n",
              "std_fit_time                 0.002108            0.000019            0.000447   \n",
              "mean_score_time              0.002646            0.002536            0.002829   \n",
              "std_score_time               0.000307            0.000111            0.000402   \n",
              "param_n_neighbors                   2                   3                   4   \n",
              "params             {'n_neighbors': 2}  {'n_neighbors': 3}  {'n_neighbors': 4}   \n",
              "split0_test_score            0.966667            0.966667            0.966667   \n",
              "split1_test_score            0.933333            0.966667            0.966667   \n",
              "split2_test_score            0.933333            0.933333            0.966667   \n",
              "split3_test_score                 0.9            0.966667            0.966667   \n",
              "split4_test_score                 1.0                 1.0                 1.0   \n",
              "mean_test_score              0.946667            0.966667            0.973333   \n",
              "std_test_score               0.033993            0.021082            0.013333   \n",
              "rank_test_score                     6                   5                   3   \n",
              "\n",
              "                                    3                   4                   5  \n",
              "mean_fit_time                0.001892            0.001676             0.00169  \n",
              "std_fit_time                  0.00025            0.000018            0.000018  \n",
              "mean_score_time              0.002688            0.002496            0.002529  \n",
              "std_score_time                0.00031            0.000008            0.000081  \n",
              "param_n_neighbors                   5                   6                   7  \n",
              "params             {'n_neighbors': 5}  {'n_neighbors': 6}  {'n_neighbors': 7}  \n",
              "split0_test_score            0.966667            0.966667            0.966667  \n",
              "split1_test_score                 1.0                 1.0                 1.0  \n",
              "split2_test_score            0.933333            0.966667            0.966667  \n",
              "split3_test_score            0.966667            0.966667            0.966667  \n",
              "split4_test_score                 1.0                 1.0                 1.0  \n",
              "mean_test_score              0.973333                0.98                0.98  \n",
              "std_test_score               0.024944             0.01633             0.01633  \n",
              "rank_test_score                     3                   1                   1  "
            ],
            "text/html": [
              "\n",
              "  <div id=\"df-7bd0bb63-49f7-4ca2-86a5-170a5e6d6fa1\">\n",
              "    <div class=\"colab-df-container\">\n",
              "      <div>\n",
              "<style scoped>\n",
              "    .dataframe tbody tr th:only-of-type {\n",
              "        vertical-align: middle;\n",
              "    }\n",
              "\n",
              "    .dataframe tbody tr th {\n",
              "        vertical-align: top;\n",
              "    }\n",
              "\n",
              "    .dataframe thead th {\n",
              "        text-align: right;\n",
              "    }\n",
              "</style>\n",
              "<table border=\"1\" class=\"dataframe\">\n",
              "  <thead>\n",
              "    <tr style=\"text-align: right;\">\n",
              "      <th></th>\n",
              "      <th>0</th>\n",
              "      <th>1</th>\n",
              "      <th>2</th>\n",
              "      <th>3</th>\n",
              "      <th>4</th>\n",
              "      <th>5</th>\n",
              "    </tr>\n",
              "  </thead>\n",
              "  <tbody>\n",
              "    <tr>\n",
              "      <th>mean_fit_time</th>\n",
              "      <td>0.002803</td>\n",
              "      <td>0.001681</td>\n",
              "      <td>0.001912</td>\n",
              "      <td>0.001892</td>\n",
              "      <td>0.001676</td>\n",
              "      <td>0.00169</td>\n",
              "    </tr>\n",
              "    <tr>\n",
              "      <th>std_fit_time</th>\n",
              "      <td>0.002108</td>\n",
              "      <td>0.000019</td>\n",
              "      <td>0.000447</td>\n",
              "      <td>0.00025</td>\n",
              "      <td>0.000018</td>\n",
              "      <td>0.000018</td>\n",
              "    </tr>\n",
              "    <tr>\n",
              "      <th>mean_score_time</th>\n",
              "      <td>0.002646</td>\n",
              "      <td>0.002536</td>\n",
              "      <td>0.002829</td>\n",
              "      <td>0.002688</td>\n",
              "      <td>0.002496</td>\n",
              "      <td>0.002529</td>\n",
              "    </tr>\n",
              "    <tr>\n",
              "      <th>std_score_time</th>\n",
              "      <td>0.000307</td>\n",
              "      <td>0.000111</td>\n",
              "      <td>0.000402</td>\n",
              "      <td>0.00031</td>\n",
              "      <td>0.000008</td>\n",
              "      <td>0.000081</td>\n",
              "    </tr>\n",
              "    <tr>\n",
              "      <th>param_n_neighbors</th>\n",
              "      <td>2</td>\n",
              "      <td>3</td>\n",
              "      <td>4</td>\n",
              "      <td>5</td>\n",
              "      <td>6</td>\n",
              "      <td>7</td>\n",
              "    </tr>\n",
              "    <tr>\n",
              "      <th>params</th>\n",
              "      <td>{'n_neighbors': 2}</td>\n",
              "      <td>{'n_neighbors': 3}</td>\n",
              "      <td>{'n_neighbors': 4}</td>\n",
              "      <td>{'n_neighbors': 5}</td>\n",
              "      <td>{'n_neighbors': 6}</td>\n",
              "      <td>{'n_neighbors': 7}</td>\n",
              "    </tr>\n",
              "    <tr>\n",
              "      <th>split0_test_score</th>\n",
              "      <td>0.966667</td>\n",
              "      <td>0.966667</td>\n",
              "      <td>0.966667</td>\n",
              "      <td>0.966667</td>\n",
              "      <td>0.966667</td>\n",
              "      <td>0.966667</td>\n",
              "    </tr>\n",
              "    <tr>\n",
              "      <th>split1_test_score</th>\n",
              "      <td>0.933333</td>\n",
              "      <td>0.966667</td>\n",
              "      <td>0.966667</td>\n",
              "      <td>1.0</td>\n",
              "      <td>1.0</td>\n",
              "      <td>1.0</td>\n",
              "    </tr>\n",
              "    <tr>\n",
              "      <th>split2_test_score</th>\n",
              "      <td>0.933333</td>\n",
              "      <td>0.933333</td>\n",
              "      <td>0.966667</td>\n",
              "      <td>0.933333</td>\n",
              "      <td>0.966667</td>\n",
              "      <td>0.966667</td>\n",
              "    </tr>\n",
              "    <tr>\n",
              "      <th>split3_test_score</th>\n",
              "      <td>0.9</td>\n",
              "      <td>0.966667</td>\n",
              "      <td>0.966667</td>\n",
              "      <td>0.966667</td>\n",
              "      <td>0.966667</td>\n",
              "      <td>0.966667</td>\n",
              "    </tr>\n",
              "    <tr>\n",
              "      <th>split4_test_score</th>\n",
              "      <td>1.0</td>\n",
              "      <td>1.0</td>\n",
              "      <td>1.0</td>\n",
              "      <td>1.0</td>\n",
              "      <td>1.0</td>\n",
              "      <td>1.0</td>\n",
              "    </tr>\n",
              "    <tr>\n",
              "      <th>mean_test_score</th>\n",
              "      <td>0.946667</td>\n",
              "      <td>0.966667</td>\n",
              "      <td>0.973333</td>\n",
              "      <td>0.973333</td>\n",
              "      <td>0.98</td>\n",
              "      <td>0.98</td>\n",
              "    </tr>\n",
              "    <tr>\n",
              "      <th>std_test_score</th>\n",
              "      <td>0.033993</td>\n",
              "      <td>0.021082</td>\n",
              "      <td>0.013333</td>\n",
              "      <td>0.024944</td>\n",
              "      <td>0.01633</td>\n",
              "      <td>0.01633</td>\n",
              "    </tr>\n",
              "    <tr>\n",
              "      <th>rank_test_score</th>\n",
              "      <td>6</td>\n",
              "      <td>5</td>\n",
              "      <td>3</td>\n",
              "      <td>3</td>\n",
              "      <td>1</td>\n",
              "      <td>1</td>\n",
              "    </tr>\n",
              "  </tbody>\n",
              "</table>\n",
              "</div>\n",
              "      <button class=\"colab-df-convert\" onclick=\"convertToInteractive('df-7bd0bb63-49f7-4ca2-86a5-170a5e6d6fa1')\"\n",
              "              title=\"Convert this dataframe to an interactive table.\"\n",
              "              style=\"display:none;\">\n",
              "        \n",
              "  <svg xmlns=\"http://www.w3.org/2000/svg\" height=\"24px\"viewBox=\"0 0 24 24\"\n",
              "       width=\"24px\">\n",
              "    <path d=\"M0 0h24v24H0V0z\" fill=\"none\"/>\n",
              "    <path d=\"M18.56 5.44l.94 2.06.94-2.06 2.06-.94-2.06-.94-.94-2.06-.94 2.06-2.06.94zm-11 1L8.5 8.5l.94-2.06 2.06-.94-2.06-.94L8.5 2.5l-.94 2.06-2.06.94zm10 10l.94 2.06.94-2.06 2.06-.94-2.06-.94-.94-2.06-.94 2.06-2.06.94z\"/><path d=\"M17.41 7.96l-1.37-1.37c-.4-.4-.92-.59-1.43-.59-.52 0-1.04.2-1.43.59L10.3 9.45l-7.72 7.72c-.78.78-.78 2.05 0 2.83L4 21.41c.39.39.9.59 1.41.59.51 0 1.02-.2 1.41-.59l7.78-7.78 2.81-2.81c.8-.78.8-2.07 0-2.86zM5.41 20L4 18.59l7.72-7.72 1.47 1.35L5.41 20z\"/>\n",
              "  </svg>\n",
              "      </button>\n",
              "      \n",
              "  <style>\n",
              "    .colab-df-container {\n",
              "      display:flex;\n",
              "      flex-wrap:wrap;\n",
              "      gap: 12px;\n",
              "    }\n",
              "\n",
              "    .colab-df-convert {\n",
              "      background-color: #E8F0FE;\n",
              "      border: none;\n",
              "      border-radius: 50%;\n",
              "      cursor: pointer;\n",
              "      display: none;\n",
              "      fill: #1967D2;\n",
              "      height: 32px;\n",
              "      padding: 0 0 0 0;\n",
              "      width: 32px;\n",
              "    }\n",
              "\n",
              "    .colab-df-convert:hover {\n",
              "      background-color: #E2EBFA;\n",
              "      box-shadow: 0px 1px 2px rgba(60, 64, 67, 0.3), 0px 1px 3px 1px rgba(60, 64, 67, 0.15);\n",
              "      fill: #174EA6;\n",
              "    }\n",
              "\n",
              "    [theme=dark] .colab-df-convert {\n",
              "      background-color: #3B4455;\n",
              "      fill: #D2E3FC;\n",
              "    }\n",
              "\n",
              "    [theme=dark] .colab-df-convert:hover {\n",
              "      background-color: #434B5C;\n",
              "      box-shadow: 0px 1px 3px 1px rgba(0, 0, 0, 0.15);\n",
              "      filter: drop-shadow(0px 1px 2px rgba(0, 0, 0, 0.3));\n",
              "      fill: #FFFFFF;\n",
              "    }\n",
              "  </style>\n",
              "\n",
              "      <script>\n",
              "        const buttonEl =\n",
              "          document.querySelector('#df-7bd0bb63-49f7-4ca2-86a5-170a5e6d6fa1 button.colab-df-convert');\n",
              "        buttonEl.style.display =\n",
              "          google.colab.kernel.accessAllowed ? 'block' : 'none';\n",
              "\n",
              "        async function convertToInteractive(key) {\n",
              "          const element = document.querySelector('#df-7bd0bb63-49f7-4ca2-86a5-170a5e6d6fa1');\n",
              "          const dataTable =\n",
              "            await google.colab.kernel.invokeFunction('convertToInteractive',\n",
              "                                                     [key], {});\n",
              "          if (!dataTable) return;\n",
              "\n",
              "          const docLinkHtml = 'Like what you see? Visit the ' +\n",
              "            '<a target=\"_blank\" href=https://colab.research.google.com/notebooks/data_table.ipynb>data table notebook</a>'\n",
              "            + ' to learn more about interactive tables.';\n",
              "          element.innerHTML = '';\n",
              "          dataTable['output_type'] = 'display_data';\n",
              "          await google.colab.output.renderOutput(dataTable, element);\n",
              "          const docLink = document.createElement('div');\n",
              "          docLink.innerHTML = docLinkHtml;\n",
              "          element.appendChild(docLink);\n",
              "        }\n",
              "      </script>\n",
              "    </div>\n",
              "  </div>\n",
              "  "
            ]
          },
          "metadata": {},
          "execution_count": 91
        }
      ]
    },
    {
      "cell_type": "code",
      "source": [
        "# 하이퍼 파라미터를 여러개 한번에 찾을 수 있다.\n",
        "grid = GridSearchCV(KNeighborsClassifier(), {'n_neighbors' : [2, 3, 4, 5, 6, 7],\n",
        "                                             'weights' : ['distance', 'uniform']})"
      ],
      "metadata": {
        "id": "Ie1e8CXwOtzg"
      },
      "execution_count": 94,
      "outputs": []
    },
    {
      "cell_type": "code",
      "source": [
        "grid.fit(iris.iloc[:, :-1], iris.target)"
      ],
      "metadata": {
        "colab": {
          "base_uri": "https://localhost:8080/"
        },
        "id": "5MSeGefaPBpp",
        "outputId": "2a16c270-fc74-4cea-a5bd-a87f81e6a28e"
      },
      "execution_count": 95,
      "outputs": [
        {
          "output_type": "execute_result",
          "data": {
            "text/plain": [
              "GridSearchCV(estimator=KNeighborsClassifier(),\n",
              "             param_grid={'n_neighbors': [2, 3, 4, 5, 6, 7],\n",
              "                         'weights': ['distance', 'uniform']})"
            ]
          },
          "metadata": {},
          "execution_count": 95
        }
      ]
    },
    {
      "cell_type": "code",
      "source": [
        "# params를 보면 입력된 하이퍼 파라미터들의 가능한 조합을 모두 계산했다.\n",
        "pd.DataFrame(grid.cv_results_).T"
      ],
      "metadata": {
        "colab": {
          "base_uri": "https://localhost:8080/",
          "height": 598
        },
        "id": "H6NH-6FLPGBD",
        "outputId": "1ea7d820-29e7-499e-d69f-6e9c81547558"
      },
      "execution_count": 96,
      "outputs": [
        {
          "output_type": "execute_result",
          "data": {
            "text/plain": [
              "                                                          0   \\\n",
              "mean_fit_time                                       0.002133   \n",
              "std_fit_time                                        0.000531   \n",
              "mean_score_time                                     0.002271   \n",
              "std_score_time                                      0.000556   \n",
              "param_n_neighbors                                          2   \n",
              "param_weights                                       distance   \n",
              "params             {'n_neighbors': 2, 'weights': 'distance'}   \n",
              "split0_test_score                                   0.966667   \n",
              "split1_test_score                                   0.966667   \n",
              "split2_test_score                                   0.933333   \n",
              "split3_test_score                                   0.933333   \n",
              "split4_test_score                                        1.0   \n",
              "mean_test_score                                         0.96   \n",
              "std_test_score                                      0.024944   \n",
              "rank_test_score                                           11   \n",
              "\n",
              "                                                         1   \\\n",
              "mean_fit_time                                      0.001706   \n",
              "std_fit_time                                       0.000064   \n",
              "mean_score_time                                    0.002526   \n",
              "std_score_time                                     0.000077   \n",
              "param_n_neighbors                                         2   \n",
              "param_weights                                       uniform   \n",
              "params             {'n_neighbors': 2, 'weights': 'uniform'}   \n",
              "split0_test_score                                  0.966667   \n",
              "split1_test_score                                  0.933333   \n",
              "split2_test_score                                  0.933333   \n",
              "split3_test_score                                       0.9   \n",
              "split4_test_score                                       1.0   \n",
              "mean_test_score                                    0.946667   \n",
              "std_test_score                                     0.033993   \n",
              "rank_test_score                                          12   \n",
              "\n",
              "                                                          2   \\\n",
              "mean_fit_time                                       0.001783   \n",
              "std_fit_time                                        0.000112   \n",
              "mean_score_time                                      0.00204   \n",
              "std_score_time                                      0.000197   \n",
              "param_n_neighbors                                          3   \n",
              "param_weights                                       distance   \n",
              "params             {'n_neighbors': 3, 'weights': 'distance'}   \n",
              "split0_test_score                                   0.966667   \n",
              "split1_test_score                                   0.966667   \n",
              "split2_test_score                                   0.933333   \n",
              "split3_test_score                                   0.966667   \n",
              "split4_test_score                                        1.0   \n",
              "mean_test_score                                     0.966667   \n",
              "std_test_score                                      0.021082   \n",
              "rank_test_score                                            7   \n",
              "\n",
              "                                                         3   \\\n",
              "mean_fit_time                                      0.001698   \n",
              "std_fit_time                                       0.000013   \n",
              "mean_score_time                                    0.002489   \n",
              "std_score_time                                     0.000012   \n",
              "param_n_neighbors                                         3   \n",
              "param_weights                                       uniform   \n",
              "params             {'n_neighbors': 3, 'weights': 'uniform'}   \n",
              "split0_test_score                                  0.966667   \n",
              "split1_test_score                                  0.966667   \n",
              "split2_test_score                                  0.933333   \n",
              "split3_test_score                                  0.966667   \n",
              "split4_test_score                                       1.0   \n",
              "mean_test_score                                    0.966667   \n",
              "std_test_score                                     0.021082   \n",
              "rank_test_score                                           7   \n",
              "\n",
              "                                                          4   \\\n",
              "mean_fit_time                                       0.001702   \n",
              "std_fit_time                                        0.000044   \n",
              "mean_score_time                                      0.00192   \n",
              "std_score_time                                      0.000145   \n",
              "param_n_neighbors                                          4   \n",
              "param_weights                                       distance   \n",
              "params             {'n_neighbors': 4, 'weights': 'distance'}   \n",
              "split0_test_score                                   0.966667   \n",
              "split1_test_score                                   0.966667   \n",
              "split2_test_score                                   0.933333   \n",
              "split3_test_score                                   0.966667   \n",
              "split4_test_score                                        1.0   \n",
              "mean_test_score                                     0.966667   \n",
              "std_test_score                                      0.021082   \n",
              "rank_test_score                                            7   \n",
              "\n",
              "                                                         5   \\\n",
              "mean_fit_time                                       0.00186   \n",
              "std_fit_time                                       0.000143   \n",
              "mean_score_time                                    0.002737   \n",
              "std_score_time                                      0.00038   \n",
              "param_n_neighbors                                         4   \n",
              "param_weights                                       uniform   \n",
              "params             {'n_neighbors': 4, 'weights': 'uniform'}   \n",
              "split0_test_score                                  0.966667   \n",
              "split1_test_score                                  0.966667   \n",
              "split2_test_score                                  0.966667   \n",
              "split3_test_score                                  0.966667   \n",
              "split4_test_score                                       1.0   \n",
              "mean_test_score                                    0.973333   \n",
              "std_test_score                                     0.013333   \n",
              "rank_test_score                                           5   \n",
              "\n",
              "                                                          6   \\\n",
              "mean_fit_time                                       0.002109   \n",
              "std_fit_time                                        0.000397   \n",
              "mean_score_time                                     0.002203   \n",
              "std_score_time                                      0.000276   \n",
              "param_n_neighbors                                          5   \n",
              "param_weights                                       distance   \n",
              "params             {'n_neighbors': 5, 'weights': 'distance'}   \n",
              "split0_test_score                                   0.966667   \n",
              "split1_test_score                                        1.0   \n",
              "split2_test_score                                        0.9   \n",
              "split3_test_score                                   0.966667   \n",
              "split4_test_score                                        1.0   \n",
              "mean_test_score                                     0.966667   \n",
              "std_test_score                                      0.036515   \n",
              "rank_test_score                                            7   \n",
              "\n",
              "                                                         7   \\\n",
              "mean_fit_time                                      0.001702   \n",
              "std_fit_time                                       0.000037   \n",
              "mean_score_time                                    0.002557   \n",
              "std_score_time                                     0.000097   \n",
              "param_n_neighbors                                         5   \n",
              "param_weights                                       uniform   \n",
              "params             {'n_neighbors': 5, 'weights': 'uniform'}   \n",
              "split0_test_score                                  0.966667   \n",
              "split1_test_score                                       1.0   \n",
              "split2_test_score                                  0.933333   \n",
              "split3_test_score                                  0.966667   \n",
              "split4_test_score                                       1.0   \n",
              "mean_test_score                                    0.973333   \n",
              "std_test_score                                     0.024944   \n",
              "rank_test_score                                           5   \n",
              "\n",
              "                                                          8   \\\n",
              "mean_fit_time                                       0.001689   \n",
              "std_fit_time                                        0.000046   \n",
              "mean_score_time                                     0.001805   \n",
              "std_score_time                                      0.000017   \n",
              "param_n_neighbors                                          6   \n",
              "param_weights                                       distance   \n",
              "params             {'n_neighbors': 6, 'weights': 'distance'}   \n",
              "split0_test_score                                   0.966667   \n",
              "split1_test_score                                        1.0   \n",
              "split2_test_score                                   0.966667   \n",
              "split3_test_score                                   0.966667   \n",
              "split4_test_score                                        1.0   \n",
              "mean_test_score                                         0.98   \n",
              "std_test_score                                       0.01633   \n",
              "rank_test_score                                            1   \n",
              "\n",
              "                                                         9   \\\n",
              "mean_fit_time                                      0.001701   \n",
              "std_fit_time                                       0.000054   \n",
              "mean_score_time                                    0.002556   \n",
              "std_score_time                                     0.000125   \n",
              "param_n_neighbors                                         6   \n",
              "param_weights                                       uniform   \n",
              "params             {'n_neighbors': 6, 'weights': 'uniform'}   \n",
              "split0_test_score                                  0.966667   \n",
              "split1_test_score                                       1.0   \n",
              "split2_test_score                                  0.966667   \n",
              "split3_test_score                                  0.966667   \n",
              "split4_test_score                                       1.0   \n",
              "mean_test_score                                        0.98   \n",
              "std_test_score                                      0.01633   \n",
              "rank_test_score                                           1   \n",
              "\n",
              "                                                          10  \\\n",
              "mean_fit_time                                       0.001681   \n",
              "std_fit_time                                        0.000013   \n",
              "mean_score_time                                     0.001872   \n",
              "std_score_time                                      0.000089   \n",
              "param_n_neighbors                                          7   \n",
              "param_weights                                       distance   \n",
              "params             {'n_neighbors': 7, 'weights': 'distance'}   \n",
              "split0_test_score                                   0.966667   \n",
              "split1_test_score                                        1.0   \n",
              "split2_test_score                                   0.966667   \n",
              "split3_test_score                                   0.966667   \n",
              "split4_test_score                                        1.0   \n",
              "mean_test_score                                         0.98   \n",
              "std_test_score                                       0.01633   \n",
              "rank_test_score                                            1   \n",
              "\n",
              "                                                         11  \n",
              "mean_fit_time                                      0.001688  \n",
              "std_fit_time                                        0.00001  \n",
              "mean_score_time                                    0.002516  \n",
              "std_score_time                                     0.000025  \n",
              "param_n_neighbors                                         7  \n",
              "param_weights                                       uniform  \n",
              "params             {'n_neighbors': 7, 'weights': 'uniform'}  \n",
              "split0_test_score                                  0.966667  \n",
              "split1_test_score                                       1.0  \n",
              "split2_test_score                                  0.966667  \n",
              "split3_test_score                                  0.966667  \n",
              "split4_test_score                                       1.0  \n",
              "mean_test_score                                        0.98  \n",
              "std_test_score                                      0.01633  \n",
              "rank_test_score                                           1  "
            ],
            "text/html": [
              "\n",
              "  <div id=\"df-fb446630-a41d-4bf3-8de7-2d56f1378376\">\n",
              "    <div class=\"colab-df-container\">\n",
              "      <div>\n",
              "<style scoped>\n",
              "    .dataframe tbody tr th:only-of-type {\n",
              "        vertical-align: middle;\n",
              "    }\n",
              "\n",
              "    .dataframe tbody tr th {\n",
              "        vertical-align: top;\n",
              "    }\n",
              "\n",
              "    .dataframe thead th {\n",
              "        text-align: right;\n",
              "    }\n",
              "</style>\n",
              "<table border=\"1\" class=\"dataframe\">\n",
              "  <thead>\n",
              "    <tr style=\"text-align: right;\">\n",
              "      <th></th>\n",
              "      <th>0</th>\n",
              "      <th>1</th>\n",
              "      <th>2</th>\n",
              "      <th>3</th>\n",
              "      <th>4</th>\n",
              "      <th>5</th>\n",
              "      <th>6</th>\n",
              "      <th>7</th>\n",
              "      <th>8</th>\n",
              "      <th>9</th>\n",
              "      <th>10</th>\n",
              "      <th>11</th>\n",
              "    </tr>\n",
              "  </thead>\n",
              "  <tbody>\n",
              "    <tr>\n",
              "      <th>mean_fit_time</th>\n",
              "      <td>0.002133</td>\n",
              "      <td>0.001706</td>\n",
              "      <td>0.001783</td>\n",
              "      <td>0.001698</td>\n",
              "      <td>0.001702</td>\n",
              "      <td>0.00186</td>\n",
              "      <td>0.002109</td>\n",
              "      <td>0.001702</td>\n",
              "      <td>0.001689</td>\n",
              "      <td>0.001701</td>\n",
              "      <td>0.001681</td>\n",
              "      <td>0.001688</td>\n",
              "    </tr>\n",
              "    <tr>\n",
              "      <th>std_fit_time</th>\n",
              "      <td>0.000531</td>\n",
              "      <td>0.000064</td>\n",
              "      <td>0.000112</td>\n",
              "      <td>0.000013</td>\n",
              "      <td>0.000044</td>\n",
              "      <td>0.000143</td>\n",
              "      <td>0.000397</td>\n",
              "      <td>0.000037</td>\n",
              "      <td>0.000046</td>\n",
              "      <td>0.000054</td>\n",
              "      <td>0.000013</td>\n",
              "      <td>0.00001</td>\n",
              "    </tr>\n",
              "    <tr>\n",
              "      <th>mean_score_time</th>\n",
              "      <td>0.002271</td>\n",
              "      <td>0.002526</td>\n",
              "      <td>0.00204</td>\n",
              "      <td>0.002489</td>\n",
              "      <td>0.00192</td>\n",
              "      <td>0.002737</td>\n",
              "      <td>0.002203</td>\n",
              "      <td>0.002557</td>\n",
              "      <td>0.001805</td>\n",
              "      <td>0.002556</td>\n",
              "      <td>0.001872</td>\n",
              "      <td>0.002516</td>\n",
              "    </tr>\n",
              "    <tr>\n",
              "      <th>std_score_time</th>\n",
              "      <td>0.000556</td>\n",
              "      <td>0.000077</td>\n",
              "      <td>0.000197</td>\n",
              "      <td>0.000012</td>\n",
              "      <td>0.000145</td>\n",
              "      <td>0.00038</td>\n",
              "      <td>0.000276</td>\n",
              "      <td>0.000097</td>\n",
              "      <td>0.000017</td>\n",
              "      <td>0.000125</td>\n",
              "      <td>0.000089</td>\n",
              "      <td>0.000025</td>\n",
              "    </tr>\n",
              "    <tr>\n",
              "      <th>param_n_neighbors</th>\n",
              "      <td>2</td>\n",
              "      <td>2</td>\n",
              "      <td>3</td>\n",
              "      <td>3</td>\n",
              "      <td>4</td>\n",
              "      <td>4</td>\n",
              "      <td>5</td>\n",
              "      <td>5</td>\n",
              "      <td>6</td>\n",
              "      <td>6</td>\n",
              "      <td>7</td>\n",
              "      <td>7</td>\n",
              "    </tr>\n",
              "    <tr>\n",
              "      <th>param_weights</th>\n",
              "      <td>distance</td>\n",
              "      <td>uniform</td>\n",
              "      <td>distance</td>\n",
              "      <td>uniform</td>\n",
              "      <td>distance</td>\n",
              "      <td>uniform</td>\n",
              "      <td>distance</td>\n",
              "      <td>uniform</td>\n",
              "      <td>distance</td>\n",
              "      <td>uniform</td>\n",
              "      <td>distance</td>\n",
              "      <td>uniform</td>\n",
              "    </tr>\n",
              "    <tr>\n",
              "      <th>params</th>\n",
              "      <td>{'n_neighbors': 2, 'weights': 'distance'}</td>\n",
              "      <td>{'n_neighbors': 2, 'weights': 'uniform'}</td>\n",
              "      <td>{'n_neighbors': 3, 'weights': 'distance'}</td>\n",
              "      <td>{'n_neighbors': 3, 'weights': 'uniform'}</td>\n",
              "      <td>{'n_neighbors': 4, 'weights': 'distance'}</td>\n",
              "      <td>{'n_neighbors': 4, 'weights': 'uniform'}</td>\n",
              "      <td>{'n_neighbors': 5, 'weights': 'distance'}</td>\n",
              "      <td>{'n_neighbors': 5, 'weights': 'uniform'}</td>\n",
              "      <td>{'n_neighbors': 6, 'weights': 'distance'}</td>\n",
              "      <td>{'n_neighbors': 6, 'weights': 'uniform'}</td>\n",
              "      <td>{'n_neighbors': 7, 'weights': 'distance'}</td>\n",
              "      <td>{'n_neighbors': 7, 'weights': 'uniform'}</td>\n",
              "    </tr>\n",
              "    <tr>\n",
              "      <th>split0_test_score</th>\n",
              "      <td>0.966667</td>\n",
              "      <td>0.966667</td>\n",
              "      <td>0.966667</td>\n",
              "      <td>0.966667</td>\n",
              "      <td>0.966667</td>\n",
              "      <td>0.966667</td>\n",
              "      <td>0.966667</td>\n",
              "      <td>0.966667</td>\n",
              "      <td>0.966667</td>\n",
              "      <td>0.966667</td>\n",
              "      <td>0.966667</td>\n",
              "      <td>0.966667</td>\n",
              "    </tr>\n",
              "    <tr>\n",
              "      <th>split1_test_score</th>\n",
              "      <td>0.966667</td>\n",
              "      <td>0.933333</td>\n",
              "      <td>0.966667</td>\n",
              "      <td>0.966667</td>\n",
              "      <td>0.966667</td>\n",
              "      <td>0.966667</td>\n",
              "      <td>1.0</td>\n",
              "      <td>1.0</td>\n",
              "      <td>1.0</td>\n",
              "      <td>1.0</td>\n",
              "      <td>1.0</td>\n",
              "      <td>1.0</td>\n",
              "    </tr>\n",
              "    <tr>\n",
              "      <th>split2_test_score</th>\n",
              "      <td>0.933333</td>\n",
              "      <td>0.933333</td>\n",
              "      <td>0.933333</td>\n",
              "      <td>0.933333</td>\n",
              "      <td>0.933333</td>\n",
              "      <td>0.966667</td>\n",
              "      <td>0.9</td>\n",
              "      <td>0.933333</td>\n",
              "      <td>0.966667</td>\n",
              "      <td>0.966667</td>\n",
              "      <td>0.966667</td>\n",
              "      <td>0.966667</td>\n",
              "    </tr>\n",
              "    <tr>\n",
              "      <th>split3_test_score</th>\n",
              "      <td>0.933333</td>\n",
              "      <td>0.9</td>\n",
              "      <td>0.966667</td>\n",
              "      <td>0.966667</td>\n",
              "      <td>0.966667</td>\n",
              "      <td>0.966667</td>\n",
              "      <td>0.966667</td>\n",
              "      <td>0.966667</td>\n",
              "      <td>0.966667</td>\n",
              "      <td>0.966667</td>\n",
              "      <td>0.966667</td>\n",
              "      <td>0.966667</td>\n",
              "    </tr>\n",
              "    <tr>\n",
              "      <th>split4_test_score</th>\n",
              "      <td>1.0</td>\n",
              "      <td>1.0</td>\n",
              "      <td>1.0</td>\n",
              "      <td>1.0</td>\n",
              "      <td>1.0</td>\n",
              "      <td>1.0</td>\n",
              "      <td>1.0</td>\n",
              "      <td>1.0</td>\n",
              "      <td>1.0</td>\n",
              "      <td>1.0</td>\n",
              "      <td>1.0</td>\n",
              "      <td>1.0</td>\n",
              "    </tr>\n",
              "    <tr>\n",
              "      <th>mean_test_score</th>\n",
              "      <td>0.96</td>\n",
              "      <td>0.946667</td>\n",
              "      <td>0.966667</td>\n",
              "      <td>0.966667</td>\n",
              "      <td>0.966667</td>\n",
              "      <td>0.973333</td>\n",
              "      <td>0.966667</td>\n",
              "      <td>0.973333</td>\n",
              "      <td>0.98</td>\n",
              "      <td>0.98</td>\n",
              "      <td>0.98</td>\n",
              "      <td>0.98</td>\n",
              "    </tr>\n",
              "    <tr>\n",
              "      <th>std_test_score</th>\n",
              "      <td>0.024944</td>\n",
              "      <td>0.033993</td>\n",
              "      <td>0.021082</td>\n",
              "      <td>0.021082</td>\n",
              "      <td>0.021082</td>\n",
              "      <td>0.013333</td>\n",
              "      <td>0.036515</td>\n",
              "      <td>0.024944</td>\n",
              "      <td>0.01633</td>\n",
              "      <td>0.01633</td>\n",
              "      <td>0.01633</td>\n",
              "      <td>0.01633</td>\n",
              "    </tr>\n",
              "    <tr>\n",
              "      <th>rank_test_score</th>\n",
              "      <td>11</td>\n",
              "      <td>12</td>\n",
              "      <td>7</td>\n",
              "      <td>7</td>\n",
              "      <td>7</td>\n",
              "      <td>5</td>\n",
              "      <td>7</td>\n",
              "      <td>5</td>\n",
              "      <td>1</td>\n",
              "      <td>1</td>\n",
              "      <td>1</td>\n",
              "      <td>1</td>\n",
              "    </tr>\n",
              "  </tbody>\n",
              "</table>\n",
              "</div>\n",
              "      <button class=\"colab-df-convert\" onclick=\"convertToInteractive('df-fb446630-a41d-4bf3-8de7-2d56f1378376')\"\n",
              "              title=\"Convert this dataframe to an interactive table.\"\n",
              "              style=\"display:none;\">\n",
              "        \n",
              "  <svg xmlns=\"http://www.w3.org/2000/svg\" height=\"24px\"viewBox=\"0 0 24 24\"\n",
              "       width=\"24px\">\n",
              "    <path d=\"M0 0h24v24H0V0z\" fill=\"none\"/>\n",
              "    <path d=\"M18.56 5.44l.94 2.06.94-2.06 2.06-.94-2.06-.94-.94-2.06-.94 2.06-2.06.94zm-11 1L8.5 8.5l.94-2.06 2.06-.94-2.06-.94L8.5 2.5l-.94 2.06-2.06.94zm10 10l.94 2.06.94-2.06 2.06-.94-2.06-.94-.94-2.06-.94 2.06-2.06.94z\"/><path d=\"M17.41 7.96l-1.37-1.37c-.4-.4-.92-.59-1.43-.59-.52 0-1.04.2-1.43.59L10.3 9.45l-7.72 7.72c-.78.78-.78 2.05 0 2.83L4 21.41c.39.39.9.59 1.41.59.51 0 1.02-.2 1.41-.59l7.78-7.78 2.81-2.81c.8-.78.8-2.07 0-2.86zM5.41 20L4 18.59l7.72-7.72 1.47 1.35L5.41 20z\"/>\n",
              "  </svg>\n",
              "      </button>\n",
              "      \n",
              "  <style>\n",
              "    .colab-df-container {\n",
              "      display:flex;\n",
              "      flex-wrap:wrap;\n",
              "      gap: 12px;\n",
              "    }\n",
              "\n",
              "    .colab-df-convert {\n",
              "      background-color: #E8F0FE;\n",
              "      border: none;\n",
              "      border-radius: 50%;\n",
              "      cursor: pointer;\n",
              "      display: none;\n",
              "      fill: #1967D2;\n",
              "      height: 32px;\n",
              "      padding: 0 0 0 0;\n",
              "      width: 32px;\n",
              "    }\n",
              "\n",
              "    .colab-df-convert:hover {\n",
              "      background-color: #E2EBFA;\n",
              "      box-shadow: 0px 1px 2px rgba(60, 64, 67, 0.3), 0px 1px 3px 1px rgba(60, 64, 67, 0.15);\n",
              "      fill: #174EA6;\n",
              "    }\n",
              "\n",
              "    [theme=dark] .colab-df-convert {\n",
              "      background-color: #3B4455;\n",
              "      fill: #D2E3FC;\n",
              "    }\n",
              "\n",
              "    [theme=dark] .colab-df-convert:hover {\n",
              "      background-color: #434B5C;\n",
              "      box-shadow: 0px 1px 3px 1px rgba(0, 0, 0, 0.15);\n",
              "      filter: drop-shadow(0px 1px 2px rgba(0, 0, 0, 0.3));\n",
              "      fill: #FFFFFF;\n",
              "    }\n",
              "  </style>\n",
              "\n",
              "      <script>\n",
              "        const buttonEl =\n",
              "          document.querySelector('#df-fb446630-a41d-4bf3-8de7-2d56f1378376 button.colab-df-convert');\n",
              "        buttonEl.style.display =\n",
              "          google.colab.kernel.accessAllowed ? 'block' : 'none';\n",
              "\n",
              "        async function convertToInteractive(key) {\n",
              "          const element = document.querySelector('#df-fb446630-a41d-4bf3-8de7-2d56f1378376');\n",
              "          const dataTable =\n",
              "            await google.colab.kernel.invokeFunction('convertToInteractive',\n",
              "                                                     [key], {});\n",
              "          if (!dataTable) return;\n",
              "\n",
              "          const docLinkHtml = 'Like what you see? Visit the ' +\n",
              "            '<a target=\"_blank\" href=https://colab.research.google.com/notebooks/data_table.ipynb>data table notebook</a>'\n",
              "            + ' to learn more about interactive tables.';\n",
              "          element.innerHTML = '';\n",
              "          dataTable['output_type'] = 'display_data';\n",
              "          await google.colab.output.renderOutput(dataTable, element);\n",
              "          const docLink = document.createElement('div');\n",
              "          docLink.innerHTML = docLinkHtml;\n",
              "          element.appendChild(docLink);\n",
              "        }\n",
              "      </script>\n",
              "    </div>\n",
              "  </div>\n",
              "  "
            ]
          },
          "metadata": {},
          "execution_count": 96
        }
      ]
    },
    {
      "cell_type": "markdown",
      "source": [
        "### wine dataset"
      ],
      "metadata": {
        "id": "lDG8uPIYQSs_"
      }
    },
    {
      "cell_type": "code",
      "source": [
        "from sklearn.datasets import load_wine"
      ],
      "metadata": {
        "id": "fSzeVHytQVBE"
      },
      "execution_count": 97,
      "outputs": []
    },
    {
      "cell_type": "code",
      "source": [
        "data = load_wine()"
      ],
      "metadata": {
        "id": "CGuEGhxoQXcr"
      },
      "execution_count": 98,
      "outputs": []
    },
    {
      "cell_type": "code",
      "source": [
        "data_pd = pd.DataFrame(data.data, columns = data.feature_names)\n",
        "data_pd['target'] = pd.DataFrame(data.target, columns = ['target'])"
      ],
      "metadata": {
        "id": "bs7_raf0QYyS"
      },
      "execution_count": 99,
      "outputs": []
    },
    {
      "cell_type": "code",
      "source": [
        "wine = data_pd.copy()"
      ],
      "metadata": {
        "id": "sYSjxvZ0QhyL"
      },
      "execution_count": 101,
      "outputs": []
    },
    {
      "cell_type": "code",
      "source": [
        "wine.head()"
      ],
      "metadata": {
        "colab": {
          "base_uri": "https://localhost:8080/",
          "height": 206
        },
        "id": "_1iYyoDAQmB6",
        "outputId": "684c1abe-d92d-4ae4-9b4b-88d847e6d541"
      },
      "execution_count": 102,
      "outputs": [
        {
          "output_type": "execute_result",
          "data": {
            "text/plain": [
              "   alcohol  malic_acid   ash  alcalinity_of_ash  magnesium  total_phenols  \\\n",
              "0    14.23        1.71  2.43               15.6      127.0           2.80   \n",
              "1    13.20        1.78  2.14               11.2      100.0           2.65   \n",
              "2    13.16        2.36  2.67               18.6      101.0           2.80   \n",
              "3    14.37        1.95  2.50               16.8      113.0           3.85   \n",
              "4    13.24        2.59  2.87               21.0      118.0           2.80   \n",
              "\n",
              "   flavanoids  nonflavanoid_phenols  proanthocyanins  color_intensity   hue  \\\n",
              "0        3.06                  0.28             2.29             5.64  1.04   \n",
              "1        2.76                  0.26             1.28             4.38  1.05   \n",
              "2        3.24                  0.30             2.81             5.68  1.03   \n",
              "3        3.49                  0.24             2.18             7.80  0.86   \n",
              "4        2.69                  0.39             1.82             4.32  1.04   \n",
              "\n",
              "   od280/od315_of_diluted_wines  proline  target  \n",
              "0                          3.92   1065.0       0  \n",
              "1                          3.40   1050.0       0  \n",
              "2                          3.17   1185.0       0  \n",
              "3                          3.45   1480.0       0  \n",
              "4                          2.93    735.0       0  "
            ],
            "text/html": [
              "\n",
              "  <div id=\"df-3bdc018f-473b-4f06-b041-784295349d14\">\n",
              "    <div class=\"colab-df-container\">\n",
              "      <div>\n",
              "<style scoped>\n",
              "    .dataframe tbody tr th:only-of-type {\n",
              "        vertical-align: middle;\n",
              "    }\n",
              "\n",
              "    .dataframe tbody tr th {\n",
              "        vertical-align: top;\n",
              "    }\n",
              "\n",
              "    .dataframe thead th {\n",
              "        text-align: right;\n",
              "    }\n",
              "</style>\n",
              "<table border=\"1\" class=\"dataframe\">\n",
              "  <thead>\n",
              "    <tr style=\"text-align: right;\">\n",
              "      <th></th>\n",
              "      <th>alcohol</th>\n",
              "      <th>malic_acid</th>\n",
              "      <th>ash</th>\n",
              "      <th>alcalinity_of_ash</th>\n",
              "      <th>magnesium</th>\n",
              "      <th>total_phenols</th>\n",
              "      <th>flavanoids</th>\n",
              "      <th>nonflavanoid_phenols</th>\n",
              "      <th>proanthocyanins</th>\n",
              "      <th>color_intensity</th>\n",
              "      <th>hue</th>\n",
              "      <th>od280/od315_of_diluted_wines</th>\n",
              "      <th>proline</th>\n",
              "      <th>target</th>\n",
              "    </tr>\n",
              "  </thead>\n",
              "  <tbody>\n",
              "    <tr>\n",
              "      <th>0</th>\n",
              "      <td>14.23</td>\n",
              "      <td>1.71</td>\n",
              "      <td>2.43</td>\n",
              "      <td>15.6</td>\n",
              "      <td>127.0</td>\n",
              "      <td>2.80</td>\n",
              "      <td>3.06</td>\n",
              "      <td>0.28</td>\n",
              "      <td>2.29</td>\n",
              "      <td>5.64</td>\n",
              "      <td>1.04</td>\n",
              "      <td>3.92</td>\n",
              "      <td>1065.0</td>\n",
              "      <td>0</td>\n",
              "    </tr>\n",
              "    <tr>\n",
              "      <th>1</th>\n",
              "      <td>13.20</td>\n",
              "      <td>1.78</td>\n",
              "      <td>2.14</td>\n",
              "      <td>11.2</td>\n",
              "      <td>100.0</td>\n",
              "      <td>2.65</td>\n",
              "      <td>2.76</td>\n",
              "      <td>0.26</td>\n",
              "      <td>1.28</td>\n",
              "      <td>4.38</td>\n",
              "      <td>1.05</td>\n",
              "      <td>3.40</td>\n",
              "      <td>1050.0</td>\n",
              "      <td>0</td>\n",
              "    </tr>\n",
              "    <tr>\n",
              "      <th>2</th>\n",
              "      <td>13.16</td>\n",
              "      <td>2.36</td>\n",
              "      <td>2.67</td>\n",
              "      <td>18.6</td>\n",
              "      <td>101.0</td>\n",
              "      <td>2.80</td>\n",
              "      <td>3.24</td>\n",
              "      <td>0.30</td>\n",
              "      <td>2.81</td>\n",
              "      <td>5.68</td>\n",
              "      <td>1.03</td>\n",
              "      <td>3.17</td>\n",
              "      <td>1185.0</td>\n",
              "      <td>0</td>\n",
              "    </tr>\n",
              "    <tr>\n",
              "      <th>3</th>\n",
              "      <td>14.37</td>\n",
              "      <td>1.95</td>\n",
              "      <td>2.50</td>\n",
              "      <td>16.8</td>\n",
              "      <td>113.0</td>\n",
              "      <td>3.85</td>\n",
              "      <td>3.49</td>\n",
              "      <td>0.24</td>\n",
              "      <td>2.18</td>\n",
              "      <td>7.80</td>\n",
              "      <td>0.86</td>\n",
              "      <td>3.45</td>\n",
              "      <td>1480.0</td>\n",
              "      <td>0</td>\n",
              "    </tr>\n",
              "    <tr>\n",
              "      <th>4</th>\n",
              "      <td>13.24</td>\n",
              "      <td>2.59</td>\n",
              "      <td>2.87</td>\n",
              "      <td>21.0</td>\n",
              "      <td>118.0</td>\n",
              "      <td>2.80</td>\n",
              "      <td>2.69</td>\n",
              "      <td>0.39</td>\n",
              "      <td>1.82</td>\n",
              "      <td>4.32</td>\n",
              "      <td>1.04</td>\n",
              "      <td>2.93</td>\n",
              "      <td>735.0</td>\n",
              "      <td>0</td>\n",
              "    </tr>\n",
              "  </tbody>\n",
              "</table>\n",
              "</div>\n",
              "      <button class=\"colab-df-convert\" onclick=\"convertToInteractive('df-3bdc018f-473b-4f06-b041-784295349d14')\"\n",
              "              title=\"Convert this dataframe to an interactive table.\"\n",
              "              style=\"display:none;\">\n",
              "        \n",
              "  <svg xmlns=\"http://www.w3.org/2000/svg\" height=\"24px\"viewBox=\"0 0 24 24\"\n",
              "       width=\"24px\">\n",
              "    <path d=\"M0 0h24v24H0V0z\" fill=\"none\"/>\n",
              "    <path d=\"M18.56 5.44l.94 2.06.94-2.06 2.06-.94-2.06-.94-.94-2.06-.94 2.06-2.06.94zm-11 1L8.5 8.5l.94-2.06 2.06-.94-2.06-.94L8.5 2.5l-.94 2.06-2.06.94zm10 10l.94 2.06.94-2.06 2.06-.94-2.06-.94-.94-2.06-.94 2.06-2.06.94z\"/><path d=\"M17.41 7.96l-1.37-1.37c-.4-.4-.92-.59-1.43-.59-.52 0-1.04.2-1.43.59L10.3 9.45l-7.72 7.72c-.78.78-.78 2.05 0 2.83L4 21.41c.39.39.9.59 1.41.59.51 0 1.02-.2 1.41-.59l7.78-7.78 2.81-2.81c.8-.78.8-2.07 0-2.86zM5.41 20L4 18.59l7.72-7.72 1.47 1.35L5.41 20z\"/>\n",
              "  </svg>\n",
              "      </button>\n",
              "      \n",
              "  <style>\n",
              "    .colab-df-container {\n",
              "      display:flex;\n",
              "      flex-wrap:wrap;\n",
              "      gap: 12px;\n",
              "    }\n",
              "\n",
              "    .colab-df-convert {\n",
              "      background-color: #E8F0FE;\n",
              "      border: none;\n",
              "      border-radius: 50%;\n",
              "      cursor: pointer;\n",
              "      display: none;\n",
              "      fill: #1967D2;\n",
              "      height: 32px;\n",
              "      padding: 0 0 0 0;\n",
              "      width: 32px;\n",
              "    }\n",
              "\n",
              "    .colab-df-convert:hover {\n",
              "      background-color: #E2EBFA;\n",
              "      box-shadow: 0px 1px 2px rgba(60, 64, 67, 0.3), 0px 1px 3px 1px rgba(60, 64, 67, 0.15);\n",
              "      fill: #174EA6;\n",
              "    }\n",
              "\n",
              "    [theme=dark] .colab-df-convert {\n",
              "      background-color: #3B4455;\n",
              "      fill: #D2E3FC;\n",
              "    }\n",
              "\n",
              "    [theme=dark] .colab-df-convert:hover {\n",
              "      background-color: #434B5C;\n",
              "      box-shadow: 0px 1px 3px 1px rgba(0, 0, 0, 0.15);\n",
              "      filter: drop-shadow(0px 1px 2px rgba(0, 0, 0, 0.3));\n",
              "      fill: #FFFFFF;\n",
              "    }\n",
              "  </style>\n",
              "\n",
              "      <script>\n",
              "        const buttonEl =\n",
              "          document.querySelector('#df-3bdc018f-473b-4f06-b041-784295349d14 button.colab-df-convert');\n",
              "        buttonEl.style.display =\n",
              "          google.colab.kernel.accessAllowed ? 'block' : 'none';\n",
              "\n",
              "        async function convertToInteractive(key) {\n",
              "          const element = document.querySelector('#df-3bdc018f-473b-4f06-b041-784295349d14');\n",
              "          const dataTable =\n",
              "            await google.colab.kernel.invokeFunction('convertToInteractive',\n",
              "                                                     [key], {});\n",
              "          if (!dataTable) return;\n",
              "\n",
              "          const docLinkHtml = 'Like what you see? Visit the ' +\n",
              "            '<a target=\"_blank\" href=https://colab.research.google.com/notebooks/data_table.ipynb>data table notebook</a>'\n",
              "            + ' to learn more about interactive tables.';\n",
              "          element.innerHTML = '';\n",
              "          dataTable['output_type'] = 'display_data';\n",
              "          await google.colab.output.renderOutput(dataTable, element);\n",
              "          const docLink = document.createElement('div');\n",
              "          docLink.innerHTML = docLinkHtml;\n",
              "          element.appendChild(docLink);\n",
              "        }\n",
              "      </script>\n",
              "    </div>\n",
              "  </div>\n",
              "  "
            ]
          },
          "metadata": {},
          "execution_count": 102
        }
      ]
    },
    {
      "cell_type": "code",
      "source": [
        "wine.info()"
      ],
      "metadata": {
        "colab": {
          "base_uri": "https://localhost:8080/"
        },
        "id": "73uUnVmAREbt",
        "outputId": "29116892-0fe5-4704-dcde-335d178d2802"
      },
      "execution_count": 103,
      "outputs": [
        {
          "output_type": "stream",
          "name": "stdout",
          "text": [
            "<class 'pandas.core.frame.DataFrame'>\n",
            "RangeIndex: 178 entries, 0 to 177\n",
            "Data columns (total 14 columns):\n",
            " #   Column                        Non-Null Count  Dtype  \n",
            "---  ------                        --------------  -----  \n",
            " 0   alcohol                       178 non-null    float64\n",
            " 1   malic_acid                    178 non-null    float64\n",
            " 2   ash                           178 non-null    float64\n",
            " 3   alcalinity_of_ash             178 non-null    float64\n",
            " 4   magnesium                     178 non-null    float64\n",
            " 5   total_phenols                 178 non-null    float64\n",
            " 6   flavanoids                    178 non-null    float64\n",
            " 7   nonflavanoid_phenols          178 non-null    float64\n",
            " 8   proanthocyanins               178 non-null    float64\n",
            " 9   color_intensity               178 non-null    float64\n",
            " 10  hue                           178 non-null    float64\n",
            " 11  od280/od315_of_diluted_wines  178 non-null    float64\n",
            " 12  proline                       178 non-null    float64\n",
            " 13  target                        178 non-null    int64  \n",
            "dtypes: float64(13), int64(1)\n",
            "memory usage: 19.6 KB\n"
          ]
        }
      ]
    },
    {
      "cell_type": "code",
      "source": [
        "from sklearn.linear_model import LogisticRegression"
      ],
      "metadata": {
        "id": "Zjv_dPgyRFfj"
      },
      "execution_count": 104,
      "outputs": []
    },
    {
      "cell_type": "code",
      "source": [
        "from sklearn.model_selection import GridSearchCV"
      ],
      "metadata": {
        "id": "eggTqsYYRLHM"
      },
      "execution_count": 105,
      "outputs": []
    },
    {
      "cell_type": "code",
      "source": [
        "def all_models(X_train, y_train, X_validation, y_validation, cv = 10) :\n",
        "  ##########\n",
        "  # 1. LogisticRegression\n",
        "  grid_lr = GridSearchCV(LogisticRegression(), cv = cv)\n",
        "  grid_lr.fit(X_train, y_train)\n",
        "  lr_pd = pd.DataFrame(grid_lr.cv_results_)\n",
        "\n",
        "  ##########\n",
        "  # 2. KNeighbors\n",
        "  grid_knn = GridSearchCV(KNeighborsClassifier(), cv = cv)\n",
        "  grid_knn.fit(X_train, y_train)\n",
        "  knn_pd = pd.DataFrame(grid_knn.cv_results_)\n",
        "\n",
        "  return pd.concat([lr_pd, knn_pd], axis = 1)\n",
        "\n",
        "  ##########\n"
      ],
      "metadata": {
        "id": "246ZcqLHRPB0"
      },
      "execution_count": 106,
      "outputs": []
    },
    {
      "cell_type": "markdown",
      "source": [
        "### GridSearchCV2"
      ],
      "metadata": {
        "id": "WwQdZDP-TE7X"
      }
    },
    {
      "cell_type": "code",
      "source": [
        "# GridSearchCV(estimator, param_grid, *...)\n",
        "\n",
        "# param_grid는 dict 또는 dictionary로 된 list를 인자로 받을 수 있다.\n",
        "grid = GridSearchCV(KNeighborsClassifier(), [{'n_neighbors' : [2, 3, 4, 5],\n",
        "                                              'weights' : ['uniform', 'distance']}])"
      ],
      "metadata": {
        "id": "zjg0Q8KRTHCG"
      },
      "execution_count": 107,
      "outputs": []
    },
    {
      "cell_type": "code",
      "source": [
        "grid.fit(wine.iloc[:, :-1], wine.target)"
      ],
      "metadata": {
        "colab": {
          "base_uri": "https://localhost:8080/"
        },
        "id": "mUpJDclhTwlT",
        "outputId": "d6ce07b1-246f-46f5-a69d-425388fe60cf"
      },
      "execution_count": 109,
      "outputs": [
        {
          "output_type": "execute_result",
          "data": {
            "text/plain": [
              "GridSearchCV(estimator=KNeighborsClassifier(),\n",
              "             param_grid=[{'n_neighbors': [2, 3, 4, 5],\n",
              "                          'weights': ['uniform', 'distance']}])"
            ]
          },
          "metadata": {},
          "execution_count": 109
        }
      ]
    },
    {
      "cell_type": "code",
      "source": [
        "# params를 보면 매번 실행할때마다 사용되는 하이퍼 파라미터를 기록한다.\n",
        "# params_grid를 리스트 안에 딕셔너리 형태로 넣으면 딕셔너리 안에서 조합이 구해진다.\n",
        "# 다른 딕셔너리에 들어간 하이퍼 파라미터와는 조합을 만들지 않는다.\n",
        "pd.DataFrame(grid.cv_results_).T"
      ],
      "metadata": {
        "colab": {
          "base_uri": "https://localhost:8080/",
          "height": 581
        },
        "id": "Y9gQUL-BT3Os",
        "outputId": "40b0f10e-bbe6-4d97-ac0a-81f9e7773c8a"
      },
      "execution_count": 111,
      "outputs": [
        {
          "output_type": "execute_result",
          "data": {
            "text/plain": [
              "                                                          0  \\\n",
              "mean_fit_time                                      0.006049   \n",
              "std_fit_time                                        0.00585   \n",
              "mean_score_time                                    0.004858   \n",
              "std_score_time                                     0.000522   \n",
              "param_n_neighbors                                         2   \n",
              "param_weights                                       uniform   \n",
              "params             {'n_neighbors': 2, 'weights': 'uniform'}   \n",
              "split0_test_score                                  0.611111   \n",
              "split1_test_score                                  0.611111   \n",
              "split2_test_score                                  0.638889   \n",
              "split3_test_score                                  0.657143   \n",
              "split4_test_score                                       0.8   \n",
              "mean_test_score                                    0.663651   \n",
              "std_test_score                                     0.070381   \n",
              "rank_test_score                                           8   \n",
              "\n",
              "                                                           1  \\\n",
              "mean_fit_time                                       0.003115   \n",
              "std_fit_time                                        0.000036   \n",
              "mean_score_time                                     0.003309   \n",
              "std_score_time                                      0.000216   \n",
              "param_n_neighbors                                          2   \n",
              "param_weights                                       distance   \n",
              "params             {'n_neighbors': 2, 'weights': 'distance'}   \n",
              "split0_test_score                                   0.805556   \n",
              "split1_test_score                                   0.638889   \n",
              "split2_test_score                                   0.666667   \n",
              "split3_test_score                                   0.685714   \n",
              "split4_test_score                                   0.828571   \n",
              "mean_test_score                                     0.725079   \n",
              "std_test_score                                      0.076912   \n",
              "rank_test_score                                            1   \n",
              "\n",
              "                                                          2  \\\n",
              "mean_fit_time                                      0.003269   \n",
              "std_fit_time                                       0.000047   \n",
              "mean_score_time                                    0.004829   \n",
              "std_score_time                                     0.000205   \n",
              "param_n_neighbors                                         3   \n",
              "param_weights                                       uniform   \n",
              "params             {'n_neighbors': 3, 'weights': 'uniform'}   \n",
              "split0_test_score                                  0.638889   \n",
              "split1_test_score                                  0.694444   \n",
              "split2_test_score                                  0.666667   \n",
              "split3_test_score                                  0.657143   \n",
              "split4_test_score                                  0.857143   \n",
              "mean_test_score                                    0.702857   \n",
              "std_test_score                                     0.079204   \n",
              "rank_test_score                                           5   \n",
              "\n",
              "                                                           3  \\\n",
              "mean_fit_time                                       0.004049   \n",
              "std_fit_time                                        0.002073   \n",
              "mean_score_time                                     0.005036   \n",
              "std_score_time                                      0.003836   \n",
              "param_n_neighbors                                          3   \n",
              "param_weights                                       distance   \n",
              "params             {'n_neighbors': 3, 'weights': 'distance'}   \n",
              "split0_test_score                                   0.722222   \n",
              "split1_test_score                                   0.722222   \n",
              "split2_test_score                                   0.666667   \n",
              "split3_test_score                                   0.657143   \n",
              "split4_test_score                                   0.857143   \n",
              "mean_test_score                                     0.725079   \n",
              "std_test_score                                      0.071393   \n",
              "rank_test_score                                            1   \n",
              "\n",
              "                                                          4  \\\n",
              "mean_fit_time                                       0.00329   \n",
              "std_fit_time                                       0.000413   \n",
              "mean_score_time                                    0.005346   \n",
              "std_score_time                                     0.001242   \n",
              "param_n_neighbors                                         4   \n",
              "param_weights                                       uniform   \n",
              "params             {'n_neighbors': 4, 'weights': 'uniform'}   \n",
              "split0_test_score                                  0.638889   \n",
              "split1_test_score                                  0.694444   \n",
              "split2_test_score                                  0.638889   \n",
              "split3_test_score                                  0.657143   \n",
              "split4_test_score                                  0.771429   \n",
              "mean_test_score                                    0.680159   \n",
              "std_test_score                                     0.049941   \n",
              "rank_test_score                                           7   \n",
              "\n",
              "                                                           5  \\\n",
              "mean_fit_time                                       0.003153   \n",
              "std_fit_time                                        0.000058   \n",
              "mean_score_time                                     0.003299   \n",
              "std_score_time                                      0.000117   \n",
              "param_n_neighbors                                          4   \n",
              "param_weights                                       distance   \n",
              "params             {'n_neighbors': 4, 'weights': 'distance'}   \n",
              "split0_test_score                                   0.666667   \n",
              "split1_test_score                                   0.694444   \n",
              "split2_test_score                                   0.694444   \n",
              "split3_test_score                                   0.657143   \n",
              "split4_test_score                                   0.857143   \n",
              "mean_test_score                                     0.713968   \n",
              "std_test_score                                      0.073113   \n",
              "rank_test_score                                            4   \n",
              "\n",
              "                                                          6  \\\n",
              "mean_fit_time                                       0.00314   \n",
              "std_fit_time                                        0.00002   \n",
              "mean_score_time                                    0.005079   \n",
              "std_score_time                                     0.000664   \n",
              "param_n_neighbors                                         5   \n",
              "param_weights                                       uniform   \n",
              "params             {'n_neighbors': 5, 'weights': 'uniform'}   \n",
              "split0_test_score                                  0.722222   \n",
              "split1_test_score                                  0.666667   \n",
              "split2_test_score                                  0.638889   \n",
              "split3_test_score                                  0.657143   \n",
              "split4_test_score                                  0.771429   \n",
              "mean_test_score                                     0.69127   \n",
              "std_test_score                                      0.04878   \n",
              "rank_test_score                                           6   \n",
              "\n",
              "                                                           7  \n",
              "mean_fit_time                                       0.003541  \n",
              "std_fit_time                                        0.000863  \n",
              "mean_score_time                                     0.003263  \n",
              "std_score_time                                      0.000018  \n",
              "param_n_neighbors                                          5  \n",
              "param_weights                                       distance  \n",
              "params             {'n_neighbors': 5, 'weights': 'distance'}  \n",
              "split0_test_score                                   0.777778  \n",
              "split1_test_score                                   0.638889  \n",
              "split2_test_score                                   0.666667  \n",
              "split3_test_score                                   0.657143  \n",
              "split4_test_score                                   0.857143  \n",
              "mean_test_score                                     0.719524  \n",
              "std_test_score                                      0.084285  \n",
              "rank_test_score                                            3  "
            ],
            "text/html": [
              "\n",
              "  <div id=\"df-bd17ea51-ec5d-491f-9789-62a53ac77dae\">\n",
              "    <div class=\"colab-df-container\">\n",
              "      <div>\n",
              "<style scoped>\n",
              "    .dataframe tbody tr th:only-of-type {\n",
              "        vertical-align: middle;\n",
              "    }\n",
              "\n",
              "    .dataframe tbody tr th {\n",
              "        vertical-align: top;\n",
              "    }\n",
              "\n",
              "    .dataframe thead th {\n",
              "        text-align: right;\n",
              "    }\n",
              "</style>\n",
              "<table border=\"1\" class=\"dataframe\">\n",
              "  <thead>\n",
              "    <tr style=\"text-align: right;\">\n",
              "      <th></th>\n",
              "      <th>0</th>\n",
              "      <th>1</th>\n",
              "      <th>2</th>\n",
              "      <th>3</th>\n",
              "      <th>4</th>\n",
              "      <th>5</th>\n",
              "      <th>6</th>\n",
              "      <th>7</th>\n",
              "    </tr>\n",
              "  </thead>\n",
              "  <tbody>\n",
              "    <tr>\n",
              "      <th>mean_fit_time</th>\n",
              "      <td>0.006049</td>\n",
              "      <td>0.003115</td>\n",
              "      <td>0.003269</td>\n",
              "      <td>0.004049</td>\n",
              "      <td>0.00329</td>\n",
              "      <td>0.003153</td>\n",
              "      <td>0.00314</td>\n",
              "      <td>0.003541</td>\n",
              "    </tr>\n",
              "    <tr>\n",
              "      <th>std_fit_time</th>\n",
              "      <td>0.00585</td>\n",
              "      <td>0.000036</td>\n",
              "      <td>0.000047</td>\n",
              "      <td>0.002073</td>\n",
              "      <td>0.000413</td>\n",
              "      <td>0.000058</td>\n",
              "      <td>0.00002</td>\n",
              "      <td>0.000863</td>\n",
              "    </tr>\n",
              "    <tr>\n",
              "      <th>mean_score_time</th>\n",
              "      <td>0.004858</td>\n",
              "      <td>0.003309</td>\n",
              "      <td>0.004829</td>\n",
              "      <td>0.005036</td>\n",
              "      <td>0.005346</td>\n",
              "      <td>0.003299</td>\n",
              "      <td>0.005079</td>\n",
              "      <td>0.003263</td>\n",
              "    </tr>\n",
              "    <tr>\n",
              "      <th>std_score_time</th>\n",
              "      <td>0.000522</td>\n",
              "      <td>0.000216</td>\n",
              "      <td>0.000205</td>\n",
              "      <td>0.003836</td>\n",
              "      <td>0.001242</td>\n",
              "      <td>0.000117</td>\n",
              "      <td>0.000664</td>\n",
              "      <td>0.000018</td>\n",
              "    </tr>\n",
              "    <tr>\n",
              "      <th>param_n_neighbors</th>\n",
              "      <td>2</td>\n",
              "      <td>2</td>\n",
              "      <td>3</td>\n",
              "      <td>3</td>\n",
              "      <td>4</td>\n",
              "      <td>4</td>\n",
              "      <td>5</td>\n",
              "      <td>5</td>\n",
              "    </tr>\n",
              "    <tr>\n",
              "      <th>param_weights</th>\n",
              "      <td>uniform</td>\n",
              "      <td>distance</td>\n",
              "      <td>uniform</td>\n",
              "      <td>distance</td>\n",
              "      <td>uniform</td>\n",
              "      <td>distance</td>\n",
              "      <td>uniform</td>\n",
              "      <td>distance</td>\n",
              "    </tr>\n",
              "    <tr>\n",
              "      <th>params</th>\n",
              "      <td>{'n_neighbors': 2, 'weights': 'uniform'}</td>\n",
              "      <td>{'n_neighbors': 2, 'weights': 'distance'}</td>\n",
              "      <td>{'n_neighbors': 3, 'weights': 'uniform'}</td>\n",
              "      <td>{'n_neighbors': 3, 'weights': 'distance'}</td>\n",
              "      <td>{'n_neighbors': 4, 'weights': 'uniform'}</td>\n",
              "      <td>{'n_neighbors': 4, 'weights': 'distance'}</td>\n",
              "      <td>{'n_neighbors': 5, 'weights': 'uniform'}</td>\n",
              "      <td>{'n_neighbors': 5, 'weights': 'distance'}</td>\n",
              "    </tr>\n",
              "    <tr>\n",
              "      <th>split0_test_score</th>\n",
              "      <td>0.611111</td>\n",
              "      <td>0.805556</td>\n",
              "      <td>0.638889</td>\n",
              "      <td>0.722222</td>\n",
              "      <td>0.638889</td>\n",
              "      <td>0.666667</td>\n",
              "      <td>0.722222</td>\n",
              "      <td>0.777778</td>\n",
              "    </tr>\n",
              "    <tr>\n",
              "      <th>split1_test_score</th>\n",
              "      <td>0.611111</td>\n",
              "      <td>0.638889</td>\n",
              "      <td>0.694444</td>\n",
              "      <td>0.722222</td>\n",
              "      <td>0.694444</td>\n",
              "      <td>0.694444</td>\n",
              "      <td>0.666667</td>\n",
              "      <td>0.638889</td>\n",
              "    </tr>\n",
              "    <tr>\n",
              "      <th>split2_test_score</th>\n",
              "      <td>0.638889</td>\n",
              "      <td>0.666667</td>\n",
              "      <td>0.666667</td>\n",
              "      <td>0.666667</td>\n",
              "      <td>0.638889</td>\n",
              "      <td>0.694444</td>\n",
              "      <td>0.638889</td>\n",
              "      <td>0.666667</td>\n",
              "    </tr>\n",
              "    <tr>\n",
              "      <th>split3_test_score</th>\n",
              "      <td>0.657143</td>\n",
              "      <td>0.685714</td>\n",
              "      <td>0.657143</td>\n",
              "      <td>0.657143</td>\n",
              "      <td>0.657143</td>\n",
              "      <td>0.657143</td>\n",
              "      <td>0.657143</td>\n",
              "      <td>0.657143</td>\n",
              "    </tr>\n",
              "    <tr>\n",
              "      <th>split4_test_score</th>\n",
              "      <td>0.8</td>\n",
              "      <td>0.828571</td>\n",
              "      <td>0.857143</td>\n",
              "      <td>0.857143</td>\n",
              "      <td>0.771429</td>\n",
              "      <td>0.857143</td>\n",
              "      <td>0.771429</td>\n",
              "      <td>0.857143</td>\n",
              "    </tr>\n",
              "    <tr>\n",
              "      <th>mean_test_score</th>\n",
              "      <td>0.663651</td>\n",
              "      <td>0.725079</td>\n",
              "      <td>0.702857</td>\n",
              "      <td>0.725079</td>\n",
              "      <td>0.680159</td>\n",
              "      <td>0.713968</td>\n",
              "      <td>0.69127</td>\n",
              "      <td>0.719524</td>\n",
              "    </tr>\n",
              "    <tr>\n",
              "      <th>std_test_score</th>\n",
              "      <td>0.070381</td>\n",
              "      <td>0.076912</td>\n",
              "      <td>0.079204</td>\n",
              "      <td>0.071393</td>\n",
              "      <td>0.049941</td>\n",
              "      <td>0.073113</td>\n",
              "      <td>0.04878</td>\n",
              "      <td>0.084285</td>\n",
              "    </tr>\n",
              "    <tr>\n",
              "      <th>rank_test_score</th>\n",
              "      <td>8</td>\n",
              "      <td>1</td>\n",
              "      <td>5</td>\n",
              "      <td>1</td>\n",
              "      <td>7</td>\n",
              "      <td>4</td>\n",
              "      <td>6</td>\n",
              "      <td>3</td>\n",
              "    </tr>\n",
              "  </tbody>\n",
              "</table>\n",
              "</div>\n",
              "      <button class=\"colab-df-convert\" onclick=\"convertToInteractive('df-bd17ea51-ec5d-491f-9789-62a53ac77dae')\"\n",
              "              title=\"Convert this dataframe to an interactive table.\"\n",
              "              style=\"display:none;\">\n",
              "        \n",
              "  <svg xmlns=\"http://www.w3.org/2000/svg\" height=\"24px\"viewBox=\"0 0 24 24\"\n",
              "       width=\"24px\">\n",
              "    <path d=\"M0 0h24v24H0V0z\" fill=\"none\"/>\n",
              "    <path d=\"M18.56 5.44l.94 2.06.94-2.06 2.06-.94-2.06-.94-.94-2.06-.94 2.06-2.06.94zm-11 1L8.5 8.5l.94-2.06 2.06-.94-2.06-.94L8.5 2.5l-.94 2.06-2.06.94zm10 10l.94 2.06.94-2.06 2.06-.94-2.06-.94-.94-2.06-.94 2.06-2.06.94z\"/><path d=\"M17.41 7.96l-1.37-1.37c-.4-.4-.92-.59-1.43-.59-.52 0-1.04.2-1.43.59L10.3 9.45l-7.72 7.72c-.78.78-.78 2.05 0 2.83L4 21.41c.39.39.9.59 1.41.59.51 0 1.02-.2 1.41-.59l7.78-7.78 2.81-2.81c.8-.78.8-2.07 0-2.86zM5.41 20L4 18.59l7.72-7.72 1.47 1.35L5.41 20z\"/>\n",
              "  </svg>\n",
              "      </button>\n",
              "      \n",
              "  <style>\n",
              "    .colab-df-container {\n",
              "      display:flex;\n",
              "      flex-wrap:wrap;\n",
              "      gap: 12px;\n",
              "    }\n",
              "\n",
              "    .colab-df-convert {\n",
              "      background-color: #E8F0FE;\n",
              "      border: none;\n",
              "      border-radius: 50%;\n",
              "      cursor: pointer;\n",
              "      display: none;\n",
              "      fill: #1967D2;\n",
              "      height: 32px;\n",
              "      padding: 0 0 0 0;\n",
              "      width: 32px;\n",
              "    }\n",
              "\n",
              "    .colab-df-convert:hover {\n",
              "      background-color: #E2EBFA;\n",
              "      box-shadow: 0px 1px 2px rgba(60, 64, 67, 0.3), 0px 1px 3px 1px rgba(60, 64, 67, 0.15);\n",
              "      fill: #174EA6;\n",
              "    }\n",
              "\n",
              "    [theme=dark] .colab-df-convert {\n",
              "      background-color: #3B4455;\n",
              "      fill: #D2E3FC;\n",
              "    }\n",
              "\n",
              "    [theme=dark] .colab-df-convert:hover {\n",
              "      background-color: #434B5C;\n",
              "      box-shadow: 0px 1px 3px 1px rgba(0, 0, 0, 0.15);\n",
              "      filter: drop-shadow(0px 1px 2px rgba(0, 0, 0, 0.3));\n",
              "      fill: #FFFFFF;\n",
              "    }\n",
              "  </style>\n",
              "\n",
              "      <script>\n",
              "        const buttonEl =\n",
              "          document.querySelector('#df-bd17ea51-ec5d-491f-9789-62a53ac77dae button.colab-df-convert');\n",
              "        buttonEl.style.display =\n",
              "          google.colab.kernel.accessAllowed ? 'block' : 'none';\n",
              "\n",
              "        async function convertToInteractive(key) {\n",
              "          const element = document.querySelector('#df-bd17ea51-ec5d-491f-9789-62a53ac77dae');\n",
              "          const dataTable =\n",
              "            await google.colab.kernel.invokeFunction('convertToInteractive',\n",
              "                                                     [key], {});\n",
              "          if (!dataTable) return;\n",
              "\n",
              "          const docLinkHtml = 'Like what you see? Visit the ' +\n",
              "            '<a target=\"_blank\" href=https://colab.research.google.com/notebooks/data_table.ipynb>data table notebook</a>'\n",
              "            + ' to learn more about interactive tables.';\n",
              "          element.innerHTML = '';\n",
              "          dataTable['output_type'] = 'display_data';\n",
              "          await google.colab.output.renderOutput(dataTable, element);\n",
              "          const docLink = document.createElement('div');\n",
              "          docLink.innerHTML = docLinkHtml;\n",
              "          element.appendChild(docLink);\n",
              "        }\n",
              "      </script>\n",
              "    </div>\n",
              "  </div>\n",
              "  "
            ]
          },
          "metadata": {},
          "execution_count": 111
        }
      ]
    },
    {
      "cell_type": "markdown",
      "source": [
        "### GridSearchCV + Pipeline"
      ],
      "metadata": {
        "id": "oHS0pF4gclYL"
      }
    },
    {
      "cell_type": "markdown",
      "source": [
        "#### GridSearchCV와 Pipeline을 연동하기"
      ],
      "metadata": {
        "id": "JWDk3kS5ctqA"
      }
    },
    {
      "cell_type": "code",
      "source": [
        "from sklearn.pipeline import Pipeline"
      ],
      "metadata": {
        "id": "slyNTa-hcx5z"
      },
      "execution_count": 113,
      "outputs": []
    },
    {
      "cell_type": "code",
      "source": [
        "from sklearn.preprocessing import StandardScaler"
      ],
      "metadata": {
        "id": "EypBUE0Rc2YV"
      },
      "execution_count": 116,
      "outputs": []
    },
    {
      "cell_type": "code",
      "source": [
        "pipe = Pipeline([('ss', StandardScaler()), ('knn', KNeighborsClassifier())])"
      ],
      "metadata": {
        "id": "mpAlSK6Sc8xP"
      },
      "execution_count": 128,
      "outputs": []
    },
    {
      "cell_type": "code",
      "source": [
        "grid = GridSearchCV(pipe, {'n_neighbors' : [2, 3, 4, 5]})"
      ],
      "metadata": {
        "id": "p7GrbeUGdc4a"
      },
      "execution_count": 147,
      "outputs": []
    },
    {
      "cell_type": "code",
      "source": [
        "# ValueError\n",
        "# Invalid parameter n_neighbors for estimator Pipeline(steps=[('ss', StandardScaler()), ('knn', KNeighborsClassifier())]). Check the list of available parameters with `estimator.get_params().keys()`\n",
        "grid.fit(wine.iloc[:, :-1], wine.target)"
      ],
      "metadata": {
        "id": "Vo77Pc90d16y"
      },
      "execution_count": null,
      "outputs": []
    },
    {
      "cell_type": "code",
      "source": [
        "# pipe의 내부 보기\n",
        "vars(pipe)"
      ],
      "metadata": {
        "colab": {
          "base_uri": "https://localhost:8080/"
        },
        "id": "L4W_XFbRetSp",
        "outputId": "fa378591-2049-4364-fbe5-81a2f82fd89c"
      },
      "execution_count": 133,
      "outputs": [
        {
          "output_type": "execute_result",
          "data": {
            "text/plain": [
              "{'steps': [('ss', StandardScaler()), ('knn', KNeighborsClassifier())],\n",
              " 'memory': None,\n",
              " 'verbose': False}"
            ]
          },
          "metadata": {},
          "execution_count": 133
        }
      ]
    },
    {
      "cell_type": "code",
      "source": [
        "# pipe에서 knn알고리즘만 꺼내서 get_params를 확인한다.\n",
        "# n_neighbors가 맞다.\n",
        "pipe.steps[-1][1].get_params()"
      ],
      "metadata": {
        "colab": {
          "base_uri": "https://localhost:8080/"
        },
        "id": "cdy6MCe8ev0F",
        "outputId": "eaaf520c-8d4d-4306-b544-556ba1f7c9dd"
      },
      "execution_count": 146,
      "outputs": [
        {
          "output_type": "execute_result",
          "data": {
            "text/plain": [
              "{'algorithm': 'auto',\n",
              " 'leaf_size': 30,\n",
              " 'metric': 'minkowski',\n",
              " 'metric_params': None,\n",
              " 'n_jobs': None,\n",
              " 'n_neighbors': 5,\n",
              " 'p': 2,\n",
              " 'weights': 'uniform'}"
            ]
          },
          "metadata": {},
          "execution_count": 146
        }
      ]
    },
    {
      "cell_type": "code",
      "source": [
        "# pipe 자체의 get_params를 확인한다.\n",
        "# Pipline은 알고리즘의 하이퍼 파라미터 이름을 맹글링한다.\n",
        "pipe.get_params()"
      ],
      "metadata": {
        "colab": {
          "base_uri": "https://localhost:8080/"
        },
        "id": "xJ96OAStffwx",
        "outputId": "a1134626-0096-4ec3-d0e5-abe94601b4f1"
      },
      "execution_count": 148,
      "outputs": [
        {
          "output_type": "execute_result",
          "data": {
            "text/plain": [
              "{'memory': None,\n",
              " 'steps': [('ss', StandardScaler()), ('knn', KNeighborsClassifier())],\n",
              " 'verbose': False,\n",
              " 'ss': StandardScaler(),\n",
              " 'knn': KNeighborsClassifier(),\n",
              " 'ss__copy': True,\n",
              " 'ss__with_mean': True,\n",
              " 'ss__with_std': True,\n",
              " 'knn__algorithm': 'auto',\n",
              " 'knn__leaf_size': 30,\n",
              " 'knn__metric': 'minkowski',\n",
              " 'knn__metric_params': None,\n",
              " 'knn__n_jobs': None,\n",
              " 'knn__n_neighbors': 5,\n",
              " 'knn__p': 2,\n",
              " 'knn__weights': 'uniform'}"
            ]
          },
          "metadata": {},
          "execution_count": 148
        }
      ]
    },
    {
      "cell_type": "code",
      "source": [
        "# mangling된 이름으로 하이퍼 파라미터 이름을 바꾸어 준다.\n",
        "grid = GridSearchCV(pipe, {'knn__n_neighbors' : [2, 3, 4, 5]})"
      ],
      "metadata": {
        "id": "vvRF2M6sgMlb"
      },
      "execution_count": 149,
      "outputs": []
    },
    {
      "cell_type": "code",
      "source": [
        "# Pipeline을 거쳐서 GridSearchCV까지 한번에 사용할 수 있다.\n",
        "grid.fit(wine.iloc[:, :-1], wine.target)"
      ],
      "metadata": {
        "colab": {
          "base_uri": "https://localhost:8080/"
        },
        "id": "S5T1RIccgWHR",
        "outputId": "84fd5ce4-c188-424f-d30f-7ec5184cf4ae"
      },
      "execution_count": 151,
      "outputs": [
        {
          "output_type": "execute_result",
          "data": {
            "text/plain": [
              "GridSearchCV(estimator=Pipeline(steps=[('ss', StandardScaler()),\n",
              "                                       ('knn', KNeighborsClassifier())]),\n",
              "             param_grid={'knn__n_neighbors': [2, 3, 4, 5]})"
            ]
          },
          "metadata": {},
          "execution_count": 151
        }
      ]
    },
    {
      "cell_type": "code",
      "source": [
        "pd.DataFrame(grid.cv_results_).T"
      ],
      "metadata": {
        "colab": {
          "base_uri": "https://localhost:8080/",
          "height": 488
        },
        "id": "ZnD7P21PgtRK",
        "outputId": "ea2f0f50-79fe-45ec-a17e-8dc37befad2f"
      },
      "execution_count": 152,
      "outputs": [
        {
          "output_type": "execute_result",
          "data": {
            "text/plain": [
              "                                              0                        1  \\\n",
              "mean_fit_time                          0.007391                 0.007921   \n",
              "std_fit_time                            0.00406                 0.004828   \n",
              "mean_score_time                        0.004971                 0.004748   \n",
              "std_score_time                         0.000523                 0.000284   \n",
              "param_knn__n_neighbors                        2                        3   \n",
              "params                  {'knn__n_neighbors': 2}  {'knn__n_neighbors': 3}   \n",
              "split0_test_score                      0.916667                 0.888889   \n",
              "split1_test_score                      0.944444                 0.944444   \n",
              "split2_test_score                      0.944444                 0.972222   \n",
              "split3_test_score                           1.0                      1.0   \n",
              "split4_test_score                      0.914286                 0.914286   \n",
              "mean_test_score                        0.943968                 0.943968   \n",
              "std_test_score                         0.030875                  0.03963   \n",
              "rank_test_score                               2                        2   \n",
              "\n",
              "                                              2                        3  \n",
              "mean_fit_time                          0.005393                 0.005712  \n",
              "std_fit_time                           0.000194                 0.000271  \n",
              "mean_score_time                        0.004836                 0.004938  \n",
              "std_score_time                         0.000115                 0.000043  \n",
              "param_knn__n_neighbors                        4                        5  \n",
              "params                  {'knn__n_neighbors': 4}  {'knn__n_neighbors': 5}  \n",
              "split0_test_score                      0.888889                 0.944444  \n",
              "split1_test_score                      0.944444                 0.944444  \n",
              "split2_test_score                      0.972222                 0.972222  \n",
              "split3_test_score                           1.0                      1.0  \n",
              "split4_test_score                      0.914286                 0.885714  \n",
              "mean_test_score                        0.943968                 0.949365  \n",
              "std_test_score                          0.03963                 0.037911  \n",
              "rank_test_score                               2                        1  "
            ],
            "text/html": [
              "\n",
              "  <div id=\"df-ce5f949b-6128-4107-b393-b4ba27de1d14\">\n",
              "    <div class=\"colab-df-container\">\n",
              "      <div>\n",
              "<style scoped>\n",
              "    .dataframe tbody tr th:only-of-type {\n",
              "        vertical-align: middle;\n",
              "    }\n",
              "\n",
              "    .dataframe tbody tr th {\n",
              "        vertical-align: top;\n",
              "    }\n",
              "\n",
              "    .dataframe thead th {\n",
              "        text-align: right;\n",
              "    }\n",
              "</style>\n",
              "<table border=\"1\" class=\"dataframe\">\n",
              "  <thead>\n",
              "    <tr style=\"text-align: right;\">\n",
              "      <th></th>\n",
              "      <th>0</th>\n",
              "      <th>1</th>\n",
              "      <th>2</th>\n",
              "      <th>3</th>\n",
              "    </tr>\n",
              "  </thead>\n",
              "  <tbody>\n",
              "    <tr>\n",
              "      <th>mean_fit_time</th>\n",
              "      <td>0.007391</td>\n",
              "      <td>0.007921</td>\n",
              "      <td>0.005393</td>\n",
              "      <td>0.005712</td>\n",
              "    </tr>\n",
              "    <tr>\n",
              "      <th>std_fit_time</th>\n",
              "      <td>0.00406</td>\n",
              "      <td>0.004828</td>\n",
              "      <td>0.000194</td>\n",
              "      <td>0.000271</td>\n",
              "    </tr>\n",
              "    <tr>\n",
              "      <th>mean_score_time</th>\n",
              "      <td>0.004971</td>\n",
              "      <td>0.004748</td>\n",
              "      <td>0.004836</td>\n",
              "      <td>0.004938</td>\n",
              "    </tr>\n",
              "    <tr>\n",
              "      <th>std_score_time</th>\n",
              "      <td>0.000523</td>\n",
              "      <td>0.000284</td>\n",
              "      <td>0.000115</td>\n",
              "      <td>0.000043</td>\n",
              "    </tr>\n",
              "    <tr>\n",
              "      <th>param_knn__n_neighbors</th>\n",
              "      <td>2</td>\n",
              "      <td>3</td>\n",
              "      <td>4</td>\n",
              "      <td>5</td>\n",
              "    </tr>\n",
              "    <tr>\n",
              "      <th>params</th>\n",
              "      <td>{'knn__n_neighbors': 2}</td>\n",
              "      <td>{'knn__n_neighbors': 3}</td>\n",
              "      <td>{'knn__n_neighbors': 4}</td>\n",
              "      <td>{'knn__n_neighbors': 5}</td>\n",
              "    </tr>\n",
              "    <tr>\n",
              "      <th>split0_test_score</th>\n",
              "      <td>0.916667</td>\n",
              "      <td>0.888889</td>\n",
              "      <td>0.888889</td>\n",
              "      <td>0.944444</td>\n",
              "    </tr>\n",
              "    <tr>\n",
              "      <th>split1_test_score</th>\n",
              "      <td>0.944444</td>\n",
              "      <td>0.944444</td>\n",
              "      <td>0.944444</td>\n",
              "      <td>0.944444</td>\n",
              "    </tr>\n",
              "    <tr>\n",
              "      <th>split2_test_score</th>\n",
              "      <td>0.944444</td>\n",
              "      <td>0.972222</td>\n",
              "      <td>0.972222</td>\n",
              "      <td>0.972222</td>\n",
              "    </tr>\n",
              "    <tr>\n",
              "      <th>split3_test_score</th>\n",
              "      <td>1.0</td>\n",
              "      <td>1.0</td>\n",
              "      <td>1.0</td>\n",
              "      <td>1.0</td>\n",
              "    </tr>\n",
              "    <tr>\n",
              "      <th>split4_test_score</th>\n",
              "      <td>0.914286</td>\n",
              "      <td>0.914286</td>\n",
              "      <td>0.914286</td>\n",
              "      <td>0.885714</td>\n",
              "    </tr>\n",
              "    <tr>\n",
              "      <th>mean_test_score</th>\n",
              "      <td>0.943968</td>\n",
              "      <td>0.943968</td>\n",
              "      <td>0.943968</td>\n",
              "      <td>0.949365</td>\n",
              "    </tr>\n",
              "    <tr>\n",
              "      <th>std_test_score</th>\n",
              "      <td>0.030875</td>\n",
              "      <td>0.03963</td>\n",
              "      <td>0.03963</td>\n",
              "      <td>0.037911</td>\n",
              "    </tr>\n",
              "    <tr>\n",
              "      <th>rank_test_score</th>\n",
              "      <td>2</td>\n",
              "      <td>2</td>\n",
              "      <td>2</td>\n",
              "      <td>1</td>\n",
              "    </tr>\n",
              "  </tbody>\n",
              "</table>\n",
              "</div>\n",
              "      <button class=\"colab-df-convert\" onclick=\"convertToInteractive('df-ce5f949b-6128-4107-b393-b4ba27de1d14')\"\n",
              "              title=\"Convert this dataframe to an interactive table.\"\n",
              "              style=\"display:none;\">\n",
              "        \n",
              "  <svg xmlns=\"http://www.w3.org/2000/svg\" height=\"24px\"viewBox=\"0 0 24 24\"\n",
              "       width=\"24px\">\n",
              "    <path d=\"M0 0h24v24H0V0z\" fill=\"none\"/>\n",
              "    <path d=\"M18.56 5.44l.94 2.06.94-2.06 2.06-.94-2.06-.94-.94-2.06-.94 2.06-2.06.94zm-11 1L8.5 8.5l.94-2.06 2.06-.94-2.06-.94L8.5 2.5l-.94 2.06-2.06.94zm10 10l.94 2.06.94-2.06 2.06-.94-2.06-.94-.94-2.06-.94 2.06-2.06.94z\"/><path d=\"M17.41 7.96l-1.37-1.37c-.4-.4-.92-.59-1.43-.59-.52 0-1.04.2-1.43.59L10.3 9.45l-7.72 7.72c-.78.78-.78 2.05 0 2.83L4 21.41c.39.39.9.59 1.41.59.51 0 1.02-.2 1.41-.59l7.78-7.78 2.81-2.81c.8-.78.8-2.07 0-2.86zM5.41 20L4 18.59l7.72-7.72 1.47 1.35L5.41 20z\"/>\n",
              "  </svg>\n",
              "      </button>\n",
              "      \n",
              "  <style>\n",
              "    .colab-df-container {\n",
              "      display:flex;\n",
              "      flex-wrap:wrap;\n",
              "      gap: 12px;\n",
              "    }\n",
              "\n",
              "    .colab-df-convert {\n",
              "      background-color: #E8F0FE;\n",
              "      border: none;\n",
              "      border-radius: 50%;\n",
              "      cursor: pointer;\n",
              "      display: none;\n",
              "      fill: #1967D2;\n",
              "      height: 32px;\n",
              "      padding: 0 0 0 0;\n",
              "      width: 32px;\n",
              "    }\n",
              "\n",
              "    .colab-df-convert:hover {\n",
              "      background-color: #E2EBFA;\n",
              "      box-shadow: 0px 1px 2px rgba(60, 64, 67, 0.3), 0px 1px 3px 1px rgba(60, 64, 67, 0.15);\n",
              "      fill: #174EA6;\n",
              "    }\n",
              "\n",
              "    [theme=dark] .colab-df-convert {\n",
              "      background-color: #3B4455;\n",
              "      fill: #D2E3FC;\n",
              "    }\n",
              "\n",
              "    [theme=dark] .colab-df-convert:hover {\n",
              "      background-color: #434B5C;\n",
              "      box-shadow: 0px 1px 3px 1px rgba(0, 0, 0, 0.15);\n",
              "      filter: drop-shadow(0px 1px 2px rgba(0, 0, 0, 0.3));\n",
              "      fill: #FFFFFF;\n",
              "    }\n",
              "  </style>\n",
              "\n",
              "      <script>\n",
              "        const buttonEl =\n",
              "          document.querySelector('#df-ce5f949b-6128-4107-b393-b4ba27de1d14 button.colab-df-convert');\n",
              "        buttonEl.style.display =\n",
              "          google.colab.kernel.accessAllowed ? 'block' : 'none';\n",
              "\n",
              "        async function convertToInteractive(key) {\n",
              "          const element = document.querySelector('#df-ce5f949b-6128-4107-b393-b4ba27de1d14');\n",
              "          const dataTable =\n",
              "            await google.colab.kernel.invokeFunction('convertToInteractive',\n",
              "                                                     [key], {});\n",
              "          if (!dataTable) return;\n",
              "\n",
              "          const docLinkHtml = 'Like what you see? Visit the ' +\n",
              "            '<a target=\"_blank\" href=https://colab.research.google.com/notebooks/data_table.ipynb>data table notebook</a>'\n",
              "            + ' to learn more about interactive tables.';\n",
              "          element.innerHTML = '';\n",
              "          dataTable['output_type'] = 'display_data';\n",
              "          await google.colab.output.renderOutput(dataTable, element);\n",
              "          const docLink = document.createElement('div');\n",
              "          docLink.innerHTML = docLinkHtml;\n",
              "          element.appendChild(docLink);\n",
              "        }\n",
              "      </script>\n",
              "    </div>\n",
              "  </div>\n",
              "  "
            ]
          },
          "metadata": {},
          "execution_count": 152
        }
      ]
    }
  ]
}