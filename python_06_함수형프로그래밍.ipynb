{
  "nbformat": 4,
  "nbformat_minor": 0,
  "metadata": {
    "colab": {
      "provenance": [],
      "authorship_tag": "ABX9TyPC285Ni3YU+fFDViVFx45i",
      "include_colab_link": true
    },
    "kernelspec": {
      "name": "python3",
      "display_name": "Python 3"
    },
    "language_info": {
      "name": "python"
    }
  },
  "cells": [
    {
      "cell_type": "markdown",
      "metadata": {
        "id": "view-in-github",
        "colab_type": "text"
      },
      "source": [
        "<a href=\"https://colab.research.google.com/github/eoooomji/python_demo_colab/blob/master/python_06_%ED%95%A8%EC%88%98%ED%98%95%ED%94%84%EB%A1%9C%EA%B7%B8%EB%9E%98%EB%B0%8D.ipynb\" target=\"_parent\"><img src=\"https://colab.research.google.com/assets/colab-badge.svg\" alt=\"Open In Colab\"/></a>"
      ]
    },
    {
      "cell_type": "markdown",
      "source": [
        "# 함수형 프로그래밍"
      ],
      "metadata": {
        "id": "W74ugjm-B3SL"
      }
    },
    {
      "cell_type": "markdown",
      "source": [
        "## 함수형 프로그래밍 정의\n",
        "\n",
        "- 자료 처리를 수학적 함수의 계산으로 취급하고 상태와 가변 데이터를 멀리하는 프로그래밍 패러다임의 하나이다.\n",
        "\n",
        "- Side Effect(부수효과)를 제거할 경우에 프로그래밍의 동작을 이해하고 예측하는 것이 훨씬 쉬워지기 때문에  \n",
        "Side Effect가 없는 Pure Function(순수함수)들로만 작성 되어야 한다.\n",
        "  - Side Effect\n",
        "\n",
        "- 함수형 프로그래밍은 함수를 수학적 함수로 그대로 정의한다.  \n",
        "  f(x) g(x) h(x) = f(g(h(x)))\n",
        "- 조건 : 함수를 수학적 함수로 그대로 정의함(문 보다 식을 선호)\n",
        "- loop문, mutable(global, nonlocal) 사용 안함"
      ],
      "metadata": {
        "id": "eBwB5K0hB6zC"
      }
    },
    {
      "cell_type": "markdown",
      "source": [
        "### 함수형 프로그래밍의 기본 원리들\n",
        "\n",
        "1. 순수함수 : 변경 불가능한 값을 이용\n",
        "2. 람다 표현식\n",
        "3. 고차함수\n",
        "4. 클로져\n",
        "5. 일급객체함수"
      ],
      "metadata": {
        "id": "w1Ljn_d9B-xj"
      }
    },
    {
      "cell_type": "markdown",
      "source": [
        "### 순수함수와 비 순수함수\n",
        "\n",
        "1. 순수함수\n",
        "\n",
        "  - 순수함수는 함수의 실행이 외부 상태에 영향을 끼치지 않는 함수이다.\n",
        "  \n",
        "\n",
        "2. 비순수함수\n",
        "\n",
        "  - 비 순수함수는 수정자 함수라고도 한다.\n",
        "\n",
        "  - 함수의 실행이 외부 상태에 영향을 끼치는 함수이다."
      ],
      "metadata": {
        "id": "JzpIw3bWCBta"
      }
    },
    {
      "cell_type": "code",
      "execution_count": null,
      "metadata": {
        "id": "2XuqfwgwBkqP"
      },
      "outputs": [],
      "source": [
        "# 비순수 함수\n",
        "number_list=[1,2,3]\n",
        "\n",
        "def append_number(n) :\n",
        "  number_list.append(n)\n",
        "\n",
        "append_number(4)\n",
        "print(number_list)\n",
        "\n",
        "# 함수 실행이 외부 상태에 영향을 끼침\n",
        "# 함수 외부에 있는 number_list의 상태가 바뀜"
      ]
    },
    {
      "cell_type": "markdown",
      "source": [
        "### 람다함수(lambda) \n",
        "\n",
        "-  람다함수 = 익명함수 = 람다표현식\n",
        "\n",
        "- 재사용하지 않을 함수를 만들 때 사용한다.\n",
        "\n",
        "- 람다 표현식은 함수를 간편하게 작성할 수 있어서 다른 함수의 인수로 넣을 때 주로 사용한다."
      ],
      "metadata": {
        "id": "NeV11VtbCFWa"
      }
    },
    {
      "cell_type": "code",
      "source": [],
      "metadata": {
        "id": "N2I_BFDJB8Wa"
      },
      "execution_count": null,
      "outputs": []
    },
    {
      "cell_type": "markdown",
      "source": [
        "### higher order function\n",
        "\n",
        "- 함수의 인자에 함수를 넣을 수 있고 함수의 결과가 함수일 수 있는 것을 higher order function이라고 한다.\n",
        "  - function을 인자로 사용할 수 있음\n",
        "  - function에 return을 사용할 수 있음"
      ],
      "metadata": {
        "id": "a0CojSSYCJQC"
      }
    },
    {
      "cell_type": "markdown",
      "source": [
        "### closuer\n",
        "\n",
        "- python 공식문서에는 없는 용어\n",
        "\n",
        "- 다음과 같이 함수를 중첩해서 사용하는 기법을 closuer라고 한다.\n",
        "\n",
        "- 함수가 종료 되었어도 외부에서 사용하기 위해 사용한다."
      ],
      "metadata": {
        "id": "qxtFpYoOCKvC"
      }
    },
    {
      "cell_type": "markdown",
      "source": [
        "### 일급객체함수(first class function)\n",
        "\n",
        "- python에서 가장 중요한 개념은 객체(object)이다.\n",
        "\n",
        "- first class를 직역하면 1급인데, 함수를 객체처럼 사용할 수 있는 패러다임을 말한다.\n",
        "\n",
        "  - 변수나 데이터 구조에 넣을 수 있어야 한다.\n",
        "  - 매개변수에 전달할 수 있어야 한다.\n",
        "  - 반환값으로 사용할 수 있어야 한다."
      ],
      "metadata": {
        "id": "J5ulxZdQCMky"
      }
    },
    {
      "cell_type": "markdown",
      "source": [
        "## Loop\n",
        "\n",
        "- Loop를 쓰면 이해하기 쉬운 장점이 있다.\n",
        "\n",
        "- Loop는 논리적 흐름을 깨는 경우가 있어 프로그램의 버그를 만들기 쉬운 단점이 있다.\n",
        "\n",
        "- 코드를 이해하기 위해서 왔다 갔다 해야하므로 Loop는 속도가 느리다."
      ],
      "metadata": {
        "id": "CBraE-wzCPCS"
      }
    },
    {
      "cell_type": "markdown",
      "source": [
        "### comprehension\n",
        "\n",
        "- iterable한 오브젝트를 생성하기 위한 방법 중 하나이다.\n",
        "\n",
        "- 파이썬에는 다음과 같은 3가지 종류의 Comprehension이 있다.\n",
        "\n",
        "  - List Comprehension (LC)\n",
        "  - Set Comprehension (SC)\n",
        "  - Dict Comprehension (DC)"
      ],
      "metadata": {
        "id": "376jJRbFCQqh"
      }
    },
    {
      "cell_type": "markdown",
      "source": [
        "#### List Comprehension\n",
        "- 리스트 정의 시 값을 정하지 않고 호출 시 리스트 내의 값들이 처리되도록 구성\n",
        "- A = [표현식 for i in  sequence if 논리식]"
      ],
      "metadata": {
        "id": "xvpFGb-DCTHy"
      }
    },
    {
      "cell_type": "markdown",
      "source": [
        "#### Dict Comprehension\n",
        "\n",
        "- 사전 정의 시 값을 정하지 않고 호출 시 사전 내의 값들이 처리되도록 구성\n",
        "- A = {표현식 for (k, y) in sequence if 논리식}"
      ],
      "metadata": {
        "id": "iypPpGZvCVEa"
      }
    },
    {
      "cell_type": "markdown",
      "source": [
        "#### Set Comprehension\n",
        "\n",
        "- set 정의 시 값을 정하지 않고 호출 시 Set내의 값들이 처리되도록 구성\n",
        "- A = {표현식 for i in sequence if 논리식}"
      ],
      "metadata": {
        "id": "Y40rH40SCVsS"
      }
    },
    {
      "cell_type": "markdown",
      "source": [
        "### Recursion\n",
        "\n",
        "- 함수가 자기 자신을 다시 실행하는 기법이다."
      ],
      "metadata": {
        "id": "4Ze1b2N8CXy6"
      }
    },
    {
      "cell_type": "code",
      "source": [
        "def x(t) :\n",
        "  if t < 3 :\n",
        "    return 1\n",
        "  return x(t - 1)\n",
        "x(7)"
      ],
      "metadata": {
        "colab": {
          "base_uri": "https://localhost:8080/"
        },
        "id": "4hbwsAxICdQh",
        "outputId": "12ec8383-dd48-4a04-cd28-728b4f009e97"
      },
      "execution_count": null,
      "outputs": [
        {
          "output_type": "execute_result",
          "data": {
            "text/plain": [
              "1"
            ]
          },
          "metadata": {},
          "execution_count": 6
        }
      ]
    },
    {
      "cell_type": "markdown",
      "source": [
        "### iterator\n",
        "\n",
        "- iterable : 반복문을 수행할 수 있는 객체\n",
        "\n",
        "- iterator : 객체의 요소를 차례대로 가지고 올 수 있는 것\n",
        "\n",
        "- next는 iterator에서 값을 순서대로 하나씩 뽑아온다."
      ],
      "metadata": {
        "id": "tVoEBBhMDSqx"
      }
    },
    {
      "cell_type": "code",
      "source": [
        "a = [1, 2, 3]\n",
        "print(type(a))\n",
        "print(dir(a))\n",
        "b = iter(a) # signature를 보면 iterable을 인자로 받는다.\n",
        "print(b) # iterator\n",
        "print(dir(b))"
      ],
      "metadata": {
        "colab": {
          "base_uri": "https://localhost:8080/"
        },
        "id": "_U1zj1G6DYE7",
        "outputId": "6ae8d1cc-97f0-41aa-b3ed-b996316bb39c"
      },
      "execution_count": null,
      "outputs": [
        {
          "output_type": "stream",
          "name": "stdout",
          "text": [
            "<class 'list'>\n",
            "['__add__', '__class__', '__contains__', '__delattr__', '__delitem__', '__dir__', '__doc__', '__eq__', '__format__', '__ge__', '__getattribute__', '__getitem__', '__gt__', '__hash__', '__iadd__', '__imul__', '__init__', '__init_subclass__', '__iter__', '__le__', '__len__', '__lt__', '__mul__', '__ne__', '__new__', '__reduce__', '__reduce_ex__', '__repr__', '__reversed__', '__rmul__', '__setattr__', '__setitem__', '__sizeof__', '__str__', '__subclasshook__', 'append', 'clear', 'copy', 'count', 'extend', 'index', 'insert', 'pop', 'remove', 'reverse', 'sort']\n",
            "<list_iterator object at 0x7f8e0c352d00>\n",
            "['__class__', '__delattr__', '__dir__', '__doc__', '__eq__', '__format__', '__ge__', '__getattribute__', '__gt__', '__hash__', '__init__', '__init_subclass__', '__iter__', '__le__', '__length_hint__', '__lt__', '__ne__', '__new__', '__next__', '__reduce__', '__reduce_ex__', '__repr__', '__setattr__', '__setstate__', '__sizeof__', '__str__', '__subclasshook__']\n"
          ]
        }
      ]
    },
    {
      "cell_type": "code",
      "source": [
        "print(next(b))\n",
        "print(next(b))\n",
        "print(next(b))\n",
        "print(next(b))"
      ],
      "metadata": {
        "colab": {
          "base_uri": "https://localhost:8080/",
          "height": 266
        },
        "id": "lgxoj9ouDi7U",
        "outputId": "182cdcb9-86f9-45c4-aabc-10989b863798"
      },
      "execution_count": null,
      "outputs": [
        {
          "output_type": "stream",
          "name": "stdout",
          "text": [
            "1\n",
            "2\n",
            "3\n"
          ]
        },
        {
          "output_type": "error",
          "ename": "StopIteration",
          "evalue": "ignored",
          "traceback": [
            "\u001b[0;31m---------------------------------------------------------------------------\u001b[0m",
            "\u001b[0;31mStopIteration\u001b[0m                             Traceback (most recent call last)",
            "\u001b[0;32m<ipython-input-21-5a5ed7ad224c>\u001b[0m in \u001b[0;36m<module>\u001b[0;34m\u001b[0m\n\u001b[1;32m      2\u001b[0m \u001b[0mprint\u001b[0m\u001b[0;34m(\u001b[0m\u001b[0mnext\u001b[0m\u001b[0;34m(\u001b[0m\u001b[0mb\u001b[0m\u001b[0;34m)\u001b[0m\u001b[0;34m)\u001b[0m\u001b[0;34m\u001b[0m\u001b[0;34m\u001b[0m\u001b[0m\n\u001b[1;32m      3\u001b[0m \u001b[0mprint\u001b[0m\u001b[0;34m(\u001b[0m\u001b[0mnext\u001b[0m\u001b[0;34m(\u001b[0m\u001b[0mb\u001b[0m\u001b[0;34m)\u001b[0m\u001b[0;34m)\u001b[0m\u001b[0;34m\u001b[0m\u001b[0;34m\u001b[0m\u001b[0m\n\u001b[0;32m----> 4\u001b[0;31m \u001b[0mprint\u001b[0m\u001b[0;34m(\u001b[0m\u001b[0mnext\u001b[0m\u001b[0;34m(\u001b[0m\u001b[0mb\u001b[0m\u001b[0;34m)\u001b[0m\u001b[0;34m)\u001b[0m\u001b[0;34m\u001b[0m\u001b[0;34m\u001b[0m\u001b[0m\n\u001b[0m",
            "\u001b[0;31mStopIteration\u001b[0m: "
          ]
        }
      ]
    },
    {
      "cell_type": "markdown",
      "source": [
        "#### iterator는 lazy기법이다.\n",
        "\n",
        "- 메모리에 전체를 올리지 않고, 사용할 때 마다 하나씩 메모리에 올린다.\n",
        "\n",
        "- 메모리에 효율적으로 사용한다.\n",
        "\n",
        "- index, len을 사용할 수 없다."
      ],
      "metadata": {
        "id": "aQvCld_lHLhg"
      }
    },
    {
      "cell_type": "code",
      "source": [
        "a = [1, 2, 3]\n",
        "print(dir(a))\n",
        "b = iter(a)\n",
        "print(b)"
      ],
      "metadata": {
        "colab": {
          "base_uri": "https://localhost:8080/"
        },
        "id": "2_pY9cQWHO-S",
        "outputId": "cbb20573-b91b-4139-fef8-2f3d74098e34"
      },
      "execution_count": null,
      "outputs": [
        {
          "output_type": "stream",
          "name": "stdout",
          "text": [
            "['__add__', '__class__', '__contains__', '__delattr__', '__delitem__', '__dir__', '__doc__', '__eq__', '__format__', '__ge__', '__getattribute__', '__getitem__', '__gt__', '__hash__', '__iadd__', '__imul__', '__init__', '__init_subclass__', '__iter__', '__le__', '__len__', '__lt__', '__mul__', '__ne__', '__new__', '__reduce__', '__reduce_ex__', '__repr__', '__reversed__', '__rmul__', '__setattr__', '__setitem__', '__sizeof__', '__str__', '__subclasshook__', 'append', 'clear', 'copy', 'count', 'extend', 'index', 'insert', 'pop', 'remove', 'reverse', 'sort']\n",
            "<list_iterator object at 0x7f8e0c473cd0>\n"
          ]
        }
      ]
    },
    {
      "cell_type": "code",
      "source": [
        "subscriptable(b)"
      ],
      "metadata": {
        "colab": {
          "base_uri": "https://localhost:8080/",
          "height": 174
        },
        "id": "rjDnpw6KIPy4",
        "outputId": "006dd899-1ece-4d08-f665-1d29cf377101"
      },
      "execution_count": null,
      "outputs": [
        {
          "output_type": "error",
          "ename": "NameError",
          "evalue": "ignored",
          "traceback": [
            "\u001b[0;31m---------------------------------------------------------------------------\u001b[0m",
            "\u001b[0;31mNameError\u001b[0m                                 Traceback (most recent call last)",
            "\u001b[0;32m<ipython-input-26-f024b16e30ca>\u001b[0m in \u001b[0;36m<module>\u001b[0;34m\u001b[0m\n\u001b[0;32m----> 1\u001b[0;31m \u001b[0msubscriptable\u001b[0m\u001b[0;34m(\u001b[0m\u001b[0mb\u001b[0m\u001b[0;34m)\u001b[0m\u001b[0;34m\u001b[0m\u001b[0;34m\u001b[0m\u001b[0m\n\u001b[0m",
            "\u001b[0;31mNameError\u001b[0m: name 'subscriptable' is not defined"
          ]
        }
      ]
    },
    {
      "cell_type": "code",
      "source": [
        "b()"
      ],
      "metadata": {
        "colab": {
          "base_uri": "https://localhost:8080/",
          "height": 174
        },
        "id": "HsMJnKtbIlLH",
        "outputId": "ec1dd915-f102-49e7-90fe-2f019b770044"
      },
      "execution_count": null,
      "outputs": [
        {
          "output_type": "error",
          "ename": "TypeError",
          "evalue": "ignored",
          "traceback": [
            "\u001b[0;31m---------------------------------------------------------------------------\u001b[0m",
            "\u001b[0;31mTypeError\u001b[0m                                 Traceback (most recent call last)",
            "\u001b[0;32m<ipython-input-27-3bf86fc5afda>\u001b[0m in \u001b[0;36m<module>\u001b[0;34m\u001b[0m\n\u001b[0;32m----> 1\u001b[0;31m \u001b[0mb\u001b[0m\u001b[0;34m(\u001b[0m\u001b[0;34m)\u001b[0m\u001b[0;34m\u001b[0m\u001b[0;34m\u001b[0m\u001b[0m\n\u001b[0m",
            "\u001b[0;31mTypeError\u001b[0m: 'list_iterator' object is not callable"
          ]
        }
      ]
    },
    {
      "cell_type": "code",
      "source": [
        "b[0]"
      ],
      "metadata": {
        "colab": {
          "base_uri": "https://localhost:8080/",
          "height": 174
        },
        "id": "F-V7FOUiHcDD",
        "outputId": "234c8195-9db4-4859-a7fa-9c07b87eac87"
      },
      "execution_count": null,
      "outputs": [
        {
          "output_type": "error",
          "ename": "TypeError",
          "evalue": "ignored",
          "traceback": [
            "\u001b[0;31m---------------------------------------------------------------------------\u001b[0m",
            "\u001b[0;31mTypeError\u001b[0m                                 Traceback (most recent call last)",
            "\u001b[0;32m<ipython-input-24-54af0eb47770>\u001b[0m in \u001b[0;36m<module>\u001b[0;34m\u001b[0m\n\u001b[0;32m----> 1\u001b[0;31m \u001b[0mb\u001b[0m\u001b[0;34m[\u001b[0m\u001b[0;36m0\u001b[0m\u001b[0;34m]\u001b[0m\u001b[0;34m\u001b[0m\u001b[0;34m\u001b[0m\u001b[0m\n\u001b[0m",
            "\u001b[0;31mTypeError\u001b[0m: 'list_iterator' object is not subscriptable"
          ]
        }
      ]
    },
    {
      "cell_type": "code",
      "source": [
        "len(b)"
      ],
      "metadata": {
        "colab": {
          "base_uri": "https://localhost:8080/",
          "height": 174
        },
        "id": "qKyxicZ6HmkJ",
        "outputId": "de0a023c-68ac-4da7-d164-7d257312522e"
      },
      "execution_count": null,
      "outputs": [
        {
          "output_type": "error",
          "ename": "TypeError",
          "evalue": "ignored",
          "traceback": [
            "\u001b[0;31m---------------------------------------------------------------------------\u001b[0m",
            "\u001b[0;31mTypeError\u001b[0m                                 Traceback (most recent call last)",
            "\u001b[0;32m<ipython-input-25-97d8916a185b>\u001b[0m in \u001b[0;36m<module>\u001b[0;34m\u001b[0m\n\u001b[0;32m----> 1\u001b[0;31m \u001b[0mlen\u001b[0m\u001b[0;34m(\u001b[0m\u001b[0mb\u001b[0m\u001b[0;34m)\u001b[0m\u001b[0;34m\u001b[0m\u001b[0;34m\u001b[0m\u001b[0m\n\u001b[0m",
            "\u001b[0;31mTypeError\u001b[0m: object of type 'list_iterator' has no len()"
          ]
        }
      ]
    },
    {
      "cell_type": "code",
      "source": [
        "# list로 바꿔주면 내부의 남은 값을 알 수 있다.\n",
        "c = list(b)\n",
        "c"
      ],
      "metadata": {
        "colab": {
          "base_uri": "https://localhost:8080/"
        },
        "id": "oApbvTGiIoY4",
        "outputId": "fd4d945d-e180-4eff-a2ea-ffa0d625eb70"
      },
      "execution_count": null,
      "outputs": [
        {
          "output_type": "execute_result",
          "data": {
            "text/plain": [
              "[1, 2, 3]"
            ]
          },
          "metadata": {},
          "execution_count": 37
        }
      ]
    },
    {
      "cell_type": "code",
      "source": [
        "len(c)"
      ],
      "metadata": {
        "colab": {
          "base_uri": "https://localhost:8080/"
        },
        "id": "Ahv09ZIZJGLC",
        "outputId": "6f8e3410-fa9d-444d-f613-86702bbc8007"
      },
      "execution_count": null,
      "outputs": [
        {
          "output_type": "execute_result",
          "data": {
            "text/plain": [
              "3"
            ]
          },
          "metadata": {},
          "execution_count": 38
        }
      ]
    },
    {
      "cell_type": "code",
      "source": [
        "c[1]"
      ],
      "metadata": {
        "colab": {
          "base_uri": "https://localhost:8080/"
        },
        "id": "bFovAC3LJJEw",
        "outputId": "caa84785-2985-43f1-95b7-64d71c0ebabf"
      },
      "execution_count": null,
      "outputs": [
        {
          "output_type": "execute_result",
          "data": {
            "text/plain": [
              "2"
            ]
          },
          "metadata": {},
          "execution_count": 39
        }
      ]
    },
    {
      "cell_type": "code",
      "source": [
        "a = {1, 2, 3}\n",
        "b = iter(a)\n",
        "b"
      ],
      "metadata": {
        "colab": {
          "base_uri": "https://localhost:8080/"
        },
        "id": "uxirAKf_Jh6o",
        "outputId": "fe9dd7e8-ad3d-478b-bafb-f91416973089"
      },
      "execution_count": null,
      "outputs": [
        {
          "output_type": "execute_result",
          "data": {
            "text/plain": [
              "<set_iterator at 0x7f8e0c460fc0>"
            ]
          },
          "metadata": {},
          "execution_count": 40
        }
      ]
    },
    {
      "cell_type": "code",
      "source": [
        "next(b)"
      ],
      "metadata": {
        "colab": {
          "base_uri": "https://localhost:8080/"
        },
        "id": "9Xzlq3wqJm-a",
        "outputId": "93ad5b32-7ed4-416e-a55f-efb559a01208"
      },
      "execution_count": null,
      "outputs": [
        {
          "output_type": "execute_result",
          "data": {
            "text/plain": [
              "1"
            ]
          },
          "metadata": {},
          "execution_count": 41
        }
      ]
    },
    {
      "cell_type": "code",
      "source": [
        "c = set(b)\n",
        "c"
      ],
      "metadata": {
        "colab": {
          "base_uri": "https://localhost:8080/"
        },
        "id": "3cp8V5TwJo8K",
        "outputId": "022775c1-b15f-403b-ec33-824b7b30476b"
      },
      "execution_count": null,
      "outputs": [
        {
          "output_type": "execute_result",
          "data": {
            "text/plain": [
              "{2, 3}"
            ]
          },
          "metadata": {},
          "execution_count": 42
        }
      ]
    },
    {
      "cell_type": "code",
      "source": [
        "a = {'k' : 1, 'm' : 2}\n",
        "b = iter(a)\n",
        "b"
      ],
      "metadata": {
        "colab": {
          "base_uri": "https://localhost:8080/"
        },
        "id": "VrwiWr4YJ4Ka",
        "outputId": "c6fda45c-b0b9-485f-cd9d-7e72f01eed08"
      },
      "execution_count": null,
      "outputs": [
        {
          "output_type": "execute_result",
          "data": {
            "text/plain": [
              "<dict_keyiterator at 0x7f8e0c33ad60>"
            ]
          },
          "metadata": {},
          "execution_count": 47
        }
      ]
    },
    {
      "cell_type": "code",
      "source": [
        "# dict_keyiterator는 key만 가져온다.\n",
        "next(b)"
      ],
      "metadata": {
        "colab": {
          "base_uri": "https://localhost:8080/",
          "height": 35
        },
        "id": "QPNBzGKMKC-6",
        "outputId": "324ff535-c33c-476e-d8c2-80b1de6e6dfa"
      },
      "execution_count": null,
      "outputs": [
        {
          "output_type": "execute_result",
          "data": {
            "text/plain": [
              "'k'"
            ],
            "application/vnd.google.colaboratory.intrinsic+json": {
              "type": "string"
            }
          },
          "metadata": {},
          "execution_count": 48
        }
      ]
    },
    {
      "cell_type": "code",
      "source": [
        "# dict로는 값을 못 갖고 온다. 위에 next로 key값만 호출을 했기 때문에\n",
        "c = set(b)\n",
        "c"
      ],
      "metadata": {
        "colab": {
          "base_uri": "https://localhost:8080/"
        },
        "id": "Soa5-xXrKEHK",
        "outputId": "d4cb1982-ffc9-4f62-c5c8-f9ed008005a0"
      },
      "execution_count": null,
      "outputs": [
        {
          "output_type": "execute_result",
          "data": {
            "text/plain": [
              "{'m'}"
            ]
          },
          "metadata": {},
          "execution_count": 49
        }
      ]
    },
    {
      "cell_type": "markdown",
      "source": [
        "comprehension : iterable 객체를 생성할 수 있도록 제공해주는 기법이다.\n",
        "\n",
        "- list, set, dict\n",
        "\n",
        "tuple은 comprehension은 안되고, generator이다."
      ],
      "metadata": {
        "id": "DY7q-UfnK0Of"
      }
    },
    {
      "cell_type": "code",
      "source": [
        "[i for i in range(5)]"
      ],
      "metadata": {
        "colab": {
          "base_uri": "https://localhost:8080/"
        },
        "id": "ioGaraQULw0p",
        "outputId": "d74fd77f-dda7-46d4-e57d-02cdcefe4156"
      },
      "execution_count": null,
      "outputs": [
        {
          "output_type": "execute_result",
          "data": {
            "text/plain": [
              "[0, 1, 2, 3, 4]"
            ]
          },
          "metadata": {},
          "execution_count": 53
        }
      ]
    },
    {
      "cell_type": "code",
      "source": [
        "# generator 만드는 첫 번째 방법 : tuple을 comprehension처럼 사용\n",
        "(i for i in range(5))"
      ],
      "metadata": {
        "colab": {
          "base_uri": "https://localhost:8080/"
        },
        "id": "CO3JHYwALeXS",
        "outputId": "7adda93a-3d77-4488-90f2-eb2706da1e46"
      },
      "execution_count": null,
      "outputs": [
        {
          "output_type": "execute_result",
          "data": {
            "text/plain": [
              "<generator object <genexpr> at 0x7f8e0c351e40>"
            ]
          },
          "metadata": {},
          "execution_count": 52
        }
      ]
    },
    {
      "cell_type": "code",
      "source": [
        "t = (i for i in range(5))\n",
        "t"
      ],
      "metadata": {
        "colab": {
          "base_uri": "https://localhost:8080/"
        },
        "id": "5jTnIpWLLu2J",
        "outputId": "9f6597bc-901f-40ff-b62d-daa2e0648245"
      },
      "execution_count": null,
      "outputs": [
        {
          "output_type": "execute_result",
          "data": {
            "text/plain": [
              "<generator object <genexpr> at 0x7f8e0c367eb0>"
            ]
          },
          "metadata": {},
          "execution_count": 54
        }
      ]
    },
    {
      "cell_type": "code",
      "source": [
        "print(dir(t))"
      ],
      "metadata": {
        "colab": {
          "base_uri": "https://localhost:8080/"
        },
        "id": "i2WUI4A-MQYh",
        "outputId": "4329381c-99fe-423a-e7fc-a3eb976c1e05"
      },
      "execution_count": null,
      "outputs": [
        {
          "output_type": "stream",
          "name": "stdout",
          "text": [
            "['__class__', '__del__', '__delattr__', '__dir__', '__doc__', '__eq__', '__format__', '__ge__', '__getattribute__', '__gt__', '__hash__', '__init__', '__init_subclass__', '__iter__', '__le__', '__lt__', '__name__', '__ne__', '__new__', '__next__', '__qualname__', '__reduce__', '__reduce_ex__', '__repr__', '__setattr__', '__sizeof__', '__str__', '__subclasshook__', 'close', 'gi_code', 'gi_frame', 'gi_running', 'gi_yieldfrom', 'send', 'throw']\n"
          ]
        }
      ]
    },
    {
      "cell_type": "code",
      "source": [
        "next(t)\n",
        "next(t)"
      ],
      "metadata": {
        "colab": {
          "base_uri": "https://localhost:8080/"
        },
        "id": "pHeGjiONMfXh",
        "outputId": "e5e737e8-3f7f-450c-b3a6-826b33c55fdd"
      },
      "execution_count": null,
      "outputs": [
        {
          "output_type": "execute_result",
          "data": {
            "text/plain": [
              "2"
            ]
          },
          "metadata": {},
          "execution_count": 58
        }
      ]
    },
    {
      "cell_type": "code",
      "source": [
        "# generator을 만드는 두 번째 방법 : yield를 이용하는 방법\n",
        "def y():\n",
        "  yield 1\n",
        "  yield 2"
      ],
      "metadata": {
        "id": "3QGaNP4UP6AW"
      },
      "execution_count": null,
      "outputs": []
    },
    {
      "cell_type": "code",
      "source": [
        "t = y()\n",
        "t"
      ],
      "metadata": {
        "colab": {
          "base_uri": "https://localhost:8080/"
        },
        "id": "xIs6cUt4QCdh",
        "outputId": "c2a26ca2-6233-45aa-852f-23427a6c7731"
      },
      "execution_count": null,
      "outputs": [
        {
          "output_type": "execute_result",
          "data": {
            "text/plain": [
              "<generator object y at 0x7f8e0c367d60>"
            ]
          },
          "metadata": {},
          "execution_count": 66
        }
      ]
    },
    {
      "cell_type": "code",
      "source": [
        "next(t)"
      ],
      "metadata": {
        "colab": {
          "base_uri": "https://localhost:8080/"
        },
        "id": "oXe0QKQjQT_E",
        "outputId": "5402e575-e592-43e6-9431-eaf22e758010"
      },
      "execution_count": null,
      "outputs": [
        {
          "output_type": "execute_result",
          "data": {
            "text/plain": [
              "1"
            ]
          },
          "metadata": {},
          "execution_count": 67
        }
      ]
    },
    {
      "cell_type": "code",
      "source": [
        "next(t)"
      ],
      "metadata": {
        "colab": {
          "base_uri": "https://localhost:8080/"
        },
        "id": "N3WFDMbwQV4Y",
        "outputId": "432e4357-644a-4d67-bf4f-f3e1a412c331"
      },
      "execution_count": null,
      "outputs": [
        {
          "output_type": "execute_result",
          "data": {
            "text/plain": [
              "2"
            ]
          },
          "metadata": {},
          "execution_count": 68
        }
      ]
    },
    {
      "cell_type": "code",
      "source": [
        "next(t)"
      ],
      "metadata": {
        "colab": {
          "base_uri": "https://localhost:8080/",
          "height": 174
        },
        "id": "VR9XaO3JQiLG",
        "outputId": "77433ec7-8164-4da3-8573-ffb9615aeab4"
      },
      "execution_count": null,
      "outputs": [
        {
          "output_type": "error",
          "ename": "StopIteration",
          "evalue": "ignored",
          "traceback": [
            "\u001b[0;31m---------------------------------------------------------------------------\u001b[0m",
            "\u001b[0;31mStopIteration\u001b[0m                             Traceback (most recent call last)",
            "\u001b[0;32m<ipython-input-69-f843efe259be>\u001b[0m in \u001b[0;36m<module>\u001b[0;34m\u001b[0m\n\u001b[0;32m----> 1\u001b[0;31m \u001b[0mnext\u001b[0m\u001b[0;34m(\u001b[0m\u001b[0mt\u001b[0m\u001b[0;34m)\u001b[0m\u001b[0;34m\u001b[0m\u001b[0;34m\u001b[0m\u001b[0m\n\u001b[0m",
            "\u001b[0;31mStopIteration\u001b[0m: "
          ]
        }
      ]
    },
    {
      "cell_type": "code",
      "source": [
        "# range(횟수) 처럼 동작하는 generator 생성\n",
        "def num_gen(stop) :\n",
        "  n = 0\n",
        "  while n < stop :\n",
        "    yield n\n",
        "    n += 1"
      ],
      "metadata": {
        "id": "iDpCkoPtQ4Xu"
      },
      "execution_count": null,
      "outputs": []
    },
    {
      "cell_type": "code",
      "source": [
        "k = num_gen(3)"
      ],
      "metadata": {
        "id": "yy-2OIa5RSkZ"
      },
      "execution_count": null,
      "outputs": []
    },
    {
      "cell_type": "code",
      "source": [
        "next(k)"
      ],
      "metadata": {
        "colab": {
          "base_uri": "https://localhost:8080/"
        },
        "id": "Y-M8F8LCRb3H",
        "outputId": "35cede5c-cb10-4cec-c8a4-264c75a2ac38"
      },
      "execution_count": null,
      "outputs": [
        {
          "output_type": "execute_result",
          "data": {
            "text/plain": [
              "0"
            ]
          },
          "metadata": {},
          "execution_count": 74
        }
      ]
    },
    {
      "cell_type": "code",
      "source": [
        "next(k)"
      ],
      "metadata": {
        "colab": {
          "base_uri": "https://localhost:8080/"
        },
        "id": "XatDTdsuRedm",
        "outputId": "8cb17e31-0fa5-4028-b91f-3b1a099220d7"
      },
      "execution_count": null,
      "outputs": [
        {
          "output_type": "execute_result",
          "data": {
            "text/plain": [
              "1"
            ]
          },
          "metadata": {},
          "execution_count": 75
        }
      ]
    },
    {
      "cell_type": "code",
      "source": [
        "next(k)"
      ],
      "metadata": {
        "colab": {
          "base_uri": "https://localhost:8080/"
        },
        "id": "TmkzrEWsRgTH",
        "outputId": "a6da5b86-967a-4b95-c14a-0ea19b39591c"
      },
      "execution_count": null,
      "outputs": [
        {
          "output_type": "execute_result",
          "data": {
            "text/plain": [
              "2"
            ]
          },
          "metadata": {},
          "execution_count": 76
        }
      ]
    },
    {
      "cell_type": "code",
      "source": [
        "next(k)"
      ],
      "metadata": {
        "colab": {
          "base_uri": "https://localhost:8080/",
          "height": 174
        },
        "id": "WEbf9duFRiW_",
        "outputId": "348a390d-aa6a-4b75-fb82-a17f941b0777"
      },
      "execution_count": null,
      "outputs": [
        {
          "output_type": "error",
          "ename": "StopIteration",
          "evalue": "ignored",
          "traceback": [
            "\u001b[0;31m---------------------------------------------------------------------------\u001b[0m",
            "\u001b[0;31mStopIteration\u001b[0m                             Traceback (most recent call last)",
            "\u001b[0;32m<ipython-input-77-413ff6b5fa2c>\u001b[0m in \u001b[0;36m<module>\u001b[0;34m\u001b[0m\n\u001b[0;32m----> 1\u001b[0;31m \u001b[0mnext\u001b[0m\u001b[0;34m(\u001b[0m\u001b[0mk\u001b[0m\u001b[0;34m)\u001b[0m\u001b[0;34m\u001b[0m\u001b[0;34m\u001b[0m\u001b[0m\n\u001b[0m",
            "\u001b[0;31mStopIteration\u001b[0m: "
          ]
        }
      ]
    },
    {
      "cell_type": "markdown",
      "source": [
        "숫자로 구성된 하나의 리스트를 입력받아,   \n",
        "짝수들을 추출하여 리스트로 반환하는 pickup_even함수를 구현할 때   \n",
        "list comprehension을 사용\n"
      ],
      "metadata": {
        "id": "_3kUmM4_TgU9"
      }
    },
    {
      "cell_type": "code",
      "source": [
        "a = []\n",
        "def pickup_even(items) :\n",
        "  # for i in items :\n",
        "    # if i % 2 == 0 :\n",
        "      # a.append(i)\n",
        "  # print(a)\n",
        "  return [i for i in items if i % 2 == 0]"
      ],
      "metadata": {
        "id": "tA156_9zT2R9"
      },
      "execution_count": null,
      "outputs": []
    },
    {
      "cell_type": "code",
      "source": [
        "pickup_even([3, 4, 5, 6, 7, 8])"
      ],
      "metadata": {
        "colab": {
          "base_uri": "https://localhost:8080/"
        },
        "id": "YGOLUUmNUMkf",
        "outputId": "c5a772f2-e324-458b-bfd4-9a44a6541fc2"
      },
      "execution_count": null,
      "outputs": [
        {
          "output_type": "execute_result",
          "data": {
            "text/plain": [
              "[4, 6, 8]"
            ]
          },
          "metadata": {},
          "execution_count": 84
        }
      ]
    },
    {
      "cell_type": "markdown",
      "source": [
        "##### 총 판매 금액을 구하는 프로그램 구현(list comprehension을 사용)  \n",
        "cnt = [1, 1, 2, 1]  \n",
        "prod = [500, 1000, 400, 600]"
      ],
      "metadata": {
        "id": "kjYAjwE4VZe1"
      }
    },
    {
      "cell_type": "code",
      "source": [
        "cnt = [1, 1, 2, 1]\n",
        "prod = [500, 1000, 400, 600]\n",
        "\n",
        "print([c * p for c, p in zip(cnt, prod)])\n",
        "sum([c * p for c, p in zip(cnt, prod)])"
      ],
      "metadata": {
        "colab": {
          "base_uri": "https://localhost:8080/"
        },
        "id": "hwSlZWVGVjYP",
        "outputId": "4311f10d-4213-4a8d-c4c8-e04092f62689"
      },
      "execution_count": null,
      "outputs": [
        {
          "output_type": "stream",
          "name": "stdout",
          "text": [
            "[500, 1000, 800, 600]\n"
          ]
        },
        {
          "output_type": "execute_result",
          "data": {
            "text/plain": [
              "2900"
            ]
          },
          "metadata": {},
          "execution_count": 86
        }
      ]
    },
    {
      "cell_type": "markdown",
      "source": [
        "##### 리스트에서 짝수값만 추출해서 index와 함께 출력하는 프로그램 구현\n",
        "\n",
        "data = [1, 3, 5, 8, 9, 11, 15, 19, 18, 20, 30, 33, 31]"
      ],
      "metadata": {
        "id": "9QVAZF8QXENN"
      }
    },
    {
      "cell_type": "code",
      "source": [
        "data = [1, 3, 5, 8, 9, 11, 15, 19, 18, 20, 30, 33, 31]\n",
        "\n",
        "result = [i for i in data if i % 2 == 0]\n",
        "print(result)\n",
        "\n",
        "for i, v in enumerate(result) :\n",
        "  print(i, v)"
      ],
      "metadata": {
        "colab": {
          "base_uri": "https://localhost:8080/"
        },
        "id": "YiwoO8tYXQLf",
        "outputId": "cb8f3799-08b1-4f6c-a3b7-bb9389897b05"
      },
      "execution_count": null,
      "outputs": [
        {
          "output_type": "stream",
          "name": "stdout",
          "text": [
            "[8, 18, 20, 30]\n",
            "0 8\n",
            "1 18\n",
            "2 20\n",
            "3 30\n"
          ]
        }
      ]
    },
    {
      "cell_type": "markdown",
      "source": [
        "'e'가 포함되어 있는 과일들만 추출해서 대문자로 출력하는 프로그램 구현  \n",
        "fruits = ['apple', 'banana', 'cherry', 'grape', 'kiwi', 'tomato']  \n",
        "\n",
        "[출력결과]  \n",
        "['APPLE', 'CHERRY', 'GRAPE']\n"
      ],
      "metadata": {
        "id": "MzzFLPFEctZ8"
      }
    },
    {
      "cell_type": "code",
      "source": [
        "fruits = ['apple', 'banana', 'cherry', 'grape', 'kiwi', 'tomato']\n",
        "\n",
        "result = [i.upper() for i in fruits if 'e' in i]\n",
        "print(result)"
      ],
      "metadata": {
        "colab": {
          "base_uri": "https://localhost:8080/"
        },
        "id": "gFkJn7sAdDEt",
        "outputId": "853a5473-e35c-46f7-ab11-70e228ced7c6"
      },
      "execution_count": null,
      "outputs": [
        {
          "output_type": "stream",
          "name": "stdout",
          "text": [
            "['APPLE', 'CHERRY', 'GRAPE']\n"
          ]
        }
      ]
    }
  ]
}