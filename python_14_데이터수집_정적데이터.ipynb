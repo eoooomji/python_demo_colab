{
  "nbformat": 4,
  "nbformat_minor": 0,
  "metadata": {
    "colab": {
      "provenance": [],
      "authorship_tag": "ABX9TyMyL5hMvoO9lblsS0ZpvkxV",
      "include_colab_link": true
    },
    "kernelspec": {
      "name": "python3",
      "display_name": "Python 3"
    },
    "language_info": {
      "name": "python"
    }
  },
  "cells": [
    {
      "cell_type": "markdown",
      "metadata": {
        "id": "view-in-github",
        "colab_type": "text"
      },
      "source": [
        "<a href=\"https://colab.research.google.com/github/eoooomji/python_demo_colab/blob/master/python_14_%EB%8D%B0%EC%9D%B4%ED%84%B0%EC%88%98%EC%A7%91_%EC%A0%95%EC%A0%81%EB%8D%B0%EC%9D%B4%ED%84%B0.ipynb\" target=\"_parent\"><img src=\"https://colab.research.google.com/assets/colab-badge.svg\" alt=\"Open In Colab\"/></a>"
      ]
    },
    {
      "cell_type": "code",
      "source": [
        "import urllib.request\n",
        "from urllib.request import urlopen"
      ],
      "metadata": {
        "id": "B5Ct4-sFtdH_"
      },
      "execution_count": 2,
      "outputs": []
    },
    {
      "cell_type": "code",
      "execution_count": 7,
      "metadata": {
        "id": "R1SpyH_dtUOb"
      },
      "outputs": [],
      "source": [
        "import requests\n",
        "import bs4\n",
        "import re"
      ]
    },
    {
      "cell_type": "markdown",
      "source": [
        "# 정적 Crawling"
      ],
      "metadata": {
        "id": "M5Kv47Q2tj3n"
      }
    },
    {
      "cell_type": "code",
      "source": [
        "url = requests.get('https://movie.naver.com/movie/sdb/rank/rmovie.naver?sel=cur&date=20221208')\n",
        "print(url)\n",
        "\n",
        "html = bs4.BeautifulSoup(url.text, 'html.parser')\n",
        "\n",
        "rank = html.find('div', {'class' : 'tit5'})\n",
        "print(rank)\n",
        "\n",
        "print(re.findall('.*[a-z가-힣].*', rank.text))\n",
        "\n",
        "img = html.find('td', {'class' : 'ac'})\n",
        "print(img)\n",
        "\n",
        "print(img.img['src'])"
      ],
      "metadata": {
        "colab": {
          "base_uri": "https://localhost:8080/"
        },
        "id": "u0MP7JaXtmUq",
        "outputId": "d7a6150c-9a1f-4e12-84ba-f9eacb19cb73"
      },
      "execution_count": 65,
      "outputs": [
        {
          "output_type": "stream",
          "name": "stdout",
          "text": [
            "<Response [200]>\n",
            "<div class=\"tit5\">\n",
            "<a href=\"/movie/bi/mi/basic.naver?code=81888\" title=\"탑건: 매버릭\">탑건: 매버릭</a>\n",
            "</div>\n",
            "['탑건: 매버릭']\n",
            "<td class=\"ac\"><img alt=\"01\" height=\"13\" src=\"https://ssl.pstatic.net/imgmovie/2007/img/common/bullet_r_r01.gif\" width=\"14\"/></td>\n",
            "https://ssl.pstatic.net/imgmovie/2007/img/common/bullet_r_r01.gif\n"
          ]
        }
      ]
    },
    {
      "cell_type": "code",
      "source": [
        "url = requests.get('https://movie.naver.com/movie/sdb/rank/rmovie.naver?sel=cur&date=20221208')\n",
        "# print(url)\n",
        "\n",
        "html = bs4.BeautifulSoup(url.text, 'html.parser')\n",
        "\n",
        "rank = html.find_all('div', {'class' : 'tit5'})\n",
        "# print(rank)\n",
        "\n",
        "print(type(rank))\n",
        "\n",
        "for title in rank :\n",
        "  print(title.text)\n"
      ],
      "metadata": {
        "colab": {
          "base_uri": "https://localhost:8080/"
        },
        "id": "BLlNVkH62-7H",
        "outputId": "db02716f-4d28-4811-ef4c-8a8e755ff535"
      },
      "execution_count": 57,
      "outputs": [
        {
          "output_type": "stream",
          "name": "stdout",
          "text": [
            "<class 'bs4.element.ResultSet'>\n",
            "\n",
            "탑건: 매버릭\n",
            "\n",
            "\n",
            "올빼미\n",
            "\n",
            "\n",
            "극장판 짱구는 못말려: 수수께끼! 꽃피는 천하떡잎학교\n",
            "\n",
            "\n",
            "바람과 함께 사라지다\n",
            "\n",
            "\n",
            "극장판 주술회전 0\n",
            "\n",
            "\n",
            "벤허\n",
            "\n",
            "\n",
            "인생은 아름다워\n",
            "\n",
            "\n",
            "어바웃 타임\n",
            "\n",
            "\n",
            "귀향\n",
            "\n",
            "\n",
            "러브레터\n",
            "\n",
            "\n",
            "코다\n",
            "\n",
            "\n",
            "오즈의 마법사\n",
            "\n",
            "\n",
            "탄생\n",
            "\n",
            "\n",
            "보디가드\n",
            "\n",
            "\n",
            "십계\n",
            "\n",
            "\n",
            "비긴 어게인\n",
            "\n",
            "\n",
            "타오르는 여인의 초상\n",
            "\n",
            "\n",
            "택시운전사\n",
            "\n",
            "\n",
            "변호인\n",
            "\n",
            "\n",
            "윤희에게\n",
            "\n",
            "\n",
            "시\n",
            "\n",
            "\n",
            "매드맥스: 분노의 도로\n",
            "\n",
            "\n",
            "너의 이름은.\n",
            "\n",
            "\n",
            "찬실이는 복도 많지\n",
            "\n",
            "\n",
            "한산: 용의 출현\n",
            "\n",
            "\n",
            "벌새\n",
            "\n",
            "\n",
            "오늘 밤, 세계에서 이 사랑이 사라진다 해도\n",
            "\n",
            "\n",
            "헤어질 결심\n",
            "\n",
            "\n",
            "라라랜드\n",
            "\n",
            "\n",
            "캐롤\n",
            "\n",
            "\n",
            "육사오(6/45)\n",
            "\n",
            "\n",
            "자백\n",
            "\n",
            "\n",
            "명량\n",
            "\n",
            "\n",
            "너의 췌장을 먹고 싶어\n",
            "\n",
            "\n",
            "폴: 600미터\n",
            "\n",
            "\n",
            "헌트\n",
            "\n",
            "\n",
            "본즈 앤 올\n",
            "\n",
            "\n",
            "초속5센티미터\n",
            "\n",
            "\n",
            "모가디슈\n",
            "\n",
            "\n",
            "다가오는 것들\n",
            "\n",
            "\n",
            "그래비티\n",
            "\n",
            "\n",
            "에브리씽 에브리웨어 올 앳 원스\n",
            "\n",
            "\n",
            "큐어\n",
            "\n",
            "\n",
            "이상한 나라의 수학자\n",
            "\n",
            "\n",
            "프란시스 하\n",
            "\n",
            "\n",
            "우연과 상상\n",
            "\n",
            "\n",
            "너의 췌장을 먹고 싶어\n",
            "\n",
            "\n",
            "릴리 슈슈의 모든 것\n",
            "\n",
            "\n",
            "날씨의 아이\n",
            "\n",
            "\n",
            "사잇소리\n",
            "\n"
          ]
        }
      ]
    }
  ]
}