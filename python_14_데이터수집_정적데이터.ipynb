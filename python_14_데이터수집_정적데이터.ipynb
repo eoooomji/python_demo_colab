{
  "nbformat": 4,
  "nbformat_minor": 0,
  "metadata": {
    "colab": {
      "provenance": [],
      "authorship_tag": "ABX9TyOAtCxdN5B+YYlQ7k3h/T9m",
      "include_colab_link": true
    },
    "kernelspec": {
      "name": "python3",
      "display_name": "Python 3"
    },
    "language_info": {
      "name": "python"
    }
  },
  "cells": [
    {
      "cell_type": "markdown",
      "metadata": {
        "id": "view-in-github",
        "colab_type": "text"
      },
      "source": [
        "<a href=\"https://colab.research.google.com/github/eoooomji/python_demo_colab/blob/master/python_14_%EB%8D%B0%EC%9D%B4%ED%84%B0%EC%88%98%EC%A7%91_%EC%A0%95%EC%A0%81%EB%8D%B0%EC%9D%B4%ED%84%B0.ipynb\" target=\"_parent\"><img src=\"https://colab.research.google.com/assets/colab-badge.svg\" alt=\"Open In Colab\"/></a>"
      ]
    },
    {
      "cell_type": "code",
      "source": [
        "import urllib.request\n",
        "from urllib.request import urlopen"
      ],
      "metadata": {
        "id": "B5Ct4-sFtdH_"
      },
      "execution_count": null,
      "outputs": []
    },
    {
      "cell_type": "code",
      "execution_count": null,
      "metadata": {
        "id": "R1SpyH_dtUOb"
      },
      "outputs": [],
      "source": [
        "import requests\n",
        "import re\n",
        "from bs4 import BeautifulSoup"
      ]
    },
    {
      "cell_type": "markdown",
      "source": [
        "# 정적 Crawling"
      ],
      "metadata": {
        "id": "M5Kv47Q2tj3n"
      }
    },
    {
      "cell_type": "markdown",
      "source": [
        "1. Naver_Movie_Review_Crawling"
      ],
      "metadata": {
        "id": "55pffSjHFlqF"
      }
    },
    {
      "cell_type": "code",
      "source": [
        "url = requests.get('https://movie.naver.com/movie/sdb/rank/rmovie.naver?sel=cur&date=20221208')\n",
        "print(url)\n",
        "\n",
        "html = bs4.BeautifulSoup(url.text, 'html.parser')\n",
        "\n",
        "rank = html.find('div', {'class' : 'tit5'})\n",
        "print(rank)\n",
        "\n",
        "print(re.findall('.*[a-z가-힣].*', rank.text))\n",
        "\n",
        "img = html.find('td', {'class' : 'ac'})\n",
        "print(img)\n",
        "\n",
        "print(img.img['alt'])"
      ],
      "metadata": {
        "colab": {
          "base_uri": "https://localhost:8080/"
        },
        "id": "u0MP7JaXtmUq",
        "outputId": "d647cff2-7c33-4349-c5ca-cf11800e0a3a"
      },
      "execution_count": null,
      "outputs": [
        {
          "output_type": "stream",
          "name": "stdout",
          "text": [
            "<Response [200]>\n",
            "<div class=\"tit5\">\n",
            "<a href=\"/movie/bi/mi/basic.naver?code=81888\" title=\"탑건: 매버릭\">탑건: 매버릭</a>\n",
            "</div>\n",
            "['탑건: 매버릭']\n",
            "<td class=\"ac\"><img alt=\"01\" height=\"13\" src=\"https://ssl.pstatic.net/imgmovie/2007/img/common/bullet_r_r01.gif\" width=\"14\"/></td>\n",
            "01\n"
          ]
        }
      ]
    },
    {
      "cell_type": "code",
      "source": [
        "url = requests.get('https://movie.naver.com/movie/sdb/rank/rmovie.naver?sel=cur&date=20221208')\n",
        "# print(url)\n",
        "\n",
        "html = bs4.BeautifulSoup(url.text, 'html.parser')\n",
        "\n",
        "rank = html.find_all('div', {'class' : 'tit5'})\n",
        "# print(rank)\n",
        "\n",
        "print(type(rank))\n",
        "\n",
        "for title in rank :\n",
        "  print(title.text)\n",
        "\n"
      ],
      "metadata": {
        "colab": {
          "base_uri": "https://localhost:8080/",
          "height": 1000
        },
        "id": "BLlNVkH62-7H",
        "outputId": "169ef780-0d43-4761-8173-5d5aee895a7c"
      },
      "execution_count": null,
      "outputs": [
        {
          "output_type": "stream",
          "name": "stdout",
          "text": [
            "<class 'bs4.element.ResultSet'>\n",
            "\n",
            "탑건: 매버릭\n",
            "\n",
            "\n",
            "올빼미\n",
            "\n",
            "\n",
            "극장판 짱구는 못말려: 수수께끼! 꽃피는 천하떡잎학교\n",
            "\n",
            "\n",
            "바람과 함께 사라지다\n",
            "\n",
            "\n",
            "극장판 주술회전 0\n",
            "\n",
            "\n",
            "벤허\n",
            "\n",
            "\n",
            "인생은 아름다워\n",
            "\n",
            "\n",
            "어바웃 타임\n",
            "\n",
            "\n",
            "귀향\n",
            "\n",
            "\n",
            "러브레터\n",
            "\n",
            "\n",
            "코다\n",
            "\n",
            "\n",
            "오즈의 마법사\n",
            "\n",
            "\n",
            "탄생\n",
            "\n",
            "\n",
            "보디가드\n",
            "\n",
            "\n",
            "십계\n",
            "\n",
            "\n",
            "비긴 어게인\n",
            "\n",
            "\n",
            "타오르는 여인의 초상\n",
            "\n",
            "\n",
            "택시운전사\n",
            "\n",
            "\n",
            "변호인\n",
            "\n",
            "\n",
            "윤희에게\n",
            "\n",
            "\n",
            "시\n",
            "\n",
            "\n",
            "매드맥스: 분노의 도로\n",
            "\n",
            "\n",
            "너의 이름은.\n",
            "\n",
            "\n",
            "찬실이는 복도 많지\n",
            "\n",
            "\n",
            "한산: 용의 출현\n",
            "\n",
            "\n",
            "벌새\n",
            "\n",
            "\n",
            "오늘 밤, 세계에서 이 사랑이 사라진다 해도\n",
            "\n",
            "\n",
            "헤어질 결심\n",
            "\n",
            "\n",
            "라라랜드\n",
            "\n",
            "\n",
            "캐롤\n",
            "\n",
            "\n",
            "육사오(6/45)\n",
            "\n",
            "\n",
            "자백\n",
            "\n",
            "\n",
            "명량\n",
            "\n",
            "\n",
            "너의 췌장을 먹고 싶어\n",
            "\n",
            "\n",
            "폴: 600미터\n",
            "\n",
            "\n",
            "헌트\n",
            "\n",
            "\n",
            "본즈 앤 올\n",
            "\n",
            "\n",
            "초속5센티미터\n",
            "\n",
            "\n",
            "모가디슈\n",
            "\n",
            "\n",
            "다가오는 것들\n",
            "\n",
            "\n",
            "그래비티\n",
            "\n",
            "\n",
            "에브리씽 에브리웨어 올 앳 원스\n",
            "\n",
            "\n",
            "큐어\n",
            "\n",
            "\n",
            "이상한 나라의 수학자\n",
            "\n",
            "\n",
            "프란시스 하\n",
            "\n",
            "\n",
            "우연과 상상\n",
            "\n",
            "\n",
            "너의 췌장을 먹고 싶어\n",
            "\n",
            "\n",
            "릴리 슈슈의 모든 것\n",
            "\n",
            "\n",
            "날씨의 아이\n",
            "\n",
            "\n",
            "사잇소리\n",
            "\n"
          ]
        },
        {
          "output_type": "error",
          "ename": "KeyError",
          "evalue": "ignored",
          "traceback": [
            "\u001b[0;31m---------------------------------------------------------------------------\u001b[0m",
            "\u001b[0;31mKeyError\u001b[0m                                  Traceback (most recent call last)",
            "\u001b[0;32m<ipython-input-68-6674031aff16>\u001b[0m in \u001b[0;36m<module>\u001b[0;34m\u001b[0m\n\u001b[1;32m     15\u001b[0m \u001b[0;34m\u001b[0m\u001b[0m\n\u001b[1;32m     16\u001b[0m \u001b[0;32mfor\u001b[0m \u001b[0malt\u001b[0m \u001b[0;32min\u001b[0m \u001b[0mimg\u001b[0m \u001b[0;34m:\u001b[0m\u001b[0;34m\u001b[0m\u001b[0;34m\u001b[0m\u001b[0m\n\u001b[0;32m---> 17\u001b[0;31m   \u001b[0mprint\u001b[0m\u001b[0;34m(\u001b[0m\u001b[0malt\u001b[0m\u001b[0;34m[\u001b[0m\u001b[0;34m'alt'\u001b[0m\u001b[0;34m]\u001b[0m\u001b[0;34m)\u001b[0m\u001b[0;34m\u001b[0m\u001b[0;34m\u001b[0m\u001b[0m\n\u001b[0m",
            "\u001b[0;32m/usr/local/lib/python3.8/dist-packages/bs4/element.py\u001b[0m in \u001b[0;36m__getitem__\u001b[0;34m(self, key)\u001b[0m\n\u001b[1;32m   1069\u001b[0m         \"\"\"tag[key] returns the value of the 'key' attribute for the tag,\n\u001b[1;32m   1070\u001b[0m         and throws an exception if it's not there.\"\"\"\n\u001b[0;32m-> 1071\u001b[0;31m         \u001b[0;32mreturn\u001b[0m \u001b[0mself\u001b[0m\u001b[0;34m.\u001b[0m\u001b[0mattrs\u001b[0m\u001b[0;34m[\u001b[0m\u001b[0mkey\u001b[0m\u001b[0;34m]\u001b[0m\u001b[0;34m\u001b[0m\u001b[0;34m\u001b[0m\u001b[0m\n\u001b[0m\u001b[1;32m   1072\u001b[0m \u001b[0;34m\u001b[0m\u001b[0m\n\u001b[1;32m   1073\u001b[0m     \u001b[0;32mdef\u001b[0m \u001b[0m__iter__\u001b[0m\u001b[0;34m(\u001b[0m\u001b[0mself\u001b[0m\u001b[0;34m)\u001b[0m\u001b[0;34m:\u001b[0m\u001b[0;34m\u001b[0m\u001b[0;34m\u001b[0m\u001b[0m\n",
            "\u001b[0;31mKeyError\u001b[0m: 'alt'"
          ]
        }
      ]
    },
    {
      "cell_type": "code",
      "source": [
        "rank = []\n",
        "title = []\n",
        "point = []"
      ],
      "metadata": {
        "id": "hqdcYdEHGAO1"
      },
      "execution_count": null,
      "outputs": []
    },
    {
      "cell_type": "code",
      "source": [
        "url = 'https://movie.naver.com/movie/sdb/rank/rmovie.naver?sel=pnt&date=20221208'\n",
        "movie_html = requests.get(url)\n",
        "bs_movie = BeautifulSoup(movie_html.text, 'html.parser')\n",
        "\n",
        "rank_html = bs_movie.find_all('img',{'alt':re.compile(\"^[0-9]+$\")})\n",
        "#print(rank_html)\n",
        "\n",
        "#rank_html = bs_movie.select('td.ac img[alt]')\n",
        "#for element in rank_html:\n",
        "#   if(element['alt']!=\"na\"):\n",
        "#     rank.append(element)\n",
        "\n",
        "\n",
        "title_html = bs_movie.select('td.title')\n",
        "#print(title_html)\n",
        "\n",
        "point_html = bs_movie.select('td.point')\n",
        "#print(point_html)\n",
        "\n",
        "\n",
        "for x, y, z in zip(rank_html,  title_html, point_html):  \n",
        "  print(x['alt'],re.sub(\"\\n\", \"\", y.text), z.text)\n"
      ],
      "metadata": {
        "colab": {
          "base_uri": "https://localhost:8080/"
        },
        "id": "AXD2gBMHFYBX",
        "outputId": "c37568d6-4ac7-4316-8fc1-e2ad7165a65f"
      },
      "execution_count": null,
      "outputs": [
        {
          "output_type": "stream",
          "name": "stdout",
          "text": [
            "01 탑건: 매버릭 9.76\n",
            "02 인생은 뷰티풀: 비타돌체 9.70\n",
            "03 클라우스 9.66\n",
            "04 할머니의 먼 집 9.62\n",
            "05 밥정 9.60\n",
            "06 그린 북 9.60\n",
            "07 가버나움 9.59\n",
            "08 베일리 어게인 9.54\n",
            "09 원더 9.53\n",
            "010 아일라 9.52\n",
            "11 디지몬 어드벤처 라스트 에볼루션 : 인연 9.51\n",
            "12 극장판 바이올렛 에버가든 9.50\n",
            "13 당갈 9.49\n",
            "14 아바타 리마스터링 9.48\n",
            "15 포드 V 페라리 9.47\n",
            "16 먼 훗날 우리 9.47\n",
            "17 주전장 9.46\n",
            "18 쇼생크 탈출 9.46\n",
            "19 터미네이터 2:오리지널 9.45\n",
            "20 덕구 9.45\n",
            "21 클래식 9.44\n",
            "22 라이언 일병 구하기 9.43\n",
            "23 나 홀로 집에 9.43\n",
            "24 장민호 드라마 최종회 9.43\n",
            "25 그대, 고맙소 : 김호중 생애 첫 팬미팅 무비 9.43\n",
            "26 명탐정 코난: 할로윈의 신부 9.42\n",
            "27 월-E 9.42\n",
            "28 빽 투 더 퓨쳐 9.42\n",
            "29 사운드 오브 뮤직 9.42\n",
            "30 보헤미안 랩소디 9.42\n",
            "31 포레스트 검프 9.41\n",
            "32 타이타닉 9.41\n",
            "33 글래디에이터 9.41\n",
            "34 위대한 쇼맨 9.41\n",
            "35 인생은 아름다워 9.41\n",
            "36 살인의 추억 9.41\n",
            "37 매트릭스 9.40\n",
            "38 헬프 9.40\n",
            "39 센과 치히로의 행방불명 9.40\n",
            "40 태극권 9.40\n",
            "41 캐스트 어웨이 9.40\n",
            "42 가나의 혼인잔치: 언약 9.39\n",
            "43 토이 스토리 3 9.39\n",
            "44 쉰들러 리스트 9.39\n",
            "45 헌터 킬러 9.39\n",
            "46 반지의 제왕: 왕의 귀환 9.38\n",
            "47 죽은 시인의 사회 9.38\n",
            "48 히든 피겨스 9.38\n",
            "49 어벤져스: 엔드게임 9.38\n",
            "50 집으로... 9.38\n"
          ]
        }
      ]
    }
  ]
}